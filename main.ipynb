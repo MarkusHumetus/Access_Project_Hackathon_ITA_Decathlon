{
 "cells": [
  {
   "cell_type": "markdown",
   "id": "30a60c5b",
   "metadata": {},
   "source": [
    "# Index   "
   ]
  },
  {
   "cell_type": "markdown",
   "id": "961dde5d",
   "metadata": {},
   "source": [
    "0. [Importing libraries](##Importing-libraries) \n",
    "\n",
    "\n",
    "1. [Exploratory Data Analysis](#Exploratory-Data-Analysis)\n",
    "\n",
    " [Reading the data set](###Reading-the-data-set)\n",
    "\n",
    "2. [Data Enginnering](#Dara-Engineering)\n",
    " \n",
    "3. [Model Screening with Pycaret](#Model-screening-with-PycaretModel-Screening)\n",
    "\n",
    "4. [Tunning Random Forest Hyperparameters with Optuna](##Random-Forest-Hyperparameters-tunning-with-Optuna)\n",
    "\n",
    "5. [Prediction of test_X](##test_X-prediction)\n",
    "\n"
   ]
  },
  {
   "cell_type": "markdown",
   "id": "8834dfc1",
   "metadata": {},
   "source": [
    "### Importing libraries"
   ]
  },
  {
   "cell_type": "code",
   "execution_count": 6,
   "id": "481d9eb6",
   "metadata": {
    "ExecuteTime": {
     "end_time": "2022-05-29T11:55:16.803935Z",
     "start_time": "2022-05-29T11:55:16.789941Z"
    }
   },
   "outputs": [],
   "source": [
    "#Data exploration & manipulation\n",
    "import pandas as pd\n",
    "import numpy as np\n",
    "from sklearn import preprocessing\n",
    "from sklearn.preprocessing import StandardScaler\n",
    "from sklearn.pipeline import Pipeline\n",
    "from collections import Counter\n",
    "import seaborn as sns\n",
    "import matplotlib.style as style \n",
    "import datetime as dt\n",
    "import os\n",
    "import matplotlib.pyplot as plt\n",
    "\n",
    "#ML Models search and optimisation\n",
    "from pycaret.classification import * \n",
    "from sklearn.ensemble import RandomForestClassifier\n",
    "from sklearn.model_selection import train_test_split\n",
    "from sklearn.metrics import f1_score, confusion_matrix\n",
    "import optuna\n",
    "from sklearn.model_selection import cross_val_score\n",
    "\n"
   ]
  },
  {
   "cell_type": "markdown",
   "id": "36116485",
   "metadata": {},
   "source": [
    "# Exploratory Data Analysis\n"
   ]
  },
  {
   "cell_type": "code",
   "execution_count": 22,
   "id": "b7d8b59f-1894-4162-8a18-b32a69c7ea0c",
   "metadata": {
    "ExecuteTime": {
     "end_time": "2022-05-29T10:32:49.717964Z",
     "start_time": "2022-05-29T10:32:49.684057Z"
    }
   },
   "outputs": [],
   "source": [
    "# Import train.csv\n",
    "train_diag_Cancer_df = pd.read_csv(r'C:\\Users\\march\\000 Treball Ju`yter 000\\Hackathons\\Access_Project_Hackathon_IT_Decathlon\\initial docs\\train.csv', index_col=None)"
   ]
  },
  {
   "cell_type": "code",
   "execution_count": 23,
   "id": "4a4fec8c",
   "metadata": {},
   "outputs": [
    {
     "data": {
      "text/html": [
       "<div><div id=5f9546a6-9e3d-434b-9fe5-65c65102a465 style=\"display:none; background-color:#9D6CFF; color:white; width:200px; height:30px; padding-left:5px; border-radius:4px; flex-direction:row; justify-content:space-around; align-items:center;\" onmouseover=\"this.style.backgroundColor='#BA9BF8'\" onmouseout=\"this.style.backgroundColor='#9D6CFF'\" onclick=\"window.commands?.execute('create-mitosheet-from-dataframe-output');\">See Full Dataframe in Mito</div> <script> if (window.commands?.hasCommand('create-mitosheet-from-dataframe-output')) document.getElementById('5f9546a6-9e3d-434b-9fe5-65c65102a465').style.display = 'flex' </script> <table border=\"1\" class=\"dataframe\">\n",
       "  <thead>\n",
       "    <tr style=\"text-align: right;\">\n",
       "      <th></th>\n",
       "      <th>diagnosis</th>\n",
       "      <th>radius_mean</th>\n",
       "      <th>texture_mean</th>\n",
       "      <th>perimeter_mean</th>\n",
       "      <th>area_mean</th>\n",
       "      <th>smoothness_mean</th>\n",
       "      <th>compactness_mean</th>\n",
       "      <th>concavity_mean</th>\n",
       "      <th>concave points_mean</th>\n",
       "      <th>symmetry_mean</th>\n",
       "      <th>fractal_dimension_mean</th>\n",
       "      <th>radius_se</th>\n",
       "      <th>texture_se</th>\n",
       "      <th>perimeter_se</th>\n",
       "      <th>area_se</th>\n",
       "      <th>smoothness_se</th>\n",
       "      <th>compactness_se</th>\n",
       "      <th>concavity_se</th>\n",
       "      <th>concave points_se</th>\n",
       "      <th>symmetry_se</th>\n",
       "      <th>fractal_dimension_se</th>\n",
       "      <th>radius_worst</th>\n",
       "      <th>texture_worst</th>\n",
       "      <th>perimeter_worst</th>\n",
       "      <th>area_worst</th>\n",
       "      <th>smoothness_worst</th>\n",
       "      <th>compactness_worst</th>\n",
       "      <th>concavity_worst</th>\n",
       "      <th>concave points_worst</th>\n",
       "      <th>symmetry_worst</th>\n",
       "      <th>fractal_dimension_worst</th>\n",
       "    </tr>\n",
       "  </thead>\n",
       "  <tbody>\n",
       "    <tr>\n",
       "      <th>0</th>\n",
       "      <td>0</td>\n",
       "      <td>10.71</td>\n",
       "      <td>20.39</td>\n",
       "      <td>69.50</td>\n",
       "      <td>344.9</td>\n",
       "      <td>0.10820</td>\n",
       "      <td>0.12890</td>\n",
       "      <td>0.08448</td>\n",
       "      <td>0.02867</td>\n",
       "      <td>0.1668</td>\n",
       "      <td>0.06862</td>\n",
       "      <td>0.3198</td>\n",
       "      <td>1.4890</td>\n",
       "      <td>2.230</td>\n",
       "      <td>20.74</td>\n",
       "      <td>0.008902</td>\n",
       "      <td>0.047850</td>\n",
       "      <td>0.07339</td>\n",
       "      <td>0.017450</td>\n",
       "      <td>0.02728</td>\n",
       "      <td>0.007610</td>\n",
       "      <td>11.69</td>\n",
       "      <td>25.21</td>\n",
       "      <td>76.51</td>\n",
       "      <td>410.4</td>\n",
       "      <td>0.1335</td>\n",
       "      <td>0.2550</td>\n",
       "      <td>0.2534</td>\n",
       "      <td>0.08600</td>\n",
       "      <td>0.2605</td>\n",
       "      <td>0.08701</td>\n",
       "    </tr>\n",
       "    <tr>\n",
       "      <th>1</th>\n",
       "      <td>0</td>\n",
       "      <td>13.64</td>\n",
       "      <td>16.34</td>\n",
       "      <td>87.21</td>\n",
       "      <td>571.8</td>\n",
       "      <td>0.07685</td>\n",
       "      <td>0.06059</td>\n",
       "      <td>0.01857</td>\n",
       "      <td>0.01723</td>\n",
       "      <td>0.1353</td>\n",
       "      <td>0.05953</td>\n",
       "      <td>0.1872</td>\n",
       "      <td>0.9234</td>\n",
       "      <td>1.449</td>\n",
       "      <td>14.55</td>\n",
       "      <td>0.004477</td>\n",
       "      <td>0.011770</td>\n",
       "      <td>0.01079</td>\n",
       "      <td>0.007956</td>\n",
       "      <td>0.01325</td>\n",
       "      <td>0.002551</td>\n",
       "      <td>14.67</td>\n",
       "      <td>23.19</td>\n",
       "      <td>96.08</td>\n",
       "      <td>656.7</td>\n",
       "      <td>0.1089</td>\n",
       "      <td>0.1582</td>\n",
       "      <td>0.1050</td>\n",
       "      <td>0.08586</td>\n",
       "      <td>0.2346</td>\n",
       "      <td>0.08025</td>\n",
       "    </tr>\n",
       "    <tr>\n",
       "      <th>2</th>\n",
       "      <td>0</td>\n",
       "      <td>11.71</td>\n",
       "      <td>17.19</td>\n",
       "      <td>74.68</td>\n",
       "      <td>420.3</td>\n",
       "      <td>0.09774</td>\n",
       "      <td>0.06141</td>\n",
       "      <td>0.03809</td>\n",
       "      <td>0.03239</td>\n",
       "      <td>0.1516</td>\n",
       "      <td>0.06095</td>\n",
       "      <td>0.2451</td>\n",
       "      <td>0.7655</td>\n",
       "      <td>1.742</td>\n",
       "      <td>17.86</td>\n",
       "      <td>0.006905</td>\n",
       "      <td>0.008704</td>\n",
       "      <td>0.01978</td>\n",
       "      <td>0.011850</td>\n",
       "      <td>0.01897</td>\n",
       "      <td>0.001671</td>\n",
       "      <td>13.01</td>\n",
       "      <td>21.39</td>\n",
       "      <td>84.42</td>\n",
       "      <td>521.5</td>\n",
       "      <td>0.1323</td>\n",
       "      <td>0.1040</td>\n",
       "      <td>0.1521</td>\n",
       "      <td>0.10990</td>\n",
       "      <td>0.2572</td>\n",
       "      <td>0.07097</td>\n",
       "    </tr>\n",
       "    <tr>\n",
       "      <th>3</th>\n",
       "      <td>1</td>\n",
       "      <td>15.30</td>\n",
       "      <td>25.27</td>\n",
       "      <td>102.40</td>\n",
       "      <td>732.4</td>\n",
       "      <td>0.10820</td>\n",
       "      <td>0.16970</td>\n",
       "      <td>0.16830</td>\n",
       "      <td>0.08751</td>\n",
       "      <td>0.1926</td>\n",
       "      <td>0.06540</td>\n",
       "      <td>0.4390</td>\n",
       "      <td>1.0120</td>\n",
       "      <td>3.498</td>\n",
       "      <td>43.50</td>\n",
       "      <td>0.005233</td>\n",
       "      <td>0.030570</td>\n",
       "      <td>0.03576</td>\n",
       "      <td>0.010830</td>\n",
       "      <td>0.01768</td>\n",
       "      <td>0.002967</td>\n",
       "      <td>20.27</td>\n",
       "      <td>36.71</td>\n",
       "      <td>149.30</td>\n",
       "      <td>1269.0</td>\n",
       "      <td>0.1641</td>\n",
       "      <td>0.6110</td>\n",
       "      <td>0.6335</td>\n",
       "      <td>0.20240</td>\n",
       "      <td>0.4027</td>\n",
       "      <td>0.09876</td>\n",
       "    </tr>\n",
       "    <tr>\n",
       "      <th>4</th>\n",
       "      <td>1</td>\n",
       "      <td>14.45</td>\n",
       "      <td>20.22</td>\n",
       "      <td>94.49</td>\n",
       "      <td>642.7</td>\n",
       "      <td>0.09872</td>\n",
       "      <td>0.12060</td>\n",
       "      <td>0.11800</td>\n",
       "      <td>0.05980</td>\n",
       "      <td>0.1950</td>\n",
       "      <td>0.06466</td>\n",
       "      <td>0.2092</td>\n",
       "      <td>0.6509</td>\n",
       "      <td>1.446</td>\n",
       "      <td>19.42</td>\n",
       "      <td>0.004044</td>\n",
       "      <td>0.015970</td>\n",
       "      <td>0.02000</td>\n",
       "      <td>0.007303</td>\n",
       "      <td>0.01522</td>\n",
       "      <td>0.001976</td>\n",
       "      <td>18.33</td>\n",
       "      <td>30.12</td>\n",
       "      <td>117.90</td>\n",
       "      <td>1044.0</td>\n",
       "      <td>0.1552</td>\n",
       "      <td>0.4056</td>\n",
       "      <td>0.4967</td>\n",
       "      <td>0.18380</td>\n",
       "      <td>0.4753</td>\n",
       "      <td>0.10130</td>\n",
       "    </tr>\n",
       "  </tbody>\n",
       "</table></div>"
      ],
      "text/plain": [
       "   diagnosis  radius_mean  texture_mean  perimeter_mean  area_mean  \\\n",
       "0          0        10.71         20.39           69.50      344.9   \n",
       "1          0        13.64         16.34           87.21      571.8   \n",
       "2          0        11.71         17.19           74.68      420.3   \n",
       "3          1        15.30         25.27          102.40      732.4   \n",
       "4          1        14.45         20.22           94.49      642.7   \n",
       "\n",
       "   smoothness_mean  compactness_mean  concavity_mean  concave points_mean  \\\n",
       "0          0.10820           0.12890         0.08448              0.02867   \n",
       "1          0.07685           0.06059         0.01857              0.01723   \n",
       "2          0.09774           0.06141         0.03809              0.03239   \n",
       "3          0.10820           0.16970         0.16830              0.08751   \n",
       "4          0.09872           0.12060         0.11800              0.05980   \n",
       "\n",
       "   symmetry_mean  fractal_dimension_mean  radius_se  texture_se  perimeter_se  \\\n",
       "0         0.1668                 0.06862     0.3198      1.4890         2.230   \n",
       "1         0.1353                 0.05953     0.1872      0.9234         1.449   \n",
       "2         0.1516                 0.06095     0.2451      0.7655         1.742   \n",
       "3         0.1926                 0.06540     0.4390      1.0120         3.498   \n",
       "4         0.1950                 0.06466     0.2092      0.6509         1.446   \n",
       "\n",
       "   area_se  smoothness_se  compactness_se  concavity_se  concave points_se  \\\n",
       "0    20.74       0.008902        0.047850       0.07339           0.017450   \n",
       "1    14.55       0.004477        0.011770       0.01079           0.007956   \n",
       "2    17.86       0.006905        0.008704       0.01978           0.011850   \n",
       "3    43.50       0.005233        0.030570       0.03576           0.010830   \n",
       "4    19.42       0.004044        0.015970       0.02000           0.007303   \n",
       "\n",
       "   symmetry_se  fractal_dimension_se  radius_worst  texture_worst  \\\n",
       "0      0.02728              0.007610         11.69          25.21   \n",
       "1      0.01325              0.002551         14.67          23.19   \n",
       "2      0.01897              0.001671         13.01          21.39   \n",
       "3      0.01768              0.002967         20.27          36.71   \n",
       "4      0.01522              0.001976         18.33          30.12   \n",
       "\n",
       "   perimeter_worst  area_worst  smoothness_worst  compactness_worst  \\\n",
       "0            76.51       410.4            0.1335             0.2550   \n",
       "1            96.08       656.7            0.1089             0.1582   \n",
       "2            84.42       521.5            0.1323             0.1040   \n",
       "3           149.30      1269.0            0.1641             0.6110   \n",
       "4           117.90      1044.0            0.1552             0.4056   \n",
       "\n",
       "   concavity_worst  concave points_worst  symmetry_worst  \\\n",
       "0           0.2534               0.08600          0.2605   \n",
       "1           0.1050               0.08586          0.2346   \n",
       "2           0.1521               0.10990          0.2572   \n",
       "3           0.6335               0.20240          0.4027   \n",
       "4           0.4967               0.18380          0.4753   \n",
       "\n",
       "   fractal_dimension_worst  \n",
       "0                  0.08701  \n",
       "1                  0.08025  \n",
       "2                  0.07097  \n",
       "3                  0.09876  \n",
       "4                  0.10130  "
      ]
     },
     "execution_count": 23,
     "metadata": {},
     "output_type": "execute_result"
    }
   ],
   "source": [
    "train_diag_Cancer_df.head()"
   ]
  },
  {
   "cell_type": "code",
   "execution_count": 25,
   "id": "a85a8bc6",
   "metadata": {},
   "outputs": [
    {
     "data": {
      "text/plain": [
       "(455, 31)"
      ]
     },
     "execution_count": 25,
     "metadata": {},
     "output_type": "execute_result"
    }
   ],
   "source": [
    "train_diag_Cancer_df.shape"
   ]
  },
  {
   "cell_type": "markdown",
   "id": "1d99e258",
   "metadata": {},
   "source": [
    "Initial data frame is made of 30 columns, including the target column as 'diagnosis' and other 29 that looks like data extracted from a mammogram, and 455 lines/registers that correspond to different mamogramms/medical test of patients. Let's explore them:"
   ]
  },
  {
   "cell_type": "code",
   "execution_count": 26,
   "id": "1cdb3210-9c59-4c45-b330-28585236f189",
   "metadata": {
    "ExecuteTime": {
     "end_time": "2022-05-29T10:32:50.232950Z",
     "start_time": "2022-05-29T10:32:50.196049Z"
    }
   },
   "outputs": [
    {
     "data": {
      "text/plain": [
       "diagnosis                  0\n",
       "radius_mean                0\n",
       "texture_mean               0\n",
       "perimeter_mean             0\n",
       "area_mean                  0\n",
       "smoothness_mean            0\n",
       "compactness_mean           0\n",
       "concavity_mean             0\n",
       "concave points_mean        0\n",
       "symmetry_mean              0\n",
       "fractal_dimension_mean     0\n",
       "radius_se                  0\n",
       "texture_se                 0\n",
       "perimeter_se               0\n",
       "area_se                    0\n",
       "smoothness_se              0\n",
       "compactness_se             0\n",
       "concavity_se               0\n",
       "concave points_se          0\n",
       "symmetry_se                0\n",
       "fractal_dimension_se       0\n",
       "radius_worst               0\n",
       "texture_worst              0\n",
       "perimeter_worst            0\n",
       "area_worst                 0\n",
       "smoothness_worst           0\n",
       "compactness_worst          0\n",
       "concavity_worst            0\n",
       "concave points_worst       0\n",
       "symmetry_worst             0\n",
       "fractal_dimension_worst    0\n",
       "dtype: int64"
      ]
     },
     "execution_count": 26,
     "metadata": {},
     "output_type": "execute_result"
    }
   ],
   "source": [
    "train_diag_Cancer_df.isnull().sum()"
   ]
  },
  {
   "cell_type": "markdown",
   "id": "9528455d",
   "metadata": {},
   "source": [
    "No null values were detected."
   ]
  },
  {
   "cell_type": "code",
   "execution_count": 27,
   "id": "74df5003",
   "metadata": {
    "ExecuteTime": {
     "end_time": "2022-05-29T10:39:14.967955Z",
     "start_time": "2022-05-29T10:39:14.885174Z"
    }
   },
   "outputs": [
    {
     "data": {
      "text/html": [
       "<div><div id=086c1248-7f07-4f20-8536-feda45ba3d5f style=\"display:none; background-color:#9D6CFF; color:white; width:200px; height:30px; padding-left:5px; border-radius:4px; flex-direction:row; justify-content:space-around; align-items:center;\" onmouseover=\"this.style.backgroundColor='#BA9BF8'\" onmouseout=\"this.style.backgroundColor='#9D6CFF'\" onclick=\"window.commands?.execute('create-mitosheet-from-dataframe-output');\">See Full Dataframe in Mito</div> <script> if (window.commands?.hasCommand('create-mitosheet-from-dataframe-output')) document.getElementById('086c1248-7f07-4f20-8536-feda45ba3d5f').style.display = 'flex' </script> <table border=\"1\" class=\"dataframe\">\n",
       "  <thead>\n",
       "    <tr style=\"text-align: right;\">\n",
       "      <th></th>\n",
       "      <th>diagnosis</th>\n",
       "      <th>radius_mean</th>\n",
       "      <th>texture_mean</th>\n",
       "      <th>perimeter_mean</th>\n",
       "      <th>area_mean</th>\n",
       "      <th>smoothness_mean</th>\n",
       "      <th>compactness_mean</th>\n",
       "      <th>concavity_mean</th>\n",
       "      <th>concave points_mean</th>\n",
       "      <th>symmetry_mean</th>\n",
       "      <th>fractal_dimension_mean</th>\n",
       "      <th>radius_se</th>\n",
       "      <th>texture_se</th>\n",
       "      <th>perimeter_se</th>\n",
       "      <th>area_se</th>\n",
       "      <th>smoothness_se</th>\n",
       "      <th>compactness_se</th>\n",
       "      <th>concavity_se</th>\n",
       "      <th>concave points_se</th>\n",
       "      <th>symmetry_se</th>\n",
       "      <th>fractal_dimension_se</th>\n",
       "      <th>radius_worst</th>\n",
       "      <th>texture_worst</th>\n",
       "      <th>perimeter_worst</th>\n",
       "      <th>area_worst</th>\n",
       "      <th>smoothness_worst</th>\n",
       "      <th>compactness_worst</th>\n",
       "      <th>concavity_worst</th>\n",
       "      <th>concave points_worst</th>\n",
       "      <th>symmetry_worst</th>\n",
       "      <th>fractal_dimension_worst</th>\n",
       "    </tr>\n",
       "  </thead>\n",
       "  <tbody>\n",
       "    <tr>\n",
       "      <th>count</th>\n",
       "      <td>455.000000</td>\n",
       "      <td>455.000000</td>\n",
       "      <td>455.000000</td>\n",
       "      <td>455.000000</td>\n",
       "      <td>455.000000</td>\n",
       "      <td>455.000000</td>\n",
       "      <td>455.000000</td>\n",
       "      <td>455.000000</td>\n",
       "      <td>455.000000</td>\n",
       "      <td>455.000000</td>\n",
       "      <td>455.000000</td>\n",
       "      <td>455.000000</td>\n",
       "      <td>455.000000</td>\n",
       "      <td>455.000000</td>\n",
       "      <td>455.000000</td>\n",
       "      <td>455.000000</td>\n",
       "      <td>455.000000</td>\n",
       "      <td>455.000000</td>\n",
       "      <td>455.000000</td>\n",
       "      <td>455.000000</td>\n",
       "      <td>455.000000</td>\n",
       "      <td>455.000000</td>\n",
       "      <td>455.000000</td>\n",
       "      <td>455.000000</td>\n",
       "      <td>455.000000</td>\n",
       "      <td>455.000000</td>\n",
       "      <td>455.000000</td>\n",
       "      <td>455.000000</td>\n",
       "      <td>455.000000</td>\n",
       "      <td>455.000000</td>\n",
       "      <td>455.000000</td>\n",
       "    </tr>\n",
       "    <tr>\n",
       "      <th>mean</th>\n",
       "      <td>0.373626</td>\n",
       "      <td>14.139000</td>\n",
       "      <td>19.306286</td>\n",
       "      <td>92.086044</td>\n",
       "      <td>657.829890</td>\n",
       "      <td>0.096849</td>\n",
       "      <td>0.105557</td>\n",
       "      <td>0.090775</td>\n",
       "      <td>0.049585</td>\n",
       "      <td>0.181319</td>\n",
       "      <td>0.062925</td>\n",
       "      <td>0.403945</td>\n",
       "      <td>1.213024</td>\n",
       "      <td>2.846826</td>\n",
       "      <td>40.398501</td>\n",
       "      <td>0.007067</td>\n",
       "      <td>0.025605</td>\n",
       "      <td>0.032376</td>\n",
       "      <td>0.011779</td>\n",
       "      <td>0.020244</td>\n",
       "      <td>0.003814</td>\n",
       "      <td>16.276679</td>\n",
       "      <td>25.823099</td>\n",
       "      <td>107.319516</td>\n",
       "      <td>882.553187</td>\n",
       "      <td>0.133482</td>\n",
       "      <td>0.256997</td>\n",
       "      <td>0.278242</td>\n",
       "      <td>0.115695</td>\n",
       "      <td>0.290325</td>\n",
       "      <td>0.084309</td>\n",
       "    </tr>\n",
       "    <tr>\n",
       "      <th>std</th>\n",
       "      <td>0.484299</td>\n",
       "      <td>3.625935</td>\n",
       "      <td>4.267421</td>\n",
       "      <td>24.998077</td>\n",
       "      <td>363.536865</td>\n",
       "      <td>0.013981</td>\n",
       "      <td>0.052932</td>\n",
       "      <td>0.080993</td>\n",
       "      <td>0.039159</td>\n",
       "      <td>0.027140</td>\n",
       "      <td>0.007045</td>\n",
       "      <td>0.286415</td>\n",
       "      <td>0.519653</td>\n",
       "      <td>2.091831</td>\n",
       "      <td>47.691358</td>\n",
       "      <td>0.003095</td>\n",
       "      <td>0.018202</td>\n",
       "      <td>0.031443</td>\n",
       "      <td>0.006082</td>\n",
       "      <td>0.008006</td>\n",
       "      <td>0.002770</td>\n",
       "      <td>4.897917</td>\n",
       "      <td>6.123728</td>\n",
       "      <td>34.025815</td>\n",
       "      <td>574.721873</td>\n",
       "      <td>0.022902</td>\n",
       "      <td>0.157587</td>\n",
       "      <td>0.211802</td>\n",
       "      <td>0.065949</td>\n",
       "      <td>0.059696</td>\n",
       "      <td>0.018168</td>\n",
       "    </tr>\n",
       "    <tr>\n",
       "      <th>min</th>\n",
       "      <td>0.000000</td>\n",
       "      <td>6.981000</td>\n",
       "      <td>9.710000</td>\n",
       "      <td>43.790000</td>\n",
       "      <td>143.500000</td>\n",
       "      <td>0.052630</td>\n",
       "      <td>0.019380</td>\n",
       "      <td>0.000000</td>\n",
       "      <td>0.000000</td>\n",
       "      <td>0.116700</td>\n",
       "      <td>0.049960</td>\n",
       "      <td>0.114400</td>\n",
       "      <td>0.362100</td>\n",
       "      <td>0.757000</td>\n",
       "      <td>6.802000</td>\n",
       "      <td>0.002667</td>\n",
       "      <td>0.002252</td>\n",
       "      <td>0.000000</td>\n",
       "      <td>0.000000</td>\n",
       "      <td>0.007882</td>\n",
       "      <td>0.000895</td>\n",
       "      <td>7.930000</td>\n",
       "      <td>12.020000</td>\n",
       "      <td>50.410000</td>\n",
       "      <td>185.200000</td>\n",
       "      <td>0.081250</td>\n",
       "      <td>0.034320</td>\n",
       "      <td>0.000000</td>\n",
       "      <td>0.000000</td>\n",
       "      <td>0.156500</td>\n",
       "      <td>0.055040</td>\n",
       "    </tr>\n",
       "    <tr>\n",
       "      <th>25%</th>\n",
       "      <td>0.000000</td>\n",
       "      <td>11.705000</td>\n",
       "      <td>16.210000</td>\n",
       "      <td>75.015000</td>\n",
       "      <td>419.250000</td>\n",
       "      <td>0.086740</td>\n",
       "      <td>0.066735</td>\n",
       "      <td>0.030180</td>\n",
       "      <td>0.020720</td>\n",
       "      <td>0.162050</td>\n",
       "      <td>0.057885</td>\n",
       "      <td>0.232350</td>\n",
       "      <td>0.841800</td>\n",
       "      <td>1.596500</td>\n",
       "      <td>17.695000</td>\n",
       "      <td>0.005146</td>\n",
       "      <td>0.013635</td>\n",
       "      <td>0.015220</td>\n",
       "      <td>0.007766</td>\n",
       "      <td>0.014985</td>\n",
       "      <td>0.002228</td>\n",
       "      <td>12.980000</td>\n",
       "      <td>21.350000</td>\n",
       "      <td>84.290000</td>\n",
       "      <td>513.950000</td>\n",
       "      <td>0.118350</td>\n",
       "      <td>0.151650</td>\n",
       "      <td>0.119350</td>\n",
       "      <td>0.065080</td>\n",
       "      <td>0.251550</td>\n",
       "      <td>0.071835</td>\n",
       "    </tr>\n",
       "    <tr>\n",
       "      <th>50%</th>\n",
       "      <td>0.000000</td>\n",
       "      <td>13.300000</td>\n",
       "      <td>18.890000</td>\n",
       "      <td>85.980000</td>\n",
       "      <td>546.400000</td>\n",
       "      <td>0.096860</td>\n",
       "      <td>0.094860</td>\n",
       "      <td>0.063870</td>\n",
       "      <td>0.033840</td>\n",
       "      <td>0.179700</td>\n",
       "      <td>0.061550</td>\n",
       "      <td>0.318600</td>\n",
       "      <td>1.108000</td>\n",
       "      <td>2.244000</td>\n",
       "      <td>24.280000</td>\n",
       "      <td>0.006261</td>\n",
       "      <td>0.020450</td>\n",
       "      <td>0.026110</td>\n",
       "      <td>0.010900</td>\n",
       "      <td>0.018530</td>\n",
       "      <td>0.003211</td>\n",
       "      <td>14.990000</td>\n",
       "      <td>25.440000</td>\n",
       "      <td>97.660000</td>\n",
       "      <td>688.600000</td>\n",
       "      <td>0.132600</td>\n",
       "      <td>0.215600</td>\n",
       "      <td>0.229900</td>\n",
       "      <td>0.099930</td>\n",
       "      <td>0.283300</td>\n",
       "      <td>0.080190</td>\n",
       "    </tr>\n",
       "    <tr>\n",
       "      <th>75%</th>\n",
       "      <td>1.000000</td>\n",
       "      <td>15.740000</td>\n",
       "      <td>21.795000</td>\n",
       "      <td>103.650000</td>\n",
       "      <td>777.250000</td>\n",
       "      <td>0.106050</td>\n",
       "      <td>0.130450</td>\n",
       "      <td>0.132200</td>\n",
       "      <td>0.074490</td>\n",
       "      <td>0.195800</td>\n",
       "      <td>0.066375</td>\n",
       "      <td>0.475950</td>\n",
       "      <td>1.474500</td>\n",
       "      <td>3.281500</td>\n",
       "      <td>45.295000</td>\n",
       "      <td>0.008182</td>\n",
       "      <td>0.032045</td>\n",
       "      <td>0.040775</td>\n",
       "      <td>0.014600</td>\n",
       "      <td>0.023085</td>\n",
       "      <td>0.004537</td>\n",
       "      <td>18.550000</td>\n",
       "      <td>29.990000</td>\n",
       "      <td>124.950000</td>\n",
       "      <td>1047.000000</td>\n",
       "      <td>0.147950</td>\n",
       "      <td>0.333800</td>\n",
       "      <td>0.387200</td>\n",
       "      <td>0.161950</td>\n",
       "      <td>0.317500</td>\n",
       "      <td>0.092070</td>\n",
       "    </tr>\n",
       "    <tr>\n",
       "      <th>max</th>\n",
       "      <td>1.000000</td>\n",
       "      <td>28.110000</td>\n",
       "      <td>39.280000</td>\n",
       "      <td>188.500000</td>\n",
       "      <td>2501.000000</td>\n",
       "      <td>0.163400</td>\n",
       "      <td>0.345400</td>\n",
       "      <td>0.426800</td>\n",
       "      <td>0.201200</td>\n",
       "      <td>0.304000</td>\n",
       "      <td>0.095750</td>\n",
       "      <td>2.873000</td>\n",
       "      <td>3.647000</td>\n",
       "      <td>21.980000</td>\n",
       "      <td>542.200000</td>\n",
       "      <td>0.031130</td>\n",
       "      <td>0.135400</td>\n",
       "      <td>0.396000</td>\n",
       "      <td>0.052790</td>\n",
       "      <td>0.078950</td>\n",
       "      <td>0.029840</td>\n",
       "      <td>36.040000</td>\n",
       "      <td>49.540000</td>\n",
       "      <td>251.200000</td>\n",
       "      <td>4254.000000</td>\n",
       "      <td>0.222600</td>\n",
       "      <td>1.058000</td>\n",
       "      <td>1.252000</td>\n",
       "      <td>0.291000</td>\n",
       "      <td>0.577400</td>\n",
       "      <td>0.207500</td>\n",
       "    </tr>\n",
       "  </tbody>\n",
       "</table></div>"
      ],
      "text/plain": [
       "        diagnosis  radius_mean  texture_mean  perimeter_mean    area_mean  \\\n",
       "count  455.000000   455.000000    455.000000      455.000000   455.000000   \n",
       "mean     0.373626    14.139000     19.306286       92.086044   657.829890   \n",
       "std      0.484299     3.625935      4.267421       24.998077   363.536865   \n",
       "min      0.000000     6.981000      9.710000       43.790000   143.500000   \n",
       "25%      0.000000    11.705000     16.210000       75.015000   419.250000   \n",
       "50%      0.000000    13.300000     18.890000       85.980000   546.400000   \n",
       "75%      1.000000    15.740000     21.795000      103.650000   777.250000   \n",
       "max      1.000000    28.110000     39.280000      188.500000  2501.000000   \n",
       "\n",
       "       smoothness_mean  compactness_mean  concavity_mean  concave points_mean  \\\n",
       "count       455.000000        455.000000      455.000000           455.000000   \n",
       "mean          0.096849          0.105557        0.090775             0.049585   \n",
       "std           0.013981          0.052932        0.080993             0.039159   \n",
       "min           0.052630          0.019380        0.000000             0.000000   \n",
       "25%           0.086740          0.066735        0.030180             0.020720   \n",
       "50%           0.096860          0.094860        0.063870             0.033840   \n",
       "75%           0.106050          0.130450        0.132200             0.074490   \n",
       "max           0.163400          0.345400        0.426800             0.201200   \n",
       "\n",
       "       symmetry_mean  fractal_dimension_mean   radius_se  texture_se  \\\n",
       "count     455.000000              455.000000  455.000000  455.000000   \n",
       "mean        0.181319                0.062925    0.403945    1.213024   \n",
       "std         0.027140                0.007045    0.286415    0.519653   \n",
       "min         0.116700                0.049960    0.114400    0.362100   \n",
       "25%         0.162050                0.057885    0.232350    0.841800   \n",
       "50%         0.179700                0.061550    0.318600    1.108000   \n",
       "75%         0.195800                0.066375    0.475950    1.474500   \n",
       "max         0.304000                0.095750    2.873000    3.647000   \n",
       "\n",
       "       perimeter_se     area_se  smoothness_se  compactness_se  concavity_se  \\\n",
       "count    455.000000  455.000000     455.000000      455.000000    455.000000   \n",
       "mean       2.846826   40.398501       0.007067        0.025605      0.032376   \n",
       "std        2.091831   47.691358       0.003095        0.018202      0.031443   \n",
       "min        0.757000    6.802000       0.002667        0.002252      0.000000   \n",
       "25%        1.596500   17.695000       0.005146        0.013635      0.015220   \n",
       "50%        2.244000   24.280000       0.006261        0.020450      0.026110   \n",
       "75%        3.281500   45.295000       0.008182        0.032045      0.040775   \n",
       "max       21.980000  542.200000       0.031130        0.135400      0.396000   \n",
       "\n",
       "       concave points_se  symmetry_se  fractal_dimension_se  radius_worst  \\\n",
       "count         455.000000   455.000000            455.000000    455.000000   \n",
       "mean            0.011779     0.020244              0.003814     16.276679   \n",
       "std             0.006082     0.008006              0.002770      4.897917   \n",
       "min             0.000000     0.007882              0.000895      7.930000   \n",
       "25%             0.007766     0.014985              0.002228     12.980000   \n",
       "50%             0.010900     0.018530              0.003211     14.990000   \n",
       "75%             0.014600     0.023085              0.004537     18.550000   \n",
       "max             0.052790     0.078950              0.029840     36.040000   \n",
       "\n",
       "       texture_worst  perimeter_worst   area_worst  smoothness_worst  \\\n",
       "count     455.000000       455.000000   455.000000        455.000000   \n",
       "mean       25.823099       107.319516   882.553187          0.133482   \n",
       "std         6.123728        34.025815   574.721873          0.022902   \n",
       "min        12.020000        50.410000   185.200000          0.081250   \n",
       "25%        21.350000        84.290000   513.950000          0.118350   \n",
       "50%        25.440000        97.660000   688.600000          0.132600   \n",
       "75%        29.990000       124.950000  1047.000000          0.147950   \n",
       "max        49.540000       251.200000  4254.000000          0.222600   \n",
       "\n",
       "       compactness_worst  concavity_worst  concave points_worst  \\\n",
       "count         455.000000       455.000000            455.000000   \n",
       "mean            0.256997         0.278242              0.115695   \n",
       "std             0.157587         0.211802              0.065949   \n",
       "min             0.034320         0.000000              0.000000   \n",
       "25%             0.151650         0.119350              0.065080   \n",
       "50%             0.215600         0.229900              0.099930   \n",
       "75%             0.333800         0.387200              0.161950   \n",
       "max             1.058000         1.252000              0.291000   \n",
       "\n",
       "       symmetry_worst  fractal_dimension_worst  \n",
       "count      455.000000               455.000000  \n",
       "mean         0.290325                 0.084309  \n",
       "std          0.059696                 0.018168  \n",
       "min          0.156500                 0.055040  \n",
       "25%          0.251550                 0.071835  \n",
       "50%          0.283300                 0.080190  \n",
       "75%          0.317500                 0.092070  \n",
       "max          0.577400                 0.207500  "
      ]
     },
     "execution_count": 27,
     "metadata": {},
     "output_type": "execute_result"
    }
   ],
   "source": [
    "train_diag_Cancer_df.describe()"
   ]
  },
  {
   "cell_type": "markdown",
   "id": "19fe5066",
   "metadata": {},
   "source": [
    "Values of the differents parameters differ on range and average.  are very similar (range from -0.433 to 6.700). There is no null values to be cleaned."
   ]
  },
  {
   "cell_type": "code",
   "execution_count": 28,
   "id": "6f864627-87c6-49ee-acbb-cb42a40e04b8",
   "metadata": {
    "ExecuteTime": {
     "end_time": "2022-05-29T10:32:50.843579Z",
     "start_time": "2022-05-29T10:32:50.827622Z"
    }
   },
   "outputs": [],
   "source": [
    "y = train_diag_Cancer_df.diagnosis"
   ]
  },
  {
   "cell_type": "code",
   "execution_count": 29,
   "id": "d5d4e62d",
   "metadata": {
    "ExecuteTime": {
     "end_time": "2022-05-29T10:32:51.595780Z",
     "start_time": "2022-05-29T10:32:51.241805Z"
    }
   },
   "outputs": [
    {
     "data": {
      "text/plain": [
       "Text(0, 0.5, '# of instances')"
      ]
     },
     "execution_count": 29,
     "metadata": {},
     "output_type": "execute_result"
    },
    {
     "data": {
      "image/png": "[encoded data removed]",
      "text/plain": [
       "<Figure size 432x288 with 1 Axes>"
      ]
     },
     "metadata": {},
     "output_type": "display_data"
    }
   ],
   "source": [
    "\n",
    "#Label distribution checking\n",
    "sns.set_context(\"notebook\")\n",
    "style.use('seaborn-white')    \n",
    "counter = Counter(y)\n",
    "dist_plot=sns.barplot(x=list(counter.keys()), y=list(counter.values()))\n",
    "dist_plot.set_title('Distribution of instances per label')\n",
    "dist_plot.set_xlabel('Label')\n",
    "dist_plot.set_ylabel('# of instances')"
   ]
  },
  {
   "cell_type": "code",
   "execution_count": 30,
   "id": "3500eb6b",
   "metadata": {
    "ExecuteTime": {
     "end_time": "2022-05-29T10:32:51.878655Z",
     "start_time": "2022-05-29T10:32:51.850731Z"
    }
   },
   "outputs": [
    {
     "data": {
      "text/plain": [
       "[0.6263736263736264, 0.37362637362637363]"
      ]
     },
     "execution_count": 30,
     "metadata": {},
     "output_type": "execute_result"
    }
   ],
   "source": [
    "ratio_labels= [x/len(y) for x in list(counter.values())]\n",
    "ratio_labels"
   ]
  },
  {
   "cell_type": "markdown",
   "id": "d8e890c8",
   "metadata": {},
   "source": [
    "Although the distribution of samples is nearly 1 to 2 (0 vs 1 or benign vs mailgn), it can not be considered a very unballanced population. the difference of ditribution of samples should work fine for classification algorithm but it can be considered to perform some slight oversampling of registers with label 1. "
   ]
  },
  {
   "cell_type": "markdown",
   "id": "666380e0",
   "metadata": {},
   "source": [
    "Let's have a look on the data:"
   ]
  },
  {
   "cell_type": "code",
   "execution_count": 31,
   "id": "8f48e9ec-14b2-442f-a331-7ebfcd8d4681",
   "metadata": {
    "ExecuteTime": {
     "end_time": "2022-05-29T10:33:11.933643Z",
     "start_time": "2022-05-29T10:32:52.955999Z"
    }
   },
   "outputs": [],
   "source": [
    "pairplot_diagnosis_data = sns.pairplot(train_diag_Cancer_df, corner=True,hue='diagnosis')\n",
    "pairplot_diagnosis_data.fig.suptitle('Pair plot of sensors with status label differentiation')"
   ]
  },
  {
   "cell_type": "markdown",
   "id": "8c1f530e-c754-4a84-8e78-49c81d032984",
   "metadata": {},
   "source": [
    "From the previous graph it can be concluded that:\n",
    "* Each class has a gaussian type distribution.\n",
    "* The different labels form clusters for certain sensors, such differences are the ground of predictions."
   ]
  },
  {
   "cell_type": "code",
   "execution_count": 11,
   "id": "cb82f44d",
   "metadata": {},
   "outputs": [
    {
     "data": {
      "text/plain": [
       "Text(0.5, 1.0, 'Correlation of values of different sensors')"
      ]
     },
     "execution_count": 11,
     "metadata": {},
     "output_type": "execute_result"
    },
    {
     "data": {
      "image/png": "[encoded data removed]",
      "text/plain": [
       "<Figure size 432x288 with 2 Axes>"
      ]
     },
     "metadata": {},
     "output_type": "display_data"
    }
   ],
   "source": [
    "# Getting the Lower Triangle of the co-relation matrix\n",
    "matrix = np.triu(space_X_train.corr())\n",
    "heatmap_correlations_diag_data = sns.heatmap(space_X_train.corr(), annot=True, cmap='viridis_r', mask=matrix)\n",
    "heatmap_correlations_diag_data.set_title('Correlation of values of diagnostic test data')"
   ]
  },
  {
   "cell_type": "markdown",
   "id": "901cef9d",
   "metadata": {},
   "source": [
    "Sensors 3 and 5 are highly correlated but it does not involve a correlation with the differents labels/status."
   ]
  },
  {
   "cell_type": "markdown",
   "id": "b52dc297",
   "metadata": {},
   "source": [
    "# Dara Engineering"
   ]
  },
  {
   "cell_type": "markdown",
   "id": "62351564",
   "metadata": {},
   "source": [
    "There is no need to clean, and it may be tried some data engineering of the Data set. Let's consider to check normalization, standarization and treating outliers with robustscaler:"
   ]
  },
  {
   "cell_type": "code",
   "execution_count": 12,
   "id": "fcc948a5",
   "metadata": {},
   "outputs": [
    {
     "data": {
      "text/plain": [
       "Index(['sensor_1', 'sensor_2', 'sensor_3', 'sensor_4', 'sensor_5', 'sensor_6',\n",
       "       'target'],\n",
       "      dtype='object')"
      ]
     },
     "execution_count": 12,
     "metadata": {},
     "output_type": "execute_result"
    }
   ],
   "source": [
    "space_X_train.columns"
   ]
  },
  {
   "cell_type": "code",
   "execution_count": 13,
   "id": "853b402d",
   "metadata": {},
   "outputs": [],
   "source": [
    "x = space_X_train.drop('target',axis=1).values #returns a numpy array\n",
    "numerical_cols=['sensor_1', 'sensor_2', 'sensor_3', 'sensor_4', 'sensor_5', 'sensor_6']\n"
   ]
  },
  {
   "cell_type": "code",
   "execution_count": 14,
   "id": "59e562b4",
   "metadata": {},
   "outputs": [],
   "source": [
    "\n",
    "min_max_scaler = preprocessing.MinMaxScaler()\n",
    "x_scaled = min_max_scaler.fit_transform(x)\n",
    "space_X_train_min_max_scaled = pd.DataFrame(x_scaled)\n"
   ]
  },
  {
   "cell_type": "code",
   "execution_count": 16,
   "id": "fe2ad8b8",
   "metadata": {},
   "outputs": [],
   "source": [
    "\n",
    "scaler = preprocessing.RobustScaler()\n",
    "space_X_train_robust = scaler.fit_transform(x)\n",
    "space_X_train_robust = pd.DataFrame(space_X_train_robust, columns =numerical_cols)\n"
   ]
  },
  {
   "cell_type": "code",
   "execution_count": 17,
   "id": "593f99fb",
   "metadata": {},
   "outputs": [],
   "source": [
    "\n",
    "scaler = preprocessing.StandardScaler()\n",
    "space_X_train_standard = scaler.fit_transform(x)\n",
    "space_X_train_standard = pd.DataFrame(space_X_train_standard, columns =numerical_cols)\n"
   ]
  },
  {
   "cell_type": "code",
   "execution_count": 18,
   "id": "47d92dd6",
   "metadata": {},
   "outputs": [],
   "source": [
    "space_X_train_min_max_scaled ['target'] = space_X_train['target']\n",
    "space_X_train_robust ['target'] = space_X_train['target']\n",
    "space_X_train_standard ['target'] = space_X_train['target']\n"
   ]
  },
  {
   "cell_type": "markdown",
   "id": "8d52089a",
   "metadata": {},
   "source": [
    "# Model screening with Pycaret"
   ]
  },
  {
   "cell_type": "markdown",
   "id": "b961528f",
   "metadata": {
    "ExecuteTime": {
     "end_time": "2022-05-28T17:01:27.408764Z",
     "start_time": "2022-05-28T17:01:27.394768Z"
    }
   },
   "source": [
    "With Pycaret we test the dataframe with several models to check its performance with :"
   ]
  },
  {
   "cell_type": "code",
   "execution_count": 29,
   "id": "796d6fa5",
   "metadata": {
    "ExecuteTime": {
     "end_time": "2022-05-29T10:35:36.614007Z",
     "start_time": "2022-05-29T10:34:56.083719Z"
    }
   },
   "outputs": [
    {
     "data": {
      "text/html": [
       "<style type=\"text/css\">\n",
       "#T_95032_ th {\n",
       "  text-align: left;\n",
       "}\n",
       "#T_95032_row0_col0, #T_95032_row1_col0, #T_95032_row1_col1, #T_95032_row1_col2, #T_95032_row1_col3, #T_95032_row1_col4, #T_95032_row1_col5, #T_95032_row1_col6, #T_95032_row1_col7, #T_95032_row2_col0, #T_95032_row2_col1, #T_95032_row2_col2, #T_95032_row2_col3, #T_95032_row2_col4, #T_95032_row2_col5, #T_95032_row2_col6, #T_95032_row2_col7, #T_95032_row3_col0, #T_95032_row3_col1, #T_95032_row3_col2, #T_95032_row3_col3, #T_95032_row3_col4, #T_95032_row3_col5, #T_95032_row3_col6, #T_95032_row3_col7, #T_95032_row4_col0, #T_95032_row4_col1, #T_95032_row4_col2, #T_95032_row4_col3, #T_95032_row4_col4, #T_95032_row4_col5, #T_95032_row4_col6, #T_95032_row4_col7, #T_95032_row5_col0, #T_95032_row5_col1, #T_95032_row5_col2, #T_95032_row5_col3, #T_95032_row5_col4, #T_95032_row5_col5, #T_95032_row5_col6, #T_95032_row5_col7, #T_95032_row6_col0, #T_95032_row6_col1, #T_95032_row6_col2, #T_95032_row6_col3, #T_95032_row6_col4, #T_95032_row6_col5, #T_95032_row6_col6, #T_95032_row6_col7, #T_95032_row7_col0, #T_95032_row7_col1, #T_95032_row7_col2, #T_95032_row7_col3, #T_95032_row7_col4, #T_95032_row7_col5, #T_95032_row7_col6, #T_95032_row7_col7, #T_95032_row8_col0, #T_95032_row8_col1, #T_95032_row8_col2, #T_95032_row8_col3, #T_95032_row8_col4, #T_95032_row8_col5, #T_95032_row8_col6, #T_95032_row8_col7, #T_95032_row9_col0, #T_95032_row9_col1, #T_95032_row9_col2, #T_95032_row9_col3, #T_95032_row9_col4, #T_95032_row9_col5, #T_95032_row9_col6, #T_95032_row9_col7, #T_95032_row10_col0, #T_95032_row10_col1, #T_95032_row10_col2, #T_95032_row10_col3, #T_95032_row10_col4, #T_95032_row10_col5, #T_95032_row10_col6, #T_95032_row10_col7, #T_95032_row11_col0, #T_95032_row11_col1, #T_95032_row11_col2, #T_95032_row11_col3, #T_95032_row11_col4, #T_95032_row11_col5, #T_95032_row11_col6, #T_95032_row11_col7, #T_95032_row12_col0, #T_95032_row12_col1, #T_95032_row12_col2, #T_95032_row12_col3, #T_95032_row12_col4, #T_95032_row12_col5, #T_95032_row12_col6, #T_95032_row12_col7 {\n",
       "  text-align: left;\n",
       "}\n",
       "#T_95032_row0_col1, #T_95032_row0_col2, #T_95032_row0_col3, #T_95032_row0_col4, #T_95032_row0_col5, #T_95032_row0_col6, #T_95032_row0_col7 {\n",
       "  text-align: left;\n",
       "  background-color: yellow;\n",
       "}\n",
       "#T_95032_row0_col8, #T_95032_row1_col8, #T_95032_row2_col8, #T_95032_row3_col8, #T_95032_row4_col8, #T_95032_row5_col8, #T_95032_row6_col8, #T_95032_row7_col8, #T_95032_row8_col8, #T_95032_row9_col8, #T_95032_row11_col8, #T_95032_row12_col8 {\n",
       "  text-align: left;\n",
       "  background-color: lightgrey;\n",
       "}\n",
       "#T_95032_row10_col8 {\n",
       "  text-align: left;\n",
       "  background-color: yellow;\n",
       "  background-color: lightgrey;\n",
       "}\n",
       "</style>\n",
       "<table id=\"T_95032_\">\n",
       "  <thead>\n",
       "    <tr>\n",
       "      <th class=\"blank level0\" >&nbsp;</th>\n",
       "      <th class=\"col_heading level0 col0\" >Model</th>\n",
       "      <th class=\"col_heading level0 col1\" >Accuracy</th>\n",
       "      <th class=\"col_heading level0 col2\" >AUC</th>\n",
       "      <th class=\"col_heading level0 col3\" >Recall</th>\n",
       "      <th class=\"col_heading level0 col4\" >Prec.</th>\n",
       "      <th class=\"col_heading level0 col5\" >F1</th>\n",
       "      <th class=\"col_heading level0 col6\" >Kappa</th>\n",
       "      <th class=\"col_heading level0 col7\" >MCC</th>\n",
       "      <th class=\"col_heading level0 col8\" >TT (Sec)</th>\n",
       "    </tr>\n",
       "  </thead>\n",
       "  <tbody>\n",
       "    <tr>\n",
       "      <th id=\"T_95032_level0_row0\" class=\"row_heading level0 row0\" >rf</th>\n",
       "      <td id=\"T_95032_row0_col0\" class=\"data row0 col0\" >Random Forest Classifier</td>\n",
       "      <td id=\"T_95032_row0_col1\" class=\"data row0 col1\" >0.7720</td>\n",
       "      <td id=\"T_95032_row0_col2\" class=\"data row0 col2\" >0.9442</td>\n",
       "      <td id=\"T_95032_row0_col3\" class=\"data row0 col3\" >0.7731</td>\n",
       "      <td id=\"T_95032_row0_col4\" class=\"data row0 col4\" >0.7782</td>\n",
       "      <td id=\"T_95032_row0_col5\" class=\"data row0 col5\" >0.7713</td>\n",
       "      <td id=\"T_95032_row0_col6\" class=\"data row0 col6\" >0.7149</td>\n",
       "      <td id=\"T_95032_row0_col7\" class=\"data row0 col7\" >0.7165</td>\n",
       "      <td id=\"T_95032_row0_col8\" class=\"data row0 col8\" >0.6110</td>\n",
       "    </tr>\n",
       "    <tr>\n",
       "      <th id=\"T_95032_level0_row1\" class=\"row_heading level0 row1\" >et</th>\n",
       "      <td id=\"T_95032_row1_col0\" class=\"data row1 col0\" >Extra Trees Classifier</td>\n",
       "      <td id=\"T_95032_row1_col1\" class=\"data row1 col1\" >0.7638</td>\n",
       "      <td id=\"T_95032_row1_col2\" class=\"data row1 col2\" >0.9441</td>\n",
       "      <td id=\"T_95032_row1_col3\" class=\"data row1 col3\" >0.7642</td>\n",
       "      <td id=\"T_95032_row1_col4\" class=\"data row1 col4\" >0.7689</td>\n",
       "      <td id=\"T_95032_row1_col5\" class=\"data row1 col5\" >0.7633</td>\n",
       "      <td id=\"T_95032_row1_col6\" class=\"data row1 col6\" >0.7047</td>\n",
       "      <td id=\"T_95032_row1_col7\" class=\"data row1 col7\" >0.7060</td>\n",
       "      <td id=\"T_95032_row1_col8\" class=\"data row1 col8\" >0.4480</td>\n",
       "    </tr>\n",
       "    <tr>\n",
       "      <th id=\"T_95032_level0_row2\" class=\"row_heading level0 row2\" >lightgbm</th>\n",
       "      <td id=\"T_95032_row2_col0\" class=\"data row2 col0\" >Light Gradient Boosting Machine</td>\n",
       "      <td id=\"T_95032_row2_col1\" class=\"data row2 col1\" >0.7576</td>\n",
       "      <td id=\"T_95032_row2_col2\" class=\"data row2 col2\" >0.9421</td>\n",
       "      <td id=\"T_95032_row2_col3\" class=\"data row2 col3\" >0.7583</td>\n",
       "      <td id=\"T_95032_row2_col4\" class=\"data row2 col4\" >0.7643</td>\n",
       "      <td id=\"T_95032_row2_col5\" class=\"data row2 col5\" >0.7563</td>\n",
       "      <td id=\"T_95032_row2_col6\" class=\"data row2 col6\" >0.6970</td>\n",
       "      <td id=\"T_95032_row2_col7\" class=\"data row2 col7\" >0.6990</td>\n",
       "      <td id=\"T_95032_row2_col8\" class=\"data row2 col8\" >0.4440</td>\n",
       "    </tr>\n",
       "    <tr>\n",
       "      <th id=\"T_95032_level0_row3\" class=\"row_heading level0 row3\" >gbc</th>\n",
       "      <td id=\"T_95032_row3_col0\" class=\"data row3 col0\" >Gradient Boosting Classifier</td>\n",
       "      <td id=\"T_95032_row3_col1\" class=\"data row3 col1\" >0.7393</td>\n",
       "      <td id=\"T_95032_row3_col2\" class=\"data row3 col2\" >0.9355</td>\n",
       "      <td id=\"T_95032_row3_col3\" class=\"data row3 col3\" >0.7402</td>\n",
       "      <td id=\"T_95032_row3_col4\" class=\"data row3 col4\" >0.7442</td>\n",
       "      <td id=\"T_95032_row3_col5\" class=\"data row3 col5\" >0.7375</td>\n",
       "      <td id=\"T_95032_row3_col6\" class=\"data row3 col6\" >0.6740</td>\n",
       "      <td id=\"T_95032_row3_col7\" class=\"data row3 col7\" >0.6760</td>\n",
       "      <td id=\"T_95032_row3_col8\" class=\"data row3 col8\" >1.2480</td>\n",
       "    </tr>\n",
       "    <tr>\n",
       "      <th id=\"T_95032_level0_row4\" class=\"row_heading level0 row4\" >knn</th>\n",
       "      <td id=\"T_95032_row4_col0\" class=\"data row4 col0\" >K Neighbors Classifier</td>\n",
       "      <td id=\"T_95032_row4_col1\" class=\"data row4 col1\" >0.7365</td>\n",
       "      <td id=\"T_95032_row4_col2\" class=\"data row4 col2\" >0.9226</td>\n",
       "      <td id=\"T_95032_row4_col3\" class=\"data row4 col3\" >0.7367</td>\n",
       "      <td id=\"T_95032_row4_col4\" class=\"data row4 col4\" >0.7435</td>\n",
       "      <td id=\"T_95032_row4_col5\" class=\"data row4 col5\" >0.7355</td>\n",
       "      <td id=\"T_95032_row4_col6\" class=\"data row4 col6\" >0.6705</td>\n",
       "      <td id=\"T_95032_row4_col7\" class=\"data row4 col7\" >0.6726</td>\n",
       "      <td id=\"T_95032_row4_col8\" class=\"data row4 col8\" >0.1100</td>\n",
       "    </tr>\n",
       "    <tr>\n",
       "      <th id=\"T_95032_level0_row5\" class=\"row_heading level0 row5\" >dt</th>\n",
       "      <td id=\"T_95032_row5_col0\" class=\"data row5 col0\" >Decision Tree Classifier</td>\n",
       "      <td id=\"T_95032_row5_col1\" class=\"data row5 col1\" >0.6753</td>\n",
       "      <td id=\"T_95032_row5_col2\" class=\"data row5 col2\" >0.7969</td>\n",
       "      <td id=\"T_95032_row5_col3\" class=\"data row5 col3\" >0.6750</td>\n",
       "      <td id=\"T_95032_row5_col4\" class=\"data row5 col4\" >0.6792</td>\n",
       "      <td id=\"T_95032_row5_col5\" class=\"data row5 col5\" >0.6738</td>\n",
       "      <td id=\"T_95032_row5_col6\" class=\"data row5 col6\" >0.5939</td>\n",
       "      <td id=\"T_95032_row5_col7\" class=\"data row5 col7\" >0.5954</td>\n",
       "      <td id=\"T_95032_row5_col8\" class=\"data row5 col8\" >0.0330</td>\n",
       "    </tr>\n",
       "    <tr>\n",
       "      <th id=\"T_95032_level0_row6\" class=\"row_heading level0 row6\" >ada</th>\n",
       "      <td id=\"T_95032_row6_col0\" class=\"data row6 col0\" >Ada Boost Classifier</td>\n",
       "      <td id=\"T_95032_row6_col1\" class=\"data row6 col1\" >0.5834</td>\n",
       "      <td id=\"T_95032_row6_col2\" class=\"data row6 col2\" >0.8237</td>\n",
       "      <td id=\"T_95032_row6_col3\" class=\"data row6 col3\" >0.5858</td>\n",
       "      <td id=\"T_95032_row6_col4\" class=\"data row6 col4\" >0.5857</td>\n",
       "      <td id=\"T_95032_row6_col5\" class=\"data row6 col5\" >0.5669</td>\n",
       "      <td id=\"T_95032_row6_col6\" class=\"data row6 col6\" >0.4794</td>\n",
       "      <td id=\"T_95032_row6_col7\" class=\"data row6 col7\" >0.4853</td>\n",
       "      <td id=\"T_95032_row6_col8\" class=\"data row6 col8\" >0.2110</td>\n",
       "    </tr>\n",
       "    <tr>\n",
       "      <th id=\"T_95032_level0_row7\" class=\"row_heading level0 row7\" >nb</th>\n",
       "      <td id=\"T_95032_row7_col0\" class=\"data row7 col0\" >Naive Bayes</td>\n",
       "      <td id=\"T_95032_row7_col1\" class=\"data row7 col1\" >0.5698</td>\n",
       "      <td id=\"T_95032_row7_col2\" class=\"data row7 col2\" >0.8373</td>\n",
       "      <td id=\"T_95032_row7_col3\" class=\"data row7 col3\" >0.5710</td>\n",
       "      <td id=\"T_95032_row7_col4\" class=\"data row7 col4\" >0.5670</td>\n",
       "      <td id=\"T_95032_row7_col5\" class=\"data row7 col5\" >0.5558</td>\n",
       "      <td id=\"T_95032_row7_col6\" class=\"data row7 col6\" >0.4621</td>\n",
       "      <td id=\"T_95032_row7_col7\" class=\"data row7 col7\" >0.4674</td>\n",
       "      <td id=\"T_95032_row7_col8\" class=\"data row7 col8\" >0.0270</td>\n",
       "    </tr>\n",
       "    <tr>\n",
       "      <th id=\"T_95032_level0_row8\" class=\"row_heading level0 row8\" >qda</th>\n",
       "      <td id=\"T_95032_row8_col0\" class=\"data row8 col0\" >Quadratic Discriminant Analysis</td>\n",
       "      <td id=\"T_95032_row8_col1\" class=\"data row8 col1\" >0.5398</td>\n",
       "      <td id=\"T_95032_row8_col2\" class=\"data row8 col2\" >0.8382</td>\n",
       "      <td id=\"T_95032_row8_col3\" class=\"data row8 col3\" >0.5381</td>\n",
       "      <td id=\"T_95032_row8_col4\" class=\"data row8 col4\" >0.5779</td>\n",
       "      <td id=\"T_95032_row8_col5\" class=\"data row8 col5\" >0.5371</td>\n",
       "      <td id=\"T_95032_row8_col6\" class=\"data row8 col6\" >0.4243</td>\n",
       "      <td id=\"T_95032_row8_col7\" class=\"data row8 col7\" >0.4326</td>\n",
       "      <td id=\"T_95032_row8_col8\" class=\"data row8 col8\" >0.0280</td>\n",
       "    </tr>\n",
       "    <tr>\n",
       "      <th id=\"T_95032_level0_row9\" class=\"row_heading level0 row9\" >lr</th>\n",
       "      <td id=\"T_95032_row9_col0\" class=\"data row9 col0\" >Logistic Regression</td>\n",
       "      <td id=\"T_95032_row9_col1\" class=\"data row9 col1\" >0.5160</td>\n",
       "      <td id=\"T_95032_row9_col2\" class=\"data row9 col2\" >0.7913</td>\n",
       "      <td id=\"T_95032_row9_col3\" class=\"data row9 col3\" >0.5171</td>\n",
       "      <td id=\"T_95032_row9_col4\" class=\"data row9 col4\" >0.4877</td>\n",
       "      <td id=\"T_95032_row9_col5\" class=\"data row9 col5\" >0.4886</td>\n",
       "      <td id=\"T_95032_row9_col6\" class=\"data row9 col6\" >0.3949</td>\n",
       "      <td id=\"T_95032_row9_col7\" class=\"data row9 col7\" >0.4010</td>\n",
       "      <td id=\"T_95032_row9_col8\" class=\"data row9 col8\" >0.0520</td>\n",
       "    </tr>\n",
       "    <tr>\n",
       "      <th id=\"T_95032_level0_row10\" class=\"row_heading level0 row10\" >lda</th>\n",
       "      <td id=\"T_95032_row10_col0\" class=\"data row10 col0\" >Linear Discriminant Analysis</td>\n",
       "      <td id=\"T_95032_row10_col1\" class=\"data row10 col1\" >0.5085</td>\n",
       "      <td id=\"T_95032_row10_col2\" class=\"data row10 col2\" >0.7891</td>\n",
       "      <td id=\"T_95032_row10_col3\" class=\"data row10 col3\" >0.5095</td>\n",
       "      <td id=\"T_95032_row10_col4\" class=\"data row10 col4\" >0.4779</td>\n",
       "      <td id=\"T_95032_row10_col5\" class=\"data row10 col5\" >0.4767</td>\n",
       "      <td id=\"T_95032_row10_col6\" class=\"data row10 col6\" >0.3854</td>\n",
       "      <td id=\"T_95032_row10_col7\" class=\"data row10 col7\" >0.3927</td>\n",
       "      <td id=\"T_95032_row10_col8\" class=\"data row10 col8\" >0.0240</td>\n",
       "    </tr>\n",
       "    <tr>\n",
       "      <th id=\"T_95032_level0_row11\" class=\"row_heading level0 row11\" >ridge</th>\n",
       "      <td id=\"T_95032_row11_col0\" class=\"data row11 col0\" >Ridge Classifier</td>\n",
       "      <td id=\"T_95032_row11_col1\" class=\"data row11 col1\" >0.4983</td>\n",
       "      <td id=\"T_95032_row11_col2\" class=\"data row11 col2\" >0.0000</td>\n",
       "      <td id=\"T_95032_row11_col3\" class=\"data row11 col3\" >0.5006</td>\n",
       "      <td id=\"T_95032_row11_col4\" class=\"data row11 col4\" >0.4226</td>\n",
       "      <td id=\"T_95032_row11_col5\" class=\"data row11 col5\" >0.4125</td>\n",
       "      <td id=\"T_95032_row11_col6\" class=\"data row11 col6\" >0.3730</td>\n",
       "      <td id=\"T_95032_row11_col7\" class=\"data row11 col7\" >0.3971</td>\n",
       "      <td id=\"T_95032_row11_col8\" class=\"data row11 col8\" >0.0270</td>\n",
       "    </tr>\n",
       "    <tr>\n",
       "      <th id=\"T_95032_level0_row12\" class=\"row_heading level0 row12\" >svm</th>\n",
       "      <td id=\"T_95032_row12_col0\" class=\"data row12 col0\" >SVM - Linear Kernel</td>\n",
       "      <td id=\"T_95032_row12_col1\" class=\"data row12 col1\" >0.4274</td>\n",
       "      <td id=\"T_95032_row12_col2\" class=\"data row12 col2\" >0.0000</td>\n",
       "      <td id=\"T_95032_row12_col3\" class=\"data row12 col3\" >0.4291</td>\n",
       "      <td id=\"T_95032_row12_col4\" class=\"data row12 col4\" >0.4139</td>\n",
       "      <td id=\"T_95032_row12_col5\" class=\"data row12 col5\" >0.3824</td>\n",
       "      <td id=\"T_95032_row12_col6\" class=\"data row12 col6\" >0.2840</td>\n",
       "      <td id=\"T_95032_row12_col7\" class=\"data row12 col7\" >0.2953</td>\n",
       "      <td id=\"T_95032_row12_col8\" class=\"data row12 col8\" >0.1030</td>\n",
       "    </tr>\n",
       "  </tbody>\n",
       "</table>\n"
      ],
      "text/plain": [
       "<pandas.io.formats.style.Styler at 0x1d3719a8708>"
      ]
     },
     "metadata": {},
     "output_type": "display_data"
    }
   ],
   "source": [
    "setup(space_X_train,\n",
    "          target='target',\n",
    "    )\n",
    "best_model_rfc=compare_models()"
   ]
  },
  {
   "cell_type": "code",
   "execution_count": 32,
   "id": "1d1069ce",
   "metadata": {},
   "outputs": [
    {
     "name": "stdout",
     "output_type": "stream",
     "text": [
      "RandomForestClassifier(bootstrap=True, ccp_alpha=0.0, class_weight=None,\n",
      "                       criterion='gini', max_depth=None, max_features='auto',\n",
      "                       max_leaf_nodes=None, max_samples=None,\n",
      "                       min_impurity_decrease=0.0, min_impurity_split=None,\n",
      "                       min_samples_leaf=1, min_samples_split=2,\n",
      "                       min_weight_fraction_leaf=0.0, n_estimators=100,\n",
      "                       n_jobs=-1, oob_score=False, random_state=6041, verbose=0,\n",
      "                       warm_start=False)\n"
     ]
    }
   ],
   "source": [
    "print(best_model_rfc)"
   ]
  },
  {
   "cell_type": "markdown",
   "id": "cd6792ae",
   "metadata": {},
   "source": [
    "Let's try with the data modified with data engineering: MinMaxScaler, Standarization and RobustScaler. "
   ]
  },
  {
   "cell_type": "code",
   "execution_count": 33,
   "id": "e6203ecc",
   "metadata": {},
   "outputs": [
    {
     "data": {
      "text/html": [
       "<style type=\"text/css\">\n",
       "#T_599bf_ th {\n",
       "  text-align: left;\n",
       "}\n",
       "#T_599bf_row0_col0, #T_599bf_row1_col0, #T_599bf_row1_col1, #T_599bf_row1_col2, #T_599bf_row1_col3, #T_599bf_row1_col4, #T_599bf_row1_col5, #T_599bf_row1_col6, #T_599bf_row1_col7, #T_599bf_row2_col0, #T_599bf_row2_col1, #T_599bf_row2_col2, #T_599bf_row2_col3, #T_599bf_row2_col4, #T_599bf_row2_col5, #T_599bf_row2_col6, #T_599bf_row2_col7, #T_599bf_row3_col0, #T_599bf_row3_col1, #T_599bf_row3_col2, #T_599bf_row3_col3, #T_599bf_row3_col4, #T_599bf_row3_col5, #T_599bf_row3_col6, #T_599bf_row3_col7, #T_599bf_row4_col0, #T_599bf_row4_col1, #T_599bf_row4_col2, #T_599bf_row4_col3, #T_599bf_row4_col4, #T_599bf_row4_col5, #T_599bf_row4_col6, #T_599bf_row4_col7, #T_599bf_row5_col0, #T_599bf_row5_col1, #T_599bf_row5_col2, #T_599bf_row5_col3, #T_599bf_row5_col4, #T_599bf_row5_col5, #T_599bf_row5_col6, #T_599bf_row5_col7, #T_599bf_row6_col0, #T_599bf_row6_col1, #T_599bf_row6_col2, #T_599bf_row6_col3, #T_599bf_row6_col4, #T_599bf_row6_col5, #T_599bf_row6_col6, #T_599bf_row6_col7, #T_599bf_row7_col0, #T_599bf_row7_col1, #T_599bf_row7_col2, #T_599bf_row7_col3, #T_599bf_row7_col4, #T_599bf_row7_col5, #T_599bf_row7_col6, #T_599bf_row7_col7, #T_599bf_row8_col0, #T_599bf_row8_col1, #T_599bf_row8_col2, #T_599bf_row8_col3, #T_599bf_row8_col4, #T_599bf_row8_col5, #T_599bf_row8_col6, #T_599bf_row8_col7, #T_599bf_row9_col0, #T_599bf_row9_col1, #T_599bf_row9_col2, #T_599bf_row9_col3, #T_599bf_row9_col4, #T_599bf_row9_col5, #T_599bf_row9_col6, #T_599bf_row9_col7, #T_599bf_row10_col0, #T_599bf_row10_col1, #T_599bf_row10_col2, #T_599bf_row10_col3, #T_599bf_row10_col4, #T_599bf_row10_col5, #T_599bf_row10_col6, #T_599bf_row10_col7, #T_599bf_row11_col0, #T_599bf_row11_col1, #T_599bf_row11_col2, #T_599bf_row11_col3, #T_599bf_row11_col4, #T_599bf_row11_col5, #T_599bf_row11_col6, #T_599bf_row11_col7, #T_599bf_row12_col0, #T_599bf_row12_col1, #T_599bf_row12_col2, #T_599bf_row12_col3, #T_599bf_row12_col4, #T_599bf_row12_col5, #T_599bf_row12_col6, #T_599bf_row12_col7 {\n",
       "  text-align: left;\n",
       "}\n",
       "#T_599bf_row0_col1, #T_599bf_row0_col2, #T_599bf_row0_col3, #T_599bf_row0_col4, #T_599bf_row0_col5, #T_599bf_row0_col6, #T_599bf_row0_col7 {\n",
       "  text-align: left;\n",
       "  background-color: yellow;\n",
       "}\n",
       "#T_599bf_row0_col8, #T_599bf_row1_col8, #T_599bf_row2_col8, #T_599bf_row3_col8, #T_599bf_row4_col8, #T_599bf_row5_col8, #T_599bf_row6_col8, #T_599bf_row7_col8, #T_599bf_row8_col8, #T_599bf_row9_col8, #T_599bf_row10_col8, #T_599bf_row12_col8 {\n",
       "  text-align: left;\n",
       "  background-color: lightgrey;\n",
       "}\n",
       "#T_599bf_row11_col8 {\n",
       "  text-align: left;\n",
       "  background-color: yellow;\n",
       "  background-color: lightgrey;\n",
       "}\n",
       "</style>\n",
       "<table id=\"T_599bf_\">\n",
       "  <thead>\n",
       "    <tr>\n",
       "      <th class=\"blank level0\" >&nbsp;</th>\n",
       "      <th class=\"col_heading level0 col0\" >Model</th>\n",
       "      <th class=\"col_heading level0 col1\" >Accuracy</th>\n",
       "      <th class=\"col_heading level0 col2\" >AUC</th>\n",
       "      <th class=\"col_heading level0 col3\" >Recall</th>\n",
       "      <th class=\"col_heading level0 col4\" >Prec.</th>\n",
       "      <th class=\"col_heading level0 col5\" >F1</th>\n",
       "      <th class=\"col_heading level0 col6\" >Kappa</th>\n",
       "      <th class=\"col_heading level0 col7\" >MCC</th>\n",
       "      <th class=\"col_heading level0 col8\" >TT (Sec)</th>\n",
       "    </tr>\n",
       "  </thead>\n",
       "  <tbody>\n",
       "    <tr>\n",
       "      <th id=\"T_599bf_level0_row0\" class=\"row_heading level0 row0\" >lightgbm</th>\n",
       "      <td id=\"T_599bf_row0_col0\" class=\"data row0 col0\" >Light Gradient Boosting Machine</td>\n",
       "      <td id=\"T_599bf_row0_col1\" class=\"data row0 col1\" >0.7550</td>\n",
       "      <td id=\"T_599bf_row0_col2\" class=\"data row0 col2\" >0.9404</td>\n",
       "      <td id=\"T_599bf_row0_col3\" class=\"data row0 col3\" >0.7544</td>\n",
       "      <td id=\"T_599bf_row0_col4\" class=\"data row0 col4\" >0.7584</td>\n",
       "      <td id=\"T_599bf_row0_col5\" class=\"data row0 col5\" >0.7544</td>\n",
       "      <td id=\"T_599bf_row0_col6\" class=\"data row0 col6\" >0.6935</td>\n",
       "      <td id=\"T_599bf_row0_col7\" class=\"data row0 col7\" >0.6945</td>\n",
       "      <td id=\"T_599bf_row0_col8\" class=\"data row0 col8\" >0.5400</td>\n",
       "    </tr>\n",
       "    <tr>\n",
       "      <th id=\"T_599bf_level0_row1\" class=\"row_heading level0 row1\" >et</th>\n",
       "      <td id=\"T_599bf_row1_col0\" class=\"data row1 col0\" >Extra Trees Classifier</td>\n",
       "      <td id=\"T_599bf_row1_col1\" class=\"data row1 col1\" >0.7522</td>\n",
       "      <td id=\"T_599bf_row1_col2\" class=\"data row1 col2\" >0.9381</td>\n",
       "      <td id=\"T_599bf_row1_col3\" class=\"data row1 col3\" >0.7522</td>\n",
       "      <td id=\"T_599bf_row1_col4\" class=\"data row1 col4\" >0.7544</td>\n",
       "      <td id=\"T_599bf_row1_col5\" class=\"data row1 col5\" >0.7510</td>\n",
       "      <td id=\"T_599bf_row1_col6\" class=\"data row1 col6\" >0.6901</td>\n",
       "      <td id=\"T_599bf_row1_col7\" class=\"data row1 col7\" >0.6911</td>\n",
       "      <td id=\"T_599bf_row1_col8\" class=\"data row1 col8\" >0.4690</td>\n",
       "    </tr>\n",
       "    <tr>\n",
       "      <th id=\"T_599bf_level0_row2\" class=\"row_heading level0 row2\" >rf</th>\n",
       "      <td id=\"T_599bf_row2_col0\" class=\"data row2 col0\" >Random Forest Classifier</td>\n",
       "      <td id=\"T_599bf_row2_col1\" class=\"data row2 col1\" >0.7440</td>\n",
       "      <td id=\"T_599bf_row2_col2\" class=\"data row2 col2\" >0.9394</td>\n",
       "      <td id=\"T_599bf_row2_col3\" class=\"data row2 col3\" >0.7441</td>\n",
       "      <td id=\"T_599bf_row2_col4\" class=\"data row2 col4\" >0.7463</td>\n",
       "      <td id=\"T_599bf_row2_col5\" class=\"data row2 col5\" >0.7428</td>\n",
       "      <td id=\"T_599bf_row2_col6\" class=\"data row2 col6\" >0.6799</td>\n",
       "      <td id=\"T_599bf_row2_col7\" class=\"data row2 col7\" >0.6810</td>\n",
       "      <td id=\"T_599bf_row2_col8\" class=\"data row2 col8\" >0.6030</td>\n",
       "    </tr>\n",
       "    <tr>\n",
       "      <th id=\"T_599bf_level0_row3\" class=\"row_heading level0 row3\" >gbc</th>\n",
       "      <td id=\"T_599bf_row3_col0\" class=\"data row3 col0\" >Gradient Boosting Classifier</td>\n",
       "      <td id=\"T_599bf_row3_col1\" class=\"data row3 col1\" >0.7393</td>\n",
       "      <td id=\"T_599bf_row3_col2\" class=\"data row3 col2\" >0.9360</td>\n",
       "      <td id=\"T_599bf_row3_col3\" class=\"data row3 col3\" >0.7391</td>\n",
       "      <td id=\"T_599bf_row3_col4\" class=\"data row3 col4\" >0.7423</td>\n",
       "      <td id=\"T_599bf_row3_col5\" class=\"data row3 col5\" >0.7382</td>\n",
       "      <td id=\"T_599bf_row3_col6\" class=\"data row3 col6\" >0.6739</td>\n",
       "      <td id=\"T_599bf_row3_col7\" class=\"data row3 col7\" >0.6751</td>\n",
       "      <td id=\"T_599bf_row3_col8\" class=\"data row3 col8\" >1.3990</td>\n",
       "    </tr>\n",
       "    <tr>\n",
       "      <th id=\"T_599bf_level0_row4\" class=\"row_heading level0 row4\" >knn</th>\n",
       "      <td id=\"T_599bf_row4_col0\" class=\"data row4 col0\" >K Neighbors Classifier</td>\n",
       "      <td id=\"T_599bf_row4_col1\" class=\"data row4 col1\" >0.7236</td>\n",
       "      <td id=\"T_599bf_row4_col2\" class=\"data row4 col2\" >0.9184</td>\n",
       "      <td id=\"T_599bf_row4_col3\" class=\"data row4 col3\" >0.7224</td>\n",
       "      <td id=\"T_599bf_row4_col4\" class=\"data row4 col4\" >0.7267</td>\n",
       "      <td id=\"T_599bf_row4_col5\" class=\"data row4 col5\" >0.7216</td>\n",
       "      <td id=\"T_599bf_row4_col6\" class=\"data row4 col6\" >0.6541</td>\n",
       "      <td id=\"T_599bf_row4_col7\" class=\"data row4 col7\" >0.6556</td>\n",
       "      <td id=\"T_599bf_row4_col8\" class=\"data row4 col8\" >0.1150</td>\n",
       "    </tr>\n",
       "    <tr>\n",
       "      <th id=\"T_599bf_level0_row5\" class=\"row_heading level0 row5\" >dt</th>\n",
       "      <td id=\"T_599bf_row5_col0\" class=\"data row5 col0\" >Decision Tree Classifier</td>\n",
       "      <td id=\"T_599bf_row5_col1\" class=\"data row5 col1\" >0.6535</td>\n",
       "      <td id=\"T_599bf_row5_col2\" class=\"data row5 col2\" >0.7833</td>\n",
       "      <td id=\"T_599bf_row5_col3\" class=\"data row5 col3\" >0.6532</td>\n",
       "      <td id=\"T_599bf_row5_col4\" class=\"data row5 col4\" >0.6537</td>\n",
       "      <td id=\"T_599bf_row5_col5\" class=\"data row5 col5\" >0.6513</td>\n",
       "      <td id=\"T_599bf_row5_col6\" class=\"data row5 col6\" >0.5666</td>\n",
       "      <td id=\"T_599bf_row5_col7\" class=\"data row5 col7\" >0.5675</td>\n",
       "      <td id=\"T_599bf_row5_col8\" class=\"data row5 col8\" >0.0280</td>\n",
       "    </tr>\n",
       "    <tr>\n",
       "      <th id=\"T_599bf_level0_row6\" class=\"row_heading level0 row6\" >qda</th>\n",
       "      <td id=\"T_599bf_row6_col0\" class=\"data row6 col0\" >Quadratic Discriminant Analysis</td>\n",
       "      <td id=\"T_599bf_row6_col1\" class=\"data row6 col1\" >0.6318</td>\n",
       "      <td id=\"T_599bf_row6_col2\" class=\"data row6 col2\" >0.8985</td>\n",
       "      <td id=\"T_599bf_row6_col3\" class=\"data row6 col3\" >0.6326</td>\n",
       "      <td id=\"T_599bf_row6_col4\" class=\"data row6 col4\" >0.6702</td>\n",
       "      <td id=\"T_599bf_row6_col5\" class=\"data row6 col5\" >0.6080</td>\n",
       "      <td id=\"T_599bf_row6_col6\" class=\"data row6 col6\" >0.5396</td>\n",
       "      <td id=\"T_599bf_row6_col7\" class=\"data row6 col7\" >0.5541</td>\n",
       "      <td id=\"T_599bf_row6_col8\" class=\"data row6 col8\" >0.0270</td>\n",
       "    </tr>\n",
       "    <tr>\n",
       "      <th id=\"T_599bf_level0_row7\" class=\"row_heading level0 row7\" >nb</th>\n",
       "      <td id=\"T_599bf_row7_col0\" class=\"data row7 col0\" >Naive Bayes</td>\n",
       "      <td id=\"T_599bf_row7_col1\" class=\"data row7 col1\" >0.5643</td>\n",
       "      <td id=\"T_599bf_row7_col2\" class=\"data row7 col2\" >0.8351</td>\n",
       "      <td id=\"T_599bf_row7_col3\" class=\"data row7 col3\" >0.5631</td>\n",
       "      <td id=\"T_599bf_row7_col4\" class=\"data row7 col4\" >0.5665</td>\n",
       "      <td id=\"T_599bf_row7_col5\" class=\"data row7 col5\" >0.5462</td>\n",
       "      <td id=\"T_599bf_row7_col6\" class=\"data row7 col6\" >0.4544</td>\n",
       "      <td id=\"T_599bf_row7_col7\" class=\"data row7 col7\" >0.4616</td>\n",
       "      <td id=\"T_599bf_row7_col8\" class=\"data row7 col8\" >0.0290</td>\n",
       "    </tr>\n",
       "    <tr>\n",
       "      <th id=\"T_599bf_level0_row8\" class=\"row_heading level0 row8\" >ada</th>\n",
       "      <td id=\"T_599bf_row8_col0\" class=\"data row8 col0\" >Ada Boost Classifier</td>\n",
       "      <td id=\"T_599bf_row8_col1\" class=\"data row8 col1\" >0.5596</td>\n",
       "      <td id=\"T_599bf_row8_col2\" class=\"data row8 col2\" >0.8026</td>\n",
       "      <td id=\"T_599bf_row8_col3\" class=\"data row8 col3\" >0.5603</td>\n",
       "      <td id=\"T_599bf_row8_col4\" class=\"data row8 col4\" >0.5542</td>\n",
       "      <td id=\"T_599bf_row8_col5\" class=\"data row8 col5\" >0.5458</td>\n",
       "      <td id=\"T_599bf_row8_col6\" class=\"data row8 col6\" >0.4491</td>\n",
       "      <td id=\"T_599bf_row8_col7\" class=\"data row8 col7\" >0.4536</td>\n",
       "      <td id=\"T_599bf_row8_col8\" class=\"data row8 col8\" >0.2230</td>\n",
       "    </tr>\n",
       "    <tr>\n",
       "      <th id=\"T_599bf_level0_row9\" class=\"row_heading level0 row9\" >lda</th>\n",
       "      <td id=\"T_599bf_row9_col0\" class=\"data row9 col0\" >Linear Discriminant Analysis</td>\n",
       "      <td id=\"T_599bf_row9_col1\" class=\"data row9 col1\" >0.5058</td>\n",
       "      <td id=\"T_599bf_row9_col2\" class=\"data row9 col2\" >0.7856</td>\n",
       "      <td id=\"T_599bf_row9_col3\" class=\"data row9 col3\" >0.5071</td>\n",
       "      <td id=\"T_599bf_row9_col4\" class=\"data row9 col4\" >0.4823</td>\n",
       "      <td id=\"T_599bf_row9_col5\" class=\"data row9 col5\" >0.4770</td>\n",
       "      <td id=\"T_599bf_row9_col6\" class=\"data row9 col6\" >0.3820</td>\n",
       "      <td id=\"T_599bf_row9_col7\" class=\"data row9 col7\" >0.3891</td>\n",
       "      <td id=\"T_599bf_row9_col8\" class=\"data row9 col8\" >0.0280</td>\n",
       "    </tr>\n",
       "    <tr>\n",
       "      <th id=\"T_599bf_level0_row10\" class=\"row_heading level0 row10\" >lr</th>\n",
       "      <td id=\"T_599bf_row10_col0\" class=\"data row10 col0\" >Logistic Regression</td>\n",
       "      <td id=\"T_599bf_row10_col1\" class=\"data row10 col1\" >0.4962</td>\n",
       "      <td id=\"T_599bf_row10_col2\" class=\"data row10 col2\" >0.7864</td>\n",
       "      <td id=\"T_599bf_row10_col3\" class=\"data row10 col3\" >0.4979</td>\n",
       "      <td id=\"T_599bf_row10_col4\" class=\"data row10 col4\" >0.4784</td>\n",
       "      <td id=\"T_599bf_row10_col5\" class=\"data row10 col5\" >0.4673</td>\n",
       "      <td id=\"T_599bf_row10_col6\" class=\"data row10 col6\" >0.3701</td>\n",
       "      <td id=\"T_599bf_row10_col7\" class=\"data row10 col7\" >0.3776</td>\n",
       "      <td id=\"T_599bf_row10_col8\" class=\"data row10 col8\" >0.0980</td>\n",
       "    </tr>\n",
       "    <tr>\n",
       "      <th id=\"T_599bf_level0_row11\" class=\"row_heading level0 row11\" >ridge</th>\n",
       "      <td id=\"T_599bf_row11_col0\" class=\"data row11 col0\" >Ridge Classifier</td>\n",
       "      <td id=\"T_599bf_row11_col1\" class=\"data row11 col1\" >0.4874</td>\n",
       "      <td id=\"T_599bf_row11_col2\" class=\"data row11 col2\" >0.0000</td>\n",
       "      <td id=\"T_599bf_row11_col3\" class=\"data row11 col3\" >0.4904</td>\n",
       "      <td id=\"T_599bf_row11_col4\" class=\"data row11 col4\" >0.4350</td>\n",
       "      <td id=\"T_599bf_row11_col5\" class=\"data row11 col5\" >0.4127</td>\n",
       "      <td id=\"T_599bf_row11_col6\" class=\"data row11 col6\" >0.3595</td>\n",
       "      <td id=\"T_599bf_row11_col7\" class=\"data row11 col7\" >0.3809</td>\n",
       "      <td id=\"T_599bf_row11_col8\" class=\"data row11 col8\" >0.0260</td>\n",
       "    </tr>\n",
       "    <tr>\n",
       "      <th id=\"T_599bf_level0_row12\" class=\"row_heading level0 row12\" >svm</th>\n",
       "      <td id=\"T_599bf_row12_col0\" class=\"data row12 col0\" >SVM - Linear Kernel</td>\n",
       "      <td id=\"T_599bf_row12_col1\" class=\"data row12 col1\" >0.4479</td>\n",
       "      <td id=\"T_599bf_row12_col2\" class=\"data row12 col2\" >0.0000</td>\n",
       "      <td id=\"T_599bf_row12_col3\" class=\"data row12 col3\" >0.4517</td>\n",
       "      <td id=\"T_599bf_row12_col4\" class=\"data row12 col4\" >0.3887</td>\n",
       "      <td id=\"T_599bf_row12_col5\" class=\"data row12 col5\" >0.3866</td>\n",
       "      <td id=\"T_599bf_row12_col6\" class=\"data row12 col6\" >0.3105</td>\n",
       "      <td id=\"T_599bf_row12_col7\" class=\"data row12 col7\" >0.3336</td>\n",
       "      <td id=\"T_599bf_row12_col8\" class=\"data row12 col8\" >0.0800</td>\n",
       "    </tr>\n",
       "  </tbody>\n",
       "</table>\n"
      ],
      "text/plain": [
       "<pandas.io.formats.style.Styler at 0x1d37c4f7b48>"
      ]
     },
     "metadata": {},
     "output_type": "display_data"
    }
   ],
   "source": [
    "setup(space_X_train_min_max_scaled,\n",
    "          target='target', \n",
    "    )\n",
    "best_model=compare_models()"
   ]
  },
  {
   "cell_type": "code",
   "execution_count": 34,
   "id": "26c1ed84",
   "metadata": {},
   "outputs": [
    {
     "name": "stdout",
     "output_type": "stream",
     "text": [
      "LGBMClassifier(boosting_type='gbdt', class_weight=None, colsample_bytree=1.0,\n",
      "               importance_type='split', learning_rate=0.1, max_depth=-1,\n",
      "               min_child_samples=20, min_child_weight=0.001, min_split_gain=0.0,\n",
      "               n_estimators=100, n_jobs=-1, num_leaves=31, objective=None,\n",
      "               random_state=4396, reg_alpha=0.0, reg_lambda=0.0, silent='warn',\n",
      "               subsample=1.0, subsample_for_bin=200000, subsample_freq=0)\n"
     ]
    }
   ],
   "source": [
    "print(best_model)"
   ]
  },
  {
   "cell_type": "code",
   "execution_count": 35,
   "id": "9105ca1f",
   "metadata": {},
   "outputs": [
    {
     "data": {
      "text/html": [
       "<style type=\"text/css\">\n",
       "#T_08db0_ th {\n",
       "  text-align: left;\n",
       "}\n",
       "#T_08db0_row0_col0, #T_08db0_row0_col2, #T_08db0_row1_col0, #T_08db0_row1_col1, #T_08db0_row1_col3, #T_08db0_row1_col4, #T_08db0_row1_col5, #T_08db0_row1_col6, #T_08db0_row1_col7, #T_08db0_row2_col0, #T_08db0_row2_col1, #T_08db0_row2_col2, #T_08db0_row2_col3, #T_08db0_row2_col4, #T_08db0_row2_col5, #T_08db0_row2_col6, #T_08db0_row2_col7, #T_08db0_row3_col0, #T_08db0_row3_col1, #T_08db0_row3_col2, #T_08db0_row3_col3, #T_08db0_row3_col4, #T_08db0_row3_col5, #T_08db0_row3_col6, #T_08db0_row3_col7, #T_08db0_row4_col0, #T_08db0_row4_col1, #T_08db0_row4_col2, #T_08db0_row4_col3, #T_08db0_row4_col4, #T_08db0_row4_col5, #T_08db0_row4_col6, #T_08db0_row4_col7, #T_08db0_row5_col0, #T_08db0_row5_col1, #T_08db0_row5_col2, #T_08db0_row5_col3, #T_08db0_row5_col4, #T_08db0_row5_col5, #T_08db0_row5_col6, #T_08db0_row5_col7, #T_08db0_row6_col0, #T_08db0_row6_col1, #T_08db0_row6_col2, #T_08db0_row6_col3, #T_08db0_row6_col4, #T_08db0_row6_col5, #T_08db0_row6_col6, #T_08db0_row6_col7, #T_08db0_row7_col0, #T_08db0_row7_col1, #T_08db0_row7_col2, #T_08db0_row7_col3, #T_08db0_row7_col4, #T_08db0_row7_col5, #T_08db0_row7_col6, #T_08db0_row7_col7, #T_08db0_row8_col0, #T_08db0_row8_col1, #T_08db0_row8_col2, #T_08db0_row8_col3, #T_08db0_row8_col4, #T_08db0_row8_col5, #T_08db0_row8_col6, #T_08db0_row8_col7, #T_08db0_row9_col0, #T_08db0_row9_col1, #T_08db0_row9_col2, #T_08db0_row9_col3, #T_08db0_row9_col4, #T_08db0_row9_col5, #T_08db0_row9_col6, #T_08db0_row9_col7, #T_08db0_row10_col0, #T_08db0_row10_col1, #T_08db0_row10_col2, #T_08db0_row10_col3, #T_08db0_row10_col4, #T_08db0_row10_col5, #T_08db0_row10_col6, #T_08db0_row10_col7, #T_08db0_row11_col0, #T_08db0_row11_col1, #T_08db0_row11_col2, #T_08db0_row11_col3, #T_08db0_row11_col4, #T_08db0_row11_col5, #T_08db0_row11_col6, #T_08db0_row11_col7, #T_08db0_row12_col0, #T_08db0_row12_col1, #T_08db0_row12_col2, #T_08db0_row12_col3, #T_08db0_row12_col4, #T_08db0_row12_col5, #T_08db0_row12_col6, #T_08db0_row12_col7 {\n",
       "  text-align: left;\n",
       "}\n",
       "#T_08db0_row0_col1, #T_08db0_row0_col3, #T_08db0_row0_col4, #T_08db0_row0_col5, #T_08db0_row0_col6, #T_08db0_row0_col7, #T_08db0_row1_col2 {\n",
       "  text-align: left;\n",
       "  background-color: yellow;\n",
       "}\n",
       "#T_08db0_row0_col8, #T_08db0_row1_col8, #T_08db0_row2_col8, #T_08db0_row3_col8, #T_08db0_row4_col8, #T_08db0_row5_col8, #T_08db0_row6_col8, #T_08db0_row9_col8, #T_08db0_row10_col8, #T_08db0_row11_col8, #T_08db0_row12_col8 {\n",
       "  text-align: left;\n",
       "  background-color: lightgrey;\n",
       "}\n",
       "#T_08db0_row7_col8, #T_08db0_row8_col8 {\n",
       "  text-align: left;\n",
       "  background-color: yellow;\n",
       "  background-color: lightgrey;\n",
       "}\n",
       "</style>\n",
       "<table id=\"T_08db0_\">\n",
       "  <thead>\n",
       "    <tr>\n",
       "      <th class=\"blank level0\" >&nbsp;</th>\n",
       "      <th class=\"col_heading level0 col0\" >Model</th>\n",
       "      <th class=\"col_heading level0 col1\" >Accuracy</th>\n",
       "      <th class=\"col_heading level0 col2\" >AUC</th>\n",
       "      <th class=\"col_heading level0 col3\" >Recall</th>\n",
       "      <th class=\"col_heading level0 col4\" >Prec.</th>\n",
       "      <th class=\"col_heading level0 col5\" >F1</th>\n",
       "      <th class=\"col_heading level0 col6\" >Kappa</th>\n",
       "      <th class=\"col_heading level0 col7\" >MCC</th>\n",
       "      <th class=\"col_heading level0 col8\" >TT (Sec)</th>\n",
       "    </tr>\n",
       "  </thead>\n",
       "  <tbody>\n",
       "    <tr>\n",
       "      <th id=\"T_08db0_level0_row0\" class=\"row_heading level0 row0\" >et</th>\n",
       "      <td id=\"T_08db0_row0_col0\" class=\"data row0 col0\" >Extra Trees Classifier</td>\n",
       "      <td id=\"T_08db0_row0_col1\" class=\"data row0 col1\" >0.7550</td>\n",
       "      <td id=\"T_08db0_row0_col2\" class=\"data row0 col2\" >0.9407</td>\n",
       "      <td id=\"T_08db0_row0_col3\" class=\"data row0 col3\" >0.7549</td>\n",
       "      <td id=\"T_08db0_row0_col4\" class=\"data row0 col4\" >0.7573</td>\n",
       "      <td id=\"T_08db0_row0_col5\" class=\"data row0 col5\" >0.7539</td>\n",
       "      <td id=\"T_08db0_row0_col6\" class=\"data row0 col6\" >0.6936</td>\n",
       "      <td id=\"T_08db0_row0_col7\" class=\"data row0 col7\" >0.6946</td>\n",
       "      <td id=\"T_08db0_row0_col8\" class=\"data row0 col8\" >0.5200</td>\n",
       "    </tr>\n",
       "    <tr>\n",
       "      <th id=\"T_08db0_level0_row1\" class=\"row_heading level0 row1\" >rf</th>\n",
       "      <td id=\"T_08db0_row1_col0\" class=\"data row1 col0\" >Random Forest Classifier</td>\n",
       "      <td id=\"T_08db0_row1_col1\" class=\"data row1 col1\" >0.7502</td>\n",
       "      <td id=\"T_08db0_row1_col2\" class=\"data row1 col2\" >0.9420</td>\n",
       "      <td id=\"T_08db0_row1_col3\" class=\"data row1 col3\" >0.7501</td>\n",
       "      <td id=\"T_08db0_row1_col4\" class=\"data row1 col4\" >0.7520</td>\n",
       "      <td id=\"T_08db0_row1_col5\" class=\"data row1 col5\" >0.7488</td>\n",
       "      <td id=\"T_08db0_row1_col6\" class=\"data row1 col6\" >0.6876</td>\n",
       "      <td id=\"T_08db0_row1_col7\" class=\"data row1 col7\" >0.6886</td>\n",
       "      <td id=\"T_08db0_row1_col8\" class=\"data row1 col8\" >0.5910</td>\n",
       "    </tr>\n",
       "    <tr>\n",
       "      <th id=\"T_08db0_level0_row2\" class=\"row_heading level0 row2\" >lightgbm</th>\n",
       "      <td id=\"T_08db0_row2_col0\" class=\"data row2 col0\" >Light Gradient Boosting Machine</td>\n",
       "      <td id=\"T_08db0_row2_col1\" class=\"data row2 col1\" >0.7474</td>\n",
       "      <td id=\"T_08db0_row2_col2\" class=\"data row2 col2\" >0.9350</td>\n",
       "      <td id=\"T_08db0_row2_col3\" class=\"data row2 col3\" >0.7472</td>\n",
       "      <td id=\"T_08db0_row2_col4\" class=\"data row2 col4\" >0.7493</td>\n",
       "      <td id=\"T_08db0_row2_col5\" class=\"data row2 col5\" >0.7462</td>\n",
       "      <td id=\"T_08db0_row2_col6\" class=\"data row2 col6\" >0.6842</td>\n",
       "      <td id=\"T_08db0_row2_col7\" class=\"data row2 col7\" >0.6852</td>\n",
       "      <td id=\"T_08db0_row2_col8\" class=\"data row2 col8\" >0.4850</td>\n",
       "    </tr>\n",
       "    <tr>\n",
       "      <th id=\"T_08db0_level0_row3\" class=\"row_heading level0 row3\" >knn</th>\n",
       "      <td id=\"T_08db0_row3_col0\" class=\"data row3 col0\" >K Neighbors Classifier</td>\n",
       "      <td id=\"T_08db0_row3_col1\" class=\"data row3 col1\" >0.7325</td>\n",
       "      <td id=\"T_08db0_row3_col2\" class=\"data row3 col2\" >0.9219</td>\n",
       "      <td id=\"T_08db0_row3_col3\" class=\"data row3 col3\" >0.7318</td>\n",
       "      <td id=\"T_08db0_row3_col4\" class=\"data row3 col4\" >0.7380</td>\n",
       "      <td id=\"T_08db0_row3_col5\" class=\"data row3 col5\" >0.7303</td>\n",
       "      <td id=\"T_08db0_row3_col6\" class=\"data row3 col6\" >0.6654</td>\n",
       "      <td id=\"T_08db0_row3_col7\" class=\"data row3 col7\" >0.6674</td>\n",
       "      <td id=\"T_08db0_row3_col8\" class=\"data row3 col8\" >0.1360</td>\n",
       "    </tr>\n",
       "    <tr>\n",
       "      <th id=\"T_08db0_level0_row4\" class=\"row_heading level0 row4\" >gbc</th>\n",
       "      <td id=\"T_08db0_row4_col0\" class=\"data row4 col0\" >Gradient Boosting Classifier</td>\n",
       "      <td id=\"T_08db0_row4_col1\" class=\"data row4 col1\" >0.7223</td>\n",
       "      <td id=\"T_08db0_row4_col2\" class=\"data row4 col2\" >0.9306</td>\n",
       "      <td id=\"T_08db0_row4_col3\" class=\"data row4 col3\" >0.7227</td>\n",
       "      <td id=\"T_08db0_row4_col4\" class=\"data row4 col4\" >0.7225</td>\n",
       "      <td id=\"T_08db0_row4_col5\" class=\"data row4 col5\" >0.7193</td>\n",
       "      <td id=\"T_08db0_row4_col6\" class=\"data row4 col6\" >0.6528</td>\n",
       "      <td id=\"T_08db0_row4_col7\" class=\"data row4 col7\" >0.6542</td>\n",
       "      <td id=\"T_08db0_row4_col8\" class=\"data row4 col8\" >1.4000</td>\n",
       "    </tr>\n",
       "    <tr>\n",
       "      <th id=\"T_08db0_level0_row5\" class=\"row_heading level0 row5\" >dt</th>\n",
       "      <td id=\"T_08db0_row5_col0\" class=\"data row5 col0\" >Decision Tree Classifier</td>\n",
       "      <td id=\"T_08db0_row5_col1\" class=\"data row5 col1\" >0.6616</td>\n",
       "      <td id=\"T_08db0_row5_col2\" class=\"data row5 col2\" >0.7884</td>\n",
       "      <td id=\"T_08db0_row5_col3\" class=\"data row5 col3\" >0.6618</td>\n",
       "      <td id=\"T_08db0_row5_col4\" class=\"data row5 col4\" >0.6635</td>\n",
       "      <td id=\"T_08db0_row5_col5\" class=\"data row5 col5\" >0.6599</td>\n",
       "      <td id=\"T_08db0_row5_col6\" class=\"data row5 col6\" >0.5769</td>\n",
       "      <td id=\"T_08db0_row5_col7\" class=\"data row5 col7\" >0.5781</td>\n",
       "      <td id=\"T_08db0_row5_col8\" class=\"data row5 col8\" >0.0270</td>\n",
       "    </tr>\n",
       "    <tr>\n",
       "      <th id=\"T_08db0_level0_row6\" class=\"row_heading level0 row6\" >ada</th>\n",
       "      <td id=\"T_08db0_row6_col0\" class=\"data row6 col0\" >Ada Boost Classifier</td>\n",
       "      <td id=\"T_08db0_row6_col1\" class=\"data row6 col1\" >0.5630</td>\n",
       "      <td id=\"T_08db0_row6_col2\" class=\"data row6 col2\" >0.8151</td>\n",
       "      <td id=\"T_08db0_row6_col3\" class=\"data row6 col3\" >0.5657</td>\n",
       "      <td id=\"T_08db0_row6_col4\" class=\"data row6 col4\" >0.5541</td>\n",
       "      <td id=\"T_08db0_row6_col5\" class=\"data row6 col5\" >0.5473</td>\n",
       "      <td id=\"T_08db0_row6_col6\" class=\"data row6 col6\" >0.4540</td>\n",
       "      <td id=\"T_08db0_row6_col7\" class=\"data row6 col7\" >0.4587</td>\n",
       "      <td id=\"T_08db0_row6_col8\" class=\"data row6 col8\" >0.2050</td>\n",
       "    </tr>\n",
       "    <tr>\n",
       "      <th id=\"T_08db0_level0_row7\" class=\"row_heading level0 row7\" >qda</th>\n",
       "      <td id=\"T_08db0_row7_col0\" class=\"data row7 col0\" >Quadratic Discriminant Analysis</td>\n",
       "      <td id=\"T_08db0_row7_col1\" class=\"data row7 col1\" >0.5534</td>\n",
       "      <td id=\"T_08db0_row7_col2\" class=\"data row7 col2\" >0.8527</td>\n",
       "      <td id=\"T_08db0_row7_col3\" class=\"data row7 col3\" >0.5513</td>\n",
       "      <td id=\"T_08db0_row7_col4\" class=\"data row7 col4\" >0.5719</td>\n",
       "      <td id=\"T_08db0_row7_col5\" class=\"data row7 col5\" >0.5395</td>\n",
       "      <td id=\"T_08db0_row7_col6\" class=\"data row7 col6\" >0.4411</td>\n",
       "      <td id=\"T_08db0_row7_col7\" class=\"data row7 col7\" >0.4505</td>\n",
       "      <td id=\"T_08db0_row7_col8\" class=\"data row7 col8\" >0.0240</td>\n",
       "    </tr>\n",
       "    <tr>\n",
       "      <th id=\"T_08db0_level0_row8\" class=\"row_heading level0 row8\" >nb</th>\n",
       "      <td id=\"T_08db0_row8_col0\" class=\"data row8 col0\" >Naive Bayes</td>\n",
       "      <td id=\"T_08db0_row8_col1\" class=\"data row8 col1\" >0.5507</td>\n",
       "      <td id=\"T_08db0_row8_col2\" class=\"data row8 col2\" >0.8348</td>\n",
       "      <td id=\"T_08db0_row8_col3\" class=\"data row8 col3\" >0.5502</td>\n",
       "      <td id=\"T_08db0_row8_col4\" class=\"data row8 col4\" >0.5524</td>\n",
       "      <td id=\"T_08db0_row8_col5\" class=\"data row8 col5\" >0.5362</td>\n",
       "      <td id=\"T_08db0_row8_col6\" class=\"data row8 col6\" >0.4378</td>\n",
       "      <td id=\"T_08db0_row8_col7\" class=\"data row8 col7\" >0.4434</td>\n",
       "      <td id=\"T_08db0_row8_col8\" class=\"data row8 col8\" >0.0240</td>\n",
       "    </tr>\n",
       "    <tr>\n",
       "      <th id=\"T_08db0_level0_row9\" class=\"row_heading level0 row9\" >lr</th>\n",
       "      <td id=\"T_08db0_row9_col0\" class=\"data row9 col0\" >Logistic Regression</td>\n",
       "      <td id=\"T_08db0_row9_col1\" class=\"data row9 col1\" >0.5221</td>\n",
       "      <td id=\"T_08db0_row9_col2\" class=\"data row9 col2\" >0.7870</td>\n",
       "      <td id=\"T_08db0_row9_col3\" class=\"data row9 col3\" >0.5231</td>\n",
       "      <td id=\"T_08db0_row9_col4\" class=\"data row9 col4\" >0.4918</td>\n",
       "      <td id=\"T_08db0_row9_col5\" class=\"data row9 col5\" >0.4884</td>\n",
       "      <td id=\"T_08db0_row9_col6\" class=\"data row9 col6\" >0.4024</td>\n",
       "      <td id=\"T_08db0_row9_col7\" class=\"data row9 col7\" >0.4099</td>\n",
       "      <td id=\"T_08db0_row9_col8\" class=\"data row9 col8\" >0.0510</td>\n",
       "    </tr>\n",
       "    <tr>\n",
       "      <th id=\"T_08db0_level0_row10\" class=\"row_heading level0 row10\" >lda</th>\n",
       "      <td id=\"T_08db0_row10_col0\" class=\"data row10 col0\" >Linear Discriminant Analysis</td>\n",
       "      <td id=\"T_08db0_row10_col1\" class=\"data row10 col1\" >0.5099</td>\n",
       "      <td id=\"T_08db0_row10_col2\" class=\"data row10 col2\" >0.7836</td>\n",
       "      <td id=\"T_08db0_row10_col3\" class=\"data row10 col3\" >0.5108</td>\n",
       "      <td id=\"T_08db0_row10_col4\" class=\"data row10 col4\" >0.4717</td>\n",
       "      <td id=\"T_08db0_row10_col5\" class=\"data row10 col5\" >0.4749</td>\n",
       "      <td id=\"T_08db0_row10_col6\" class=\"data row10 col6\" >0.3871</td>\n",
       "      <td id=\"T_08db0_row10_col7\" class=\"data row10 col7\" >0.3946</td>\n",
       "      <td id=\"T_08db0_row10_col8\" class=\"data row10 col8\" >0.0300</td>\n",
       "    </tr>\n",
       "    <tr>\n",
       "      <th id=\"T_08db0_level0_row11\" class=\"row_heading level0 row11\" >ridge</th>\n",
       "      <td id=\"T_08db0_row11_col0\" class=\"data row11 col0\" >Ridge Classifier</td>\n",
       "      <td id=\"T_08db0_row11_col1\" class=\"data row11 col1\" >0.4929</td>\n",
       "      <td id=\"T_08db0_row11_col2\" class=\"data row11 col2\" >0.0000</td>\n",
       "      <td id=\"T_08db0_row11_col3\" class=\"data row11 col3\" >0.4956</td>\n",
       "      <td id=\"T_08db0_row11_col4\" class=\"data row11 col4\" >0.4139</td>\n",
       "      <td id=\"T_08db0_row11_col5\" class=\"data row11 col5\" >0.4107</td>\n",
       "      <td id=\"T_08db0_row11_col6\" class=\"data row11 col6\" >0.3664</td>\n",
       "      <td id=\"T_08db0_row11_col7\" class=\"data row11 col7\" >0.3890</td>\n",
       "      <td id=\"T_08db0_row11_col8\" class=\"data row11 col8\" >0.0250</td>\n",
       "    </tr>\n",
       "    <tr>\n",
       "      <th id=\"T_08db0_level0_row12\" class=\"row_heading level0 row12\" >svm</th>\n",
       "      <td id=\"T_08db0_row12_col0\" class=\"data row12 col0\" >SVM - Linear Kernel</td>\n",
       "      <td id=\"T_08db0_row12_col1\" class=\"data row12 col1\" >0.4493</td>\n",
       "      <td id=\"T_08db0_row12_col2\" class=\"data row12 col2\" >0.0000</td>\n",
       "      <td id=\"T_08db0_row12_col3\" class=\"data row12 col3\" >0.4515</td>\n",
       "      <td id=\"T_08db0_row12_col4\" class=\"data row12 col4\" >0.4265</td>\n",
       "      <td id=\"T_08db0_row12_col5\" class=\"data row12 col5\" >0.4201</td>\n",
       "      <td id=\"T_08db0_row12_col6\" class=\"data row12 col6\" >0.3118</td>\n",
       "      <td id=\"T_08db0_row12_col7\" class=\"data row12 col7\" >0.3197</td>\n",
       "      <td id=\"T_08db0_row12_col8\" class=\"data row12 col8\" >0.1660</td>\n",
       "    </tr>\n",
       "  </tbody>\n",
       "</table>\n"
      ],
      "text/plain": [
       "<pandas.io.formats.style.Styler at 0x1d371b6a648>"
      ]
     },
     "metadata": {},
     "output_type": "display_data"
    }
   ],
   "source": [
    "setup(space_X_train_standard,\n",
    "          target='target'\n",
    "    )\n",
    "best_model=compare_models()"
   ]
  },
  {
   "cell_type": "code",
   "execution_count": 36,
   "id": "3ba4e09c",
   "metadata": {},
   "outputs": [
    {
     "name": "stdout",
     "output_type": "stream",
     "text": [
      "ExtraTreesClassifier(bootstrap=False, ccp_alpha=0.0, class_weight=None,\n",
      "                     criterion='gini', max_depth=None, max_features='auto',\n",
      "                     max_leaf_nodes=None, max_samples=None,\n",
      "                     min_impurity_decrease=0.0, min_impurity_split=None,\n",
      "                     min_samples_leaf=1, min_samples_split=2,\n",
      "                     min_weight_fraction_leaf=0.0, n_estimators=100, n_jobs=-1,\n",
      "                     oob_score=False, random_state=1623, verbose=0,\n",
      "                     warm_start=False)\n"
     ]
    }
   ],
   "source": [
    "print(best_model)"
   ]
  },
  {
   "cell_type": "code",
   "execution_count": 37,
   "id": "a930cc49",
   "metadata": {},
   "outputs": [
    {
     "data": {
      "text/html": [
       "<style type=\"text/css\">\n",
       "#T_4b3b0_ th {\n",
       "  text-align: left;\n",
       "}\n",
       "#T_4b3b0_row0_col0, #T_4b3b0_row1_col0, #T_4b3b0_row1_col1, #T_4b3b0_row1_col2, #T_4b3b0_row1_col3, #T_4b3b0_row1_col4, #T_4b3b0_row1_col5, #T_4b3b0_row1_col6, #T_4b3b0_row1_col7, #T_4b3b0_row2_col0, #T_4b3b0_row2_col1, #T_4b3b0_row2_col2, #T_4b3b0_row2_col3, #T_4b3b0_row2_col4, #T_4b3b0_row2_col5, #T_4b3b0_row2_col6, #T_4b3b0_row2_col7, #T_4b3b0_row3_col0, #T_4b3b0_row3_col1, #T_4b3b0_row3_col2, #T_4b3b0_row3_col3, #T_4b3b0_row3_col4, #T_4b3b0_row3_col5, #T_4b3b0_row3_col6, #T_4b3b0_row3_col7, #T_4b3b0_row4_col0, #T_4b3b0_row4_col1, #T_4b3b0_row4_col2, #T_4b3b0_row4_col3, #T_4b3b0_row4_col4, #T_4b3b0_row4_col5, #T_4b3b0_row4_col6, #T_4b3b0_row4_col7, #T_4b3b0_row5_col0, #T_4b3b0_row5_col1, #T_4b3b0_row5_col2, #T_4b3b0_row5_col3, #T_4b3b0_row5_col4, #T_4b3b0_row5_col5, #T_4b3b0_row5_col6, #T_4b3b0_row5_col7, #T_4b3b0_row6_col0, #T_4b3b0_row6_col1, #T_4b3b0_row6_col2, #T_4b3b0_row6_col3, #T_4b3b0_row6_col4, #T_4b3b0_row6_col5, #T_4b3b0_row6_col6, #T_4b3b0_row6_col7, #T_4b3b0_row7_col0, #T_4b3b0_row7_col1, #T_4b3b0_row7_col2, #T_4b3b0_row7_col3, #T_4b3b0_row7_col4, #T_4b3b0_row7_col5, #T_4b3b0_row7_col6, #T_4b3b0_row7_col7, #T_4b3b0_row8_col0, #T_4b3b0_row8_col1, #T_4b3b0_row8_col2, #T_4b3b0_row8_col3, #T_4b3b0_row8_col4, #T_4b3b0_row8_col5, #T_4b3b0_row8_col6, #T_4b3b0_row8_col7, #T_4b3b0_row9_col0, #T_4b3b0_row9_col1, #T_4b3b0_row9_col2, #T_4b3b0_row9_col3, #T_4b3b0_row9_col4, #T_4b3b0_row9_col5, #T_4b3b0_row9_col6, #T_4b3b0_row9_col7, #T_4b3b0_row10_col0, #T_4b3b0_row10_col1, #T_4b3b0_row10_col2, #T_4b3b0_row10_col3, #T_4b3b0_row10_col4, #T_4b3b0_row10_col5, #T_4b3b0_row10_col6, #T_4b3b0_row10_col7, #T_4b3b0_row11_col0, #T_4b3b0_row11_col1, #T_4b3b0_row11_col2, #T_4b3b0_row11_col3, #T_4b3b0_row11_col4, #T_4b3b0_row11_col5, #T_4b3b0_row11_col6, #T_4b3b0_row11_col7, #T_4b3b0_row12_col0, #T_4b3b0_row12_col1, #T_4b3b0_row12_col2, #T_4b3b0_row12_col3, #T_4b3b0_row12_col4, #T_4b3b0_row12_col5, #T_4b3b0_row12_col6, #T_4b3b0_row12_col7 {\n",
       "  text-align: left;\n",
       "}\n",
       "#T_4b3b0_row0_col1, #T_4b3b0_row0_col2, #T_4b3b0_row0_col3, #T_4b3b0_row0_col4, #T_4b3b0_row0_col5, #T_4b3b0_row0_col6, #T_4b3b0_row0_col7 {\n",
       "  text-align: left;\n",
       "  background-color: yellow;\n",
       "}\n",
       "#T_4b3b0_row0_col8, #T_4b3b0_row1_col8, #T_4b3b0_row2_col8, #T_4b3b0_row3_col8, #T_4b3b0_row4_col8, #T_4b3b0_row5_col8, #T_4b3b0_row6_col8, #T_4b3b0_row7_col8, #T_4b3b0_row9_col8, #T_4b3b0_row10_col8, #T_4b3b0_row11_col8, #T_4b3b0_row12_col8 {\n",
       "  text-align: left;\n",
       "  background-color: lightgrey;\n",
       "}\n",
       "#T_4b3b0_row8_col8 {\n",
       "  text-align: left;\n",
       "  background-color: yellow;\n",
       "  background-color: lightgrey;\n",
       "}\n",
       "</style>\n",
       "<table id=\"T_4b3b0_\">\n",
       "  <thead>\n",
       "    <tr>\n",
       "      <th class=\"blank level0\" >&nbsp;</th>\n",
       "      <th class=\"col_heading level0 col0\" >Model</th>\n",
       "      <th class=\"col_heading level0 col1\" >Accuracy</th>\n",
       "      <th class=\"col_heading level0 col2\" >AUC</th>\n",
       "      <th class=\"col_heading level0 col3\" >Recall</th>\n",
       "      <th class=\"col_heading level0 col4\" >Prec.</th>\n",
       "      <th class=\"col_heading level0 col5\" >F1</th>\n",
       "      <th class=\"col_heading level0 col6\" >Kappa</th>\n",
       "      <th class=\"col_heading level0 col7\" >MCC</th>\n",
       "      <th class=\"col_heading level0 col8\" >TT (Sec)</th>\n",
       "    </tr>\n",
       "  </thead>\n",
       "  <tbody>\n",
       "    <tr>\n",
       "      <th id=\"T_4b3b0_level0_row0\" class=\"row_heading level0 row0\" >rf</th>\n",
       "      <td id=\"T_4b3b0_row0_col0\" class=\"data row0 col0\" >Random Forest Classifier</td>\n",
       "      <td id=\"T_4b3b0_row0_col1\" class=\"data row0 col1\" >0.7611</td>\n",
       "      <td id=\"T_4b3b0_row0_col2\" class=\"data row0 col2\" >0.9482</td>\n",
       "      <td id=\"T_4b3b0_row0_col3\" class=\"data row0 col3\" >0.7601</td>\n",
       "      <td id=\"T_4b3b0_row0_col4\" class=\"data row0 col4\" >0.7661</td>\n",
       "      <td id=\"T_4b3b0_row0_col5\" class=\"data row0 col5\" >0.7607</td>\n",
       "      <td id=\"T_4b3b0_row0_col6\" class=\"data row0 col6\" >0.7012</td>\n",
       "      <td id=\"T_4b3b0_row0_col7\" class=\"data row0 col7\" >0.7024</td>\n",
       "      <td id=\"T_4b3b0_row0_col8\" class=\"data row0 col8\" >0.6610</td>\n",
       "    </tr>\n",
       "    <tr>\n",
       "      <th id=\"T_4b3b0_level0_row1\" class=\"row_heading level0 row1\" >et</th>\n",
       "      <td id=\"T_4b3b0_row1_col0\" class=\"data row1 col0\" >Extra Trees Classifier</td>\n",
       "      <td id=\"T_4b3b0_row1_col1\" class=\"data row1 col1\" >0.7583</td>\n",
       "      <td id=\"T_4b3b0_row1_col2\" class=\"data row1 col2\" >0.9467</td>\n",
       "      <td id=\"T_4b3b0_row1_col3\" class=\"data row1 col3\" >0.7578</td>\n",
       "      <td id=\"T_4b3b0_row1_col4\" class=\"data row1 col4\" >0.7654</td>\n",
       "      <td id=\"T_4b3b0_row1_col5\" class=\"data row1 col5\" >0.7584</td>\n",
       "      <td id=\"T_4b3b0_row1_col6\" class=\"data row1 col6\" >0.6979</td>\n",
       "      <td id=\"T_4b3b0_row1_col7\" class=\"data row1 col7\" >0.6994</td>\n",
       "      <td id=\"T_4b3b0_row1_col8\" class=\"data row1 col8\" >0.4980</td>\n",
       "    </tr>\n",
       "    <tr>\n",
       "      <th id=\"T_4b3b0_level0_row2\" class=\"row_heading level0 row2\" >lightgbm</th>\n",
       "      <td id=\"T_4b3b0_row2_col0\" class=\"data row2 col0\" >Light Gradient Boosting Machine</td>\n",
       "      <td id=\"T_4b3b0_row2_col1\" class=\"data row2 col1\" >0.7522</td>\n",
       "      <td id=\"T_4b3b0_row2_col2\" class=\"data row2 col2\" >0.9412</td>\n",
       "      <td id=\"T_4b3b0_row2_col3\" class=\"data row2 col3\" >0.7519</td>\n",
       "      <td id=\"T_4b3b0_row2_col4\" class=\"data row2 col4\" >0.7588</td>\n",
       "      <td id=\"T_4b3b0_row2_col5\" class=\"data row2 col5\" >0.7524</td>\n",
       "      <td id=\"T_4b3b0_row2_col6\" class=\"data row2 col6\" >0.6903</td>\n",
       "      <td id=\"T_4b3b0_row2_col7\" class=\"data row2 col7\" >0.6916</td>\n",
       "      <td id=\"T_4b3b0_row2_col8\" class=\"data row2 col8\" >0.5350</td>\n",
       "    </tr>\n",
       "    <tr>\n",
       "      <th id=\"T_4b3b0_level0_row3\" class=\"row_heading level0 row3\" >knn</th>\n",
       "      <td id=\"T_4b3b0_row3_col0\" class=\"data row3 col0\" >K Neighbors Classifier</td>\n",
       "      <td id=\"T_4b3b0_row3_col1\" class=\"data row3 col1\" >0.7372</td>\n",
       "      <td id=\"T_4b3b0_row3_col2\" class=\"data row3 col2\" >0.9238</td>\n",
       "      <td id=\"T_4b3b0_row3_col3\" class=\"data row3 col3\" >0.7362</td>\n",
       "      <td id=\"T_4b3b0_row3_col4\" class=\"data row3 col4\" >0.7438</td>\n",
       "      <td id=\"T_4b3b0_row3_col5\" class=\"data row3 col5\" >0.7360</td>\n",
       "      <td id=\"T_4b3b0_row3_col6\" class=\"data row3 col6\" >0.6714</td>\n",
       "      <td id=\"T_4b3b0_row3_col7\" class=\"data row3 col7\" >0.6732</td>\n",
       "      <td id=\"T_4b3b0_row3_col8\" class=\"data row3 col8\" >0.1150</td>\n",
       "    </tr>\n",
       "    <tr>\n",
       "      <th id=\"T_4b3b0_level0_row4\" class=\"row_heading level0 row4\" >gbc</th>\n",
       "      <td id=\"T_4b3b0_row4_col0\" class=\"data row4 col0\" >Gradient Boosting Classifier</td>\n",
       "      <td id=\"T_4b3b0_row4_col1\" class=\"data row4 col1\" >0.7277</td>\n",
       "      <td id=\"T_4b3b0_row4_col2\" class=\"data row4 col2\" >0.9385</td>\n",
       "      <td id=\"T_4b3b0_row4_col3\" class=\"data row4 col3\" >0.7265</td>\n",
       "      <td id=\"T_4b3b0_row4_col4\" class=\"data row4 col4\" >0.7327</td>\n",
       "      <td id=\"T_4b3b0_row4_col5\" class=\"data row4 col5\" >0.7268</td>\n",
       "      <td id=\"T_4b3b0_row4_col6\" class=\"data row4 col6\" >0.6596</td>\n",
       "      <td id=\"T_4b3b0_row4_col7\" class=\"data row4 col7\" >0.6610</td>\n",
       "      <td id=\"T_4b3b0_row4_col8\" class=\"data row4 col8\" >1.3300</td>\n",
       "    </tr>\n",
       "    <tr>\n",
       "      <th id=\"T_4b3b0_level0_row5\" class=\"row_heading level0 row5\" >dt</th>\n",
       "      <td id=\"T_4b3b0_row5_col0\" class=\"data row5 col0\" >Decision Tree Classifier</td>\n",
       "      <td id=\"T_4b3b0_row5_col1\" class=\"data row5 col1\" >0.6616</td>\n",
       "      <td id=\"T_4b3b0_row5_col2\" class=\"data row5 col2\" >0.7886</td>\n",
       "      <td id=\"T_4b3b0_row5_col3\" class=\"data row5 col3\" >0.6601</td>\n",
       "      <td id=\"T_4b3b0_row5_col4\" class=\"data row5 col4\" >0.6675</td>\n",
       "      <td id=\"T_4b3b0_row5_col5\" class=\"data row5 col5\" >0.6600</td>\n",
       "      <td id=\"T_4b3b0_row5_col6\" class=\"data row5 col6\" >0.5769</td>\n",
       "      <td id=\"T_4b3b0_row5_col7\" class=\"data row5 col7\" >0.5788</td>\n",
       "      <td id=\"T_4b3b0_row5_col8\" class=\"data row5 col8\" >0.0310</td>\n",
       "    </tr>\n",
       "    <tr>\n",
       "      <th id=\"T_4b3b0_level0_row6\" class=\"row_heading level0 row6\" >qda</th>\n",
       "      <td id=\"T_4b3b0_row6_col0\" class=\"data row6 col0\" >Quadratic Discriminant Analysis</td>\n",
       "      <td id=\"T_4b3b0_row6_col1\" class=\"data row6 col1\" >0.5854</td>\n",
       "      <td id=\"T_4b3b0_row6_col2\" class=\"data row6 col2\" >0.8656</td>\n",
       "      <td id=\"T_4b3b0_row6_col3\" class=\"data row6 col3\" >0.5859</td>\n",
       "      <td id=\"T_4b3b0_row6_col4\" class=\"data row6 col4\" >0.6242</td>\n",
       "      <td id=\"T_4b3b0_row6_col5\" class=\"data row6 col5\" >0.5774</td>\n",
       "      <td id=\"T_4b3b0_row6_col6\" class=\"data row6 col6\" >0.4819</td>\n",
       "      <td id=\"T_4b3b0_row6_col7\" class=\"data row6 col7\" >0.4932</td>\n",
       "      <td id=\"T_4b3b0_row6_col8\" class=\"data row6 col8\" >0.0280</td>\n",
       "    </tr>\n",
       "    <tr>\n",
       "      <th id=\"T_4b3b0_level0_row7\" class=\"row_heading level0 row7\" >ada</th>\n",
       "      <td id=\"T_4b3b0_row7_col0\" class=\"data row7 col0\" >Ada Boost Classifier</td>\n",
       "      <td id=\"T_4b3b0_row7_col1\" class=\"data row7 col1\" >0.5705</td>\n",
       "      <td id=\"T_4b3b0_row7_col2\" class=\"data row7 col2\" >0.8170</td>\n",
       "      <td id=\"T_4b3b0_row7_col3\" class=\"data row7 col3\" >0.5684</td>\n",
       "      <td id=\"T_4b3b0_row7_col4\" class=\"data row7 col4\" >0.5589</td>\n",
       "      <td id=\"T_4b3b0_row7_col5\" class=\"data row7 col5\" >0.5535</td>\n",
       "      <td id=\"T_4b3b0_row7_col6\" class=\"data row7 col6\" >0.4624</td>\n",
       "      <td id=\"T_4b3b0_row7_col7\" class=\"data row7 col7\" >0.4672</td>\n",
       "      <td id=\"T_4b3b0_row7_col8\" class=\"data row7 col8\" >0.2460</td>\n",
       "    </tr>\n",
       "    <tr>\n",
       "      <th id=\"T_4b3b0_level0_row8\" class=\"row_heading level0 row8\" >nb</th>\n",
       "      <td id=\"T_4b3b0_row8_col0\" class=\"data row8 col0\" >Naive Bayes</td>\n",
       "      <td id=\"T_4b3b0_row8_col1\" class=\"data row8 col1\" >0.5528</td>\n",
       "      <td id=\"T_4b3b0_row8_col2\" class=\"data row8 col2\" >0.8406</td>\n",
       "      <td id=\"T_4b3b0_row8_col3\" class=\"data row8 col3\" >0.5506</td>\n",
       "      <td id=\"T_4b3b0_row8_col4\" class=\"data row8 col4\" >0.5506</td>\n",
       "      <td id=\"T_4b3b0_row8_col5\" class=\"data row8 col5\" >0.5393</td>\n",
       "      <td id=\"T_4b3b0_row8_col6\" class=\"data row8 col6\" >0.4405</td>\n",
       "      <td id=\"T_4b3b0_row8_col7\" class=\"data row8 col7\" >0.4453</td>\n",
       "      <td id=\"T_4b3b0_row8_col8\" class=\"data row8 col8\" >0.0250</td>\n",
       "    </tr>\n",
       "    <tr>\n",
       "      <th id=\"T_4b3b0_level0_row9\" class=\"row_heading level0 row9\" >lr</th>\n",
       "      <td id=\"T_4b3b0_row9_col0\" class=\"data row9 col0\" >Logistic Regression</td>\n",
       "      <td id=\"T_4b3b0_row9_col1\" class=\"data row9 col1\" >0.5003</td>\n",
       "      <td id=\"T_4b3b0_row9_col2\" class=\"data row9 col2\" >0.7957</td>\n",
       "      <td id=\"T_4b3b0_row9_col3\" class=\"data row9 col3\" >0.4989</td>\n",
       "      <td id=\"T_4b3b0_row9_col4\" class=\"data row9 col4\" >0.4806</td>\n",
       "      <td id=\"T_4b3b0_row9_col5\" class=\"data row9 col5\" >0.4690</td>\n",
       "      <td id=\"T_4b3b0_row9_col6\" class=\"data row9 col6\" >0.3748</td>\n",
       "      <td id=\"T_4b3b0_row9_col7\" class=\"data row9 col7\" >0.3811</td>\n",
       "      <td id=\"T_4b3b0_row9_col8\" class=\"data row9 col8\" >0.0480</td>\n",
       "    </tr>\n",
       "    <tr>\n",
       "      <th id=\"T_4b3b0_level0_row10\" class=\"row_heading level0 row10\" >lda</th>\n",
       "      <td id=\"T_4b3b0_row10_col0\" class=\"data row10 col0\" >Linear Discriminant Analysis</td>\n",
       "      <td id=\"T_4b3b0_row10_col1\" class=\"data row10 col1\" >0.4969</td>\n",
       "      <td id=\"T_4b3b0_row10_col2\" class=\"data row10 col2\" >0.7923</td>\n",
       "      <td id=\"T_4b3b0_row10_col3\" class=\"data row10 col3\" >0.4953</td>\n",
       "      <td id=\"T_4b3b0_row10_col4\" class=\"data row10 col4\" >0.4685</td>\n",
       "      <td id=\"T_4b3b0_row10_col5\" class=\"data row10 col5\" >0.4639</td>\n",
       "      <td id=\"T_4b3b0_row10_col6\" class=\"data row10 col6\" >0.3705</td>\n",
       "      <td id=\"T_4b3b0_row10_col7\" class=\"data row10 col7\" >0.3774</td>\n",
       "      <td id=\"T_4b3b0_row10_col8\" class=\"data row10 col8\" >0.0270</td>\n",
       "    </tr>\n",
       "    <tr>\n",
       "      <th id=\"T_4b3b0_level0_row11\" class=\"row_heading level0 row11\" >ridge</th>\n",
       "      <td id=\"T_4b3b0_row11_col0\" class=\"data row11 col0\" >Ridge Classifier</td>\n",
       "      <td id=\"T_4b3b0_row11_col1\" class=\"data row11 col1\" >0.4949</td>\n",
       "      <td id=\"T_4b3b0_row11_col2\" class=\"data row11 col2\" >0.0000</td>\n",
       "      <td id=\"T_4b3b0_row11_col3\" class=\"data row11 col3\" >0.4929</td>\n",
       "      <td id=\"T_4b3b0_row11_col4\" class=\"data row11 col4\" >0.3858</td>\n",
       "      <td id=\"T_4b3b0_row11_col5\" class=\"data row11 col5\" >0.4151</td>\n",
       "      <td id=\"T_4b3b0_row11_col6\" class=\"data row11 col6\" >0.3679</td>\n",
       "      <td id=\"T_4b3b0_row11_col7\" class=\"data row11 col7\" >0.3881</td>\n",
       "      <td id=\"T_4b3b0_row11_col8\" class=\"data row11 col8\" >0.0260</td>\n",
       "    </tr>\n",
       "    <tr>\n",
       "      <th id=\"T_4b3b0_level0_row12\" class=\"row_heading level0 row12\" >svm</th>\n",
       "      <td id=\"T_4b3b0_row12_col0\" class=\"data row12 col0\" >SVM - Linear Kernel</td>\n",
       "      <td id=\"T_4b3b0_row12_col1\" class=\"data row12 col1\" >0.4881</td>\n",
       "      <td id=\"T_4b3b0_row12_col2\" class=\"data row12 col2\" >0.0000</td>\n",
       "      <td id=\"T_4b3b0_row12_col3\" class=\"data row12 col3\" >0.4875</td>\n",
       "      <td id=\"T_4b3b0_row12_col4\" class=\"data row12 col4\" >0.4777</td>\n",
       "      <td id=\"T_4b3b0_row12_col5\" class=\"data row12 col5\" >0.4425</td>\n",
       "      <td id=\"T_4b3b0_row12_col6\" class=\"data row12 col6\" >0.3596</td>\n",
       "      <td id=\"T_4b3b0_row12_col7\" class=\"data row12 col7\" >0.3755</td>\n",
       "      <td id=\"T_4b3b0_row12_col8\" class=\"data row12 col8\" >0.1230</td>\n",
       "    </tr>\n",
       "  </tbody>\n",
       "</table>\n"
      ],
      "text/plain": [
       "<pandas.io.formats.style.Styler at 0x1d37abe8b48>"
      ]
     },
     "metadata": {},
     "output_type": "display_data"
    }
   ],
   "source": [
    "setup(space_X_train_robust,\n",
    "          target='target'\n",
    "    )\n",
    "best_model=compare_models()"
   ]
  },
  {
   "cell_type": "code",
   "execution_count": 39,
   "id": "2031a354",
   "metadata": {},
   "outputs": [
    {
     "name": "stdout",
     "output_type": "stream",
     "text": [
      "RandomForestClassifier(bootstrap=True, ccp_alpha=0.0, class_weight=None,\n",
      "                       criterion='gini', max_depth=None, max_features='auto',\n",
      "                       max_leaf_nodes=None, max_samples=None,\n",
      "                       min_impurity_decrease=0.0, min_impurity_split=None,\n",
      "                       min_samples_leaf=1, min_samples_split=2,\n",
      "                       min_weight_fraction_leaf=0.0, n_estimators=100,\n",
      "                       n_jobs=-1, oob_score=False, random_state=8858, verbose=0,\n",
      "                       warm_start=False)\n"
     ]
    }
   ],
   "source": [
    "print(best_model)"
   ]
  },
  {
   "cell_type": "markdown",
   "id": "bc1ff95f",
   "metadata": {},
   "source": [
    "## Random Forest Hyperparameters tunning with Pycaret"
   ]
  },
  {
   "cell_type": "code",
   "execution_count": 40,
   "id": "221e5f85",
   "metadata": {
    "ExecuteTime": {
     "end_time": "2022-05-28T20:17:35.912615Z",
     "start_time": "2022-05-28T20:17:35.892666Z"
    }
   },
   "outputs": [],
   "source": [
    "def scoring_f1(y_test,X_test,method): #generation of f1 macro\n",
    "    '''\n",
    "    Funtion to get the f1_macro metric \n",
    "    Input: \n",
    "        y_test = real target label of the data set used\n",
    "        X_test = features used to determine the label target\n",
    "        method = model evaluated which will predict the target labels\n",
    "    Output:\n",
    "        Float number corresponding to the F1_macro.'''\n",
    "\n",
    "    f1score=f1_score(y_test,\n",
    "                     method.predict(X_test),\n",
    "                     average= 'macro'\n",
    ")        \n",
    "    return f1score  "
   ]
  },
  {
   "cell_type": "markdown",
   "id": "4cda3e6f",
   "metadata": {},
   "source": [
    "To avoid data leakage in Pycaret, the model to be tuned will be created with the train set:"
   ]
  },
  {
   "cell_type": "code",
   "execution_count": 42,
   "id": "36be2edf",
   "metadata": {},
   "outputs": [],
   "source": [
    "X=space_X_train.copy()\n",
    "y=X.target\n"
   ]
  },
  {
   "cell_type": "code",
   "execution_count": 43,
   "id": "18ef4a2c",
   "metadata": {},
   "outputs": [
    {
     "data": {
      "text/html": [
       "<div><div id=619d4274-f2ff-4424-8db2-fdb5afc81a2a style=\"display:none; background-color:#9D6CFF; color:white; width:200px; height:30px; padding-left:5px; border-radius:4px; flex-direction:row; justify-content:space-around; align-items:center;\" onmouseover=\"this.style.backgroundColor='#BA9BF8'\" onmouseout=\"this.style.backgroundColor='#9D6CFF'\" onclick=\"window.commands?.execute('create-mitosheet-from-dataframe-output');\">See Full Dataframe in Mito</div> <script> if (window.commands?.hasCommand('create-mitosheet-from-dataframe-output')) document.getElementById('619d4274-f2ff-4424-8db2-fdb5afc81a2a').style.display = 'flex' </script> <table border=\"1\" class=\"dataframe\">\n",
       "  <thead>\n",
       "    <tr style=\"text-align: right;\">\n",
       "      <th></th>\n",
       "      <th>sensor_1</th>\n",
       "      <th>sensor_2</th>\n",
       "      <th>sensor_3</th>\n",
       "      <th>sensor_4</th>\n",
       "      <th>sensor_5</th>\n",
       "      <th>sensor_6</th>\n",
       "      <th>target</th>\n",
       "    </tr>\n",
       "  </thead>\n",
       "  <tbody>\n",
       "    <tr>\n",
       "      <th>19</th>\n",
       "      <td>-1.153663</td>\n",
       "      <td>-0.490551</td>\n",
       "      <td>-1.221787</td>\n",
       "      <td>1.198523</td>\n",
       "      <td>-1.645471</td>\n",
       "      <td>-0.397307</td>\n",
       "      <td>1</td>\n",
       "    </tr>\n",
       "    <tr>\n",
       "      <th>807</th>\n",
       "      <td>0.051587</td>\n",
       "      <td>-2.850896</td>\n",
       "      <td>-1.648007</td>\n",
       "      <td>1.069979</td>\n",
       "      <td>-2.540411</td>\n",
       "      <td>0.311744</td>\n",
       "      <td>2</td>\n",
       "    </tr>\n",
       "    <tr>\n",
       "      <th>974</th>\n",
       "      <td>-1.615734</td>\n",
       "      <td>-0.396239</td>\n",
       "      <td>-0.605161</td>\n",
       "      <td>0.191728</td>\n",
       "      <td>-0.660267</td>\n",
       "      <td>-0.590922</td>\n",
       "      <td>1</td>\n",
       "    </tr>\n",
       "    <tr>\n",
       "      <th>1746</th>\n",
       "      <td>1.700228</td>\n",
       "      <td>0.049878</td>\n",
       "      <td>-0.189630</td>\n",
       "      <td>-1.797814</td>\n",
       "      <td>0.570287</td>\n",
       "      <td>-0.449787</td>\n",
       "      <td>4</td>\n",
       "    </tr>\n",
       "    <tr>\n",
       "      <th>905</th>\n",
       "      <td>-1.906572</td>\n",
       "      <td>-0.770195</td>\n",
       "      <td>-2.545250</td>\n",
       "      <td>0.390334</td>\n",
       "      <td>-2.492019</td>\n",
       "      <td>-1.664043</td>\n",
       "      <td>1</td>\n",
       "    </tr>\n",
       "  </tbody>\n",
       "</table></div>"
      ],
      "text/plain": [
       "      sensor_1  sensor_2  sensor_3  sensor_4  sensor_5  sensor_6  target\n",
       "19   -1.153663 -0.490551 -1.221787  1.198523 -1.645471 -0.397307       1\n",
       "807   0.051587 -2.850896 -1.648007  1.069979 -2.540411  0.311744       2\n",
       "974  -1.615734 -0.396239 -0.605161  0.191728 -0.660267 -0.590922       1\n",
       "1746  1.700228  0.049878 -0.189630 -1.797814  0.570287 -0.449787       4\n",
       "905  -1.906572 -0.770195 -2.545250  0.390334 -2.492019 -1.664043       1"
      ]
     },
     "execution_count": 43,
     "metadata": {},
     "output_type": "execute_result"
    }
   ],
   "source": [
    "X_train, X_test, y_train, y_test = train_test_split(X, y, random_state=1,stratify=y)\n",
    "X_train.head()"
   ]
  },
  {
   "cell_type": "code",
   "execution_count": 44,
   "id": "1d393be8",
   "metadata": {},
   "outputs": [
    {
     "data": {
      "text/html": [
       "<style type=\"text/css\">\n",
       "#T_49f7d_ th {\n",
       "  text-align: left;\n",
       "}\n",
       "#T_49f7d_row0_col0, #T_49f7d_row0_col2, #T_49f7d_row1_col0, #T_49f7d_row1_col1, #T_49f7d_row1_col3, #T_49f7d_row1_col4, #T_49f7d_row1_col5, #T_49f7d_row1_col6, #T_49f7d_row1_col7, #T_49f7d_row2_col0, #T_49f7d_row2_col1, #T_49f7d_row2_col2, #T_49f7d_row2_col3, #T_49f7d_row2_col4, #T_49f7d_row2_col5, #T_49f7d_row2_col6, #T_49f7d_row2_col7, #T_49f7d_row3_col0, #T_49f7d_row3_col1, #T_49f7d_row3_col2, #T_49f7d_row3_col3, #T_49f7d_row3_col4, #T_49f7d_row3_col5, #T_49f7d_row3_col6, #T_49f7d_row3_col7, #T_49f7d_row4_col0, #T_49f7d_row4_col1, #T_49f7d_row4_col2, #T_49f7d_row4_col3, #T_49f7d_row4_col4, #T_49f7d_row4_col5, #T_49f7d_row4_col6, #T_49f7d_row4_col7, #T_49f7d_row5_col0, #T_49f7d_row5_col1, #T_49f7d_row5_col2, #T_49f7d_row5_col3, #T_49f7d_row5_col4, #T_49f7d_row5_col5, #T_49f7d_row5_col6, #T_49f7d_row5_col7, #T_49f7d_row6_col0, #T_49f7d_row6_col1, #T_49f7d_row6_col2, #T_49f7d_row6_col3, #T_49f7d_row6_col4, #T_49f7d_row6_col5, #T_49f7d_row6_col6, #T_49f7d_row6_col7, #T_49f7d_row7_col0, #T_49f7d_row7_col1, #T_49f7d_row7_col2, #T_49f7d_row7_col3, #T_49f7d_row7_col4, #T_49f7d_row7_col5, #T_49f7d_row7_col6, #T_49f7d_row7_col7, #T_49f7d_row8_col0, #T_49f7d_row8_col1, #T_49f7d_row8_col2, #T_49f7d_row8_col3, #T_49f7d_row8_col4, #T_49f7d_row8_col5, #T_49f7d_row8_col6, #T_49f7d_row8_col7, #T_49f7d_row9_col0, #T_49f7d_row9_col1, #T_49f7d_row9_col2, #T_49f7d_row9_col3, #T_49f7d_row9_col4, #T_49f7d_row9_col5, #T_49f7d_row9_col6, #T_49f7d_row9_col7, #T_49f7d_row10_col0, #T_49f7d_row10_col1, #T_49f7d_row10_col2, #T_49f7d_row10_col3, #T_49f7d_row10_col4, #T_49f7d_row10_col5, #T_49f7d_row10_col6, #T_49f7d_row10_col7, #T_49f7d_row11_col0, #T_49f7d_row11_col1, #T_49f7d_row11_col2, #T_49f7d_row11_col3, #T_49f7d_row11_col4, #T_49f7d_row11_col5, #T_49f7d_row11_col6, #T_49f7d_row11_col7, #T_49f7d_row12_col0, #T_49f7d_row12_col1, #T_49f7d_row12_col2, #T_49f7d_row12_col3, #T_49f7d_row12_col4, #T_49f7d_row12_col5, #T_49f7d_row12_col6, #T_49f7d_row12_col7 {\n",
       "  text-align: left;\n",
       "}\n",
       "#T_49f7d_row0_col1, #T_49f7d_row0_col3, #T_49f7d_row0_col4, #T_49f7d_row0_col5, #T_49f7d_row0_col6, #T_49f7d_row0_col7, #T_49f7d_row1_col2 {\n",
       "  text-align: left;\n",
       "  background-color: yellow;\n",
       "}\n",
       "#T_49f7d_row0_col8, #T_49f7d_row1_col8, #T_49f7d_row2_col8, #T_49f7d_row3_col8, #T_49f7d_row4_col8, #T_49f7d_row5_col8, #T_49f7d_row6_col8, #T_49f7d_row7_col8, #T_49f7d_row8_col8, #T_49f7d_row9_col8, #T_49f7d_row11_col8, #T_49f7d_row12_col8 {\n",
       "  text-align: left;\n",
       "  background-color: lightgrey;\n",
       "}\n",
       "#T_49f7d_row10_col8 {\n",
       "  text-align: left;\n",
       "  background-color: yellow;\n",
       "  background-color: lightgrey;\n",
       "}\n",
       "</style>\n",
       "<table id=\"T_49f7d_\">\n",
       "  <thead>\n",
       "    <tr>\n",
       "      <th class=\"blank level0\" >&nbsp;</th>\n",
       "      <th class=\"col_heading level0 col0\" >Model</th>\n",
       "      <th class=\"col_heading level0 col1\" >Accuracy</th>\n",
       "      <th class=\"col_heading level0 col2\" >AUC</th>\n",
       "      <th class=\"col_heading level0 col3\" >Recall</th>\n",
       "      <th class=\"col_heading level0 col4\" >Prec.</th>\n",
       "      <th class=\"col_heading level0 col5\" >F1</th>\n",
       "      <th class=\"col_heading level0 col6\" >Kappa</th>\n",
       "      <th class=\"col_heading level0 col7\" >MCC</th>\n",
       "      <th class=\"col_heading level0 col8\" >TT (Sec)</th>\n",
       "    </tr>\n",
       "  </thead>\n",
       "  <tbody>\n",
       "    <tr>\n",
       "      <th id=\"T_49f7d_level0_row0\" class=\"row_heading level0 row0\" >rf</th>\n",
       "      <td id=\"T_49f7d_row0_col0\" class=\"data row0 col0\" >Random Forest Classifier</td>\n",
       "      <td id=\"T_49f7d_row0_col1\" class=\"data row0 col1\" >0.7468</td>\n",
       "      <td id=\"T_49f7d_row0_col2\" class=\"data row0 col2\" >0.9405</td>\n",
       "      <td id=\"T_49f7d_row0_col3\" class=\"data row0 col3\" >0.7461</td>\n",
       "      <td id=\"T_49f7d_row0_col4\" class=\"data row0 col4\" >0.7513</td>\n",
       "      <td id=\"T_49f7d_row0_col5\" class=\"data row0 col5\" >0.7452</td>\n",
       "      <td id=\"T_49f7d_row0_col6\" class=\"data row0 col6\" >0.6834</td>\n",
       "      <td id=\"T_49f7d_row0_col7\" class=\"data row0 col7\" >0.6852</td>\n",
       "      <td id=\"T_49f7d_row0_col8\" class=\"data row0 col8\" >0.5810</td>\n",
       "    </tr>\n",
       "    <tr>\n",
       "      <th id=\"T_49f7d_level0_row1\" class=\"row_heading level0 row1\" >et</th>\n",
       "      <td id=\"T_49f7d_row1_col0\" class=\"data row1 col0\" >Extra Trees Classifier</td>\n",
       "      <td id=\"T_49f7d_row1_col1\" class=\"data row1 col1\" >0.7449</td>\n",
       "      <td id=\"T_49f7d_row1_col2\" class=\"data row1 col2\" >0.9407</td>\n",
       "      <td id=\"T_49f7d_row1_col3\" class=\"data row1 col3\" >0.7439</td>\n",
       "      <td id=\"T_49f7d_row1_col4\" class=\"data row1 col4\" >0.7488</td>\n",
       "      <td id=\"T_49f7d_row1_col5\" class=\"data row1 col5\" >0.7435</td>\n",
       "      <td id=\"T_49f7d_row1_col6\" class=\"data row1 col6\" >0.6810</td>\n",
       "      <td id=\"T_49f7d_row1_col7\" class=\"data row1 col7\" >0.6825</td>\n",
       "      <td id=\"T_49f7d_row1_col8\" class=\"data row1 col8\" >0.4670</td>\n",
       "    </tr>\n",
       "    <tr>\n",
       "      <th id=\"T_49f7d_level0_row2\" class=\"row_heading level0 row2\" >lightgbm</th>\n",
       "      <td id=\"T_49f7d_row2_col0\" class=\"data row2 col0\" >Light Gradient Boosting Machine</td>\n",
       "      <td id=\"T_49f7d_row2_col1\" class=\"data row2 col1\" >0.7296</td>\n",
       "      <td id=\"T_49f7d_row2_col2\" class=\"data row2 col2\" >0.9321</td>\n",
       "      <td id=\"T_49f7d_row2_col3\" class=\"data row2 col3\" >0.7289</td>\n",
       "      <td id=\"T_49f7d_row2_col4\" class=\"data row2 col4\" >0.7352</td>\n",
       "      <td id=\"T_49f7d_row2_col5\" class=\"data row2 col5\" >0.7278</td>\n",
       "      <td id=\"T_49f7d_row2_col6\" class=\"data row2 col6\" >0.6619</td>\n",
       "      <td id=\"T_49f7d_row2_col7\" class=\"data row2 col7\" >0.6641</td>\n",
       "      <td id=\"T_49f7d_row2_col8\" class=\"data row2 col8\" >0.5040</td>\n",
       "    </tr>\n",
       "    <tr>\n",
       "      <th id=\"T_49f7d_level0_row3\" class=\"row_heading level0 row3\" >gbc</th>\n",
       "      <td id=\"T_49f7d_row3_col0\" class=\"data row3 col0\" >Gradient Boosting Classifier</td>\n",
       "      <td id=\"T_49f7d_row3_col1\" class=\"data row3 col1\" >0.7160</td>\n",
       "      <td id=\"T_49f7d_row3_col2\" class=\"data row3 col2\" >0.9287</td>\n",
       "      <td id=\"T_49f7d_row3_col3\" class=\"data row3 col3\" >0.7153</td>\n",
       "      <td id=\"T_49f7d_row3_col4\" class=\"data row3 col4\" >0.7190</td>\n",
       "      <td id=\"T_49f7d_row3_col5\" class=\"data row3 col5\" >0.7133</td>\n",
       "      <td id=\"T_49f7d_row3_col6\" class=\"data row3 col6\" >0.6449</td>\n",
       "      <td id=\"T_49f7d_row3_col7\" class=\"data row3 col7\" >0.6467</td>\n",
       "      <td id=\"T_49f7d_row3_col8\" class=\"data row3 col8\" >1.0880</td>\n",
       "    </tr>\n",
       "    <tr>\n",
       "      <th id=\"T_49f7d_level0_row4\" class=\"row_heading level0 row4\" >knn</th>\n",
       "      <td id=\"T_49f7d_row4_col0\" class=\"data row4 col0\" >K Neighbors Classifier</td>\n",
       "      <td id=\"T_49f7d_row4_col1\" class=\"data row4 col1\" >0.7087</td>\n",
       "      <td id=\"T_49f7d_row4_col2\" class=\"data row4 col2\" >0.9179</td>\n",
       "      <td id=\"T_49f7d_row4_col3\" class=\"data row4 col3\" >0.7070</td>\n",
       "      <td id=\"T_49f7d_row4_col4\" class=\"data row4 col4\" >0.7128</td>\n",
       "      <td id=\"T_49f7d_row4_col5\" class=\"data row4 col5\" >0.7060</td>\n",
       "      <td id=\"T_49f7d_row4_col6\" class=\"data row4 col6\" >0.6355</td>\n",
       "      <td id=\"T_49f7d_row4_col7\" class=\"data row4 col7\" >0.6376</td>\n",
       "      <td id=\"T_49f7d_row4_col8\" class=\"data row4 col8\" >0.1390</td>\n",
       "    </tr>\n",
       "    <tr>\n",
       "      <th id=\"T_49f7d_level0_row5\" class=\"row_heading level0 row5\" >dt</th>\n",
       "      <td id=\"T_49f7d_row5_col0\" class=\"data row5 col0\" >Decision Tree Classifier</td>\n",
       "      <td id=\"T_49f7d_row5_col1\" class=\"data row5 col1\" >0.6589</td>\n",
       "      <td id=\"T_49f7d_row5_col2\" class=\"data row5 col2\" >0.7869</td>\n",
       "      <td id=\"T_49f7d_row5_col3\" class=\"data row5 col3\" >0.6569</td>\n",
       "      <td id=\"T_49f7d_row5_col4\" class=\"data row5 col4\" >0.6643</td>\n",
       "      <td id=\"T_49f7d_row5_col5\" class=\"data row5 col5\" >0.6573</td>\n",
       "      <td id=\"T_49f7d_row5_col6\" class=\"data row5 col6\" >0.5733</td>\n",
       "      <td id=\"T_49f7d_row5_col7\" class=\"data row5 col7\" >0.5752</td>\n",
       "      <td id=\"T_49f7d_row5_col8\" class=\"data row5 col8\" >0.0350</td>\n",
       "    </tr>\n",
       "    <tr>\n",
       "      <th id=\"T_49f7d_level0_row6\" class=\"row_heading level0 row6\" >nb</th>\n",
       "      <td id=\"T_49f7d_row6_col0\" class=\"data row6 col0\" >Naive Bayes</td>\n",
       "      <td id=\"T_49f7d_row6_col1\" class=\"data row6 col1\" >0.5644</td>\n",
       "      <td id=\"T_49f7d_row6_col2\" class=\"data row6 col2\" >0.8299</td>\n",
       "      <td id=\"T_49f7d_row6_col3\" class=\"data row6 col3\" >0.5609</td>\n",
       "      <td id=\"T_49f7d_row6_col4\" class=\"data row6 col4\" >0.5611</td>\n",
       "      <td id=\"T_49f7d_row6_col5\" class=\"data row6 col5\" >0.5481</td>\n",
       "      <td id=\"T_49f7d_row6_col6\" class=\"data row6 col6\" >0.4544</td>\n",
       "      <td id=\"T_49f7d_row6_col7\" class=\"data row6 col7\" >0.4602</td>\n",
       "      <td id=\"T_49f7d_row6_col8\" class=\"data row6 col8\" >0.0260</td>\n",
       "    </tr>\n",
       "    <tr>\n",
       "      <th id=\"T_49f7d_level0_row7\" class=\"row_heading level0 row7\" >qda</th>\n",
       "      <td id=\"T_49f7d_row7_col0\" class=\"data row7 col0\" >Quadratic Discriminant Analysis</td>\n",
       "      <td id=\"T_49f7d_row7_col1\" class=\"data row7 col1\" >0.5589</td>\n",
       "      <td id=\"T_49f7d_row7_col2\" class=\"data row7 col2\" >0.8443</td>\n",
       "      <td id=\"T_49f7d_row7_col3\" class=\"data row7 col3\" >0.5566</td>\n",
       "      <td id=\"T_49f7d_row7_col4\" class=\"data row7 col4\" >0.5845</td>\n",
       "      <td id=\"T_49f7d_row7_col5\" class=\"data row7 col5\" >0.5561</td>\n",
       "      <td id=\"T_49f7d_row7_col6\" class=\"data row7 col6\" >0.4480</td>\n",
       "      <td id=\"T_49f7d_row7_col7\" class=\"data row7 col7\" >0.4541</td>\n",
       "      <td id=\"T_49f7d_row7_col8\" class=\"data row7 col8\" >0.0300</td>\n",
       "    </tr>\n",
       "    <tr>\n",
       "      <th id=\"T_49f7d_level0_row8\" class=\"row_heading level0 row8\" >ada</th>\n",
       "      <td id=\"T_49f7d_row8_col0\" class=\"data row8 col0\" >Ada Boost Classifier</td>\n",
       "      <td id=\"T_49f7d_row8_col1\" class=\"data row8 col1\" >0.5490</td>\n",
       "      <td id=\"T_49f7d_row8_col2\" class=\"data row8 col2\" >0.8032</td>\n",
       "      <td id=\"T_49f7d_row8_col3\" class=\"data row8 col3\" >0.5473</td>\n",
       "      <td id=\"T_49f7d_row8_col4\" class=\"data row8 col4\" >0.5488</td>\n",
       "      <td id=\"T_49f7d_row8_col5\" class=\"data row8 col5\" >0.5373</td>\n",
       "      <td id=\"T_49f7d_row8_col6\" class=\"data row8 col6\" >0.4354</td>\n",
       "      <td id=\"T_49f7d_row8_col7\" class=\"data row8 col7\" >0.4398</td>\n",
       "      <td id=\"T_49f7d_row8_col8\" class=\"data row8 col8\" >0.2000</td>\n",
       "    </tr>\n",
       "    <tr>\n",
       "      <th id=\"T_49f7d_level0_row9\" class=\"row_heading level0 row9\" >lr</th>\n",
       "      <td id=\"T_49f7d_row9_col0\" class=\"data row9 col0\" >Logistic Regression</td>\n",
       "      <td id=\"T_49f7d_row9_col1\" class=\"data row9 col1\" >0.5390</td>\n",
       "      <td id=\"T_49f7d_row9_col2\" class=\"data row9 col2\" >0.7878</td>\n",
       "      <td id=\"T_49f7d_row9_col3\" class=\"data row9 col3\" >0.5397</td>\n",
       "      <td id=\"T_49f7d_row9_col4\" class=\"data row9 col4\" >0.5173</td>\n",
       "      <td id=\"T_49f7d_row9_col5\" class=\"data row9 col5\" >0.5118</td>\n",
       "      <td id=\"T_49f7d_row9_col6\" class=\"data row9 col6\" >0.4234</td>\n",
       "      <td id=\"T_49f7d_row9_col7\" class=\"data row9 col7\" >0.4301</td>\n",
       "      <td id=\"T_49f7d_row9_col8\" class=\"data row9 col8\" >1.7080</td>\n",
       "    </tr>\n",
       "    <tr>\n",
       "      <th id=\"T_49f7d_level0_row10\" class=\"row_heading level0 row10\" >lda</th>\n",
       "      <td id=\"T_49f7d_row10_col0\" class=\"data row10 col0\" >Linear Discriminant Analysis</td>\n",
       "      <td id=\"T_49f7d_row10_col1\" class=\"data row10 col1\" >0.5290</td>\n",
       "      <td id=\"T_49f7d_row10_col2\" class=\"data row10 col2\" >0.7849</td>\n",
       "      <td id=\"T_49f7d_row10_col3\" class=\"data row10 col3\" >0.5295</td>\n",
       "      <td id=\"T_49f7d_row10_col4\" class=\"data row10 col4\" >0.5157</td>\n",
       "      <td id=\"T_49f7d_row10_col5\" class=\"data row10 col5\" >0.4998</td>\n",
       "      <td id=\"T_49f7d_row10_col6\" class=\"data row10 col6\" >0.4110</td>\n",
       "      <td id=\"T_49f7d_row10_col7\" class=\"data row10 col7\" >0.4186</td>\n",
       "      <td id=\"T_49f7d_row10_col8\" class=\"data row10 col8\" >0.0240</td>\n",
       "    </tr>\n",
       "    <tr>\n",
       "      <th id=\"T_49f7d_level0_row11\" class=\"row_heading level0 row11\" >ridge</th>\n",
       "      <td id=\"T_49f7d_row11_col0\" class=\"data row11 col0\" >Ridge Classifier</td>\n",
       "      <td id=\"T_49f7d_row11_col1\" class=\"data row11 col1\" >0.5045</td>\n",
       "      <td id=\"T_49f7d_row11_col2\" class=\"data row11 col2\" >0.0000</td>\n",
       "      <td id=\"T_49f7d_row11_col3\" class=\"data row11 col3\" >0.5071</td>\n",
       "      <td id=\"T_49f7d_row11_col4\" class=\"data row11 col4\" >0.4989</td>\n",
       "      <td id=\"T_49f7d_row11_col5\" class=\"data row11 col5\" >0.4408</td>\n",
       "      <td id=\"T_49f7d_row11_col6\" class=\"data row11 col6\" >0.3811</td>\n",
       "      <td id=\"T_49f7d_row11_col7\" class=\"data row11 col7\" >0.4020</td>\n",
       "      <td id=\"T_49f7d_row11_col8\" class=\"data row11 col8\" >0.0300</td>\n",
       "    </tr>\n",
       "    <tr>\n",
       "      <th id=\"T_49f7d_level0_row12\" class=\"row_heading level0 row12\" >svm</th>\n",
       "      <td id=\"T_49f7d_row12_col0\" class=\"data row12 col0\" >SVM - Linear Kernel</td>\n",
       "      <td id=\"T_49f7d_row12_col1\" class=\"data row12 col1\" >0.4147</td>\n",
       "      <td id=\"T_49f7d_row12_col2\" class=\"data row12 col2\" >0.0000</td>\n",
       "      <td id=\"T_49f7d_row12_col3\" class=\"data row12 col3\" >0.4142</td>\n",
       "      <td id=\"T_49f7d_row12_col4\" class=\"data row12 col4\" >0.4197</td>\n",
       "      <td id=\"T_49f7d_row12_col5\" class=\"data row12 col5\" >0.3934</td>\n",
       "      <td id=\"T_49f7d_row12_col6\" class=\"data row12 col6\" >0.2676</td>\n",
       "      <td id=\"T_49f7d_row12_col7\" class=\"data row12 col7\" >0.2752</td>\n",
       "      <td id=\"T_49f7d_row12_col8\" class=\"data row12 col8\" >0.1040</td>\n",
       "    </tr>\n",
       "  </tbody>\n",
       "</table>\n"
      ],
      "text/plain": [
       "<pandas.io.formats.style.Styler at 0x1d377a3e508>"
      ]
     },
     "metadata": {},
     "output_type": "display_data"
    }
   ],
   "source": [
    "setup(X_train,\n",
    "          target='target'\n",
    "    )\n",
    "    \n",
    "best_model2=compare_models()\n"
   ]
  },
  {
   "cell_type": "code",
   "execution_count": 45,
   "id": "35db575b",
   "metadata": {},
   "outputs": [
    {
     "name": "stdout",
     "output_type": "stream",
     "text": [
      " score f1-macro of Random Forest Classifier with Pycaret = 0.7704753873647545\n"
     ]
    }
   ],
   "source": [
    "model_rf_pycaret = best_model2\n",
    "X_test.drop('target', axis=1, inplace=True) #target column should be removed\n",
    "print (f' score f1-macro of Random Forest Classifier with Pycaret = {scoring_f1(y_test,X_test,model_rf_pycaret)}')"
   ]
  },
  {
   "cell_type": "code",
   "execution_count": 46,
   "id": "94907dc4",
   "metadata": {},
   "outputs": [
    {
     "data": {
      "text/html": [
       "<style type=\"text/css\">\n",
       "#T_f9c8e_row10_col0, #T_f9c8e_row10_col1, #T_f9c8e_row10_col2, #T_f9c8e_row10_col3, #T_f9c8e_row10_col4, #T_f9c8e_row10_col5, #T_f9c8e_row10_col6 {\n",
       "  background: yellow;\n",
       "}\n",
       "</style>\n",
       "<table id=\"T_f9c8e_\">\n",
       "  <thead>\n",
       "    <tr>\n",
       "      <th class=\"blank level0\" >&nbsp;</th>\n",
       "      <th class=\"col_heading level0 col0\" >Accuracy</th>\n",
       "      <th class=\"col_heading level0 col1\" >AUC</th>\n",
       "      <th class=\"col_heading level0 col2\" >Recall</th>\n",
       "      <th class=\"col_heading level0 col3\" >Prec.</th>\n",
       "      <th class=\"col_heading level0 col4\" >F1</th>\n",
       "      <th class=\"col_heading level0 col5\" >Kappa</th>\n",
       "      <th class=\"col_heading level0 col6\" >MCC</th>\n",
       "    </tr>\n",
       "  </thead>\n",
       "  <tbody>\n",
       "    <tr>\n",
       "      <th id=\"T_f9c8e_level0_row0\" class=\"row_heading level0 row0\" >0</th>\n",
       "      <td id=\"T_f9c8e_row0_col0\" class=\"data row0 col0\" >0.7477</td>\n",
       "      <td id=\"T_f9c8e_row0_col1\" class=\"data row0 col1\" >0.9277</td>\n",
       "      <td id=\"T_f9c8e_row0_col2\" class=\"data row0 col2\" >0.7475</td>\n",
       "      <td id=\"T_f9c8e_row0_col3\" class=\"data row0 col3\" >0.7507</td>\n",
       "      <td id=\"T_f9c8e_row0_col4\" class=\"data row0 col4\" >0.7459</td>\n",
       "      <td id=\"T_f9c8e_row0_col5\" class=\"data row0 col5\" >0.6848</td>\n",
       "      <td id=\"T_f9c8e_row0_col6\" class=\"data row0 col6\" >0.6864</td>\n",
       "    </tr>\n",
       "    <tr>\n",
       "      <th id=\"T_f9c8e_level0_row1\" class=\"row_heading level0 row1\" >1</th>\n",
       "      <td id=\"T_f9c8e_row1_col0\" class=\"data row1 col0\" >0.7658</td>\n",
       "      <td id=\"T_f9c8e_row1_col1\" class=\"data row1 col1\" >0.9560</td>\n",
       "      <td id=\"T_f9c8e_row1_col2\" class=\"data row1 col2\" >0.7655</td>\n",
       "      <td id=\"T_f9c8e_row1_col3\" class=\"data row1 col3\" >0.7680</td>\n",
       "      <td id=\"T_f9c8e_row1_col4\" class=\"data row1 col4\" >0.7642</td>\n",
       "      <td id=\"T_f9c8e_row1_col5\" class=\"data row1 col5\" >0.7072</td>\n",
       "      <td id=\"T_f9c8e_row1_col6\" class=\"data row1 col6\" >0.7086</td>\n",
       "    </tr>\n",
       "    <tr>\n",
       "      <th id=\"T_f9c8e_level0_row2\" class=\"row_heading level0 row2\" >2</th>\n",
       "      <td id=\"T_f9c8e_row2_col0\" class=\"data row2 col0\" >0.7545</td>\n",
       "      <td id=\"T_f9c8e_row2_col1\" class=\"data row2 col1\" >0.9290</td>\n",
       "      <td id=\"T_f9c8e_row2_col2\" class=\"data row2 col2\" >0.7525</td>\n",
       "      <td id=\"T_f9c8e_row2_col3\" class=\"data row2 col3\" >0.7594</td>\n",
       "      <td id=\"T_f9c8e_row2_col4\" class=\"data row2 col4\" >0.7549</td>\n",
       "      <td id=\"T_f9c8e_row2_col5\" class=\"data row2 col5\" >0.6932</td>\n",
       "      <td id=\"T_f9c8e_row2_col6\" class=\"data row2 col6\" >0.6941</td>\n",
       "    </tr>\n",
       "    <tr>\n",
       "      <th id=\"T_f9c8e_level0_row3\" class=\"row_heading level0 row3\" >3</th>\n",
       "      <td id=\"T_f9c8e_row3_col0\" class=\"data row3 col0\" >0.8091</td>\n",
       "      <td id=\"T_f9c8e_row3_col1\" class=\"data row3 col1\" >0.9541</td>\n",
       "      <td id=\"T_f9c8e_row3_col2\" class=\"data row3 col2\" >0.8092</td>\n",
       "      <td id=\"T_f9c8e_row3_col3\" class=\"data row3 col3\" >0.8100</td>\n",
       "      <td id=\"T_f9c8e_row3_col4\" class=\"data row3 col4\" >0.8079</td>\n",
       "      <td id=\"T_f9c8e_row3_col5\" class=\"data row3 col5\" >0.7612</td>\n",
       "      <td id=\"T_f9c8e_row3_col6\" class=\"data row3 col6\" >0.7619</td>\n",
       "    </tr>\n",
       "    <tr>\n",
       "      <th id=\"T_f9c8e_level0_row4\" class=\"row_heading level0 row4\" >4</th>\n",
       "      <td id=\"T_f9c8e_row4_col0\" class=\"data row4 col0\" >0.7273</td>\n",
       "      <td id=\"T_f9c8e_row4_col1\" class=\"data row4 col1\" >0.9365</td>\n",
       "      <td id=\"T_f9c8e_row4_col2\" class=\"data row4 col2\" >0.7293</td>\n",
       "      <td id=\"T_f9c8e_row4_col3\" class=\"data row4 col3\" >0.7470</td>\n",
       "      <td id=\"T_f9c8e_row4_col4\" class=\"data row4 col4\" >0.7293</td>\n",
       "      <td id=\"T_f9c8e_row4_col5\" class=\"data row4 col5\" >0.6593</td>\n",
       "      <td id=\"T_f9c8e_row4_col6\" class=\"data row4 col6\" >0.6635</td>\n",
       "    </tr>\n",
       "    <tr>\n",
       "      <th id=\"T_f9c8e_level0_row5\" class=\"row_heading level0 row5\" >5</th>\n",
       "      <td id=\"T_f9c8e_row5_col0\" class=\"data row5 col0\" >0.8000</td>\n",
       "      <td id=\"T_f9c8e_row5_col1\" class=\"data row5 col1\" >0.9621</td>\n",
       "      <td id=\"T_f9c8e_row5_col2\" class=\"data row5 col2\" >0.7976</td>\n",
       "      <td id=\"T_f9c8e_row5_col3\" class=\"data row5 col3\" >0.8020</td>\n",
       "      <td id=\"T_f9c8e_row5_col4\" class=\"data row5 col4\" >0.7981</td>\n",
       "      <td id=\"T_f9c8e_row5_col5\" class=\"data row5 col5\" >0.7498</td>\n",
       "      <td id=\"T_f9c8e_row5_col6\" class=\"data row5 col6\" >0.7511</td>\n",
       "    </tr>\n",
       "    <tr>\n",
       "      <th id=\"T_f9c8e_level0_row6\" class=\"row_heading level0 row6\" >6</th>\n",
       "      <td id=\"T_f9c8e_row6_col0\" class=\"data row6 col0\" >0.7636</td>\n",
       "      <td id=\"T_f9c8e_row6_col1\" class=\"data row6 col1\" >0.9408</td>\n",
       "      <td id=\"T_f9c8e_row6_col2\" class=\"data row6 col2\" >0.7613</td>\n",
       "      <td id=\"T_f9c8e_row6_col3\" class=\"data row6 col3\" >0.7655</td>\n",
       "      <td id=\"T_f9c8e_row6_col4\" class=\"data row6 col4\" >0.7615</td>\n",
       "      <td id=\"T_f9c8e_row6_col5\" class=\"data row6 col5\" >0.7041</td>\n",
       "      <td id=\"T_f9c8e_row6_col6\" class=\"data row6 col6\" >0.7055</td>\n",
       "    </tr>\n",
       "    <tr>\n",
       "      <th id=\"T_f9c8e_level0_row7\" class=\"row_heading level0 row7\" >7</th>\n",
       "      <td id=\"T_f9c8e_row7_col0\" class=\"data row7 col0\" >0.7000</td>\n",
       "      <td id=\"T_f9c8e_row7_col1\" class=\"data row7 col1\" >0.9279</td>\n",
       "      <td id=\"T_f9c8e_row7_col2\" class=\"data row7 col2\" >0.7006</td>\n",
       "      <td id=\"T_f9c8e_row7_col3\" class=\"data row7 col3\" >0.7099</td>\n",
       "      <td id=\"T_f9c8e_row7_col4\" class=\"data row7 col4\" >0.6968</td>\n",
       "      <td id=\"T_f9c8e_row7_col5\" class=\"data row7 col5\" >0.6253</td>\n",
       "      <td id=\"T_f9c8e_row7_col6\" class=\"data row7 col6\" >0.6287</td>\n",
       "    </tr>\n",
       "    <tr>\n",
       "      <th id=\"T_f9c8e_level0_row8\" class=\"row_heading level0 row8\" >8</th>\n",
       "      <td id=\"T_f9c8e_row8_col0\" class=\"data row8 col0\" >0.7000</td>\n",
       "      <td id=\"T_f9c8e_row8_col1\" class=\"data row8 col1\" >0.9445</td>\n",
       "      <td id=\"T_f9c8e_row8_col2\" class=\"data row8 col2\" >0.6977</td>\n",
       "      <td id=\"T_f9c8e_row8_col3\" class=\"data row8 col3\" >0.7010</td>\n",
       "      <td id=\"T_f9c8e_row8_col4\" class=\"data row8 col4\" >0.6954</td>\n",
       "      <td id=\"T_f9c8e_row8_col5\" class=\"data row8 col5\" >0.6246</td>\n",
       "      <td id=\"T_f9c8e_row8_col6\" class=\"data row8 col6\" >0.6270</td>\n",
       "    </tr>\n",
       "    <tr>\n",
       "      <th id=\"T_f9c8e_level0_row9\" class=\"row_heading level0 row9\" >9</th>\n",
       "      <td id=\"T_f9c8e_row9_col0\" class=\"data row9 col0\" >0.7000</td>\n",
       "      <td id=\"T_f9c8e_row9_col1\" class=\"data row9 col1\" >0.9269</td>\n",
       "      <td id=\"T_f9c8e_row9_col2\" class=\"data row9 col2\" >0.6994</td>\n",
       "      <td id=\"T_f9c8e_row9_col3\" class=\"data row9 col3\" >0.6992</td>\n",
       "      <td id=\"T_f9c8e_row9_col4\" class=\"data row9 col4\" >0.6977</td>\n",
       "      <td id=\"T_f9c8e_row9_col5\" class=\"data row9 col5\" >0.6247</td>\n",
       "      <td id=\"T_f9c8e_row9_col6\" class=\"data row9 col6\" >0.6255</td>\n",
       "    </tr>\n",
       "    <tr>\n",
       "      <th id=\"T_f9c8e_level0_row10\" class=\"row_heading level0 row10\" >Mean</th>\n",
       "      <td id=\"T_f9c8e_row10_col0\" class=\"data row10 col0\" >0.7468</td>\n",
       "      <td id=\"T_f9c8e_row10_col1\" class=\"data row10 col1\" >0.9405</td>\n",
       "      <td id=\"T_f9c8e_row10_col2\" class=\"data row10 col2\" >0.7461</td>\n",
       "      <td id=\"T_f9c8e_row10_col3\" class=\"data row10 col3\" >0.7513</td>\n",
       "      <td id=\"T_f9c8e_row10_col4\" class=\"data row10 col4\" >0.7452</td>\n",
       "      <td id=\"T_f9c8e_row10_col5\" class=\"data row10 col5\" >0.6834</td>\n",
       "      <td id=\"T_f9c8e_row10_col6\" class=\"data row10 col6\" >0.6852</td>\n",
       "    </tr>\n",
       "    <tr>\n",
       "      <th id=\"T_f9c8e_level0_row11\" class=\"row_heading level0 row11\" >SD</th>\n",
       "      <td id=\"T_f9c8e_row11_col0\" class=\"data row11 col0\" >0.0379</td>\n",
       "      <td id=\"T_f9c8e_row11_col1\" class=\"data row11 col1\" >0.0125</td>\n",
       "      <td id=\"T_f9c8e_row11_col2\" class=\"data row11 col2\" >0.0376</td>\n",
       "      <td id=\"T_f9c8e_row11_col3\" class=\"data row11 col3\" >0.0368</td>\n",
       "      <td id=\"T_f9c8e_row11_col4\" class=\"data row11 col4\" >0.0384</td>\n",
       "      <td id=\"T_f9c8e_row11_col5\" class=\"data row11 col5\" >0.0474</td>\n",
       "      <td id=\"T_f9c8e_row11_col6\" class=\"data row11 col6\" >0.0468</td>\n",
       "    </tr>\n",
       "  </tbody>\n",
       "</table>\n"
      ],
      "text/plain": [
       "<pandas.io.formats.style.Styler at 0x1d37c4d96c8>"
      ]
     },
     "metadata": {},
     "output_type": "display_data"
    }
   ],
   "source": [
    "# train model\n",
    "rf_model = create_model('rf')\n"
   ]
  },
  {
   "cell_type": "code",
   "execution_count": 47,
   "id": "f5ed5311",
   "metadata": {},
   "outputs": [
    {
     "name": "stdout",
     "output_type": "stream",
     "text": [
      " score f1 of rf created by Pycaret not tunned = 0.7704753873647545\n"
     ]
    }
   ],
   "source": [
    "print (f' score f1 of rf created by Pycaret not tunned = {scoring_f1(y_test,X_test,rf_model)}') "
   ]
  },
  {
   "cell_type": "code",
   "execution_count": 48,
   "id": "6ac08f46",
   "metadata": {},
   "outputs": [
    {
     "data": {
      "text/html": [
       "<style type=\"text/css\">\n",
       "#T_a0db2_row10_col0, #T_a0db2_row10_col1, #T_a0db2_row10_col2, #T_a0db2_row10_col3, #T_a0db2_row10_col4, #T_a0db2_row10_col5, #T_a0db2_row10_col6 {\n",
       "  background: yellow;\n",
       "}\n",
       "</style>\n",
       "<table id=\"T_a0db2_\">\n",
       "  <thead>\n",
       "    <tr>\n",
       "      <th class=\"blank level0\" >&nbsp;</th>\n",
       "      <th class=\"col_heading level0 col0\" >Accuracy</th>\n",
       "      <th class=\"col_heading level0 col1\" >AUC</th>\n",
       "      <th class=\"col_heading level0 col2\" >Recall</th>\n",
       "      <th class=\"col_heading level0 col3\" >Prec.</th>\n",
       "      <th class=\"col_heading level0 col4\" >F1</th>\n",
       "      <th class=\"col_heading level0 col5\" >Kappa</th>\n",
       "      <th class=\"col_heading level0 col6\" >MCC</th>\n",
       "    </tr>\n",
       "  </thead>\n",
       "  <tbody>\n",
       "    <tr>\n",
       "      <th id=\"T_a0db2_level0_row0\" class=\"row_heading level0 row0\" >0</th>\n",
       "      <td id=\"T_a0db2_row0_col0\" class=\"data row0 col0\" >0.6937</td>\n",
       "      <td id=\"T_a0db2_row0_col1\" class=\"data row0 col1\" >0.9166</td>\n",
       "      <td id=\"T_a0db2_row0_col2\" class=\"data row0 col2\" >0.6930</td>\n",
       "      <td id=\"T_a0db2_row0_col3\" class=\"data row0 col3\" >0.6951</td>\n",
       "      <td id=\"T_a0db2_row0_col4\" class=\"data row0 col4\" >0.6864</td>\n",
       "      <td id=\"T_a0db2_row0_col5\" class=\"data row0 col5\" >0.6172</td>\n",
       "      <td id=\"T_a0db2_row0_col6\" class=\"data row0 col6\" >0.6207</td>\n",
       "    </tr>\n",
       "    <tr>\n",
       "      <th id=\"T_a0db2_level0_row1\" class=\"row_heading level0 row1\" >1</th>\n",
       "      <td id=\"T_a0db2_row1_col0\" class=\"data row1 col0\" >0.7297</td>\n",
       "      <td id=\"T_a0db2_row1_col1\" class=\"data row1 col1\" >0.9477</td>\n",
       "      <td id=\"T_a0db2_row1_col2\" class=\"data row1 col2\" >0.7292</td>\n",
       "      <td id=\"T_a0db2_row1_col3\" class=\"data row1 col3\" >0.7328</td>\n",
       "      <td id=\"T_a0db2_row1_col4\" class=\"data row1 col4\" >0.7192</td>\n",
       "      <td id=\"T_a0db2_row1_col5\" class=\"data row1 col5\" >0.6619</td>\n",
       "      <td id=\"T_a0db2_row1_col6\" class=\"data row1 col6\" >0.6671</td>\n",
       "    </tr>\n",
       "    <tr>\n",
       "      <th id=\"T_a0db2_level0_row2\" class=\"row_heading level0 row2\" >2</th>\n",
       "      <td id=\"T_a0db2_row2_col0\" class=\"data row2 col0\" >0.7182</td>\n",
       "      <td id=\"T_a0db2_row2_col1\" class=\"data row2 col1\" >0.9307</td>\n",
       "      <td id=\"T_a0db2_row2_col2\" class=\"data row2 col2\" >0.7165</td>\n",
       "      <td id=\"T_a0db2_row2_col3\" class=\"data row2 col3\" >0.7189</td>\n",
       "      <td id=\"T_a0db2_row2_col4\" class=\"data row2 col4\" >0.7140</td>\n",
       "      <td id=\"T_a0db2_row2_col5\" class=\"data row2 col5\" >0.6477</td>\n",
       "      <td id=\"T_a0db2_row2_col6\" class=\"data row2 col6\" >0.6495</td>\n",
       "    </tr>\n",
       "    <tr>\n",
       "      <th id=\"T_a0db2_level0_row3\" class=\"row_heading level0 row3\" >3</th>\n",
       "      <td id=\"T_a0db2_row3_col0\" class=\"data row3 col0\" >0.7818</td>\n",
       "      <td id=\"T_a0db2_row3_col1\" class=\"data row3 col1\" >0.9535</td>\n",
       "      <td id=\"T_a0db2_row3_col2\" class=\"data row3 col2\" >0.7819</td>\n",
       "      <td id=\"T_a0db2_row3_col3\" class=\"data row3 col3\" >0.7873</td>\n",
       "      <td id=\"T_a0db2_row3_col4\" class=\"data row3 col4\" >0.7804</td>\n",
       "      <td id=\"T_a0db2_row3_col5\" class=\"data row3 col5\" >0.7270</td>\n",
       "      <td id=\"T_a0db2_row3_col6\" class=\"data row3 col6\" >0.7291</td>\n",
       "    </tr>\n",
       "    <tr>\n",
       "      <th id=\"T_a0db2_level0_row4\" class=\"row_heading level0 row4\" >4</th>\n",
       "      <td id=\"T_a0db2_row4_col0\" class=\"data row4 col0\" >0.7000</td>\n",
       "      <td id=\"T_a0db2_row4_col1\" class=\"data row4 col1\" >0.9258</td>\n",
       "      <td id=\"T_a0db2_row4_col2\" class=\"data row4 col2\" >0.7025</td>\n",
       "      <td id=\"T_a0db2_row4_col3\" class=\"data row4 col3\" >0.7053</td>\n",
       "      <td id=\"T_a0db2_row4_col4\" class=\"data row4 col4\" >0.6993</td>\n",
       "      <td id=\"T_a0db2_row4_col5\" class=\"data row4 col5\" >0.6253</td>\n",
       "      <td id=\"T_a0db2_row4_col6\" class=\"data row4 col6\" >0.6269</td>\n",
       "    </tr>\n",
       "    <tr>\n",
       "      <th id=\"T_a0db2_level0_row5\" class=\"row_heading level0 row5\" >5</th>\n",
       "      <td id=\"T_a0db2_row5_col0\" class=\"data row5 col0\" >0.7727</td>\n",
       "      <td id=\"T_a0db2_row5_col1\" class=\"data row5 col1\" >0.9591</td>\n",
       "      <td id=\"T_a0db2_row5_col2\" class=\"data row5 col2\" >0.7686</td>\n",
       "      <td id=\"T_a0db2_row5_col3\" class=\"data row5 col3\" >0.7788</td>\n",
       "      <td id=\"T_a0db2_row5_col4\" class=\"data row5 col4\" >0.7688</td>\n",
       "      <td id=\"T_a0db2_row5_col5\" class=\"data row5 col5\" >0.7154</td>\n",
       "      <td id=\"T_a0db2_row5_col6\" class=\"data row5 col6\" >0.7187</td>\n",
       "    </tr>\n",
       "    <tr>\n",
       "      <th id=\"T_a0db2_level0_row6\" class=\"row_heading level0 row6\" >6</th>\n",
       "      <td id=\"T_a0db2_row6_col0\" class=\"data row6 col0\" >0.7000</td>\n",
       "      <td id=\"T_a0db2_row6_col1\" class=\"data row6 col1\" >0.9310</td>\n",
       "      <td id=\"T_a0db2_row6_col2\" class=\"data row6 col2\" >0.6991</td>\n",
       "      <td id=\"T_a0db2_row6_col3\" class=\"data row6 col3\" >0.7021</td>\n",
       "      <td id=\"T_a0db2_row6_col4\" class=\"data row6 col4\" >0.6940</td>\n",
       "      <td id=\"T_a0db2_row6_col5\" class=\"data row6 col5\" >0.6249</td>\n",
       "      <td id=\"T_a0db2_row6_col6\" class=\"data row6 col6\" >0.6279</td>\n",
       "    </tr>\n",
       "    <tr>\n",
       "      <th id=\"T_a0db2_level0_row7\" class=\"row_heading level0 row7\" >7</th>\n",
       "      <td id=\"T_a0db2_row7_col0\" class=\"data row7 col0\" >0.6364</td>\n",
       "      <td id=\"T_a0db2_row7_col1\" class=\"data row7 col1\" >0.9091</td>\n",
       "      <td id=\"T_a0db2_row7_col2\" class=\"data row7 col2\" >0.6364</td>\n",
       "      <td id=\"T_a0db2_row7_col3\" class=\"data row7 col3\" >0.6382</td>\n",
       "      <td id=\"T_a0db2_row7_col4\" class=\"data row7 col4\" >0.6321</td>\n",
       "      <td id=\"T_a0db2_row7_col5\" class=\"data row7 col5\" >0.5454</td>\n",
       "      <td id=\"T_a0db2_row7_col6\" class=\"data row7 col6\" >0.5477</td>\n",
       "    </tr>\n",
       "    <tr>\n",
       "      <th id=\"T_a0db2_level0_row8\" class=\"row_heading level0 row8\" >8</th>\n",
       "      <td id=\"T_a0db2_row8_col0\" class=\"data row8 col0\" >0.7364</td>\n",
       "      <td id=\"T_a0db2_row8_col1\" class=\"data row8 col1\" >0.9458</td>\n",
       "      <td id=\"T_a0db2_row8_col2\" class=\"data row8 col2\" >0.7341</td>\n",
       "      <td id=\"T_a0db2_row8_col3\" class=\"data row8 col3\" >0.7421</td>\n",
       "      <td id=\"T_a0db2_row8_col4\" class=\"data row8 col4\" >0.7271</td>\n",
       "      <td id=\"T_a0db2_row8_col5\" class=\"data row8 col5\" >0.6699</td>\n",
       "      <td id=\"T_a0db2_row8_col6\" class=\"data row8 col6\" >0.6747</td>\n",
       "    </tr>\n",
       "    <tr>\n",
       "      <th id=\"T_a0db2_level0_row9\" class=\"row_heading level0 row9\" >9</th>\n",
       "      <td id=\"T_a0db2_row9_col0\" class=\"data row9 col0\" >0.6364</td>\n",
       "      <td id=\"T_a0db2_row9_col1\" class=\"data row9 col1\" >0.9165</td>\n",
       "      <td id=\"T_a0db2_row9_col2\" class=\"data row9 col2\" >0.6347</td>\n",
       "      <td id=\"T_a0db2_row9_col3\" class=\"data row9 col3\" >0.6375</td>\n",
       "      <td id=\"T_a0db2_row9_col4\" class=\"data row9 col4\" >0.6313</td>\n",
       "      <td id=\"T_a0db2_row9_col5\" class=\"data row9 col5\" >0.5451</td>\n",
       "      <td id=\"T_a0db2_row9_col6\" class=\"data row9 col6\" >0.5477</td>\n",
       "    </tr>\n",
       "    <tr>\n",
       "      <th id=\"T_a0db2_level0_row10\" class=\"row_heading level0 row10\" >Mean</th>\n",
       "      <td id=\"T_a0db2_row10_col0\" class=\"data row10 col0\" >0.7105</td>\n",
       "      <td id=\"T_a0db2_row10_col1\" class=\"data row10 col1\" >0.9336</td>\n",
       "      <td id=\"T_a0db2_row10_col2\" class=\"data row10 col2\" >0.7096</td>\n",
       "      <td id=\"T_a0db2_row10_col3\" class=\"data row10 col3\" >0.7138</td>\n",
       "      <td id=\"T_a0db2_row10_col4\" class=\"data row10 col4\" >0.7053</td>\n",
       "      <td id=\"T_a0db2_row10_col5\" class=\"data row10 col5\" >0.6380</td>\n",
       "      <td id=\"T_a0db2_row10_col6\" class=\"data row10 col6\" >0.6410</td>\n",
       "    </tr>\n",
       "    <tr>\n",
       "      <th id=\"T_a0db2_level0_row11\" class=\"row_heading level0 row11\" >SD</th>\n",
       "      <td id=\"T_a0db2_row11_col0\" class=\"data row11 col0\" >0.0464</td>\n",
       "      <td id=\"T_a0db2_row11_col1\" class=\"data row11 col1\" >0.0163</td>\n",
       "      <td id=\"T_a0db2_row11_col2\" class=\"data row11 col2\" >0.0460</td>\n",
       "      <td id=\"T_a0db2_row11_col3\" class=\"data row11 col3\" >0.0479</td>\n",
       "      <td id=\"T_a0db2_row11_col4\" class=\"data row11 col4\" >0.0466</td>\n",
       "      <td id=\"T_a0db2_row11_col5\" class=\"data row11 col5\" >0.0579</td>\n",
       "      <td id=\"T_a0db2_row11_col6\" class=\"data row11 col6\" >0.0582</td>\n",
       "    </tr>\n",
       "  </tbody>\n",
       "</table>\n"
      ],
      "text/plain": [
       "<pandas.io.formats.style.Styler at 0x1d37ae13548>"
      ]
     },
     "metadata": {},
     "output_type": "display_data"
    }
   ],
   "source": [
    "# tune model\n",
    "tuned_rf_model = tune_model(rf_model)"
   ]
  },
  {
   "cell_type": "code",
   "execution_count": 49,
   "id": "b03f5585",
   "metadata": {},
   "outputs": [
    {
     "name": "stdout",
     "output_type": "stream",
     "text": [
      " Score f1 of Random Forest by Pycaret and Tuned = 0.7581663867854406\n"
     ]
    }
   ],
   "source": [
    "print (f' Score f1 of Random Forest by Pycaret and Tuned = {scoring_f1(y_test,X_test,tuned_rf_model)}') "
   ]
  },
  {
   "cell_type": "markdown",
   "id": "0ef1389f",
   "metadata": {},
   "source": [
    "The initial model worked better than the tunned one regarding the f1_macro metric. "
   ]
  },
  {
   "cell_type": "markdown",
   "id": "b65f212b",
   "metadata": {
    "ExecuteTime": {
     "end_time": "2022-05-28T14:21:59.087697Z",
     "start_time": "2022-05-28T14:21:59.062764Z"
    }
   },
   "source": [
    "## Random Forest Hyperparameters tunning with Optuna"
   ]
  },
  {
   "cell_type": "code",
   "execution_count": 50,
   "id": "292851c5",
   "metadata": {
    "ExecuteTime": {
     "end_time": "2022-05-29T11:16:58.214276Z",
     "start_time": "2022-05-29T11:16:58.189317Z"
    }
   },
   "outputs": [],
   "source": [
    "import optuna"
   ]
  },
  {
   "cell_type": "code",
   "execution_count": 51,
   "id": "b3126619",
   "metadata": {
    "ExecuteTime": {
     "end_time": "2022-05-29T11:56:00.112484Z",
     "start_time": "2022-05-29T11:56:00.100517Z"
    }
   },
   "outputs": [],
   "source": [
    "X=space_X_train.copy()\n",
    "y=X.target\n",
    "X.drop('target',axis=1, inplace=True)"
   ]
  },
  {
   "cell_type": "code",
   "execution_count": 53,
   "id": "00377f2b",
   "metadata": {},
   "outputs": [
    {
     "data": {
      "text/plain": [
       "RandomForestClassifier(bootstrap=True, ccp_alpha=0.0, class_weight=None,\n",
       "                       criterion='gini', max_depth=None, max_features='auto',\n",
       "                       max_leaf_nodes=None, max_samples=None,\n",
       "                       min_impurity_decrease=0.0, min_impurity_split=None,\n",
       "                       min_samples_leaf=1, min_samples_split=2,\n",
       "                       min_weight_fraction_leaf=0.0, n_estimators=100,\n",
       "                       n_jobs=-1, oob_score=False, random_state=853, verbose=0,\n",
       "                       warm_start=False)"
      ]
     },
     "execution_count": 53,
     "metadata": {},
     "output_type": "execute_result"
    }
   ],
   "source": [
    "RandomForestClassifier(bootstrap=True, ccp_alpha=0.0, class_weight=None,\n",
    "                       criterion='gini', max_depth=None, max_features='auto',\n",
    "                       max_leaf_nodes=None, max_samples=None,\n",
    "                       min_impurity_decrease=0.0, min_impurity_split=None,\n",
    "                       min_samples_leaf=1, min_samples_split=2,\n",
    "                       min_weight_fraction_leaf=0.0, n_estimators=100,\n",
    "                       n_jobs=-1, oob_score=False, random_state=853, verbose=0,\n",
    "                       warm_start=False)"
   ]
  },
  {
   "cell_type": "code",
   "execution_count": 54,
   "id": "55a00580",
   "metadata": {
    "ExecuteTime": {
     "end_time": "2022-05-29T12:01:05.652768Z",
     "start_time": "2022-05-29T12:01:05.628832Z"
    }
   },
   "outputs": [],
   "source": [
    "def objective(trial):\n",
    "    X_train, X_test, y_train, y_test = train_test_split(X, y, random_state=1,stratify=y)\n",
    "    \n",
    "    bootstrap = trial.suggest_categorical('bootstrap',['True','False'])\n",
    "    max_depth = trial.suggest_int('max_depth', 1, 100000)\n",
    "    max_features = trial.suggest_categorical('max_features', ['auto', 'sqrt','log2'])\n",
    "    max_leaf_nodes = trial.suggest_int('max_leaf_nodes', 1, 100000)\n",
    "    n_estimators =  trial.suggest_int('n_estimators', 30, 1000)\n",
    "    n_jobs =  trial.suggest_int('n_jobs', 2, 20)\n",
    "    \n",
    "    rf_cl = RandomForestClassifier(bootstrap = bootstrap, \n",
    "                                   max_depth = max_depth, \n",
    "                                   max_features = max_features,\n",
    "                                   max_leaf_nodes = max_leaf_nodes,\n",
    "                                   n_estimators = n_estimators,\n",
    "                                   n_jobs = n_jobs,\n",
    "                                   criterion='gini',\n",
    "                                   random_state=853\n",
    "                                  )\n",
    "    \n",
    "    rf_cl.fit(X_train, y_train)\n",
    "    y_pred = rf_cl.predict(X_test)\n",
    "    \n",
    "    score = cross_val_score(rf_cl, X_test, y_test, cv=5, scoring=\"f1_macro\")\n",
    "    f1_mean = score.mean()\n",
    "\n",
    "    return f1_mean\n"
   ]
  },
  {
   "cell_type": "code",
   "execution_count": 55,
   "id": "150fe434",
   "metadata": {
    "ExecuteTime": {
     "start_time": "2022-05-29T12:01:06.259Z"
    }
   },
   "outputs": [
    {
     "name": "stderr",
     "output_type": "stream",
     "text": [
      "\u001b[32m[I 2022-06-26 20:00:17,119]\u001b[0m A new study created in memory with name: no-name-f354c721-de52-49aa-8fe8-c3e126dfaa8c\u001b[0m\n",
      "\u001b[32m[I 2022-06-26 20:00:33,468]\u001b[0m Trial 0 finished with value: 0.6944346189671327 and parameters: {'bootstrap': 'True', 'max_depth': 98086, 'max_features': 'sqrt', 'max_leaf_nodes': 56019, 'n_estimators': 272, 'n_jobs': 9}. Best is trial 0 with value: 0.6944346189671327.\u001b[0m\n",
      "\u001b[32m[I 2022-06-26 20:01:06,076]\u001b[0m Trial 1 finished with value: 0.6968323235815257 and parameters: {'bootstrap': 'True', 'max_depth': 14643, 'max_features': 'sqrt', 'max_leaf_nodes': 79281, 'n_estimators': 980, 'n_jobs': 4}. Best is trial 1 with value: 0.6968323235815257.\u001b[0m\n",
      "\u001b[32m[I 2022-06-26 20:01:30,796]\u001b[0m Trial 2 finished with value: 0.7006636708743464 and parameters: {'bootstrap': 'True', 'max_depth': 83487, 'max_features': 'auto', 'max_leaf_nodes': 89112, 'n_estimators': 537, 'n_jobs': 9}. Best is trial 2 with value: 0.7006636708743464.\u001b[0m\n",
      "\u001b[32m[I 2022-06-26 20:01:54,849]\u001b[0m Trial 3 finished with value: 0.698613854694117 and parameters: {'bootstrap': 'True', 'max_depth': 60578, 'max_features': 'sqrt', 'max_leaf_nodes': 76615, 'n_estimators': 498, 'n_jobs': 15}. Best is trial 2 with value: 0.7006636708743464.\u001b[0m\n",
      "\u001b[32m[I 2022-06-26 20:02:03,238]\u001b[0m Trial 4 finished with value: 0.6859212804229238 and parameters: {'bootstrap': 'True', 'max_depth': 3616, 'max_features': 'auto', 'max_leaf_nodes': 75043, 'n_estimators': 170, 'n_jobs': 17}. Best is trial 2 with value: 0.7006636708743464.\u001b[0m\n",
      "\u001b[32m[I 2022-06-26 20:02:55,053]\u001b[0m Trial 5 finished with value: 0.6968323235815257 and parameters: {'bootstrap': 'True', 'max_depth': 70944, 'max_features': 'log2', 'max_leaf_nodes': 77762, 'n_estimators': 943, 'n_jobs': 19}. Best is trial 2 with value: 0.7006636708743464.\u001b[0m\n",
      "\u001b[32m[I 2022-06-26 20:03:08,818]\u001b[0m Trial 6 finished with value: 0.6965580017291995 and parameters: {'bootstrap': 'False', 'max_depth': 61407, 'max_features': 'log2', 'max_leaf_nodes': 32443, 'n_estimators': 280, 'n_jobs': 8}. Best is trial 2 with value: 0.7006636708743464.\u001b[0m\n",
      "\u001b[32m[I 2022-06-26 20:03:25,506]\u001b[0m Trial 7 finished with value: 0.702486473214506 and parameters: {'bootstrap': 'False', 'max_depth': 72468, 'max_features': 'log2', 'max_leaf_nodes': 95122, 'n_estimators': 309, 'n_jobs': 3}. Best is trial 7 with value: 0.702486473214506.\u001b[0m\n",
      "\u001b[32m[I 2022-06-26 20:03:49,968]\u001b[0m Trial 8 finished with value: 0.698613854694117 and parameters: {'bootstrap': 'True', 'max_depth': 80248, 'max_features': 'auto', 'max_leaf_nodes': 20408, 'n_estimators': 494, 'n_jobs': 11}. Best is trial 7 with value: 0.702486473214506.\u001b[0m\n",
      "\u001b[32m[I 2022-06-26 20:04:09,798]\u001b[0m Trial 9 finished with value: 0.7003686095360301 and parameters: {'bootstrap': 'True', 'max_depth': 23048, 'max_features': 'auto', 'max_leaf_nodes': 19727, 'n_estimators': 787, 'n_jobs': 3}. Best is trial 7 with value: 0.702486473214506.\u001b[0m\n",
      "\u001b[32m[I 2022-06-26 20:04:12,345]\u001b[0m Trial 10 finished with value: 0.6978692643719823 and parameters: {'bootstrap': 'False', 'max_depth': 40503, 'max_features': 'log2', 'max_leaf_nodes': 54169, 'n_estimators': 34, 'n_jobs': 5}. Best is trial 7 with value: 0.702486473214506.\u001b[0m\n",
      "\u001b[32m[I 2022-06-26 20:04:40,631]\u001b[0m Trial 11 finished with value: 0.6968323235815257 and parameters: {'bootstrap': 'False', 'max_depth': 90728, 'max_features': 'auto', 'max_leaf_nodes': 99672, 'n_estimators': 647, 'n_jobs': 7}. Best is trial 7 with value: 0.702486473214506.\u001b[0m\n",
      "\u001b[32m[I 2022-06-26 20:05:17,597]\u001b[0m Trial 12 finished with value: 0.7009565798851454 and parameters: {'bootstrap': 'False', 'max_depth': 46420, 'max_features': 'log2', 'max_leaf_nodes': 98785, 'n_estimators': 406, 'n_jobs': 13}. Best is trial 7 with value: 0.702486473214506.\u001b[0m\n",
      "\u001b[32m[I 2022-06-26 20:05:39,226]\u001b[0m Trial 13 finished with value: 0.7005434721821908 and parameters: {'bootstrap': 'False', 'max_depth': 42674, 'max_features': 'log2', 'max_leaf_nodes': 787, 'n_estimators': 351, 'n_jobs': 13}. Best is trial 7 with value: 0.702486473214506.\u001b[0m\n",
      "\u001b[32m[I 2022-06-26 20:06:01,994]\u001b[0m Trial 14 finished with value: 0.7027854044382225 and parameters: {'bootstrap': 'False', 'max_depth': 54402, 'max_features': 'log2', 'max_leaf_nodes': 94905, 'n_estimators': 386, 'n_jobs': 12}. Best is trial 14 with value: 0.7027854044382225.\u001b[0m\n",
      "\u001b[32m[I 2022-06-26 20:06:09,479]\u001b[0m Trial 15 finished with value: 0.6938114021660547 and parameters: {'bootstrap': 'False', 'max_depth': 61292, 'max_features': 'log2', 'max_leaf_nodes': 66898, 'n_estimators': 154, 'n_jobs': 11}. Best is trial 14 with value: 0.7027854044382225.\u001b[0m\n",
      "\u001b[32m[I 2022-06-26 20:06:55,741]\u001b[0m Trial 16 finished with value: 0.6968323235815257 and parameters: {'bootstrap': 'False', 'max_depth': 31406, 'max_features': 'log2', 'max_leaf_nodes': 63917, 'n_estimators': 648, 'n_jobs': 2}. Best is trial 14 with value: 0.7027854044382225.\u001b[0m\n",
      "\u001b[32m[I 2022-06-26 20:07:28,517]\u001b[0m Trial 17 finished with value: 0.7009565798851454 and parameters: {'bootstrap': 'False', 'max_depth': 72992, 'max_features': 'log2', 'max_leaf_nodes': 43086, 'n_estimators': 401, 'n_jobs': 6}. Best is trial 14 with value: 0.7027854044382225.\u001b[0m\n",
      "\u001b[32m[I 2022-06-26 20:07:44,211]\u001b[0m Trial 18 finished with value: 0.6917000038286011 and parameters: {'bootstrap': 'False', 'max_depth': 53633, 'max_features': 'log2', 'max_leaf_nodes': 90850, 'n_estimators': 150, 'n_jobs': 14}. Best is trial 14 with value: 0.7027854044382225.\u001b[0m\n",
      "\u001b[32m[I 2022-06-26 20:08:32,612]\u001b[0m Trial 19 finished with value: 0.6969550737508904 and parameters: {'bootstrap': 'False', 'max_depth': 70226, 'max_features': 'log2', 'max_leaf_nodes': 84968, 'n_estimators': 605, 'n_jobs': 16}. Best is trial 14 with value: 0.7027854044382225.\u001b[0m\n"
     ]
    }
   ],
   "source": [
    "study = optuna.create_study(direction=\"maximize\")\n",
    "study.optimize(objective, n_trials=20)"
   ]
  },
  {
   "cell_type": "code",
   "execution_count": 56,
   "id": "5dc76bc2",
   "metadata": {},
   "outputs": [
    {
     "data": {
      "text/plain": [
       "Renderers configuration\n",
       "-----------------------\n",
       "    Default renderer: 'vscode'\n",
       "    Available renderers:\n",
       "        ['plotly_mimetype', 'jupyterlab', 'nteract', 'vscode',\n",
       "         'notebook', 'notebook_connected', 'kaggle', 'azure', 'colab',\n",
       "         'cocalc', 'databricks', 'json', 'png', 'jpeg', 'jpg', 'svg',\n",
       "         'pdf', 'browser', 'firefox', 'chrome', 'chromium', 'iframe',\n",
       "         'iframe_connected', 'sphinx_gallery', 'sphinx_gallery_png']"
      ]
     },
     "execution_count": 56,
     "metadata": {},
     "output_type": "execute_result"
    }
   ],
   "source": [
    "import plotly.io as pio #To fix an issue with the renderer of graphs in VSC\n",
    "pio.renderers"
   ]
  },
  {
   "cell_type": "code",
   "execution_count": 57,
   "id": "fc41bc63",
   "metadata": {},
   "outputs": [],
   "source": [
    "pio.renderers.default = \"notebook_connected\""
   ]
  },
  {
   "cell_type": "code",
   "execution_count": 58,
   "id": "e92adb61",
   "metadata": {},
   "outputs": [
    {
     "data": {
      "text/html": [
       "        <script type=\"text/javascript\">\n",
       "        window.PlotlyConfig = {MathJaxConfig: 'local'};\n",
       "        if (window.MathJax) {MathJax.Hub.Config({SVG: {font: \"STIX-Web\"}});}\n",
       "        if (typeof require !== 'undefined') {\n",
       "        require.undef(\"plotly\");\n",
       "        requirejs.config({\n",
       "            paths: {\n",
       "                'plotly': ['https://cdn.plot.ly/plotly-2.9.0.min']\n",
       "            }\n",
       "        });\n",
       "        require(['plotly'], function(Plotly) {\n",
       "            window._Plotly = Plotly;\n",
       "        });\n",
       "        }\n",
       "        </script>\n",
       "        "
      ]
     },
     "metadata": {},
     "output_type": "display_data"
    },
    {
     "data": {
      "text/html": [
       "<div>                            <div id=\"8e1e9fb1-601c-4f57-97f1-5f31fcafbc44\" class=\"plotly-graph-div\" style=\"height:525px; width:100%;\"></div>            <script type=\"text/javascript\">                require([\"plotly\"], function(Plotly) {                    window.PLOTLYENV=window.PLOTLYENV || {};                                    if (document.getElementById(\"8e1e9fb1-601c-4f57-97f1-5f31fcafbc44\")) {                    Plotly.newPlot(                        \"8e1e9fb1-601c-4f57-97f1-5f31fcafbc44\",                        [{\"cliponaxis\":false,\"hovertemplate\":[\"max_features (CategoricalDistribution): 0.006312307601208124<extra></extra>\",\"bootstrap (CategoricalDistribution): 0.009203421722264052<extra></extra>\",\"max_leaf_nodes (IntUniformDistribution): 0.05775695701358339<extra></extra>\",\"n_jobs (IntUniformDistribution): 0.13867026290416387<extra></extra>\",\"max_depth (IntUniformDistribution): 0.24967036286878794<extra></extra>\",\"n_estimators (IntUniformDistribution): 0.5383866878899926<extra></extra>\"],\"marker\":{\"color\":\"rgb(66,146,198)\"},\"orientation\":\"h\",\"text\":[\"0.006312307601208124\",\"0.009203421722264052\",\"0.05775695701358339\",\"0.13867026290416387\",\"0.24967036286878794\",\"0.5383866878899926\"],\"textposition\":\"outside\",\"texttemplate\":\"%{text:.2f}\",\"x\":[0.006312307601208124,0.009203421722264052,0.05775695701358339,0.13867026290416387,0.24967036286878794,0.5383866878899926],\"y\":[\"max_features\",\"bootstrap\",\"max_leaf_nodes\",\"n_jobs\",\"max_depth\",\"n_estimators\"],\"type\":\"bar\"}],                        {\"showlegend\":false,\"title\":{\"text\":\"Hyperparameter Importances\"},\"xaxis\":{\"title\":{\"text\":\"Importance for Objective Value\"}},\"yaxis\":{\"title\":{\"text\":\"Hyperparameter\"}},\"template\":{\"data\":{\"bar\":[{\"error_x\":{\"color\":\"#2a3f5f\"},\"error_y\":{\"color\":\"#2a3f5f\"},\"marker\":{\"line\":{\"color\":\"#E5ECF6\",\"width\":0.5},\"pattern\":{\"fillmode\":\"overlay\",\"size\":10,\"solidity\":0.2}},\"type\":\"bar\"}],\"barpolar\":[{\"marker\":{\"line\":{\"color\":\"#E5ECF6\",\"width\":0.5},\"pattern\":{\"fillmode\":\"overlay\",\"size\":10,\"solidity\":0.2}},\"type\":\"barpolar\"}],\"carpet\":[{\"aaxis\":{\"endlinecolor\":\"#2a3f5f\",\"gridcolor\":\"white\",\"linecolor\":\"white\",\"minorgridcolor\":\"white\",\"startlinecolor\":\"#2a3f5f\"},\"baxis\":{\"endlinecolor\":\"#2a3f5f\",\"gridcolor\":\"white\",\"linecolor\":\"white\",\"minorgridcolor\":\"white\",\"startlinecolor\":\"#2a3f5f\"},\"type\":\"carpet\"}],\"choropleth\":[{\"colorbar\":{\"outlinewidth\":0,\"ticks\":\"\"},\"type\":\"choropleth\"}],\"contour\":[{\"colorbar\":{\"outlinewidth\":0,\"ticks\":\"\"},\"colorscale\":[[0.0,\"#0d0887\"],[0.1111111111111111,\"#46039f\"],[0.2222222222222222,\"#7201a8\"],[0.3333333333333333,\"#9c179e\"],[0.4444444444444444,\"#bd3786\"],[0.5555555555555556,\"#d8576b\"],[0.6666666666666666,\"#ed7953\"],[0.7777777777777778,\"#fb9f3a\"],[0.8888888888888888,\"#fdca26\"],[1.0,\"#f0f921\"]],\"type\":\"contour\"}],\"contourcarpet\":[{\"colorbar\":{\"outlinewidth\":0,\"ticks\":\"\"},\"type\":\"contourcarpet\"}],\"heatmap\":[{\"colorbar\":{\"outlinewidth\":0,\"ticks\":\"\"},\"colorscale\":[[0.0,\"#0d0887\"],[0.1111111111111111,\"#46039f\"],[0.2222222222222222,\"#7201a8\"],[0.3333333333333333,\"#9c179e\"],[0.4444444444444444,\"#bd3786\"],[0.5555555555555556,\"#d8576b\"],[0.6666666666666666,\"#ed7953\"],[0.7777777777777778,\"#fb9f3a\"],[0.8888888888888888,\"#fdca26\"],[1.0,\"#f0f921\"]],\"type\":\"heatmap\"}],\"heatmapgl\":[{\"colorbar\":{\"outlinewidth\":0,\"ticks\":\"\"},\"colorscale\":[[0.0,\"#0d0887\"],[0.1111111111111111,\"#46039f\"],[0.2222222222222222,\"#7201a8\"],[0.3333333333333333,\"#9c179e\"],[0.4444444444444444,\"#bd3786\"],[0.5555555555555556,\"#d8576b\"],[0.6666666666666666,\"#ed7953\"],[0.7777777777777778,\"#fb9f3a\"],[0.8888888888888888,\"#fdca26\"],[1.0,\"#f0f921\"]],\"type\":\"heatmapgl\"}],\"histogram\":[{\"marker\":{\"pattern\":{\"fillmode\":\"overlay\",\"size\":10,\"solidity\":0.2}},\"type\":\"histogram\"}],\"histogram2d\":[{\"colorbar\":{\"outlinewidth\":0,\"ticks\":\"\"},\"colorscale\":[[0.0,\"#0d0887\"],[0.1111111111111111,\"#46039f\"],[0.2222222222222222,\"#7201a8\"],[0.3333333333333333,\"#9c179e\"],[0.4444444444444444,\"#bd3786\"],[0.5555555555555556,\"#d8576b\"],[0.6666666666666666,\"#ed7953\"],[0.7777777777777778,\"#fb9f3a\"],[0.8888888888888888,\"#fdca26\"],[1.0,\"#f0f921\"]],\"type\":\"histogram2d\"}],\"histogram2dcontour\":[{\"colorbar\":{\"outlinewidth\":0,\"ticks\":\"\"},\"colorscale\":[[0.0,\"#0d0887\"],[0.1111111111111111,\"#46039f\"],[0.2222222222222222,\"#7201a8\"],[0.3333333333333333,\"#9c179e\"],[0.4444444444444444,\"#bd3786\"],[0.5555555555555556,\"#d8576b\"],[0.6666666666666666,\"#ed7953\"],[0.7777777777777778,\"#fb9f3a\"],[0.8888888888888888,\"#fdca26\"],[1.0,\"#f0f921\"]],\"type\":\"histogram2dcontour\"}],\"mesh3d\":[{\"colorbar\":{\"outlinewidth\":0,\"ticks\":\"\"},\"type\":\"mesh3d\"}],\"parcoords\":[{\"line\":{\"colorbar\":{\"outlinewidth\":0,\"ticks\":\"\"}},\"type\":\"parcoords\"}],\"pie\":[{\"automargin\":true,\"type\":\"pie\"}],\"scatter\":[{\"marker\":{\"colorbar\":{\"outlinewidth\":0,\"ticks\":\"\"}},\"type\":\"scatter\"}],\"scatter3d\":[{\"line\":{\"colorbar\":{\"outlinewidth\":0,\"ticks\":\"\"}},\"marker\":{\"colorbar\":{\"outlinewidth\":0,\"ticks\":\"\"}},\"type\":\"scatter3d\"}],\"scattercarpet\":[{\"marker\":{\"colorbar\":{\"outlinewidth\":0,\"ticks\":\"\"}},\"type\":\"scattercarpet\"}],\"scattergeo\":[{\"marker\":{\"colorbar\":{\"outlinewidth\":0,\"ticks\":\"\"}},\"type\":\"scattergeo\"}],\"scattergl\":[{\"marker\":{\"colorbar\":{\"outlinewidth\":0,\"ticks\":\"\"}},\"type\":\"scattergl\"}],\"scattermapbox\":[{\"marker\":{\"colorbar\":{\"outlinewidth\":0,\"ticks\":\"\"}},\"type\":\"scattermapbox\"}],\"scatterpolar\":[{\"marker\":{\"colorbar\":{\"outlinewidth\":0,\"ticks\":\"\"}},\"type\":\"scatterpolar\"}],\"scatterpolargl\":[{\"marker\":{\"colorbar\":{\"outlinewidth\":0,\"ticks\":\"\"}},\"type\":\"scatterpolargl\"}],\"scatterternary\":[{\"marker\":{\"colorbar\":{\"outlinewidth\":0,\"ticks\":\"\"}},\"type\":\"scatterternary\"}],\"surface\":[{\"colorbar\":{\"outlinewidth\":0,\"ticks\":\"\"},\"colorscale\":[[0.0,\"#0d0887\"],[0.1111111111111111,\"#46039f\"],[0.2222222222222222,\"#7201a8\"],[0.3333333333333333,\"#9c179e\"],[0.4444444444444444,\"#bd3786\"],[0.5555555555555556,\"#d8576b\"],[0.6666666666666666,\"#ed7953\"],[0.7777777777777778,\"#fb9f3a\"],[0.8888888888888888,\"#fdca26\"],[1.0,\"#f0f921\"]],\"type\":\"surface\"}],\"table\":[{\"cells\":{\"fill\":{\"color\":\"#EBF0F8\"},\"line\":{\"color\":\"white\"}},\"header\":{\"fill\":{\"color\":\"#C8D4E3\"},\"line\":{\"color\":\"white\"}},\"type\":\"table\"}]},\"layout\":{\"annotationdefaults\":{\"arrowcolor\":\"#2a3f5f\",\"arrowhead\":0,\"arrowwidth\":1},\"autotypenumbers\":\"strict\",\"coloraxis\":{\"colorbar\":{\"outlinewidth\":0,\"ticks\":\"\"}},\"colorscale\":{\"diverging\":[[0,\"#8e0152\"],[0.1,\"#c51b7d\"],[0.2,\"#de77ae\"],[0.3,\"#f1b6da\"],[0.4,\"#fde0ef\"],[0.5,\"#f7f7f7\"],[0.6,\"#e6f5d0\"],[0.7,\"#b8e186\"],[0.8,\"#7fbc41\"],[0.9,\"#4d9221\"],[1,\"#276419\"]],\"sequential\":[[0.0,\"#0d0887\"],[0.1111111111111111,\"#46039f\"],[0.2222222222222222,\"#7201a8\"],[0.3333333333333333,\"#9c179e\"],[0.4444444444444444,\"#bd3786\"],[0.5555555555555556,\"#d8576b\"],[0.6666666666666666,\"#ed7953\"],[0.7777777777777778,\"#fb9f3a\"],[0.8888888888888888,\"#fdca26\"],[1.0,\"#f0f921\"]],\"sequentialminus\":[[0.0,\"#0d0887\"],[0.1111111111111111,\"#46039f\"],[0.2222222222222222,\"#7201a8\"],[0.3333333333333333,\"#9c179e\"],[0.4444444444444444,\"#bd3786\"],[0.5555555555555556,\"#d8576b\"],[0.6666666666666666,\"#ed7953\"],[0.7777777777777778,\"#fb9f3a\"],[0.8888888888888888,\"#fdca26\"],[1.0,\"#f0f921\"]]},\"colorway\":[\"#636efa\",\"#EF553B\",\"#00cc96\",\"#ab63fa\",\"#FFA15A\",\"#19d3f3\",\"#FF6692\",\"#B6E880\",\"#FF97FF\",\"#FECB52\"],\"font\":{\"color\":\"#2a3f5f\"},\"geo\":{\"bgcolor\":\"white\",\"lakecolor\":\"white\",\"landcolor\":\"#E5ECF6\",\"showlakes\":true,\"showland\":true,\"subunitcolor\":\"white\"},\"hoverlabel\":{\"align\":\"left\"},\"hovermode\":\"closest\",\"mapbox\":{\"style\":\"light\"},\"paper_bgcolor\":\"white\",\"plot_bgcolor\":\"#E5ECF6\",\"polar\":{\"angularaxis\":{\"gridcolor\":\"white\",\"linecolor\":\"white\",\"ticks\":\"\"},\"bgcolor\":\"#E5ECF6\",\"radialaxis\":{\"gridcolor\":\"white\",\"linecolor\":\"white\",\"ticks\":\"\"}},\"scene\":{\"xaxis\":{\"backgroundcolor\":\"#E5ECF6\",\"gridcolor\":\"white\",\"gridwidth\":2,\"linecolor\":\"white\",\"showbackground\":true,\"ticks\":\"\",\"zerolinecolor\":\"white\"},\"yaxis\":{\"backgroundcolor\":\"#E5ECF6\",\"gridcolor\":\"white\",\"gridwidth\":2,\"linecolor\":\"white\",\"showbackground\":true,\"ticks\":\"\",\"zerolinecolor\":\"white\"},\"zaxis\":{\"backgroundcolor\":\"#E5ECF6\",\"gridcolor\":\"white\",\"gridwidth\":2,\"linecolor\":\"white\",\"showbackground\":true,\"ticks\":\"\",\"zerolinecolor\":\"white\"}},\"shapedefaults\":{\"line\":{\"color\":\"#2a3f5f\"}},\"ternary\":{\"aaxis\":{\"gridcolor\":\"white\",\"linecolor\":\"white\",\"ticks\":\"\"},\"baxis\":{\"gridcolor\":\"white\",\"linecolor\":\"white\",\"ticks\":\"\"},\"bgcolor\":\"#E5ECF6\",\"caxis\":{\"gridcolor\":\"white\",\"linecolor\":\"white\",\"ticks\":\"\"}},\"title\":{\"x\":0.05},\"xaxis\":{\"automargin\":true,\"gridcolor\":\"white\",\"linecolor\":\"white\",\"ticks\":\"\",\"title\":{\"standoff\":15},\"zerolinecolor\":\"white\",\"zerolinewidth\":2},\"yaxis\":{\"automargin\":true,\"gridcolor\":\"white\",\"linecolor\":\"white\",\"ticks\":\"\",\"title\":{\"standoff\":15},\"zerolinecolor\":\"white\",\"zerolinewidth\":2}}}},                        {\"responsive\": true}                    ).then(function(){\n",
       "                            \n",
       "var gd = document.getElementById('8e1e9fb1-601c-4f57-97f1-5f31fcafbc44');\n",
       "var x = new MutationObserver(function (mutations, observer) {{\n",
       "        var display = window.getComputedStyle(gd).display;\n",
       "        if (!display || display === 'none') {{\n",
       "            console.log([gd, 'removed!']);\n",
       "            Plotly.purge(gd);\n",
       "            observer.disconnect();\n",
       "        }}\n",
       "}});\n",
       "\n",
       "// Listen for the removal of the full notebook cells\n",
       "var notebookContainer = gd.closest('#notebook-container');\n",
       "if (notebookContainer) {{\n",
       "    x.observe(notebookContainer, {childList: true});\n",
       "}}\n",
       "\n",
       "// Listen for the clearing of the current output cell\n",
       "var outputEl = gd.closest('.output');\n",
       "if (outputEl) {{\n",
       "    x.observe(outputEl, {childList: true});\n",
       "}}\n",
       "\n",
       "                        })                };                });            </script>        </div>"
      ]
     },
     "metadata": {},
     "output_type": "display_data"
    }
   ],
   "source": [
    "optuna.visualization.plot_param_importances(study).show()"
   ]
  },
  {
   "cell_type": "code",
   "execution_count": 59,
   "id": "72e670a7",
   "metadata": {},
   "outputs": [
    {
     "data": {
      "text/html": [
       "<div>                            <div id=\"e7a5cc8a-6cd2-47a8-8c38-75710f1aaff4\" class=\"plotly-graph-div\" style=\"height:525px; width:100%;\"></div>            <script type=\"text/javascript\">                require([\"plotly\"], function(Plotly) {                    window.PLOTLYENV=window.PLOTLYENV || {};                                    if (document.getElementById(\"e7a5cc8a-6cd2-47a8-8c38-75710f1aaff4\")) {                    Plotly.newPlot(                        \"e7a5cc8a-6cd2-47a8-8c38-75710f1aaff4\",                        [{\"mode\":\"markers\",\"name\":\"Objective Value\",\"x\":[0,1,2,3,4,5,6,7,8,9,10,11,12,13,14,15,16,17,18,19],\"y\":[0.6944346189671327,0.6968323235815257,0.7006636708743464,0.698613854694117,0.6859212804229238,0.6968323235815257,0.6965580017291995,0.702486473214506,0.698613854694117,0.7003686095360301,0.6978692643719823,0.6968323235815257,0.7009565798851454,0.7005434721821908,0.7027854044382225,0.6938114021660547,0.6968323235815257,0.7009565798851454,0.6917000038286011,0.6969550737508904],\"type\":\"scatter\"},{\"name\":\"Best Value\",\"x\":[0,1,2,3,4,5,6,7,8,9,10,11,12,13,14,15,16,17,18,19],\"y\":[0.6944346189671327,0.6968323235815257,0.7006636708743464,0.7006636708743464,0.7006636708743464,0.7006636708743464,0.7006636708743464,0.702486473214506,0.702486473214506,0.702486473214506,0.702486473214506,0.702486473214506,0.702486473214506,0.702486473214506,0.7027854044382225,0.7027854044382225,0.7027854044382225,0.7027854044382225,0.7027854044382225,0.7027854044382225],\"type\":\"scatter\"}],                        {\"title\":{\"text\":\"Optimization History Plot\"},\"xaxis\":{\"title\":{\"text\":\"#Trials\"}},\"yaxis\":{\"title\":{\"text\":\"Objective Value\"}},\"template\":{\"data\":{\"bar\":[{\"error_x\":{\"color\":\"#2a3f5f\"},\"error_y\":{\"color\":\"#2a3f5f\"},\"marker\":{\"line\":{\"color\":\"#E5ECF6\",\"width\":0.5},\"pattern\":{\"fillmode\":\"overlay\",\"size\":10,\"solidity\":0.2}},\"type\":\"bar\"}],\"barpolar\":[{\"marker\":{\"line\":{\"color\":\"#E5ECF6\",\"width\":0.5},\"pattern\":{\"fillmode\":\"overlay\",\"size\":10,\"solidity\":0.2}},\"type\":\"barpolar\"}],\"carpet\":[{\"aaxis\":{\"endlinecolor\":\"#2a3f5f\",\"gridcolor\":\"white\",\"linecolor\":\"white\",\"minorgridcolor\":\"white\",\"startlinecolor\":\"#2a3f5f\"},\"baxis\":{\"endlinecolor\":\"#2a3f5f\",\"gridcolor\":\"white\",\"linecolor\":\"white\",\"minorgridcolor\":\"white\",\"startlinecolor\":\"#2a3f5f\"},\"type\":\"carpet\"}],\"choropleth\":[{\"colorbar\":{\"outlinewidth\":0,\"ticks\":\"\"},\"type\":\"choropleth\"}],\"contour\":[{\"colorbar\":{\"outlinewidth\":0,\"ticks\":\"\"},\"colorscale\":[[0.0,\"#0d0887\"],[0.1111111111111111,\"#46039f\"],[0.2222222222222222,\"#7201a8\"],[0.3333333333333333,\"#9c179e\"],[0.4444444444444444,\"#bd3786\"],[0.5555555555555556,\"#d8576b\"],[0.6666666666666666,\"#ed7953\"],[0.7777777777777778,\"#fb9f3a\"],[0.8888888888888888,\"#fdca26\"],[1.0,\"#f0f921\"]],\"type\":\"contour\"}],\"contourcarpet\":[{\"colorbar\":{\"outlinewidth\":0,\"ticks\":\"\"},\"type\":\"contourcarpet\"}],\"heatmap\":[{\"colorbar\":{\"outlinewidth\":0,\"ticks\":\"\"},\"colorscale\":[[0.0,\"#0d0887\"],[0.1111111111111111,\"#46039f\"],[0.2222222222222222,\"#7201a8\"],[0.3333333333333333,\"#9c179e\"],[0.4444444444444444,\"#bd3786\"],[0.5555555555555556,\"#d8576b\"],[0.6666666666666666,\"#ed7953\"],[0.7777777777777778,\"#fb9f3a\"],[0.8888888888888888,\"#fdca26\"],[1.0,\"#f0f921\"]],\"type\":\"heatmap\"}],\"heatmapgl\":[{\"colorbar\":{\"outlinewidth\":0,\"ticks\":\"\"},\"colorscale\":[[0.0,\"#0d0887\"],[0.1111111111111111,\"#46039f\"],[0.2222222222222222,\"#7201a8\"],[0.3333333333333333,\"#9c179e\"],[0.4444444444444444,\"#bd3786\"],[0.5555555555555556,\"#d8576b\"],[0.6666666666666666,\"#ed7953\"],[0.7777777777777778,\"#fb9f3a\"],[0.8888888888888888,\"#fdca26\"],[1.0,\"#f0f921\"]],\"type\":\"heatmapgl\"}],\"histogram\":[{\"marker\":{\"pattern\":{\"fillmode\":\"overlay\",\"size\":10,\"solidity\":0.2}},\"type\":\"histogram\"}],\"histogram2d\":[{\"colorbar\":{\"outlinewidth\":0,\"ticks\":\"\"},\"colorscale\":[[0.0,\"#0d0887\"],[0.1111111111111111,\"#46039f\"],[0.2222222222222222,\"#7201a8\"],[0.3333333333333333,\"#9c179e\"],[0.4444444444444444,\"#bd3786\"],[0.5555555555555556,\"#d8576b\"],[0.6666666666666666,\"#ed7953\"],[0.7777777777777778,\"#fb9f3a\"],[0.8888888888888888,\"#fdca26\"],[1.0,\"#f0f921\"]],\"type\":\"histogram2d\"}],\"histogram2dcontour\":[{\"colorbar\":{\"outlinewidth\":0,\"ticks\":\"\"},\"colorscale\":[[0.0,\"#0d0887\"],[0.1111111111111111,\"#46039f\"],[0.2222222222222222,\"#7201a8\"],[0.3333333333333333,\"#9c179e\"],[0.4444444444444444,\"#bd3786\"],[0.5555555555555556,\"#d8576b\"],[0.6666666666666666,\"#ed7953\"],[0.7777777777777778,\"#fb9f3a\"],[0.8888888888888888,\"#fdca26\"],[1.0,\"#f0f921\"]],\"type\":\"histogram2dcontour\"}],\"mesh3d\":[{\"colorbar\":{\"outlinewidth\":0,\"ticks\":\"\"},\"type\":\"mesh3d\"}],\"parcoords\":[{\"line\":{\"colorbar\":{\"outlinewidth\":0,\"ticks\":\"\"}},\"type\":\"parcoords\"}],\"pie\":[{\"automargin\":true,\"type\":\"pie\"}],\"scatter\":[{\"marker\":{\"colorbar\":{\"outlinewidth\":0,\"ticks\":\"\"}},\"type\":\"scatter\"}],\"scatter3d\":[{\"line\":{\"colorbar\":{\"outlinewidth\":0,\"ticks\":\"\"}},\"marker\":{\"colorbar\":{\"outlinewidth\":0,\"ticks\":\"\"}},\"type\":\"scatter3d\"}],\"scattercarpet\":[{\"marker\":{\"colorbar\":{\"outlinewidth\":0,\"ticks\":\"\"}},\"type\":\"scattercarpet\"}],\"scattergeo\":[{\"marker\":{\"colorbar\":{\"outlinewidth\":0,\"ticks\":\"\"}},\"type\":\"scattergeo\"}],\"scattergl\":[{\"marker\":{\"colorbar\":{\"outlinewidth\":0,\"ticks\":\"\"}},\"type\":\"scattergl\"}],\"scattermapbox\":[{\"marker\":{\"colorbar\":{\"outlinewidth\":0,\"ticks\":\"\"}},\"type\":\"scattermapbox\"}],\"scatterpolar\":[{\"marker\":{\"colorbar\":{\"outlinewidth\":0,\"ticks\":\"\"}},\"type\":\"scatterpolar\"}],\"scatterpolargl\":[{\"marker\":{\"colorbar\":{\"outlinewidth\":0,\"ticks\":\"\"}},\"type\":\"scatterpolargl\"}],\"scatterternary\":[{\"marker\":{\"colorbar\":{\"outlinewidth\":0,\"ticks\":\"\"}},\"type\":\"scatterternary\"}],\"surface\":[{\"colorbar\":{\"outlinewidth\":0,\"ticks\":\"\"},\"colorscale\":[[0.0,\"#0d0887\"],[0.1111111111111111,\"#46039f\"],[0.2222222222222222,\"#7201a8\"],[0.3333333333333333,\"#9c179e\"],[0.4444444444444444,\"#bd3786\"],[0.5555555555555556,\"#d8576b\"],[0.6666666666666666,\"#ed7953\"],[0.7777777777777778,\"#fb9f3a\"],[0.8888888888888888,\"#fdca26\"],[1.0,\"#f0f921\"]],\"type\":\"surface\"}],\"table\":[{\"cells\":{\"fill\":{\"color\":\"#EBF0F8\"},\"line\":{\"color\":\"white\"}},\"header\":{\"fill\":{\"color\":\"#C8D4E3\"},\"line\":{\"color\":\"white\"}},\"type\":\"table\"}]},\"layout\":{\"annotationdefaults\":{\"arrowcolor\":\"#2a3f5f\",\"arrowhead\":0,\"arrowwidth\":1},\"autotypenumbers\":\"strict\",\"coloraxis\":{\"colorbar\":{\"outlinewidth\":0,\"ticks\":\"\"}},\"colorscale\":{\"diverging\":[[0,\"#8e0152\"],[0.1,\"#c51b7d\"],[0.2,\"#de77ae\"],[0.3,\"#f1b6da\"],[0.4,\"#fde0ef\"],[0.5,\"#f7f7f7\"],[0.6,\"#e6f5d0\"],[0.7,\"#b8e186\"],[0.8,\"#7fbc41\"],[0.9,\"#4d9221\"],[1,\"#276419\"]],\"sequential\":[[0.0,\"#0d0887\"],[0.1111111111111111,\"#46039f\"],[0.2222222222222222,\"#7201a8\"],[0.3333333333333333,\"#9c179e\"],[0.4444444444444444,\"#bd3786\"],[0.5555555555555556,\"#d8576b\"],[0.6666666666666666,\"#ed7953\"],[0.7777777777777778,\"#fb9f3a\"],[0.8888888888888888,\"#fdca26\"],[1.0,\"#f0f921\"]],\"sequentialminus\":[[0.0,\"#0d0887\"],[0.1111111111111111,\"#46039f\"],[0.2222222222222222,\"#7201a8\"],[0.3333333333333333,\"#9c179e\"],[0.4444444444444444,\"#bd3786\"],[0.5555555555555556,\"#d8576b\"],[0.6666666666666666,\"#ed7953\"],[0.7777777777777778,\"#fb9f3a\"],[0.8888888888888888,\"#fdca26\"],[1.0,\"#f0f921\"]]},\"colorway\":[\"#636efa\",\"#EF553B\",\"#00cc96\",\"#ab63fa\",\"#FFA15A\",\"#19d3f3\",\"#FF6692\",\"#B6E880\",\"#FF97FF\",\"#FECB52\"],\"font\":{\"color\":\"#2a3f5f\"},\"geo\":{\"bgcolor\":\"white\",\"lakecolor\":\"white\",\"landcolor\":\"#E5ECF6\",\"showlakes\":true,\"showland\":true,\"subunitcolor\":\"white\"},\"hoverlabel\":{\"align\":\"left\"},\"hovermode\":\"closest\",\"mapbox\":{\"style\":\"light\"},\"paper_bgcolor\":\"white\",\"plot_bgcolor\":\"#E5ECF6\",\"polar\":{\"angularaxis\":{\"gridcolor\":\"white\",\"linecolor\":\"white\",\"ticks\":\"\"},\"bgcolor\":\"#E5ECF6\",\"radialaxis\":{\"gridcolor\":\"white\",\"linecolor\":\"white\",\"ticks\":\"\"}},\"scene\":{\"xaxis\":{\"backgroundcolor\":\"#E5ECF6\",\"gridcolor\":\"white\",\"gridwidth\":2,\"linecolor\":\"white\",\"showbackground\":true,\"ticks\":\"\",\"zerolinecolor\":\"white\"},\"yaxis\":{\"backgroundcolor\":\"#E5ECF6\",\"gridcolor\":\"white\",\"gridwidth\":2,\"linecolor\":\"white\",\"showbackground\":true,\"ticks\":\"\",\"zerolinecolor\":\"white\"},\"zaxis\":{\"backgroundcolor\":\"#E5ECF6\",\"gridcolor\":\"white\",\"gridwidth\":2,\"linecolor\":\"white\",\"showbackground\":true,\"ticks\":\"\",\"zerolinecolor\":\"white\"}},\"shapedefaults\":{\"line\":{\"color\":\"#2a3f5f\"}},\"ternary\":{\"aaxis\":{\"gridcolor\":\"white\",\"linecolor\":\"white\",\"ticks\":\"\"},\"baxis\":{\"gridcolor\":\"white\",\"linecolor\":\"white\",\"ticks\":\"\"},\"bgcolor\":\"#E5ECF6\",\"caxis\":{\"gridcolor\":\"white\",\"linecolor\":\"white\",\"ticks\":\"\"}},\"title\":{\"x\":0.05},\"xaxis\":{\"automargin\":true,\"gridcolor\":\"white\",\"linecolor\":\"white\",\"ticks\":\"\",\"title\":{\"standoff\":15},\"zerolinecolor\":\"white\",\"zerolinewidth\":2},\"yaxis\":{\"automargin\":true,\"gridcolor\":\"white\",\"linecolor\":\"white\",\"ticks\":\"\",\"title\":{\"standoff\":15},\"zerolinecolor\":\"white\",\"zerolinewidth\":2}}}},                        {\"responsive\": true}                    ).then(function(){\n",
       "                            \n",
       "var gd = document.getElementById('e7a5cc8a-6cd2-47a8-8c38-75710f1aaff4');\n",
       "var x = new MutationObserver(function (mutations, observer) {{\n",
       "        var display = window.getComputedStyle(gd).display;\n",
       "        if (!display || display === 'none') {{\n",
       "            console.log([gd, 'removed!']);\n",
       "            Plotly.purge(gd);\n",
       "            observer.disconnect();\n",
       "        }}\n",
       "}});\n",
       "\n",
       "// Listen for the removal of the full notebook cells\n",
       "var notebookContainer = gd.closest('#notebook-container');\n",
       "if (notebookContainer) {{\n",
       "    x.observe(notebookContainer, {childList: true});\n",
       "}}\n",
       "\n",
       "// Listen for the clearing of the current output cell\n",
       "var outputEl = gd.closest('.output');\n",
       "if (outputEl) {{\n",
       "    x.observe(outputEl, {childList: true});\n",
       "}}\n",
       "\n",
       "                        })                };                });            </script>        </div>"
      ]
     },
     "metadata": {},
     "output_type": "display_data"
    }
   ],
   "source": [
    "fig = optuna.visualization.plot_optimization_history(study)\n",
    "fig.show()"
   ]
  },
  {
   "cell_type": "code",
   "execution_count": 60,
   "id": "babda561",
   "metadata": {},
   "outputs": [
    {
     "data": {
      "text/plain": [
       "{'bootstrap': 'False',\n",
       " 'max_depth': 54402,\n",
       " 'max_features': 'log2',\n",
       " 'max_leaf_nodes': 94905,\n",
       " 'n_estimators': 386,\n",
       " 'n_jobs': 12}"
      ]
     },
     "execution_count": 60,
     "metadata": {},
     "output_type": "execute_result"
    }
   ],
   "source": [
    "study.best_params"
   ]
  },
  {
   "cell_type": "code",
   "execution_count": 61,
   "id": "d2236c42",
   "metadata": {},
   "outputs": [
    {
     "name": "stderr",
     "output_type": "stream",
     "text": [
      "\u001b[32m[I 2022-06-26 20:20:28,497]\u001b[0m Trial 20 finished with value: 0.7123444049418926 and parameters: {'max_depth': 9942, 'max_leaf_nodes': 3487, 'n_estimators': 768, 'n_jobs': 18}. Best is trial 20 with value: 0.7123444049418926.\u001b[0m\n",
      "\u001b[32m[I 2022-06-26 20:20:40,757]\u001b[0m Trial 21 finished with value: 0.7186746447752783 and parameters: {'max_depth': 9357, 'max_leaf_nodes': 3165, 'n_estimators': 287, 'n_jobs': 20}. Best is trial 21 with value: 0.7186746447752783.\u001b[0m\n",
      "\u001b[32m[I 2022-06-26 20:21:01,993]\u001b[0m Trial 22 finished with value: 0.7100951202679731 and parameters: {'max_depth': 9932, 'max_leaf_nodes': 3272, 'n_estimators': 793, 'n_jobs': 20}. Best is trial 21 with value: 0.7186746447752783.\u001b[0m\n",
      "\u001b[32m[I 2022-06-26 20:21:21,580]\u001b[0m Trial 23 finished with value: 0.7100951202679731 and parameters: {'max_depth': 9791, 'max_leaf_nodes': 3202, 'n_estimators': 800, 'n_jobs': 20}. Best is trial 21 with value: 0.7186746447752783.\u001b[0m\n",
      "\u001b[32m[I 2022-06-26 20:21:42,500]\u001b[0m Trial 24 finished with value: 0.7084582865272788 and parameters: {'max_depth': 9730, 'max_leaf_nodes': 3253, 'n_estimators': 865, 'n_jobs': 18}. Best is trial 21 with value: 0.7186746447752783.\u001b[0m\n",
      "\u001b[32m[I 2022-06-26 20:22:06,116]\u001b[0m Trial 25 finished with value: 0.7080345207236094 and parameters: {'max_depth': 9951, 'max_leaf_nodes': 3247, 'n_estimators': 743, 'n_jobs': 20}. Best is trial 21 with value: 0.7186746447752783.\u001b[0m\n",
      "\u001b[32m[I 2022-06-26 20:22:25,956]\u001b[0m Trial 26 finished with value: 0.7058291091720967 and parameters: {'max_depth': 9879, 'max_leaf_nodes': 3065, 'n_estimators': 717, 'n_jobs': 18}. Best is trial 21 with value: 0.7186746447752783.\u001b[0m\n",
      "\u001b[32m[I 2022-06-26 20:22:54,501]\u001b[0m Trial 27 finished with value: 0.7084124224814149 and parameters: {'max_depth': 9395, 'max_leaf_nodes': 3360, 'n_estimators': 874, 'n_jobs': 17}. Best is trial 21 with value: 0.7186746447752783.\u001b[0m\n",
      "\u001b[32m[I 2022-06-26 20:23:30,251]\u001b[0m Trial 28 finished with value: 0.7084124224814149 and parameters: {'max_depth': 9737, 'max_leaf_nodes': 3407, 'n_estimators': 880, 'n_jobs': 20}. Best is trial 21 with value: 0.7186746447752783.\u001b[0m\n",
      "\u001b[32m[I 2022-06-26 20:23:50,447]\u001b[0m Trial 29 finished with value: 0.7121860478583398 and parameters: {'max_depth': 9880, 'max_leaf_nodes': 3287, 'n_estimators': 586, 'n_jobs': 18}. Best is trial 21 with value: 0.7186746447752783.\u001b[0m\n",
      "\u001b[32m[I 2022-06-26 20:24:12,302]\u001b[0m Trial 30 finished with value: 0.7121860478583398 and parameters: {'max_depth': 9668, 'max_leaf_nodes': 3310, 'n_estimators': 564, 'n_jobs': 16}. Best is trial 21 with value: 0.7186746447752783.\u001b[0m\n",
      "\u001b[32m[I 2022-06-26 20:24:34,232]\u001b[0m Trial 31 finished with value: 0.7123674669102142 and parameters: {'max_depth': 9820, 'max_leaf_nodes': 3282, 'n_estimators': 570, 'n_jobs': 16}. Best is trial 21 with value: 0.7186746447752783.\u001b[0m\n",
      "\u001b[32m[I 2022-06-26 20:24:56,942]\u001b[0m Trial 32 finished with value: 0.7102932619494313 and parameters: {'max_depth': 9830, 'max_leaf_nodes': 3388, 'n_estimators': 447, 'n_jobs': 18}. Best is trial 21 with value: 0.7186746447752783.\u001b[0m\n",
      "\u001b[32m[I 2022-06-26 20:25:21,267]\u001b[0m Trial 33 finished with value: 0.7080345207236094 and parameters: {'max_depth': 9873, 'max_leaf_nodes': 3230, 'n_estimators': 693, 'n_jobs': 16}. Best is trial 21 with value: 0.7186746447752783.\u001b[0m\n",
      "\u001b[32m[I 2022-06-26 20:25:40,203]\u001b[0m Trial 34 finished with value: 0.71430579028058 and parameters: {'max_depth': 9787, 'max_leaf_nodes': 3244, 'n_estimators': 543, 'n_jobs': 16}. Best is trial 21 with value: 0.7186746447752783.\u001b[0m\n",
      "\u001b[32m[I 2022-06-26 20:25:48,655]\u001b[0m Trial 35 finished with value: 0.7092258743952577 and parameters: {'max_depth': 9811, 'max_leaf_nodes': 3353, 'n_estimators': 220, 'n_jobs': 15}. Best is trial 21 with value: 0.7186746447752783.\u001b[0m\n",
      "\u001b[32m[I 2022-06-26 20:26:05,509]\u001b[0m Trial 36 finished with value: 0.7079545308895074 and parameters: {'max_depth': 9909, 'max_leaf_nodes': 3330, 'n_estimators': 511, 'n_jobs': 15}. Best is trial 21 with value: 0.7186746447752783.\u001b[0m\n",
      "\u001b[32m[I 2022-06-26 20:26:36,142]\u001b[0m Trial 37 finished with value: 0.7079068384236837 and parameters: {'max_depth': 9596, 'max_leaf_nodes': 3280, 'n_estimators': 671, 'n_jobs': 19}. Best is trial 21 with value: 0.7186746447752783.\u001b[0m\n",
      "\u001b[32m[I 2022-06-26 20:26:51,551]\u001b[0m Trial 38 finished with value: 0.7109522419680957 and parameters: {'max_depth': 9768, 'max_leaf_nodes': 3230, 'n_estimators': 468, 'n_jobs': 17}. Best is trial 21 with value: 0.7186746447752783.\u001b[0m\n",
      "\u001b[32m[I 2022-06-26 20:27:05,572]\u001b[0m Trial 39 finished with value: 0.71430579028058 and parameters: {'max_depth': 9883, 'max_leaf_nodes': 3363, 'n_estimators': 550, 'n_jobs': 14}. Best is trial 21 with value: 0.7186746447752783.\u001b[0m\n"
     ]
    }
   ],
   "source": [
    "# fix the less relevant parameter to continue the optimization\n",
    "def objective(trial):\n",
    "    X_train, X_test, y_train, y_test = train_test_split(X, y, random_state=1)\n",
    "    \n",
    "    max_depth = trial.suggest_int('max_depth', 1, 10000)   \n",
    "    max_leaf_nodes = trial.suggest_int('max_leaf_nodes', 1, 10000)\n",
    "    n_estimators =  trial.suggest_int('n_estimators', 30, 1000)\n",
    "    n_jobs =  trial.suggest_int('n_jobs', 2, 20)\n",
    "    \n",
    "    rf_cl = RandomForestClassifier(bootstrap = 'False', \n",
    "                                   max_depth = max_depth, \n",
    "                                   max_features = 'auto',\n",
    "                                   max_leaf_nodes = max_leaf_nodes,\n",
    "                                   n_estimators = n_estimators,\n",
    "                                   n_jobs = n_jobs,\n",
    "                                   criterion='gini',\n",
    "                                   random_state=853\n",
    "                                  )\n",
    "    \n",
    "    rf_cl.fit(X_train, y_train)\n",
    "    y_pred = rf_cl.predict(X_test)\n",
    "    \n",
    "    score = cross_val_score(rf_cl, X_test, y_test, cv=5, scoring=\"f1_macro\")\n",
    "    f1_mean = score.mean()\n",
    "\n",
    "    return f1_mean\n",
    "\n",
    "\n",
    "study.optimize(objective, n_trials=20)"
   ]
  },
  {
   "cell_type": "code",
   "execution_count": 62,
   "id": "fb9c5d50",
   "metadata": {},
   "outputs": [
    {
     "data": {
      "text/html": [
       "<div>                            <div id=\"a4cf1949-f755-4871-82ab-8306efa3dcee\" class=\"plotly-graph-div\" style=\"height:525px; width:100%;\"></div>            <script type=\"text/javascript\">                require([\"plotly\"], function(Plotly) {                    window.PLOTLYENV=window.PLOTLYENV || {};                                    if (document.getElementById(\"a4cf1949-f755-4871-82ab-8306efa3dcee\")) {                    Plotly.newPlot(                        \"a4cf1949-f755-4871-82ab-8306efa3dcee\",                        [{\"mode\":\"markers\",\"name\":\"Objective Value\",\"x\":[0,1,2,3,4,5,6,7,8,9,10,11,12,13,14,15,16,17,18,19,20,21,22,23,24,25,26,27,28,29,30,31,32,33,34,35,36,37,38,39],\"y\":[0.6944346189671327,0.6968323235815257,0.7006636708743464,0.698613854694117,0.6859212804229238,0.6968323235815257,0.6965580017291995,0.702486473214506,0.698613854694117,0.7003686095360301,0.6978692643719823,0.6968323235815257,0.7009565798851454,0.7005434721821908,0.7027854044382225,0.6938114021660547,0.6968323235815257,0.7009565798851454,0.6917000038286011,0.6969550737508904,0.7123444049418926,0.7186746447752783,0.7100951202679731,0.7100951202679731,0.7084582865272788,0.7080345207236094,0.7058291091720967,0.7084124224814149,0.7084124224814149,0.7121860478583398,0.7121860478583398,0.7123674669102142,0.7102932619494313,0.7080345207236094,0.71430579028058,0.7092258743952577,0.7079545308895074,0.7079068384236837,0.7109522419680957,0.71430579028058],\"type\":\"scatter\"},{\"name\":\"Best Value\",\"x\":[0,1,2,3,4,5,6,7,8,9,10,11,12,13,14,15,16,17,18,19,20,21,22,23,24,25,26,27,28,29,30,31,32,33,34,35,36,37,38,39],\"y\":[0.6944346189671327,0.6968323235815257,0.7006636708743464,0.7006636708743464,0.7006636708743464,0.7006636708743464,0.7006636708743464,0.702486473214506,0.702486473214506,0.702486473214506,0.702486473214506,0.702486473214506,0.702486473214506,0.702486473214506,0.7027854044382225,0.7027854044382225,0.7027854044382225,0.7027854044382225,0.7027854044382225,0.7027854044382225,0.7123444049418926,0.7186746447752783,0.7186746447752783,0.7186746447752783,0.7186746447752783,0.7186746447752783,0.7186746447752783,0.7186746447752783,0.7186746447752783,0.7186746447752783,0.7186746447752783,0.7186746447752783,0.7186746447752783,0.7186746447752783,0.7186746447752783,0.7186746447752783,0.7186746447752783,0.7186746447752783,0.7186746447752783,0.7186746447752783],\"type\":\"scatter\"}],                        {\"title\":{\"text\":\"Optimization History Plot\"},\"xaxis\":{\"title\":{\"text\":\"#Trials\"}},\"yaxis\":{\"title\":{\"text\":\"Objective Value\"}},\"template\":{\"data\":{\"bar\":[{\"error_x\":{\"color\":\"#2a3f5f\"},\"error_y\":{\"color\":\"#2a3f5f\"},\"marker\":{\"line\":{\"color\":\"#E5ECF6\",\"width\":0.5},\"pattern\":{\"fillmode\":\"overlay\",\"size\":10,\"solidity\":0.2}},\"type\":\"bar\"}],\"barpolar\":[{\"marker\":{\"line\":{\"color\":\"#E5ECF6\",\"width\":0.5},\"pattern\":{\"fillmode\":\"overlay\",\"size\":10,\"solidity\":0.2}},\"type\":\"barpolar\"}],\"carpet\":[{\"aaxis\":{\"endlinecolor\":\"#2a3f5f\",\"gridcolor\":\"white\",\"linecolor\":\"white\",\"minorgridcolor\":\"white\",\"startlinecolor\":\"#2a3f5f\"},\"baxis\":{\"endlinecolor\":\"#2a3f5f\",\"gridcolor\":\"white\",\"linecolor\":\"white\",\"minorgridcolor\":\"white\",\"startlinecolor\":\"#2a3f5f\"},\"type\":\"carpet\"}],\"choropleth\":[{\"colorbar\":{\"outlinewidth\":0,\"ticks\":\"\"},\"type\":\"choropleth\"}],\"contour\":[{\"colorbar\":{\"outlinewidth\":0,\"ticks\":\"\"},\"colorscale\":[[0.0,\"#0d0887\"],[0.1111111111111111,\"#46039f\"],[0.2222222222222222,\"#7201a8\"],[0.3333333333333333,\"#9c179e\"],[0.4444444444444444,\"#bd3786\"],[0.5555555555555556,\"#d8576b\"],[0.6666666666666666,\"#ed7953\"],[0.7777777777777778,\"#fb9f3a\"],[0.8888888888888888,\"#fdca26\"],[1.0,\"#f0f921\"]],\"type\":\"contour\"}],\"contourcarpet\":[{\"colorbar\":{\"outlinewidth\":0,\"ticks\":\"\"},\"type\":\"contourcarpet\"}],\"heatmap\":[{\"colorbar\":{\"outlinewidth\":0,\"ticks\":\"\"},\"colorscale\":[[0.0,\"#0d0887\"],[0.1111111111111111,\"#46039f\"],[0.2222222222222222,\"#7201a8\"],[0.3333333333333333,\"#9c179e\"],[0.4444444444444444,\"#bd3786\"],[0.5555555555555556,\"#d8576b\"],[0.6666666666666666,\"#ed7953\"],[0.7777777777777778,\"#fb9f3a\"],[0.8888888888888888,\"#fdca26\"],[1.0,\"#f0f921\"]],\"type\":\"heatmap\"}],\"heatmapgl\":[{\"colorbar\":{\"outlinewidth\":0,\"ticks\":\"\"},\"colorscale\":[[0.0,\"#0d0887\"],[0.1111111111111111,\"#46039f\"],[0.2222222222222222,\"#7201a8\"],[0.3333333333333333,\"#9c179e\"],[0.4444444444444444,\"#bd3786\"],[0.5555555555555556,\"#d8576b\"],[0.6666666666666666,\"#ed7953\"],[0.7777777777777778,\"#fb9f3a\"],[0.8888888888888888,\"#fdca26\"],[1.0,\"#f0f921\"]],\"type\":\"heatmapgl\"}],\"histogram\":[{\"marker\":{\"pattern\":{\"fillmode\":\"overlay\",\"size\":10,\"solidity\":0.2}},\"type\":\"histogram\"}],\"histogram2d\":[{\"colorbar\":{\"outlinewidth\":0,\"ticks\":\"\"},\"colorscale\":[[0.0,\"#0d0887\"],[0.1111111111111111,\"#46039f\"],[0.2222222222222222,\"#7201a8\"],[0.3333333333333333,\"#9c179e\"],[0.4444444444444444,\"#bd3786\"],[0.5555555555555556,\"#d8576b\"],[0.6666666666666666,\"#ed7953\"],[0.7777777777777778,\"#fb9f3a\"],[0.8888888888888888,\"#fdca26\"],[1.0,\"#f0f921\"]],\"type\":\"histogram2d\"}],\"histogram2dcontour\":[{\"colorbar\":{\"outlinewidth\":0,\"ticks\":\"\"},\"colorscale\":[[0.0,\"#0d0887\"],[0.1111111111111111,\"#46039f\"],[0.2222222222222222,\"#7201a8\"],[0.3333333333333333,\"#9c179e\"],[0.4444444444444444,\"#bd3786\"],[0.5555555555555556,\"#d8576b\"],[0.6666666666666666,\"#ed7953\"],[0.7777777777777778,\"#fb9f3a\"],[0.8888888888888888,\"#fdca26\"],[1.0,\"#f0f921\"]],\"type\":\"histogram2dcontour\"}],\"mesh3d\":[{\"colorbar\":{\"outlinewidth\":0,\"ticks\":\"\"},\"type\":\"mesh3d\"}],\"parcoords\":[{\"line\":{\"colorbar\":{\"outlinewidth\":0,\"ticks\":\"\"}},\"type\":\"parcoords\"}],\"pie\":[{\"automargin\":true,\"type\":\"pie\"}],\"scatter\":[{\"marker\":{\"colorbar\":{\"outlinewidth\":0,\"ticks\":\"\"}},\"type\":\"scatter\"}],\"scatter3d\":[{\"line\":{\"colorbar\":{\"outlinewidth\":0,\"ticks\":\"\"}},\"marker\":{\"colorbar\":{\"outlinewidth\":0,\"ticks\":\"\"}},\"type\":\"scatter3d\"}],\"scattercarpet\":[{\"marker\":{\"colorbar\":{\"outlinewidth\":0,\"ticks\":\"\"}},\"type\":\"scattercarpet\"}],\"scattergeo\":[{\"marker\":{\"colorbar\":{\"outlinewidth\":0,\"ticks\":\"\"}},\"type\":\"scattergeo\"}],\"scattergl\":[{\"marker\":{\"colorbar\":{\"outlinewidth\":0,\"ticks\":\"\"}},\"type\":\"scattergl\"}],\"scattermapbox\":[{\"marker\":{\"colorbar\":{\"outlinewidth\":0,\"ticks\":\"\"}},\"type\":\"scattermapbox\"}],\"scatterpolar\":[{\"marker\":{\"colorbar\":{\"outlinewidth\":0,\"ticks\":\"\"}},\"type\":\"scatterpolar\"}],\"scatterpolargl\":[{\"marker\":{\"colorbar\":{\"outlinewidth\":0,\"ticks\":\"\"}},\"type\":\"scatterpolargl\"}],\"scatterternary\":[{\"marker\":{\"colorbar\":{\"outlinewidth\":0,\"ticks\":\"\"}},\"type\":\"scatterternary\"}],\"surface\":[{\"colorbar\":{\"outlinewidth\":0,\"ticks\":\"\"},\"colorscale\":[[0.0,\"#0d0887\"],[0.1111111111111111,\"#46039f\"],[0.2222222222222222,\"#7201a8\"],[0.3333333333333333,\"#9c179e\"],[0.4444444444444444,\"#bd3786\"],[0.5555555555555556,\"#d8576b\"],[0.6666666666666666,\"#ed7953\"],[0.7777777777777778,\"#fb9f3a\"],[0.8888888888888888,\"#fdca26\"],[1.0,\"#f0f921\"]],\"type\":\"surface\"}],\"table\":[{\"cells\":{\"fill\":{\"color\":\"#EBF0F8\"},\"line\":{\"color\":\"white\"}},\"header\":{\"fill\":{\"color\":\"#C8D4E3\"},\"line\":{\"color\":\"white\"}},\"type\":\"table\"}]},\"layout\":{\"annotationdefaults\":{\"arrowcolor\":\"#2a3f5f\",\"arrowhead\":0,\"arrowwidth\":1},\"autotypenumbers\":\"strict\",\"coloraxis\":{\"colorbar\":{\"outlinewidth\":0,\"ticks\":\"\"}},\"colorscale\":{\"diverging\":[[0,\"#8e0152\"],[0.1,\"#c51b7d\"],[0.2,\"#de77ae\"],[0.3,\"#f1b6da\"],[0.4,\"#fde0ef\"],[0.5,\"#f7f7f7\"],[0.6,\"#e6f5d0\"],[0.7,\"#b8e186\"],[0.8,\"#7fbc41\"],[0.9,\"#4d9221\"],[1,\"#276419\"]],\"sequential\":[[0.0,\"#0d0887\"],[0.1111111111111111,\"#46039f\"],[0.2222222222222222,\"#7201a8\"],[0.3333333333333333,\"#9c179e\"],[0.4444444444444444,\"#bd3786\"],[0.5555555555555556,\"#d8576b\"],[0.6666666666666666,\"#ed7953\"],[0.7777777777777778,\"#fb9f3a\"],[0.8888888888888888,\"#fdca26\"],[1.0,\"#f0f921\"]],\"sequentialminus\":[[0.0,\"#0d0887\"],[0.1111111111111111,\"#46039f\"],[0.2222222222222222,\"#7201a8\"],[0.3333333333333333,\"#9c179e\"],[0.4444444444444444,\"#bd3786\"],[0.5555555555555556,\"#d8576b\"],[0.6666666666666666,\"#ed7953\"],[0.7777777777777778,\"#fb9f3a\"],[0.8888888888888888,\"#fdca26\"],[1.0,\"#f0f921\"]]},\"colorway\":[\"#636efa\",\"#EF553B\",\"#00cc96\",\"#ab63fa\",\"#FFA15A\",\"#19d3f3\",\"#FF6692\",\"#B6E880\",\"#FF97FF\",\"#FECB52\"],\"font\":{\"color\":\"#2a3f5f\"},\"geo\":{\"bgcolor\":\"white\",\"lakecolor\":\"white\",\"landcolor\":\"#E5ECF6\",\"showlakes\":true,\"showland\":true,\"subunitcolor\":\"white\"},\"hoverlabel\":{\"align\":\"left\"},\"hovermode\":\"closest\",\"mapbox\":{\"style\":\"light\"},\"paper_bgcolor\":\"white\",\"plot_bgcolor\":\"#E5ECF6\",\"polar\":{\"angularaxis\":{\"gridcolor\":\"white\",\"linecolor\":\"white\",\"ticks\":\"\"},\"bgcolor\":\"#E5ECF6\",\"radialaxis\":{\"gridcolor\":\"white\",\"linecolor\":\"white\",\"ticks\":\"\"}},\"scene\":{\"xaxis\":{\"backgroundcolor\":\"#E5ECF6\",\"gridcolor\":\"white\",\"gridwidth\":2,\"linecolor\":\"white\",\"showbackground\":true,\"ticks\":\"\",\"zerolinecolor\":\"white\"},\"yaxis\":{\"backgroundcolor\":\"#E5ECF6\",\"gridcolor\":\"white\",\"gridwidth\":2,\"linecolor\":\"white\",\"showbackground\":true,\"ticks\":\"\",\"zerolinecolor\":\"white\"},\"zaxis\":{\"backgroundcolor\":\"#E5ECF6\",\"gridcolor\":\"white\",\"gridwidth\":2,\"linecolor\":\"white\",\"showbackground\":true,\"ticks\":\"\",\"zerolinecolor\":\"white\"}},\"shapedefaults\":{\"line\":{\"color\":\"#2a3f5f\"}},\"ternary\":{\"aaxis\":{\"gridcolor\":\"white\",\"linecolor\":\"white\",\"ticks\":\"\"},\"baxis\":{\"gridcolor\":\"white\",\"linecolor\":\"white\",\"ticks\":\"\"},\"bgcolor\":\"#E5ECF6\",\"caxis\":{\"gridcolor\":\"white\",\"linecolor\":\"white\",\"ticks\":\"\"}},\"title\":{\"x\":0.05},\"xaxis\":{\"automargin\":true,\"gridcolor\":\"white\",\"linecolor\":\"white\",\"ticks\":\"\",\"title\":{\"standoff\":15},\"zerolinecolor\":\"white\",\"zerolinewidth\":2},\"yaxis\":{\"automargin\":true,\"gridcolor\":\"white\",\"linecolor\":\"white\",\"ticks\":\"\",\"title\":{\"standoff\":15},\"zerolinecolor\":\"white\",\"zerolinewidth\":2}}}},                        {\"responsive\": true}                    ).then(function(){\n",
       "                            \n",
       "var gd = document.getElementById('a4cf1949-f755-4871-82ab-8306efa3dcee');\n",
       "var x = new MutationObserver(function (mutations, observer) {{\n",
       "        var display = window.getComputedStyle(gd).display;\n",
       "        if (!display || display === 'none') {{\n",
       "            console.log([gd, 'removed!']);\n",
       "            Plotly.purge(gd);\n",
       "            observer.disconnect();\n",
       "        }}\n",
       "}});\n",
       "\n",
       "// Listen for the removal of the full notebook cells\n",
       "var notebookContainer = gd.closest('#notebook-container');\n",
       "if (notebookContainer) {{\n",
       "    x.observe(notebookContainer, {childList: true});\n",
       "}}\n",
       "\n",
       "// Listen for the clearing of the current output cell\n",
       "var outputEl = gd.closest('.output');\n",
       "if (outputEl) {{\n",
       "    x.observe(outputEl, {childList: true});\n",
       "}}\n",
       "\n",
       "                        })                };                });            </script>        </div>"
      ]
     },
     "metadata": {},
     "output_type": "display_data"
    }
   ],
   "source": [
    "fig = optuna.visualization.plot_optimization_history(study)\n",
    "fig.show()"
   ]
  },
  {
   "cell_type": "code",
   "execution_count": 63,
   "id": "6f4bfafe",
   "metadata": {},
   "outputs": [
    {
     "data": {
      "text/html": [
       "<div>                            <div id=\"9381d72c-28bc-4b9b-9896-bdbbf6245166\" class=\"plotly-graph-div\" style=\"height:525px; width:100%;\"></div>            <script type=\"text/javascript\">                require([\"plotly\"], function(Plotly) {                    window.PLOTLYENV=window.PLOTLYENV || {};                                    if (document.getElementById(\"9381d72c-28bc-4b9b-9896-bdbbf6245166\")) {                    Plotly.newPlot(                        \"9381d72c-28bc-4b9b-9896-bdbbf6245166\",                        [{\"cliponaxis\":false,\"hovertemplate\":[\"n_jobs (IntUniformDistribution): 0.49772025703157674<extra></extra>\",\"n_estimators (IntUniformDistribution): 0.5022797429684233<extra></extra>\"],\"marker\":{\"color\":\"rgb(66,146,198)\"},\"orientation\":\"h\",\"text\":[\"0.49772025703157674\",\"0.5022797429684233\"],\"textposition\":\"outside\",\"texttemplate\":\"%{text:.2f}\",\"x\":[0.49772025703157674,0.5022797429684233],\"y\":[\"n_jobs\",\"n_estimators\"],\"type\":\"bar\"}],                        {\"showlegend\":false,\"title\":{\"text\":\"Hyperparameter Importances\"},\"xaxis\":{\"title\":{\"text\":\"Importance for Objective Value\"}},\"yaxis\":{\"title\":{\"text\":\"Hyperparameter\"}},\"template\":{\"data\":{\"bar\":[{\"error_x\":{\"color\":\"#2a3f5f\"},\"error_y\":{\"color\":\"#2a3f5f\"},\"marker\":{\"line\":{\"color\":\"#E5ECF6\",\"width\":0.5},\"pattern\":{\"fillmode\":\"overlay\",\"size\":10,\"solidity\":0.2}},\"type\":\"bar\"}],\"barpolar\":[{\"marker\":{\"line\":{\"color\":\"#E5ECF6\",\"width\":0.5},\"pattern\":{\"fillmode\":\"overlay\",\"size\":10,\"solidity\":0.2}},\"type\":\"barpolar\"}],\"carpet\":[{\"aaxis\":{\"endlinecolor\":\"#2a3f5f\",\"gridcolor\":\"white\",\"linecolor\":\"white\",\"minorgridcolor\":\"white\",\"startlinecolor\":\"#2a3f5f\"},\"baxis\":{\"endlinecolor\":\"#2a3f5f\",\"gridcolor\":\"white\",\"linecolor\":\"white\",\"minorgridcolor\":\"white\",\"startlinecolor\":\"#2a3f5f\"},\"type\":\"carpet\"}],\"choropleth\":[{\"colorbar\":{\"outlinewidth\":0,\"ticks\":\"\"},\"type\":\"choropleth\"}],\"contour\":[{\"colorbar\":{\"outlinewidth\":0,\"ticks\":\"\"},\"colorscale\":[[0.0,\"#0d0887\"],[0.1111111111111111,\"#46039f\"],[0.2222222222222222,\"#7201a8\"],[0.3333333333333333,\"#9c179e\"],[0.4444444444444444,\"#bd3786\"],[0.5555555555555556,\"#d8576b\"],[0.6666666666666666,\"#ed7953\"],[0.7777777777777778,\"#fb9f3a\"],[0.8888888888888888,\"#fdca26\"],[1.0,\"#f0f921\"]],\"type\":\"contour\"}],\"contourcarpet\":[{\"colorbar\":{\"outlinewidth\":0,\"ticks\":\"\"},\"type\":\"contourcarpet\"}],\"heatmap\":[{\"colorbar\":{\"outlinewidth\":0,\"ticks\":\"\"},\"colorscale\":[[0.0,\"#0d0887\"],[0.1111111111111111,\"#46039f\"],[0.2222222222222222,\"#7201a8\"],[0.3333333333333333,\"#9c179e\"],[0.4444444444444444,\"#bd3786\"],[0.5555555555555556,\"#d8576b\"],[0.6666666666666666,\"#ed7953\"],[0.7777777777777778,\"#fb9f3a\"],[0.8888888888888888,\"#fdca26\"],[1.0,\"#f0f921\"]],\"type\":\"heatmap\"}],\"heatmapgl\":[{\"colorbar\":{\"outlinewidth\":0,\"ticks\":\"\"},\"colorscale\":[[0.0,\"#0d0887\"],[0.1111111111111111,\"#46039f\"],[0.2222222222222222,\"#7201a8\"],[0.3333333333333333,\"#9c179e\"],[0.4444444444444444,\"#bd3786\"],[0.5555555555555556,\"#d8576b\"],[0.6666666666666666,\"#ed7953\"],[0.7777777777777778,\"#fb9f3a\"],[0.8888888888888888,\"#fdca26\"],[1.0,\"#f0f921\"]],\"type\":\"heatmapgl\"}],\"histogram\":[{\"marker\":{\"pattern\":{\"fillmode\":\"overlay\",\"size\":10,\"solidity\":0.2}},\"type\":\"histogram\"}],\"histogram2d\":[{\"colorbar\":{\"outlinewidth\":0,\"ticks\":\"\"},\"colorscale\":[[0.0,\"#0d0887\"],[0.1111111111111111,\"#46039f\"],[0.2222222222222222,\"#7201a8\"],[0.3333333333333333,\"#9c179e\"],[0.4444444444444444,\"#bd3786\"],[0.5555555555555556,\"#d8576b\"],[0.6666666666666666,\"#ed7953\"],[0.7777777777777778,\"#fb9f3a\"],[0.8888888888888888,\"#fdca26\"],[1.0,\"#f0f921\"]],\"type\":\"histogram2d\"}],\"histogram2dcontour\":[{\"colorbar\":{\"outlinewidth\":0,\"ticks\":\"\"},\"colorscale\":[[0.0,\"#0d0887\"],[0.1111111111111111,\"#46039f\"],[0.2222222222222222,\"#7201a8\"],[0.3333333333333333,\"#9c179e\"],[0.4444444444444444,\"#bd3786\"],[0.5555555555555556,\"#d8576b\"],[0.6666666666666666,\"#ed7953\"],[0.7777777777777778,\"#fb9f3a\"],[0.8888888888888888,\"#fdca26\"],[1.0,\"#f0f921\"]],\"type\":\"histogram2dcontour\"}],\"mesh3d\":[{\"colorbar\":{\"outlinewidth\":0,\"ticks\":\"\"},\"type\":\"mesh3d\"}],\"parcoords\":[{\"line\":{\"colorbar\":{\"outlinewidth\":0,\"ticks\":\"\"}},\"type\":\"parcoords\"}],\"pie\":[{\"automargin\":true,\"type\":\"pie\"}],\"scatter\":[{\"marker\":{\"colorbar\":{\"outlinewidth\":0,\"ticks\":\"\"}},\"type\":\"scatter\"}],\"scatter3d\":[{\"line\":{\"colorbar\":{\"outlinewidth\":0,\"ticks\":\"\"}},\"marker\":{\"colorbar\":{\"outlinewidth\":0,\"ticks\":\"\"}},\"type\":\"scatter3d\"}],\"scattercarpet\":[{\"marker\":{\"colorbar\":{\"outlinewidth\":0,\"ticks\":\"\"}},\"type\":\"scattercarpet\"}],\"scattergeo\":[{\"marker\":{\"colorbar\":{\"outlinewidth\":0,\"ticks\":\"\"}},\"type\":\"scattergeo\"}],\"scattergl\":[{\"marker\":{\"colorbar\":{\"outlinewidth\":0,\"ticks\":\"\"}},\"type\":\"scattergl\"}],\"scattermapbox\":[{\"marker\":{\"colorbar\":{\"outlinewidth\":0,\"ticks\":\"\"}},\"type\":\"scattermapbox\"}],\"scatterpolar\":[{\"marker\":{\"colorbar\":{\"outlinewidth\":0,\"ticks\":\"\"}},\"type\":\"scatterpolar\"}],\"scatterpolargl\":[{\"marker\":{\"colorbar\":{\"outlinewidth\":0,\"ticks\":\"\"}},\"type\":\"scatterpolargl\"}],\"scatterternary\":[{\"marker\":{\"colorbar\":{\"outlinewidth\":0,\"ticks\":\"\"}},\"type\":\"scatterternary\"}],\"surface\":[{\"colorbar\":{\"outlinewidth\":0,\"ticks\":\"\"},\"colorscale\":[[0.0,\"#0d0887\"],[0.1111111111111111,\"#46039f\"],[0.2222222222222222,\"#7201a8\"],[0.3333333333333333,\"#9c179e\"],[0.4444444444444444,\"#bd3786\"],[0.5555555555555556,\"#d8576b\"],[0.6666666666666666,\"#ed7953\"],[0.7777777777777778,\"#fb9f3a\"],[0.8888888888888888,\"#fdca26\"],[1.0,\"#f0f921\"]],\"type\":\"surface\"}],\"table\":[{\"cells\":{\"fill\":{\"color\":\"#EBF0F8\"},\"line\":{\"color\":\"white\"}},\"header\":{\"fill\":{\"color\":\"#C8D4E3\"},\"line\":{\"color\":\"white\"}},\"type\":\"table\"}]},\"layout\":{\"annotationdefaults\":{\"arrowcolor\":\"#2a3f5f\",\"arrowhead\":0,\"arrowwidth\":1},\"autotypenumbers\":\"strict\",\"coloraxis\":{\"colorbar\":{\"outlinewidth\":0,\"ticks\":\"\"}},\"colorscale\":{\"diverging\":[[0,\"#8e0152\"],[0.1,\"#c51b7d\"],[0.2,\"#de77ae\"],[0.3,\"#f1b6da\"],[0.4,\"#fde0ef\"],[0.5,\"#f7f7f7\"],[0.6,\"#e6f5d0\"],[0.7,\"#b8e186\"],[0.8,\"#7fbc41\"],[0.9,\"#4d9221\"],[1,\"#276419\"]],\"sequential\":[[0.0,\"#0d0887\"],[0.1111111111111111,\"#46039f\"],[0.2222222222222222,\"#7201a8\"],[0.3333333333333333,\"#9c179e\"],[0.4444444444444444,\"#bd3786\"],[0.5555555555555556,\"#d8576b\"],[0.6666666666666666,\"#ed7953\"],[0.7777777777777778,\"#fb9f3a\"],[0.8888888888888888,\"#fdca26\"],[1.0,\"#f0f921\"]],\"sequentialminus\":[[0.0,\"#0d0887\"],[0.1111111111111111,\"#46039f\"],[0.2222222222222222,\"#7201a8\"],[0.3333333333333333,\"#9c179e\"],[0.4444444444444444,\"#bd3786\"],[0.5555555555555556,\"#d8576b\"],[0.6666666666666666,\"#ed7953\"],[0.7777777777777778,\"#fb9f3a\"],[0.8888888888888888,\"#fdca26\"],[1.0,\"#f0f921\"]]},\"colorway\":[\"#636efa\",\"#EF553B\",\"#00cc96\",\"#ab63fa\",\"#FFA15A\",\"#19d3f3\",\"#FF6692\",\"#B6E880\",\"#FF97FF\",\"#FECB52\"],\"font\":{\"color\":\"#2a3f5f\"},\"geo\":{\"bgcolor\":\"white\",\"lakecolor\":\"white\",\"landcolor\":\"#E5ECF6\",\"showlakes\":true,\"showland\":true,\"subunitcolor\":\"white\"},\"hoverlabel\":{\"align\":\"left\"},\"hovermode\":\"closest\",\"mapbox\":{\"style\":\"light\"},\"paper_bgcolor\":\"white\",\"plot_bgcolor\":\"#E5ECF6\",\"polar\":{\"angularaxis\":{\"gridcolor\":\"white\",\"linecolor\":\"white\",\"ticks\":\"\"},\"bgcolor\":\"#E5ECF6\",\"radialaxis\":{\"gridcolor\":\"white\",\"linecolor\":\"white\",\"ticks\":\"\"}},\"scene\":{\"xaxis\":{\"backgroundcolor\":\"#E5ECF6\",\"gridcolor\":\"white\",\"gridwidth\":2,\"linecolor\":\"white\",\"showbackground\":true,\"ticks\":\"\",\"zerolinecolor\":\"white\"},\"yaxis\":{\"backgroundcolor\":\"#E5ECF6\",\"gridcolor\":\"white\",\"gridwidth\":2,\"linecolor\":\"white\",\"showbackground\":true,\"ticks\":\"\",\"zerolinecolor\":\"white\"},\"zaxis\":{\"backgroundcolor\":\"#E5ECF6\",\"gridcolor\":\"white\",\"gridwidth\":2,\"linecolor\":\"white\",\"showbackground\":true,\"ticks\":\"\",\"zerolinecolor\":\"white\"}},\"shapedefaults\":{\"line\":{\"color\":\"#2a3f5f\"}},\"ternary\":{\"aaxis\":{\"gridcolor\":\"white\",\"linecolor\":\"white\",\"ticks\":\"\"},\"baxis\":{\"gridcolor\":\"white\",\"linecolor\":\"white\",\"ticks\":\"\"},\"bgcolor\":\"#E5ECF6\",\"caxis\":{\"gridcolor\":\"white\",\"linecolor\":\"white\",\"ticks\":\"\"}},\"title\":{\"x\":0.05},\"xaxis\":{\"automargin\":true,\"gridcolor\":\"white\",\"linecolor\":\"white\",\"ticks\":\"\",\"title\":{\"standoff\":15},\"zerolinecolor\":\"white\",\"zerolinewidth\":2},\"yaxis\":{\"automargin\":true,\"gridcolor\":\"white\",\"linecolor\":\"white\",\"ticks\":\"\",\"title\":{\"standoff\":15},\"zerolinecolor\":\"white\",\"zerolinewidth\":2}}}},                        {\"responsive\": true}                    ).then(function(){\n",
       "                            \n",
       "var gd = document.getElementById('9381d72c-28bc-4b9b-9896-bdbbf6245166');\n",
       "var x = new MutationObserver(function (mutations, observer) {{\n",
       "        var display = window.getComputedStyle(gd).display;\n",
       "        if (!display || display === 'none') {{\n",
       "            console.log([gd, 'removed!']);\n",
       "            Plotly.purge(gd);\n",
       "            observer.disconnect();\n",
       "        }}\n",
       "}});\n",
       "\n",
       "// Listen for the removal of the full notebook cells\n",
       "var notebookContainer = gd.closest('#notebook-container');\n",
       "if (notebookContainer) {{\n",
       "    x.observe(notebookContainer, {childList: true});\n",
       "}}\n",
       "\n",
       "// Listen for the clearing of the current output cell\n",
       "var outputEl = gd.closest('.output');\n",
       "if (outputEl) {{\n",
       "    x.observe(outputEl, {childList: true});\n",
       "}}\n",
       "\n",
       "                        })                };                });            </script>        </div>"
      ]
     },
     "metadata": {},
     "output_type": "display_data"
    }
   ],
   "source": [
    "optuna.visualization.plot_param_importances(study).show()"
   ]
  },
  {
   "cell_type": "code",
   "execution_count": 64,
   "id": "c3b2cc5a",
   "metadata": {},
   "outputs": [
    {
     "data": {
      "text/plain": [
       "{'max_depth': 9357, 'max_leaf_nodes': 3165, 'n_estimators': 287, 'n_jobs': 20}"
      ]
     },
     "execution_count": 64,
     "metadata": {},
     "output_type": "execute_result"
    }
   ],
   "source": [
    "study.best_params"
   ]
  },
  {
   "cell_type": "code",
   "execution_count": 65,
   "id": "f1a695ff",
   "metadata": {},
   "outputs": [
    {
     "name": "stderr",
     "output_type": "stream",
     "text": [
      "\u001b[32m[I 2022-06-26 20:27:34,134]\u001b[0m Trial 40 finished with value: 0.7119181952228647 and parameters: {'max_depth': 9832, 'max_leaf_nodes': 4235, 'n_estimators': 1153, 'n_jobs': 6}. Best is trial 21 with value: 0.7186746447752783.\u001b[0m\n",
      "\u001b[32m[I 2022-06-26 20:28:12,283]\u001b[0m Trial 41 finished with value: 0.7159418791502521 and parameters: {'max_depth': 9868, 'max_leaf_nodes': 4037, 'n_estimators': 1589, 'n_jobs': 6}. Best is trial 21 with value: 0.7186746447752783.\u001b[0m\n",
      "\u001b[32m[I 2022-06-26 20:28:54,413]\u001b[0m Trial 42 finished with value: 0.7139458335801552 and parameters: {'max_depth': 9765, 'max_leaf_nodes': 4024, 'n_estimators': 1505, 'n_jobs': 6}. Best is trial 21 with value: 0.7186746447752783.\u001b[0m\n",
      "\u001b[32m[I 2022-06-26 20:29:53,618]\u001b[0m Trial 43 finished with value: 0.7181364961274778 and parameters: {'max_depth': 9845, 'max_leaf_nodes': 4010, 'n_estimators': 1539, 'n_jobs': 6}. Best is trial 21 with value: 0.7186746447752783.\u001b[0m\n",
      "\u001b[32m[I 2022-06-26 20:30:39,056]\u001b[0m Trial 44 finished with value: 0.7187116610994758 and parameters: {'max_depth': 9986, 'max_leaf_nodes': 4016, 'n_estimators': 1815, 'n_jobs': 6}. Best is trial 44 with value: 0.7187116610994758.\u001b[0m\n",
      "\u001b[32m[I 2022-06-26 20:31:23,469]\u001b[0m Trial 45 finished with value: 0.712303930703591 and parameters: {'max_depth': 9688, 'max_leaf_nodes': 4065, 'n_estimators': 1924, 'n_jobs': 6}. Best is trial 44 with value: 0.7187116610994758.\u001b[0m\n",
      "\u001b[32m[I 2022-06-26 20:32:06,155]\u001b[0m Trial 46 finished with value: 0.7165170441222501 and parameters: {'max_depth': 9890, 'max_leaf_nodes': 4042, 'n_estimators': 1768, 'n_jobs': 6}. Best is trial 44 with value: 0.7187116610994758.\u001b[0m\n",
      "\u001b[32m[I 2022-06-26 20:32:45,117]\u001b[0m Trial 47 finished with value: 0.7165170441222501 and parameters: {'max_depth': 9908, 'max_leaf_nodes': 4064, 'n_estimators': 1764, 'n_jobs': 6}. Best is trial 44 with value: 0.7187116610994758.\u001b[0m\n",
      "\u001b[32m[I 2022-06-26 20:33:21,022]\u001b[0m Trial 48 finished with value: 0.7165170441222501 and parameters: {'max_depth': 9961, 'max_leaf_nodes': 4210, 'n_estimators': 1794, 'n_jobs': 6}. Best is trial 44 with value: 0.7187116610994758.\u001b[0m\n",
      "\u001b[32m[I 2022-06-26 20:34:07,443]\u001b[0m Trial 49 finished with value: 0.712303930703591 and parameters: {'max_depth': 9967, 'max_leaf_nodes': 4184, 'n_estimators': 1994, 'n_jobs': 6}. Best is trial 44 with value: 0.7187116610994758.\u001b[0m\n",
      "\u001b[32m[I 2022-06-26 20:34:44,296]\u001b[0m Trial 50 finished with value: 0.7181364961274778 and parameters: {'max_depth': 9890, 'max_leaf_nodes': 4326, 'n_estimators': 1656, 'n_jobs': 6}. Best is trial 44 with value: 0.7187116610994758.\u001b[0m\n",
      "\u001b[32m[I 2022-06-26 20:35:20,321]\u001b[0m Trial 51 finished with value: 0.7203964156214397 and parameters: {'max_depth': 9950, 'max_leaf_nodes': 4591, 'n_estimators': 1669, 'n_jobs': 6}. Best is trial 51 with value: 0.7203964156214397.\u001b[0m\n",
      "\u001b[32m[I 2022-06-26 20:35:51,299]\u001b[0m Trial 52 finished with value: 0.7119181952228647 and parameters: {'max_depth': 9946, 'max_leaf_nodes': 4215, 'n_estimators': 1458, 'n_jobs': 6}. Best is trial 51 with value: 0.7203964156214397.\u001b[0m\n",
      "\u001b[32m[I 2022-06-26 20:36:25,688]\u001b[0m Trial 53 finished with value: 0.7165170441222501 and parameters: {'max_depth': 9957, 'max_leaf_nodes': 4270, 'n_estimators': 1689, 'n_jobs': 6}. Best is trial 51 with value: 0.7203964156214397.\u001b[0m\n",
      "\u001b[32m[I 2022-06-26 20:36:56,283]\u001b[0m Trial 54 finished with value: 0.7119181952228647 and parameters: {'max_depth': 9890, 'max_leaf_nodes': 4171, 'n_estimators': 1318, 'n_jobs': 6}. Best is trial 51 with value: 0.7203964156214397.\u001b[0m\n",
      "\u001b[32m[I 2022-06-26 20:37:31,408]\u001b[0m Trial 55 finished with value: 0.7165170441222501 and parameters: {'max_depth': 9910, 'max_leaf_nodes': 4124, 'n_estimators': 1821, 'n_jobs': 6}. Best is trial 51 with value: 0.7203964156214397.\u001b[0m\n",
      "\u001b[32m[I 2022-06-26 20:38:10,390]\u001b[0m Trial 56 finished with value: 0.714292585621196 and parameters: {'max_depth': 9898, 'max_leaf_nodes': 4161, 'n_estimators': 1842, 'n_jobs': 6}. Best is trial 51 with value: 0.7203964156214397.\u001b[0m\n",
      "\u001b[32m[I 2022-06-26 20:38:42,925]\u001b[0m Trial 57 finished with value: 0.7181364961274778 and parameters: {'max_depth': 9998, 'max_leaf_nodes': 4179, 'n_estimators': 1656, 'n_jobs': 6}. Best is trial 51 with value: 0.7203964156214397.\u001b[0m\n",
      "\u001b[32m[I 2022-06-26 20:39:15,015]\u001b[0m Trial 58 finished with value: 0.7181364961274778 and parameters: {'max_depth': 9993, 'max_leaf_nodes': 4078, 'n_estimators': 1649, 'n_jobs': 6}. Best is trial 51 with value: 0.7203964156214397.\u001b[0m\n",
      "\u001b[32m[I 2022-06-26 20:39:44,245]\u001b[0m Trial 59 finished with value: 0.7136951987071852 and parameters: {'max_depth': 9687, 'max_leaf_nodes': 4230, 'n_estimators': 1296, 'n_jobs': 6}. Best is trial 51 with value: 0.7203964156214397.\u001b[0m\n"
     ]
    }
   ],
   "source": [
    "# fix the less relevant parameter to continue the optimization\n",
    "def objective(trial):\n",
    "    X_train, X_test, y_train, y_test = train_test_split(X, y, random_state=1)\n",
    "    \n",
    "    max_depth = trial.suggest_int('max_depth', 1, 10000)   \n",
    "    max_leaf_nodes = trial.suggest_int('max_leaf_nodes', 4000, 20000)\n",
    "    n_estimators =  trial.suggest_int('n_estimators', 100, 2000)\n",
    "    n_jobs =  trial.suggest_int('n_jobs', 2, 6)\n",
    "    \n",
    "    rf_cl = RandomForestClassifier(bootstrap = 'False', \n",
    "                                   max_depth = max_depth, \n",
    "                                   max_features = 'auto',\n",
    "                                   max_leaf_nodes = max_leaf_nodes,\n",
    "                                   n_estimators = n_estimators,\n",
    "                                   n_jobs = n_jobs,\n",
    "                                   criterion='gini',\n",
    "                                   random_state=853\n",
    "                                  )\n",
    "    \n",
    "    rf_cl.fit(X_train, y_train)\n",
    "    y_pred = rf_cl.predict(X_test)\n",
    "    \n",
    "    score = cross_val_score(rf_cl, X_test, y_test, cv=5, scoring=\"f1_macro\")\n",
    "    f1_mean = score.mean()\n",
    "\n",
    "    return f1_mean\n",
    "\n",
    "\n",
    "study.optimize(objective, n_trials=20)"
   ]
  },
  {
   "cell_type": "code",
   "execution_count": 66,
   "id": "977ca13b",
   "metadata": {},
   "outputs": [
    {
     "data": {
      "text/html": [
       "<div>                            <div id=\"6e750471-5593-4d0f-8757-c02b2683fa37\" class=\"plotly-graph-div\" style=\"height:525px; width:100%;\"></div>            <script type=\"text/javascript\">                require([\"plotly\"], function(Plotly) {                    window.PLOTLYENV=window.PLOTLYENV || {};                                    if (document.getElementById(\"6e750471-5593-4d0f-8757-c02b2683fa37\")) {                    Plotly.newPlot(                        \"6e750471-5593-4d0f-8757-c02b2683fa37\",                        [{\"mode\":\"markers\",\"name\":\"Objective Value\",\"x\":[0,1,2,3,4,5,6,7,8,9,10,11,12,13,14,15,16,17,18,19,20,21,22,23,24,25,26,27,28,29,30,31,32,33,34,35,36,37,38,39,40,41,42,43,44,45,46,47,48,49,50,51,52,53,54,55,56,57,58,59],\"y\":[0.6944346189671327,0.6968323235815257,0.7006636708743464,0.698613854694117,0.6859212804229238,0.6968323235815257,0.6965580017291995,0.702486473214506,0.698613854694117,0.7003686095360301,0.6978692643719823,0.6968323235815257,0.7009565798851454,0.7005434721821908,0.7027854044382225,0.6938114021660547,0.6968323235815257,0.7009565798851454,0.6917000038286011,0.6969550737508904,0.7123444049418926,0.7186746447752783,0.7100951202679731,0.7100951202679731,0.7084582865272788,0.7080345207236094,0.7058291091720967,0.7084124224814149,0.7084124224814149,0.7121860478583398,0.7121860478583398,0.7123674669102142,0.7102932619494313,0.7080345207236094,0.71430579028058,0.7092258743952577,0.7079545308895074,0.7079068384236837,0.7109522419680957,0.71430579028058,0.7119181952228647,0.7159418791502521,0.7139458335801552,0.7181364961274778,0.7187116610994758,0.712303930703591,0.7165170441222501,0.7165170441222501,0.7165170441222501,0.712303930703591,0.7181364961274778,0.7203964156214397,0.7119181952228647,0.7165170441222501,0.7119181952228647,0.7165170441222501,0.714292585621196,0.7181364961274778,0.7181364961274778,0.7136951987071852],\"type\":\"scatter\"},{\"name\":\"Best Value\",\"x\":[0,1,2,3,4,5,6,7,8,9,10,11,12,13,14,15,16,17,18,19,20,21,22,23,24,25,26,27,28,29,30,31,32,33,34,35,36,37,38,39,40,41,42,43,44,45,46,47,48,49,50,51,52,53,54,55,56,57,58,59],\"y\":[0.6944346189671327,0.6968323235815257,0.7006636708743464,0.7006636708743464,0.7006636708743464,0.7006636708743464,0.7006636708743464,0.702486473214506,0.702486473214506,0.702486473214506,0.702486473214506,0.702486473214506,0.702486473214506,0.702486473214506,0.7027854044382225,0.7027854044382225,0.7027854044382225,0.7027854044382225,0.7027854044382225,0.7027854044382225,0.7123444049418926,0.7186746447752783,0.7186746447752783,0.7186746447752783,0.7186746447752783,0.7186746447752783,0.7186746447752783,0.7186746447752783,0.7186746447752783,0.7186746447752783,0.7186746447752783,0.7186746447752783,0.7186746447752783,0.7186746447752783,0.7186746447752783,0.7186746447752783,0.7186746447752783,0.7186746447752783,0.7186746447752783,0.7186746447752783,0.7186746447752783,0.7186746447752783,0.7186746447752783,0.7186746447752783,0.7187116610994758,0.7187116610994758,0.7187116610994758,0.7187116610994758,0.7187116610994758,0.7187116610994758,0.7187116610994758,0.7203964156214397,0.7203964156214397,0.7203964156214397,0.7203964156214397,0.7203964156214397,0.7203964156214397,0.7203964156214397,0.7203964156214397,0.7203964156214397],\"type\":\"scatter\"}],                        {\"title\":{\"text\":\"Optimization History Plot\"},\"xaxis\":{\"title\":{\"text\":\"#Trials\"}},\"yaxis\":{\"title\":{\"text\":\"Objective Value\"}},\"template\":{\"data\":{\"bar\":[{\"error_x\":{\"color\":\"#2a3f5f\"},\"error_y\":{\"color\":\"#2a3f5f\"},\"marker\":{\"line\":{\"color\":\"#E5ECF6\",\"width\":0.5},\"pattern\":{\"fillmode\":\"overlay\",\"size\":10,\"solidity\":0.2}},\"type\":\"bar\"}],\"barpolar\":[{\"marker\":{\"line\":{\"color\":\"#E5ECF6\",\"width\":0.5},\"pattern\":{\"fillmode\":\"overlay\",\"size\":10,\"solidity\":0.2}},\"type\":\"barpolar\"}],\"carpet\":[{\"aaxis\":{\"endlinecolor\":\"#2a3f5f\",\"gridcolor\":\"white\",\"linecolor\":\"white\",\"minorgridcolor\":\"white\",\"startlinecolor\":\"#2a3f5f\"},\"baxis\":{\"endlinecolor\":\"#2a3f5f\",\"gridcolor\":\"white\",\"linecolor\":\"white\",\"minorgridcolor\":\"white\",\"startlinecolor\":\"#2a3f5f\"},\"type\":\"carpet\"}],\"choropleth\":[{\"colorbar\":{\"outlinewidth\":0,\"ticks\":\"\"},\"type\":\"choropleth\"}],\"contour\":[{\"colorbar\":{\"outlinewidth\":0,\"ticks\":\"\"},\"colorscale\":[[0.0,\"#0d0887\"],[0.1111111111111111,\"#46039f\"],[0.2222222222222222,\"#7201a8\"],[0.3333333333333333,\"#9c179e\"],[0.4444444444444444,\"#bd3786\"],[0.5555555555555556,\"#d8576b\"],[0.6666666666666666,\"#ed7953\"],[0.7777777777777778,\"#fb9f3a\"],[0.8888888888888888,\"#fdca26\"],[1.0,\"#f0f921\"]],\"type\":\"contour\"}],\"contourcarpet\":[{\"colorbar\":{\"outlinewidth\":0,\"ticks\":\"\"},\"type\":\"contourcarpet\"}],\"heatmap\":[{\"colorbar\":{\"outlinewidth\":0,\"ticks\":\"\"},\"colorscale\":[[0.0,\"#0d0887\"],[0.1111111111111111,\"#46039f\"],[0.2222222222222222,\"#7201a8\"],[0.3333333333333333,\"#9c179e\"],[0.4444444444444444,\"#bd3786\"],[0.5555555555555556,\"#d8576b\"],[0.6666666666666666,\"#ed7953\"],[0.7777777777777778,\"#fb9f3a\"],[0.8888888888888888,\"#fdca26\"],[1.0,\"#f0f921\"]],\"type\":\"heatmap\"}],\"heatmapgl\":[{\"colorbar\":{\"outlinewidth\":0,\"ticks\":\"\"},\"colorscale\":[[0.0,\"#0d0887\"],[0.1111111111111111,\"#46039f\"],[0.2222222222222222,\"#7201a8\"],[0.3333333333333333,\"#9c179e\"],[0.4444444444444444,\"#bd3786\"],[0.5555555555555556,\"#d8576b\"],[0.6666666666666666,\"#ed7953\"],[0.7777777777777778,\"#fb9f3a\"],[0.8888888888888888,\"#fdca26\"],[1.0,\"#f0f921\"]],\"type\":\"heatmapgl\"}],\"histogram\":[{\"marker\":{\"pattern\":{\"fillmode\":\"overlay\",\"size\":10,\"solidity\":0.2}},\"type\":\"histogram\"}],\"histogram2d\":[{\"colorbar\":{\"outlinewidth\":0,\"ticks\":\"\"},\"colorscale\":[[0.0,\"#0d0887\"],[0.1111111111111111,\"#46039f\"],[0.2222222222222222,\"#7201a8\"],[0.3333333333333333,\"#9c179e\"],[0.4444444444444444,\"#bd3786\"],[0.5555555555555556,\"#d8576b\"],[0.6666666666666666,\"#ed7953\"],[0.7777777777777778,\"#fb9f3a\"],[0.8888888888888888,\"#fdca26\"],[1.0,\"#f0f921\"]],\"type\":\"histogram2d\"}],\"histogram2dcontour\":[{\"colorbar\":{\"outlinewidth\":0,\"ticks\":\"\"},\"colorscale\":[[0.0,\"#0d0887\"],[0.1111111111111111,\"#46039f\"],[0.2222222222222222,\"#7201a8\"],[0.3333333333333333,\"#9c179e\"],[0.4444444444444444,\"#bd3786\"],[0.5555555555555556,\"#d8576b\"],[0.6666666666666666,\"#ed7953\"],[0.7777777777777778,\"#fb9f3a\"],[0.8888888888888888,\"#fdca26\"],[1.0,\"#f0f921\"]],\"type\":\"histogram2dcontour\"}],\"mesh3d\":[{\"colorbar\":{\"outlinewidth\":0,\"ticks\":\"\"},\"type\":\"mesh3d\"}],\"parcoords\":[{\"line\":{\"colorbar\":{\"outlinewidth\":0,\"ticks\":\"\"}},\"type\":\"parcoords\"}],\"pie\":[{\"automargin\":true,\"type\":\"pie\"}],\"scatter\":[{\"marker\":{\"colorbar\":{\"outlinewidth\":0,\"ticks\":\"\"}},\"type\":\"scatter\"}],\"scatter3d\":[{\"line\":{\"colorbar\":{\"outlinewidth\":0,\"ticks\":\"\"}},\"marker\":{\"colorbar\":{\"outlinewidth\":0,\"ticks\":\"\"}},\"type\":\"scatter3d\"}],\"scattercarpet\":[{\"marker\":{\"colorbar\":{\"outlinewidth\":0,\"ticks\":\"\"}},\"type\":\"scattercarpet\"}],\"scattergeo\":[{\"marker\":{\"colorbar\":{\"outlinewidth\":0,\"ticks\":\"\"}},\"type\":\"scattergeo\"}],\"scattergl\":[{\"marker\":{\"colorbar\":{\"outlinewidth\":0,\"ticks\":\"\"}},\"type\":\"scattergl\"}],\"scattermapbox\":[{\"marker\":{\"colorbar\":{\"outlinewidth\":0,\"ticks\":\"\"}},\"type\":\"scattermapbox\"}],\"scatterpolar\":[{\"marker\":{\"colorbar\":{\"outlinewidth\":0,\"ticks\":\"\"}},\"type\":\"scatterpolar\"}],\"scatterpolargl\":[{\"marker\":{\"colorbar\":{\"outlinewidth\":0,\"ticks\":\"\"}},\"type\":\"scatterpolargl\"}],\"scatterternary\":[{\"marker\":{\"colorbar\":{\"outlinewidth\":0,\"ticks\":\"\"}},\"type\":\"scatterternary\"}],\"surface\":[{\"colorbar\":{\"outlinewidth\":0,\"ticks\":\"\"},\"colorscale\":[[0.0,\"#0d0887\"],[0.1111111111111111,\"#46039f\"],[0.2222222222222222,\"#7201a8\"],[0.3333333333333333,\"#9c179e\"],[0.4444444444444444,\"#bd3786\"],[0.5555555555555556,\"#d8576b\"],[0.6666666666666666,\"#ed7953\"],[0.7777777777777778,\"#fb9f3a\"],[0.8888888888888888,\"#fdca26\"],[1.0,\"#f0f921\"]],\"type\":\"surface\"}],\"table\":[{\"cells\":{\"fill\":{\"color\":\"#EBF0F8\"},\"line\":{\"color\":\"white\"}},\"header\":{\"fill\":{\"color\":\"#C8D4E3\"},\"line\":{\"color\":\"white\"}},\"type\":\"table\"}]},\"layout\":{\"annotationdefaults\":{\"arrowcolor\":\"#2a3f5f\",\"arrowhead\":0,\"arrowwidth\":1},\"autotypenumbers\":\"strict\",\"coloraxis\":{\"colorbar\":{\"outlinewidth\":0,\"ticks\":\"\"}},\"colorscale\":{\"diverging\":[[0,\"#8e0152\"],[0.1,\"#c51b7d\"],[0.2,\"#de77ae\"],[0.3,\"#f1b6da\"],[0.4,\"#fde0ef\"],[0.5,\"#f7f7f7\"],[0.6,\"#e6f5d0\"],[0.7,\"#b8e186\"],[0.8,\"#7fbc41\"],[0.9,\"#4d9221\"],[1,\"#276419\"]],\"sequential\":[[0.0,\"#0d0887\"],[0.1111111111111111,\"#46039f\"],[0.2222222222222222,\"#7201a8\"],[0.3333333333333333,\"#9c179e\"],[0.4444444444444444,\"#bd3786\"],[0.5555555555555556,\"#d8576b\"],[0.6666666666666666,\"#ed7953\"],[0.7777777777777778,\"#fb9f3a\"],[0.8888888888888888,\"#fdca26\"],[1.0,\"#f0f921\"]],\"sequentialminus\":[[0.0,\"#0d0887\"],[0.1111111111111111,\"#46039f\"],[0.2222222222222222,\"#7201a8\"],[0.3333333333333333,\"#9c179e\"],[0.4444444444444444,\"#bd3786\"],[0.5555555555555556,\"#d8576b\"],[0.6666666666666666,\"#ed7953\"],[0.7777777777777778,\"#fb9f3a\"],[0.8888888888888888,\"#fdca26\"],[1.0,\"#f0f921\"]]},\"colorway\":[\"#636efa\",\"#EF553B\",\"#00cc96\",\"#ab63fa\",\"#FFA15A\",\"#19d3f3\",\"#FF6692\",\"#B6E880\",\"#FF97FF\",\"#FECB52\"],\"font\":{\"color\":\"#2a3f5f\"},\"geo\":{\"bgcolor\":\"white\",\"lakecolor\":\"white\",\"landcolor\":\"#E5ECF6\",\"showlakes\":true,\"showland\":true,\"subunitcolor\":\"white\"},\"hoverlabel\":{\"align\":\"left\"},\"hovermode\":\"closest\",\"mapbox\":{\"style\":\"light\"},\"paper_bgcolor\":\"white\",\"plot_bgcolor\":\"#E5ECF6\",\"polar\":{\"angularaxis\":{\"gridcolor\":\"white\",\"linecolor\":\"white\",\"ticks\":\"\"},\"bgcolor\":\"#E5ECF6\",\"radialaxis\":{\"gridcolor\":\"white\",\"linecolor\":\"white\",\"ticks\":\"\"}},\"scene\":{\"xaxis\":{\"backgroundcolor\":\"#E5ECF6\",\"gridcolor\":\"white\",\"gridwidth\":2,\"linecolor\":\"white\",\"showbackground\":true,\"ticks\":\"\",\"zerolinecolor\":\"white\"},\"yaxis\":{\"backgroundcolor\":\"#E5ECF6\",\"gridcolor\":\"white\",\"gridwidth\":2,\"linecolor\":\"white\",\"showbackground\":true,\"ticks\":\"\",\"zerolinecolor\":\"white\"},\"zaxis\":{\"backgroundcolor\":\"#E5ECF6\",\"gridcolor\":\"white\",\"gridwidth\":2,\"linecolor\":\"white\",\"showbackground\":true,\"ticks\":\"\",\"zerolinecolor\":\"white\"}},\"shapedefaults\":{\"line\":{\"color\":\"#2a3f5f\"}},\"ternary\":{\"aaxis\":{\"gridcolor\":\"white\",\"linecolor\":\"white\",\"ticks\":\"\"},\"baxis\":{\"gridcolor\":\"white\",\"linecolor\":\"white\",\"ticks\":\"\"},\"bgcolor\":\"#E5ECF6\",\"caxis\":{\"gridcolor\":\"white\",\"linecolor\":\"white\",\"ticks\":\"\"}},\"title\":{\"x\":0.05},\"xaxis\":{\"automargin\":true,\"gridcolor\":\"white\",\"linecolor\":\"white\",\"ticks\":\"\",\"title\":{\"standoff\":15},\"zerolinecolor\":\"white\",\"zerolinewidth\":2},\"yaxis\":{\"automargin\":true,\"gridcolor\":\"white\",\"linecolor\":\"white\",\"ticks\":\"\",\"title\":{\"standoff\":15},\"zerolinecolor\":\"white\",\"zerolinewidth\":2}}}},                        {\"responsive\": true}                    ).then(function(){\n",
       "                            \n",
       "var gd = document.getElementById('6e750471-5593-4d0f-8757-c02b2683fa37');\n",
       "var x = new MutationObserver(function (mutations, observer) {{\n",
       "        var display = window.getComputedStyle(gd).display;\n",
       "        if (!display || display === 'none') {{\n",
       "            console.log([gd, 'removed!']);\n",
       "            Plotly.purge(gd);\n",
       "            observer.disconnect();\n",
       "        }}\n",
       "}});\n",
       "\n",
       "// Listen for the removal of the full notebook cells\n",
       "var notebookContainer = gd.closest('#notebook-container');\n",
       "if (notebookContainer) {{\n",
       "    x.observe(notebookContainer, {childList: true});\n",
       "}}\n",
       "\n",
       "// Listen for the clearing of the current output cell\n",
       "var outputEl = gd.closest('.output');\n",
       "if (outputEl) {{\n",
       "    x.observe(outputEl, {childList: true});\n",
       "}}\n",
       "\n",
       "                        })                };                });            </script>        </div>"
      ]
     },
     "metadata": {},
     "output_type": "display_data"
    }
   ],
   "source": [
    "fig = optuna.visualization.plot_optimization_history(study)\n",
    "fig.show()"
   ]
  },
  {
   "cell_type": "code",
   "execution_count": 67,
   "id": "97ed0202",
   "metadata": {},
   "outputs": [
    {
     "data": {
      "text/html": [
       "<div>                            <div id=\"01d36a52-2974-4158-aba1-8ff706affe82\" class=\"plotly-graph-div\" style=\"height:525px; width:100%;\"></div>            <script type=\"text/javascript\">                require([\"plotly\"], function(Plotly) {                    window.PLOTLYENV=window.PLOTLYENV || {};                                    if (document.getElementById(\"01d36a52-2974-4158-aba1-8ff706affe82\")) {                    Plotly.newPlot(                        \"01d36a52-2974-4158-aba1-8ff706affe82\",                        [{\"cliponaxis\":false,\"hovertemplate\":[],\"marker\":{\"color\":\"rgb(66,146,198)\"},\"orientation\":\"h\",\"text\":[],\"textposition\":\"outside\",\"texttemplate\":\"%{text:.2f}\",\"x\":[],\"y\":[],\"type\":\"bar\"}],                        {\"showlegend\":false,\"title\":{\"text\":\"Hyperparameter Importances\"},\"xaxis\":{\"title\":{\"text\":\"Importance for Objective Value\"}},\"yaxis\":{\"title\":{\"text\":\"Hyperparameter\"}},\"template\":{\"data\":{\"bar\":[{\"error_x\":{\"color\":\"#2a3f5f\"},\"error_y\":{\"color\":\"#2a3f5f\"},\"marker\":{\"line\":{\"color\":\"#E5ECF6\",\"width\":0.5},\"pattern\":{\"fillmode\":\"overlay\",\"size\":10,\"solidity\":0.2}},\"type\":\"bar\"}],\"barpolar\":[{\"marker\":{\"line\":{\"color\":\"#E5ECF6\",\"width\":0.5},\"pattern\":{\"fillmode\":\"overlay\",\"size\":10,\"solidity\":0.2}},\"type\":\"barpolar\"}],\"carpet\":[{\"aaxis\":{\"endlinecolor\":\"#2a3f5f\",\"gridcolor\":\"white\",\"linecolor\":\"white\",\"minorgridcolor\":\"white\",\"startlinecolor\":\"#2a3f5f\"},\"baxis\":{\"endlinecolor\":\"#2a3f5f\",\"gridcolor\":\"white\",\"linecolor\":\"white\",\"minorgridcolor\":\"white\",\"startlinecolor\":\"#2a3f5f\"},\"type\":\"carpet\"}],\"choropleth\":[{\"colorbar\":{\"outlinewidth\":0,\"ticks\":\"\"},\"type\":\"choropleth\"}],\"contour\":[{\"colorbar\":{\"outlinewidth\":0,\"ticks\":\"\"},\"colorscale\":[[0.0,\"#0d0887\"],[0.1111111111111111,\"#46039f\"],[0.2222222222222222,\"#7201a8\"],[0.3333333333333333,\"#9c179e\"],[0.4444444444444444,\"#bd3786\"],[0.5555555555555556,\"#d8576b\"],[0.6666666666666666,\"#ed7953\"],[0.7777777777777778,\"#fb9f3a\"],[0.8888888888888888,\"#fdca26\"],[1.0,\"#f0f921\"]],\"type\":\"contour\"}],\"contourcarpet\":[{\"colorbar\":{\"outlinewidth\":0,\"ticks\":\"\"},\"type\":\"contourcarpet\"}],\"heatmap\":[{\"colorbar\":{\"outlinewidth\":0,\"ticks\":\"\"},\"colorscale\":[[0.0,\"#0d0887\"],[0.1111111111111111,\"#46039f\"],[0.2222222222222222,\"#7201a8\"],[0.3333333333333333,\"#9c179e\"],[0.4444444444444444,\"#bd3786\"],[0.5555555555555556,\"#d8576b\"],[0.6666666666666666,\"#ed7953\"],[0.7777777777777778,\"#fb9f3a\"],[0.8888888888888888,\"#fdca26\"],[1.0,\"#f0f921\"]],\"type\":\"heatmap\"}],\"heatmapgl\":[{\"colorbar\":{\"outlinewidth\":0,\"ticks\":\"\"},\"colorscale\":[[0.0,\"#0d0887\"],[0.1111111111111111,\"#46039f\"],[0.2222222222222222,\"#7201a8\"],[0.3333333333333333,\"#9c179e\"],[0.4444444444444444,\"#bd3786\"],[0.5555555555555556,\"#d8576b\"],[0.6666666666666666,\"#ed7953\"],[0.7777777777777778,\"#fb9f3a\"],[0.8888888888888888,\"#fdca26\"],[1.0,\"#f0f921\"]],\"type\":\"heatmapgl\"}],\"histogram\":[{\"marker\":{\"pattern\":{\"fillmode\":\"overlay\",\"size\":10,\"solidity\":0.2}},\"type\":\"histogram\"}],\"histogram2d\":[{\"colorbar\":{\"outlinewidth\":0,\"ticks\":\"\"},\"colorscale\":[[0.0,\"#0d0887\"],[0.1111111111111111,\"#46039f\"],[0.2222222222222222,\"#7201a8\"],[0.3333333333333333,\"#9c179e\"],[0.4444444444444444,\"#bd3786\"],[0.5555555555555556,\"#d8576b\"],[0.6666666666666666,\"#ed7953\"],[0.7777777777777778,\"#fb9f3a\"],[0.8888888888888888,\"#fdca26\"],[1.0,\"#f0f921\"]],\"type\":\"histogram2d\"}],\"histogram2dcontour\":[{\"colorbar\":{\"outlinewidth\":0,\"ticks\":\"\"},\"colorscale\":[[0.0,\"#0d0887\"],[0.1111111111111111,\"#46039f\"],[0.2222222222222222,\"#7201a8\"],[0.3333333333333333,\"#9c179e\"],[0.4444444444444444,\"#bd3786\"],[0.5555555555555556,\"#d8576b\"],[0.6666666666666666,\"#ed7953\"],[0.7777777777777778,\"#fb9f3a\"],[0.8888888888888888,\"#fdca26\"],[1.0,\"#f0f921\"]],\"type\":\"histogram2dcontour\"}],\"mesh3d\":[{\"colorbar\":{\"outlinewidth\":0,\"ticks\":\"\"},\"type\":\"mesh3d\"}],\"parcoords\":[{\"line\":{\"colorbar\":{\"outlinewidth\":0,\"ticks\":\"\"}},\"type\":\"parcoords\"}],\"pie\":[{\"automargin\":true,\"type\":\"pie\"}],\"scatter\":[{\"marker\":{\"colorbar\":{\"outlinewidth\":0,\"ticks\":\"\"}},\"type\":\"scatter\"}],\"scatter3d\":[{\"line\":{\"colorbar\":{\"outlinewidth\":0,\"ticks\":\"\"}},\"marker\":{\"colorbar\":{\"outlinewidth\":0,\"ticks\":\"\"}},\"type\":\"scatter3d\"}],\"scattercarpet\":[{\"marker\":{\"colorbar\":{\"outlinewidth\":0,\"ticks\":\"\"}},\"type\":\"scattercarpet\"}],\"scattergeo\":[{\"marker\":{\"colorbar\":{\"outlinewidth\":0,\"ticks\":\"\"}},\"type\":\"scattergeo\"}],\"scattergl\":[{\"marker\":{\"colorbar\":{\"outlinewidth\":0,\"ticks\":\"\"}},\"type\":\"scattergl\"}],\"scattermapbox\":[{\"marker\":{\"colorbar\":{\"outlinewidth\":0,\"ticks\":\"\"}},\"type\":\"scattermapbox\"}],\"scatterpolar\":[{\"marker\":{\"colorbar\":{\"outlinewidth\":0,\"ticks\":\"\"}},\"type\":\"scatterpolar\"}],\"scatterpolargl\":[{\"marker\":{\"colorbar\":{\"outlinewidth\":0,\"ticks\":\"\"}},\"type\":\"scatterpolargl\"}],\"scatterternary\":[{\"marker\":{\"colorbar\":{\"outlinewidth\":0,\"ticks\":\"\"}},\"type\":\"scatterternary\"}],\"surface\":[{\"colorbar\":{\"outlinewidth\":0,\"ticks\":\"\"},\"colorscale\":[[0.0,\"#0d0887\"],[0.1111111111111111,\"#46039f\"],[0.2222222222222222,\"#7201a8\"],[0.3333333333333333,\"#9c179e\"],[0.4444444444444444,\"#bd3786\"],[0.5555555555555556,\"#d8576b\"],[0.6666666666666666,\"#ed7953\"],[0.7777777777777778,\"#fb9f3a\"],[0.8888888888888888,\"#fdca26\"],[1.0,\"#f0f921\"]],\"type\":\"surface\"}],\"table\":[{\"cells\":{\"fill\":{\"color\":\"#EBF0F8\"},\"line\":{\"color\":\"white\"}},\"header\":{\"fill\":{\"color\":\"#C8D4E3\"},\"line\":{\"color\":\"white\"}},\"type\":\"table\"}]},\"layout\":{\"annotationdefaults\":{\"arrowcolor\":\"#2a3f5f\",\"arrowhead\":0,\"arrowwidth\":1},\"autotypenumbers\":\"strict\",\"coloraxis\":{\"colorbar\":{\"outlinewidth\":0,\"ticks\":\"\"}},\"colorscale\":{\"diverging\":[[0,\"#8e0152\"],[0.1,\"#c51b7d\"],[0.2,\"#de77ae\"],[0.3,\"#f1b6da\"],[0.4,\"#fde0ef\"],[0.5,\"#f7f7f7\"],[0.6,\"#e6f5d0\"],[0.7,\"#b8e186\"],[0.8,\"#7fbc41\"],[0.9,\"#4d9221\"],[1,\"#276419\"]],\"sequential\":[[0.0,\"#0d0887\"],[0.1111111111111111,\"#46039f\"],[0.2222222222222222,\"#7201a8\"],[0.3333333333333333,\"#9c179e\"],[0.4444444444444444,\"#bd3786\"],[0.5555555555555556,\"#d8576b\"],[0.6666666666666666,\"#ed7953\"],[0.7777777777777778,\"#fb9f3a\"],[0.8888888888888888,\"#fdca26\"],[1.0,\"#f0f921\"]],\"sequentialminus\":[[0.0,\"#0d0887\"],[0.1111111111111111,\"#46039f\"],[0.2222222222222222,\"#7201a8\"],[0.3333333333333333,\"#9c179e\"],[0.4444444444444444,\"#bd3786\"],[0.5555555555555556,\"#d8576b\"],[0.6666666666666666,\"#ed7953\"],[0.7777777777777778,\"#fb9f3a\"],[0.8888888888888888,\"#fdca26\"],[1.0,\"#f0f921\"]]},\"colorway\":[\"#636efa\",\"#EF553B\",\"#00cc96\",\"#ab63fa\",\"#FFA15A\",\"#19d3f3\",\"#FF6692\",\"#B6E880\",\"#FF97FF\",\"#FECB52\"],\"font\":{\"color\":\"#2a3f5f\"},\"geo\":{\"bgcolor\":\"white\",\"lakecolor\":\"white\",\"landcolor\":\"#E5ECF6\",\"showlakes\":true,\"showland\":true,\"subunitcolor\":\"white\"},\"hoverlabel\":{\"align\":\"left\"},\"hovermode\":\"closest\",\"mapbox\":{\"style\":\"light\"},\"paper_bgcolor\":\"white\",\"plot_bgcolor\":\"#E5ECF6\",\"polar\":{\"angularaxis\":{\"gridcolor\":\"white\",\"linecolor\":\"white\",\"ticks\":\"\"},\"bgcolor\":\"#E5ECF6\",\"radialaxis\":{\"gridcolor\":\"white\",\"linecolor\":\"white\",\"ticks\":\"\"}},\"scene\":{\"xaxis\":{\"backgroundcolor\":\"#E5ECF6\",\"gridcolor\":\"white\",\"gridwidth\":2,\"linecolor\":\"white\",\"showbackground\":true,\"ticks\":\"\",\"zerolinecolor\":\"white\"},\"yaxis\":{\"backgroundcolor\":\"#E5ECF6\",\"gridcolor\":\"white\",\"gridwidth\":2,\"linecolor\":\"white\",\"showbackground\":true,\"ticks\":\"\",\"zerolinecolor\":\"white\"},\"zaxis\":{\"backgroundcolor\":\"#E5ECF6\",\"gridcolor\":\"white\",\"gridwidth\":2,\"linecolor\":\"white\",\"showbackground\":true,\"ticks\":\"\",\"zerolinecolor\":\"white\"}},\"shapedefaults\":{\"line\":{\"color\":\"#2a3f5f\"}},\"ternary\":{\"aaxis\":{\"gridcolor\":\"white\",\"linecolor\":\"white\",\"ticks\":\"\"},\"baxis\":{\"gridcolor\":\"white\",\"linecolor\":\"white\",\"ticks\":\"\"},\"bgcolor\":\"#E5ECF6\",\"caxis\":{\"gridcolor\":\"white\",\"linecolor\":\"white\",\"ticks\":\"\"}},\"title\":{\"x\":0.05},\"xaxis\":{\"automargin\":true,\"gridcolor\":\"white\",\"linecolor\":\"white\",\"ticks\":\"\",\"title\":{\"standoff\":15},\"zerolinecolor\":\"white\",\"zerolinewidth\":2},\"yaxis\":{\"automargin\":true,\"gridcolor\":\"white\",\"linecolor\":\"white\",\"ticks\":\"\",\"title\":{\"standoff\":15},\"zerolinecolor\":\"white\",\"zerolinewidth\":2}}}},                        {\"responsive\": true}                    ).then(function(){\n",
       "                            \n",
       "var gd = document.getElementById('01d36a52-2974-4158-aba1-8ff706affe82');\n",
       "var x = new MutationObserver(function (mutations, observer) {{\n",
       "        var display = window.getComputedStyle(gd).display;\n",
       "        if (!display || display === 'none') {{\n",
       "            console.log([gd, 'removed!']);\n",
       "            Plotly.purge(gd);\n",
       "            observer.disconnect();\n",
       "        }}\n",
       "}});\n",
       "\n",
       "// Listen for the removal of the full notebook cells\n",
       "var notebookContainer = gd.closest('#notebook-container');\n",
       "if (notebookContainer) {{\n",
       "    x.observe(notebookContainer, {childList: true});\n",
       "}}\n",
       "\n",
       "// Listen for the clearing of the current output cell\n",
       "var outputEl = gd.closest('.output');\n",
       "if (outputEl) {{\n",
       "    x.observe(outputEl, {childList: true});\n",
       "}}\n",
       "\n",
       "                        })                };                });            </script>        </div>"
      ]
     },
     "metadata": {},
     "output_type": "display_data"
    }
   ],
   "source": [
    "optuna.visualization.plot_param_importances(study).show()"
   ]
  },
  {
   "cell_type": "code",
   "execution_count": 68,
   "id": "d97ed64a",
   "metadata": {},
   "outputs": [
    {
     "data": {
      "text/plain": [
       "{'max_depth': 9950, 'max_leaf_nodes': 4591, 'n_estimators': 1669, 'n_jobs': 6}"
      ]
     },
     "execution_count": 68,
     "metadata": {},
     "output_type": "execute_result"
    }
   ],
   "source": [
    "study.best_params"
   ]
  },
  {
   "cell_type": "code",
   "execution_count": 69,
   "id": "7f9992c0",
   "metadata": {},
   "outputs": [
    {
     "name": "stderr",
     "output_type": "stream",
     "text": [
      "\u001b[32m[I 2022-06-26 20:40:02,959]\u001b[0m Trial 60 finished with value: 0.7100951202679731 and parameters: {'max_depth': 4011, 'max_leaf_nodes': 4018, 'n_estimators': 794, 'n_jobs': 6}. Best is trial 51 with value: 0.7203964156214397.\u001b[0m\n",
      "\u001b[32m[I 2022-06-26 20:40:14,241]\u001b[0m Trial 61 finished with value: 0.7147170994201375 and parameters: {'max_depth': 4193, 'max_leaf_nodes': 4050, 'n_estimators': 327, 'n_jobs': 6}. Best is trial 51 with value: 0.7203964156214397.\u001b[0m\n",
      "\u001b[32m[I 2022-06-26 20:40:21,562]\u001b[0m Trial 62 finished with value: 0.7175300946995377 and parameters: {'max_depth': 3153, 'max_leaf_nodes': 4087, 'n_estimators': 276, 'n_jobs': 6}. Best is trial 51 with value: 0.7203964156214397.\u001b[0m\n",
      "\u001b[32m[I 2022-06-26 20:40:28,114]\u001b[0m Trial 63 finished with value: 0.704872752493182 and parameters: {'max_depth': 1661, 'max_leaf_nodes': 4055, 'n_estimators': 215, 'n_jobs': 6}. Best is trial 51 with value: 0.7203964156214397.\u001b[0m\n",
      "\u001b[32m[I 2022-06-26 20:40:42,146]\u001b[0m Trial 64 finished with value: 0.7102040967209421 and parameters: {'max_depth': 4905, 'max_leaf_nodes': 4044, 'n_estimators': 618, 'n_jobs': 6}. Best is trial 51 with value: 0.7203964156214397.\u001b[0m\n",
      "\u001b[32m[I 2022-06-26 20:40:53,322]\u001b[0m Trial 65 finished with value: 0.7129078662112086 and parameters: {'max_depth': 2222, 'max_leaf_nodes': 4026, 'n_estimators': 416, 'n_jobs': 6}. Best is trial 51 with value: 0.7203964156214397.\u001b[0m\n",
      "\u001b[32m[I 2022-06-26 20:41:05,146]\u001b[0m Trial 66 finished with value: 0.7165409527725461 and parameters: {'max_depth': 4887, 'max_leaf_nodes': 4048, 'n_estimators': 363, 'n_jobs': 6}. Best is trial 51 with value: 0.7203964156214397.\u001b[0m\n",
      "\u001b[32m[I 2022-06-26 20:41:24,774]\u001b[0m Trial 67 finished with value: 0.7100951202679731 and parameters: {'max_depth': 2530, 'max_leaf_nodes': 4032, 'n_estimators': 799, 'n_jobs': 6}. Best is trial 51 with value: 0.7203964156214397.\u001b[0m\n",
      "\u001b[32m[I 2022-06-26 20:41:36,921]\u001b[0m Trial 68 finished with value: 0.7082662579796141 and parameters: {'max_depth': 4882, 'max_leaf_nodes': 4160, 'n_estimators': 503, 'n_jobs': 6}. Best is trial 51 with value: 0.7203964156214397.\u001b[0m\n",
      "\u001b[32m[I 2022-06-26 20:41:43,345]\u001b[0m Trial 69 finished with value: 0.7115846506563999 and parameters: {'max_depth': 1438, 'max_leaf_nodes': 4082, 'n_estimators': 246, 'n_jobs': 5}. Best is trial 51 with value: 0.7203964156214397.\u001b[0m\n",
      "\u001b[32m[I 2022-06-26 20:41:51,287]\u001b[0m Trial 70 finished with value: 0.7152246576635225 and parameters: {'max_depth': 3107, 'max_leaf_nodes': 4026, 'n_estimators': 292, 'n_jobs': 5}. Best is trial 51 with value: 0.7203964156214397.\u001b[0m\n",
      "\u001b[32m[I 2022-06-26 20:42:00,774]\u001b[0m Trial 71 finished with value: 0.715512110371356 and parameters: {'max_depth': 1006, 'max_leaf_nodes': 4039, 'n_estimators': 261, 'n_jobs': 6}. Best is trial 51 with value: 0.7203964156214397.\u001b[0m\n",
      "\u001b[32m[I 2022-06-26 20:42:09,508]\u001b[0m Trial 72 finished with value: 0.7165128413490859 and parameters: {'max_depth': 3871, 'max_leaf_nodes': 4019, 'n_estimators': 365, 'n_jobs': 6}. Best is trial 51 with value: 0.7203964156214397.\u001b[0m\n",
      "\u001b[32m[I 2022-06-26 20:42:18,569]\u001b[0m Trial 73 finished with value: 0.7147452108435978 and parameters: {'max_depth': 3120, 'max_leaf_nodes': 4042, 'n_estimators': 323, 'n_jobs': 6}. Best is trial 51 with value: 0.7203964156214397.\u001b[0m\n",
      "\u001b[32m[I 2022-06-26 20:42:28,345]\u001b[0m Trial 74 finished with value: 0.71066190220828 and parameters: {'max_depth': 3468, 'max_leaf_nodes': 4007, 'n_estimators': 436, 'n_jobs': 6}. Best is trial 51 with value: 0.7203964156214397.\u001b[0m\n",
      "\u001b[32m[I 2022-06-26 20:42:45,092]\u001b[0m Trial 75 finished with value: 0.7100951202679731 and parameters: {'max_depth': 4496, 'max_leaf_nodes': 4005, 'n_estimators': 772, 'n_jobs': 6}. Best is trial 51 with value: 0.7203964156214397.\u001b[0m\n",
      "\u001b[32m[I 2022-06-26 20:42:54,473]\u001b[0m Trial 76 finished with value: 0.7152246576635225 and parameters: {'max_depth': 2579, 'max_leaf_nodes': 4029, 'n_estimators': 294, 'n_jobs': 6}. Best is trial 51 with value: 0.7203964156214397.\u001b[0m\n",
      "\u001b[32m[I 2022-06-26 20:43:01,630]\u001b[0m Trial 77 finished with value: 0.7111533838392713 and parameters: {'max_depth': 3357, 'max_leaf_nodes': 4033, 'n_estimators': 240, 'n_jobs': 6}. Best is trial 51 with value: 0.7203964156214397.\u001b[0m\n",
      "\u001b[32m[I 2022-06-26 20:43:10,595]\u001b[0m Trial 78 finished with value: 0.7181620040713778 and parameters: {'max_depth': 2182, 'max_leaf_nodes': 4042, 'n_estimators': 336, 'n_jobs': 6}. Best is trial 51 with value: 0.7203964156214397.\u001b[0m\n",
      "\u001b[32m[I 2022-06-26 20:43:24,216]\u001b[0m Trial 79 finished with value: 0.7102040967209421 and parameters: {'max_depth': 2151, 'max_leaf_nodes': 4000, 'n_estimators': 639, 'n_jobs': 5}. Best is trial 51 with value: 0.7203964156214397.\u001b[0m\n"
     ]
    }
   ],
   "source": [
    "# fix the less relevant parameter to continue the optimization\n",
    "def objective(trial):\n",
    "    X_train, X_test, y_train, y_test = train_test_split(X, y, random_state=1)\n",
    "    \n",
    "    max_depth = trial.suggest_int('max_depth', 1000, 5000)   \n",
    "    max_leaf_nodes = trial.suggest_int('max_leaf_nodes', 4000, 10000)\n",
    "    n_estimators =  trial.suggest_int('n_estimators', 200, 800)\n",
    "    n_jobs =  trial.suggest_int('n_jobs', 2, 6)\n",
    "    \n",
    "    rf_cl = RandomForestClassifier(bootstrap = 'False', \n",
    "                                   max_depth = max_depth, \n",
    "                                   max_features = 'auto',\n",
    "                                   max_leaf_nodes = max_leaf_nodes,\n",
    "                                   n_estimators = n_estimators,\n",
    "                                   n_jobs = n_jobs,\n",
    "                                   criterion='gini',\n",
    "                                   random_state=853\n",
    "                                  )\n",
    "    \n",
    "    rf_cl.fit(X_train, y_train)\n",
    "    y_pred = rf_cl.predict(X_test)\n",
    "    \n",
    "    score = cross_val_score(rf_cl, X_test, y_test, cv=5, scoring=\"f1_macro\")\n",
    "    f1_mean = score.mean()\n",
    "\n",
    "    return f1_mean\n",
    "\n",
    "\n",
    "study.optimize(objective, n_trials=20)"
   ]
  },
  {
   "cell_type": "code",
   "execution_count": 70,
   "id": "fd232d75",
   "metadata": {},
   "outputs": [
    {
     "data": {
      "text/html": [
       "<div>                            <div id=\"0a480bdf-53e3-4b30-ad60-c1383bcf90b9\" class=\"plotly-graph-div\" style=\"height:525px; width:100%;\"></div>            <script type=\"text/javascript\">                require([\"plotly\"], function(Plotly) {                    window.PLOTLYENV=window.PLOTLYENV || {};                                    if (document.getElementById(\"0a480bdf-53e3-4b30-ad60-c1383bcf90b9\")) {                    Plotly.newPlot(                        \"0a480bdf-53e3-4b30-ad60-c1383bcf90b9\",                        [{\"mode\":\"markers\",\"name\":\"Objective Value\",\"x\":[0,1,2,3,4,5,6,7,8,9,10,11,12,13,14,15,16,17,18,19,20,21,22,23,24,25,26,27,28,29,30,31,32,33,34,35,36,37,38,39,40,41,42,43,44,45,46,47,48,49,50,51,52,53,54,55,56,57,58,59,60,61,62,63,64,65,66,67,68,69,70,71,72,73,74,75,76,77,78,79],\"y\":[0.6944346189671327,0.6968323235815257,0.7006636708743464,0.698613854694117,0.6859212804229238,0.6968323235815257,0.6965580017291995,0.702486473214506,0.698613854694117,0.7003686095360301,0.6978692643719823,0.6968323235815257,0.7009565798851454,0.7005434721821908,0.7027854044382225,0.6938114021660547,0.6968323235815257,0.7009565798851454,0.6917000038286011,0.6969550737508904,0.7123444049418926,0.7186746447752783,0.7100951202679731,0.7100951202679731,0.7084582865272788,0.7080345207236094,0.7058291091720967,0.7084124224814149,0.7084124224814149,0.7121860478583398,0.7121860478583398,0.7123674669102142,0.7102932619494313,0.7080345207236094,0.71430579028058,0.7092258743952577,0.7079545308895074,0.7079068384236837,0.7109522419680957,0.71430579028058,0.7119181952228647,0.7159418791502521,0.7139458335801552,0.7181364961274778,0.7187116610994758,0.712303930703591,0.7165170441222501,0.7165170441222501,0.7165170441222501,0.712303930703591,0.7181364961274778,0.7203964156214397,0.7119181952228647,0.7165170441222501,0.7119181952228647,0.7165170441222501,0.714292585621196,0.7181364961274778,0.7181364961274778,0.7136951987071852,0.7100951202679731,0.7147170994201375,0.7175300946995377,0.704872752493182,0.7102040967209421,0.7129078662112086,0.7165409527725461,0.7100951202679731,0.7082662579796141,0.7115846506563999,0.7152246576635225,0.715512110371356,0.7165128413490859,0.7147452108435978,0.71066190220828,0.7100951202679731,0.7152246576635225,0.7111533838392713,0.7181620040713778,0.7102040967209421],\"type\":\"scatter\"},{\"name\":\"Best Value\",\"x\":[0,1,2,3,4,5,6,7,8,9,10,11,12,13,14,15,16,17,18,19,20,21,22,23,24,25,26,27,28,29,30,31,32,33,34,35,36,37,38,39,40,41,42,43,44,45,46,47,48,49,50,51,52,53,54,55,56,57,58,59,60,61,62,63,64,65,66,67,68,69,70,71,72,73,74,75,76,77,78,79],\"y\":[0.6944346189671327,0.6968323235815257,0.7006636708743464,0.7006636708743464,0.7006636708743464,0.7006636708743464,0.7006636708743464,0.702486473214506,0.702486473214506,0.702486473214506,0.702486473214506,0.702486473214506,0.702486473214506,0.702486473214506,0.7027854044382225,0.7027854044382225,0.7027854044382225,0.7027854044382225,0.7027854044382225,0.7027854044382225,0.7123444049418926,0.7186746447752783,0.7186746447752783,0.7186746447752783,0.7186746447752783,0.7186746447752783,0.7186746447752783,0.7186746447752783,0.7186746447752783,0.7186746447752783,0.7186746447752783,0.7186746447752783,0.7186746447752783,0.7186746447752783,0.7186746447752783,0.7186746447752783,0.7186746447752783,0.7186746447752783,0.7186746447752783,0.7186746447752783,0.7186746447752783,0.7186746447752783,0.7186746447752783,0.7186746447752783,0.7187116610994758,0.7187116610994758,0.7187116610994758,0.7187116610994758,0.7187116610994758,0.7187116610994758,0.7187116610994758,0.7203964156214397,0.7203964156214397,0.7203964156214397,0.7203964156214397,0.7203964156214397,0.7203964156214397,0.7203964156214397,0.7203964156214397,0.7203964156214397,0.7203964156214397,0.7203964156214397,0.7203964156214397,0.7203964156214397,0.7203964156214397,0.7203964156214397,0.7203964156214397,0.7203964156214397,0.7203964156214397,0.7203964156214397,0.7203964156214397,0.7203964156214397,0.7203964156214397,0.7203964156214397,0.7203964156214397,0.7203964156214397,0.7203964156214397,0.7203964156214397,0.7203964156214397,0.7203964156214397],\"type\":\"scatter\"}],                        {\"title\":{\"text\":\"Optimization History Plot\"},\"xaxis\":{\"title\":{\"text\":\"#Trials\"}},\"yaxis\":{\"title\":{\"text\":\"Objective Value\"}},\"template\":{\"data\":{\"bar\":[{\"error_x\":{\"color\":\"#2a3f5f\"},\"error_y\":{\"color\":\"#2a3f5f\"},\"marker\":{\"line\":{\"color\":\"#E5ECF6\",\"width\":0.5},\"pattern\":{\"fillmode\":\"overlay\",\"size\":10,\"solidity\":0.2}},\"type\":\"bar\"}],\"barpolar\":[{\"marker\":{\"line\":{\"color\":\"#E5ECF6\",\"width\":0.5},\"pattern\":{\"fillmode\":\"overlay\",\"size\":10,\"solidity\":0.2}},\"type\":\"barpolar\"}],\"carpet\":[{\"aaxis\":{\"endlinecolor\":\"#2a3f5f\",\"gridcolor\":\"white\",\"linecolor\":\"white\",\"minorgridcolor\":\"white\",\"startlinecolor\":\"#2a3f5f\"},\"baxis\":{\"endlinecolor\":\"#2a3f5f\",\"gridcolor\":\"white\",\"linecolor\":\"white\",\"minorgridcolor\":\"white\",\"startlinecolor\":\"#2a3f5f\"},\"type\":\"carpet\"}],\"choropleth\":[{\"colorbar\":{\"outlinewidth\":0,\"ticks\":\"\"},\"type\":\"choropleth\"}],\"contour\":[{\"colorbar\":{\"outlinewidth\":0,\"ticks\":\"\"},\"colorscale\":[[0.0,\"#0d0887\"],[0.1111111111111111,\"#46039f\"],[0.2222222222222222,\"#7201a8\"],[0.3333333333333333,\"#9c179e\"],[0.4444444444444444,\"#bd3786\"],[0.5555555555555556,\"#d8576b\"],[0.6666666666666666,\"#ed7953\"],[0.7777777777777778,\"#fb9f3a\"],[0.8888888888888888,\"#fdca26\"],[1.0,\"#f0f921\"]],\"type\":\"contour\"}],\"contourcarpet\":[{\"colorbar\":{\"outlinewidth\":0,\"ticks\":\"\"},\"type\":\"contourcarpet\"}],\"heatmap\":[{\"colorbar\":{\"outlinewidth\":0,\"ticks\":\"\"},\"colorscale\":[[0.0,\"#0d0887\"],[0.1111111111111111,\"#46039f\"],[0.2222222222222222,\"#7201a8\"],[0.3333333333333333,\"#9c179e\"],[0.4444444444444444,\"#bd3786\"],[0.5555555555555556,\"#d8576b\"],[0.6666666666666666,\"#ed7953\"],[0.7777777777777778,\"#fb9f3a\"],[0.8888888888888888,\"#fdca26\"],[1.0,\"#f0f921\"]],\"type\":\"heatmap\"}],\"heatmapgl\":[{\"colorbar\":{\"outlinewidth\":0,\"ticks\":\"\"},\"colorscale\":[[0.0,\"#0d0887\"],[0.1111111111111111,\"#46039f\"],[0.2222222222222222,\"#7201a8\"],[0.3333333333333333,\"#9c179e\"],[0.4444444444444444,\"#bd3786\"],[0.5555555555555556,\"#d8576b\"],[0.6666666666666666,\"#ed7953\"],[0.7777777777777778,\"#fb9f3a\"],[0.8888888888888888,\"#fdca26\"],[1.0,\"#f0f921\"]],\"type\":\"heatmapgl\"}],\"histogram\":[{\"marker\":{\"pattern\":{\"fillmode\":\"overlay\",\"size\":10,\"solidity\":0.2}},\"type\":\"histogram\"}],\"histogram2d\":[{\"colorbar\":{\"outlinewidth\":0,\"ticks\":\"\"},\"colorscale\":[[0.0,\"#0d0887\"],[0.1111111111111111,\"#46039f\"],[0.2222222222222222,\"#7201a8\"],[0.3333333333333333,\"#9c179e\"],[0.4444444444444444,\"#bd3786\"],[0.5555555555555556,\"#d8576b\"],[0.6666666666666666,\"#ed7953\"],[0.7777777777777778,\"#fb9f3a\"],[0.8888888888888888,\"#fdca26\"],[1.0,\"#f0f921\"]],\"type\":\"histogram2d\"}],\"histogram2dcontour\":[{\"colorbar\":{\"outlinewidth\":0,\"ticks\":\"\"},\"colorscale\":[[0.0,\"#0d0887\"],[0.1111111111111111,\"#46039f\"],[0.2222222222222222,\"#7201a8\"],[0.3333333333333333,\"#9c179e\"],[0.4444444444444444,\"#bd3786\"],[0.5555555555555556,\"#d8576b\"],[0.6666666666666666,\"#ed7953\"],[0.7777777777777778,\"#fb9f3a\"],[0.8888888888888888,\"#fdca26\"],[1.0,\"#f0f921\"]],\"type\":\"histogram2dcontour\"}],\"mesh3d\":[{\"colorbar\":{\"outlinewidth\":0,\"ticks\":\"\"},\"type\":\"mesh3d\"}],\"parcoords\":[{\"line\":{\"colorbar\":{\"outlinewidth\":0,\"ticks\":\"\"}},\"type\":\"parcoords\"}],\"pie\":[{\"automargin\":true,\"type\":\"pie\"}],\"scatter\":[{\"marker\":{\"colorbar\":{\"outlinewidth\":0,\"ticks\":\"\"}},\"type\":\"scatter\"}],\"scatter3d\":[{\"line\":{\"colorbar\":{\"outlinewidth\":0,\"ticks\":\"\"}},\"marker\":{\"colorbar\":{\"outlinewidth\":0,\"ticks\":\"\"}},\"type\":\"scatter3d\"}],\"scattercarpet\":[{\"marker\":{\"colorbar\":{\"outlinewidth\":0,\"ticks\":\"\"}},\"type\":\"scattercarpet\"}],\"scattergeo\":[{\"marker\":{\"colorbar\":{\"outlinewidth\":0,\"ticks\":\"\"}},\"type\":\"scattergeo\"}],\"scattergl\":[{\"marker\":{\"colorbar\":{\"outlinewidth\":0,\"ticks\":\"\"}},\"type\":\"scattergl\"}],\"scattermapbox\":[{\"marker\":{\"colorbar\":{\"outlinewidth\":0,\"ticks\":\"\"}},\"type\":\"scattermapbox\"}],\"scatterpolar\":[{\"marker\":{\"colorbar\":{\"outlinewidth\":0,\"ticks\":\"\"}},\"type\":\"scatterpolar\"}],\"scatterpolargl\":[{\"marker\":{\"colorbar\":{\"outlinewidth\":0,\"ticks\":\"\"}},\"type\":\"scatterpolargl\"}],\"scatterternary\":[{\"marker\":{\"colorbar\":{\"outlinewidth\":0,\"ticks\":\"\"}},\"type\":\"scatterternary\"}],\"surface\":[{\"colorbar\":{\"outlinewidth\":0,\"ticks\":\"\"},\"colorscale\":[[0.0,\"#0d0887\"],[0.1111111111111111,\"#46039f\"],[0.2222222222222222,\"#7201a8\"],[0.3333333333333333,\"#9c179e\"],[0.4444444444444444,\"#bd3786\"],[0.5555555555555556,\"#d8576b\"],[0.6666666666666666,\"#ed7953\"],[0.7777777777777778,\"#fb9f3a\"],[0.8888888888888888,\"#fdca26\"],[1.0,\"#f0f921\"]],\"type\":\"surface\"}],\"table\":[{\"cells\":{\"fill\":{\"color\":\"#EBF0F8\"},\"line\":{\"color\":\"white\"}},\"header\":{\"fill\":{\"color\":\"#C8D4E3\"},\"line\":{\"color\":\"white\"}},\"type\":\"table\"}]},\"layout\":{\"annotationdefaults\":{\"arrowcolor\":\"#2a3f5f\",\"arrowhead\":0,\"arrowwidth\":1},\"autotypenumbers\":\"strict\",\"coloraxis\":{\"colorbar\":{\"outlinewidth\":0,\"ticks\":\"\"}},\"colorscale\":{\"diverging\":[[0,\"#8e0152\"],[0.1,\"#c51b7d\"],[0.2,\"#de77ae\"],[0.3,\"#f1b6da\"],[0.4,\"#fde0ef\"],[0.5,\"#f7f7f7\"],[0.6,\"#e6f5d0\"],[0.7,\"#b8e186\"],[0.8,\"#7fbc41\"],[0.9,\"#4d9221\"],[1,\"#276419\"]],\"sequential\":[[0.0,\"#0d0887\"],[0.1111111111111111,\"#46039f\"],[0.2222222222222222,\"#7201a8\"],[0.3333333333333333,\"#9c179e\"],[0.4444444444444444,\"#bd3786\"],[0.5555555555555556,\"#d8576b\"],[0.6666666666666666,\"#ed7953\"],[0.7777777777777778,\"#fb9f3a\"],[0.8888888888888888,\"#fdca26\"],[1.0,\"#f0f921\"]],\"sequentialminus\":[[0.0,\"#0d0887\"],[0.1111111111111111,\"#46039f\"],[0.2222222222222222,\"#7201a8\"],[0.3333333333333333,\"#9c179e\"],[0.4444444444444444,\"#bd3786\"],[0.5555555555555556,\"#d8576b\"],[0.6666666666666666,\"#ed7953\"],[0.7777777777777778,\"#fb9f3a\"],[0.8888888888888888,\"#fdca26\"],[1.0,\"#f0f921\"]]},\"colorway\":[\"#636efa\",\"#EF553B\",\"#00cc96\",\"#ab63fa\",\"#FFA15A\",\"#19d3f3\",\"#FF6692\",\"#B6E880\",\"#FF97FF\",\"#FECB52\"],\"font\":{\"color\":\"#2a3f5f\"},\"geo\":{\"bgcolor\":\"white\",\"lakecolor\":\"white\",\"landcolor\":\"#E5ECF6\",\"showlakes\":true,\"showland\":true,\"subunitcolor\":\"white\"},\"hoverlabel\":{\"align\":\"left\"},\"hovermode\":\"closest\",\"mapbox\":{\"style\":\"light\"},\"paper_bgcolor\":\"white\",\"plot_bgcolor\":\"#E5ECF6\",\"polar\":{\"angularaxis\":{\"gridcolor\":\"white\",\"linecolor\":\"white\",\"ticks\":\"\"},\"bgcolor\":\"#E5ECF6\",\"radialaxis\":{\"gridcolor\":\"white\",\"linecolor\":\"white\",\"ticks\":\"\"}},\"scene\":{\"xaxis\":{\"backgroundcolor\":\"#E5ECF6\",\"gridcolor\":\"white\",\"gridwidth\":2,\"linecolor\":\"white\",\"showbackground\":true,\"ticks\":\"\",\"zerolinecolor\":\"white\"},\"yaxis\":{\"backgroundcolor\":\"#E5ECF6\",\"gridcolor\":\"white\",\"gridwidth\":2,\"linecolor\":\"white\",\"showbackground\":true,\"ticks\":\"\",\"zerolinecolor\":\"white\"},\"zaxis\":{\"backgroundcolor\":\"#E5ECF6\",\"gridcolor\":\"white\",\"gridwidth\":2,\"linecolor\":\"white\",\"showbackground\":true,\"ticks\":\"\",\"zerolinecolor\":\"white\"}},\"shapedefaults\":{\"line\":{\"color\":\"#2a3f5f\"}},\"ternary\":{\"aaxis\":{\"gridcolor\":\"white\",\"linecolor\":\"white\",\"ticks\":\"\"},\"baxis\":{\"gridcolor\":\"white\",\"linecolor\":\"white\",\"ticks\":\"\"},\"bgcolor\":\"#E5ECF6\",\"caxis\":{\"gridcolor\":\"white\",\"linecolor\":\"white\",\"ticks\":\"\"}},\"title\":{\"x\":0.05},\"xaxis\":{\"automargin\":true,\"gridcolor\":\"white\",\"linecolor\":\"white\",\"ticks\":\"\",\"title\":{\"standoff\":15},\"zerolinecolor\":\"white\",\"zerolinewidth\":2},\"yaxis\":{\"automargin\":true,\"gridcolor\":\"white\",\"linecolor\":\"white\",\"ticks\":\"\",\"title\":{\"standoff\":15},\"zerolinecolor\":\"white\",\"zerolinewidth\":2}}}},                        {\"responsive\": true}                    ).then(function(){\n",
       "                            \n",
       "var gd = document.getElementById('0a480bdf-53e3-4b30-ad60-c1383bcf90b9');\n",
       "var x = new MutationObserver(function (mutations, observer) {{\n",
       "        var display = window.getComputedStyle(gd).display;\n",
       "        if (!display || display === 'none') {{\n",
       "            console.log([gd, 'removed!']);\n",
       "            Plotly.purge(gd);\n",
       "            observer.disconnect();\n",
       "        }}\n",
       "}});\n",
       "\n",
       "// Listen for the removal of the full notebook cells\n",
       "var notebookContainer = gd.closest('#notebook-container');\n",
       "if (notebookContainer) {{\n",
       "    x.observe(notebookContainer, {childList: true});\n",
       "}}\n",
       "\n",
       "// Listen for the clearing of the current output cell\n",
       "var outputEl = gd.closest('.output');\n",
       "if (outputEl) {{\n",
       "    x.observe(outputEl, {childList: true});\n",
       "}}\n",
       "\n",
       "                        })                };                });            </script>        </div>"
      ]
     },
     "metadata": {},
     "output_type": "display_data"
    }
   ],
   "source": [
    "fig = optuna.visualization.plot_optimization_history(study)\n",
    "fig.show()"
   ]
  },
  {
   "cell_type": "code",
   "execution_count": 71,
   "metadata": {},
   "outputs": [
    {
     "data": {
      "text/html": [
       "<div>                            <div id=\"71b0212d-45f6-45fa-a70b-c59ce11f3128\" class=\"plotly-graph-div\" style=\"height:525px; width:100%;\"></div>            <script type=\"text/javascript\">                require([\"plotly\"], function(Plotly) {                    window.PLOTLYENV=window.PLOTLYENV || {};                                    if (document.getElementById(\"71b0212d-45f6-45fa-a70b-c59ce11f3128\")) {                    Plotly.newPlot(                        \"71b0212d-45f6-45fa-a70b-c59ce11f3128\",                        [{\"cliponaxis\":false,\"hovertemplate\":[],\"marker\":{\"color\":\"rgb(66,146,198)\"},\"orientation\":\"h\",\"text\":[],\"textposition\":\"outside\",\"texttemplate\":\"%{text:.2f}\",\"x\":[],\"y\":[],\"type\":\"bar\"}],                        {\"showlegend\":false,\"title\":{\"text\":\"Hyperparameter Importances\"},\"xaxis\":{\"title\":{\"text\":\"Importance for Objective Value\"}},\"yaxis\":{\"title\":{\"text\":\"Hyperparameter\"}},\"template\":{\"data\":{\"bar\":[{\"error_x\":{\"color\":\"#2a3f5f\"},\"error_y\":{\"color\":\"#2a3f5f\"},\"marker\":{\"line\":{\"color\":\"#E5ECF6\",\"width\":0.5},\"pattern\":{\"fillmode\":\"overlay\",\"size\":10,\"solidity\":0.2}},\"type\":\"bar\"}],\"barpolar\":[{\"marker\":{\"line\":{\"color\":\"#E5ECF6\",\"width\":0.5},\"pattern\":{\"fillmode\":\"overlay\",\"size\":10,\"solidity\":0.2}},\"type\":\"barpolar\"}],\"carpet\":[{\"aaxis\":{\"endlinecolor\":\"#2a3f5f\",\"gridcolor\":\"white\",\"linecolor\":\"white\",\"minorgridcolor\":\"white\",\"startlinecolor\":\"#2a3f5f\"},\"baxis\":{\"endlinecolor\":\"#2a3f5f\",\"gridcolor\":\"white\",\"linecolor\":\"white\",\"minorgridcolor\":\"white\",\"startlinecolor\":\"#2a3f5f\"},\"type\":\"carpet\"}],\"choropleth\":[{\"colorbar\":{\"outlinewidth\":0,\"ticks\":\"\"},\"type\":\"choropleth\"}],\"contour\":[{\"colorbar\":{\"outlinewidth\":0,\"ticks\":\"\"},\"colorscale\":[[0.0,\"#0d0887\"],[0.1111111111111111,\"#46039f\"],[0.2222222222222222,\"#7201a8\"],[0.3333333333333333,\"#9c179e\"],[0.4444444444444444,\"#bd3786\"],[0.5555555555555556,\"#d8576b\"],[0.6666666666666666,\"#ed7953\"],[0.7777777777777778,\"#fb9f3a\"],[0.8888888888888888,\"#fdca26\"],[1.0,\"#f0f921\"]],\"type\":\"contour\"}],\"contourcarpet\":[{\"colorbar\":{\"outlinewidth\":0,\"ticks\":\"\"},\"type\":\"contourcarpet\"}],\"heatmap\":[{\"colorbar\":{\"outlinewidth\":0,\"ticks\":\"\"},\"colorscale\":[[0.0,\"#0d0887\"],[0.1111111111111111,\"#46039f\"],[0.2222222222222222,\"#7201a8\"],[0.3333333333333333,\"#9c179e\"],[0.4444444444444444,\"#bd3786\"],[0.5555555555555556,\"#d8576b\"],[0.6666666666666666,\"#ed7953\"],[0.7777777777777778,\"#fb9f3a\"],[0.8888888888888888,\"#fdca26\"],[1.0,\"#f0f921\"]],\"type\":\"heatmap\"}],\"heatmapgl\":[{\"colorbar\":{\"outlinewidth\":0,\"ticks\":\"\"},\"colorscale\":[[0.0,\"#0d0887\"],[0.1111111111111111,\"#46039f\"],[0.2222222222222222,\"#7201a8\"],[0.3333333333333333,\"#9c179e\"],[0.4444444444444444,\"#bd3786\"],[0.5555555555555556,\"#d8576b\"],[0.6666666666666666,\"#ed7953\"],[0.7777777777777778,\"#fb9f3a\"],[0.8888888888888888,\"#fdca26\"],[1.0,\"#f0f921\"]],\"type\":\"heatmapgl\"}],\"histogram\":[{\"marker\":{\"pattern\":{\"fillmode\":\"overlay\",\"size\":10,\"solidity\":0.2}},\"type\":\"histogram\"}],\"histogram2d\":[{\"colorbar\":{\"outlinewidth\":0,\"ticks\":\"\"},\"colorscale\":[[0.0,\"#0d0887\"],[0.1111111111111111,\"#46039f\"],[0.2222222222222222,\"#7201a8\"],[0.3333333333333333,\"#9c179e\"],[0.4444444444444444,\"#bd3786\"],[0.5555555555555556,\"#d8576b\"],[0.6666666666666666,\"#ed7953\"],[0.7777777777777778,\"#fb9f3a\"],[0.8888888888888888,\"#fdca26\"],[1.0,\"#f0f921\"]],\"type\":\"histogram2d\"}],\"histogram2dcontour\":[{\"colorbar\":{\"outlinewidth\":0,\"ticks\":\"\"},\"colorscale\":[[0.0,\"#0d0887\"],[0.1111111111111111,\"#46039f\"],[0.2222222222222222,\"#7201a8\"],[0.3333333333333333,\"#9c179e\"],[0.4444444444444444,\"#bd3786\"],[0.5555555555555556,\"#d8576b\"],[0.6666666666666666,\"#ed7953\"],[0.7777777777777778,\"#fb9f3a\"],[0.8888888888888888,\"#fdca26\"],[1.0,\"#f0f921\"]],\"type\":\"histogram2dcontour\"}],\"mesh3d\":[{\"colorbar\":{\"outlinewidth\":0,\"ticks\":\"\"},\"type\":\"mesh3d\"}],\"parcoords\":[{\"line\":{\"colorbar\":{\"outlinewidth\":0,\"ticks\":\"\"}},\"type\":\"parcoords\"}],\"pie\":[{\"automargin\":true,\"type\":\"pie\"}],\"scatter\":[{\"marker\":{\"colorbar\":{\"outlinewidth\":0,\"ticks\":\"\"}},\"type\":\"scatter\"}],\"scatter3d\":[{\"line\":{\"colorbar\":{\"outlinewidth\":0,\"ticks\":\"\"}},\"marker\":{\"colorbar\":{\"outlinewidth\":0,\"ticks\":\"\"}},\"type\":\"scatter3d\"}],\"scattercarpet\":[{\"marker\":{\"colorbar\":{\"outlinewidth\":0,\"ticks\":\"\"}},\"type\":\"scattercarpet\"}],\"scattergeo\":[{\"marker\":{\"colorbar\":{\"outlinewidth\":0,\"ticks\":\"\"}},\"type\":\"scattergeo\"}],\"scattergl\":[{\"marker\":{\"colorbar\":{\"outlinewidth\":0,\"ticks\":\"\"}},\"type\":\"scattergl\"}],\"scattermapbox\":[{\"marker\":{\"colorbar\":{\"outlinewidth\":0,\"ticks\":\"\"}},\"type\":\"scattermapbox\"}],\"scatterpolar\":[{\"marker\":{\"colorbar\":{\"outlinewidth\":0,\"ticks\":\"\"}},\"type\":\"scatterpolar\"}],\"scatterpolargl\":[{\"marker\":{\"colorbar\":{\"outlinewidth\":0,\"ticks\":\"\"}},\"type\":\"scatterpolargl\"}],\"scatterternary\":[{\"marker\":{\"colorbar\":{\"outlinewidth\":0,\"ticks\":\"\"}},\"type\":\"scatterternary\"}],\"surface\":[{\"colorbar\":{\"outlinewidth\":0,\"ticks\":\"\"},\"colorscale\":[[0.0,\"#0d0887\"],[0.1111111111111111,\"#46039f\"],[0.2222222222222222,\"#7201a8\"],[0.3333333333333333,\"#9c179e\"],[0.4444444444444444,\"#bd3786\"],[0.5555555555555556,\"#d8576b\"],[0.6666666666666666,\"#ed7953\"],[0.7777777777777778,\"#fb9f3a\"],[0.8888888888888888,\"#fdca26\"],[1.0,\"#f0f921\"]],\"type\":\"surface\"}],\"table\":[{\"cells\":{\"fill\":{\"color\":\"#EBF0F8\"},\"line\":{\"color\":\"white\"}},\"header\":{\"fill\":{\"color\":\"#C8D4E3\"},\"line\":{\"color\":\"white\"}},\"type\":\"table\"}]},\"layout\":{\"annotationdefaults\":{\"arrowcolor\":\"#2a3f5f\",\"arrowhead\":0,\"arrowwidth\":1},\"autotypenumbers\":\"strict\",\"coloraxis\":{\"colorbar\":{\"outlinewidth\":0,\"ticks\":\"\"}},\"colorscale\":{\"diverging\":[[0,\"#8e0152\"],[0.1,\"#c51b7d\"],[0.2,\"#de77ae\"],[0.3,\"#f1b6da\"],[0.4,\"#fde0ef\"],[0.5,\"#f7f7f7\"],[0.6,\"#e6f5d0\"],[0.7,\"#b8e186\"],[0.8,\"#7fbc41\"],[0.9,\"#4d9221\"],[1,\"#276419\"]],\"sequential\":[[0.0,\"#0d0887\"],[0.1111111111111111,\"#46039f\"],[0.2222222222222222,\"#7201a8\"],[0.3333333333333333,\"#9c179e\"],[0.4444444444444444,\"#bd3786\"],[0.5555555555555556,\"#d8576b\"],[0.6666666666666666,\"#ed7953\"],[0.7777777777777778,\"#fb9f3a\"],[0.8888888888888888,\"#fdca26\"],[1.0,\"#f0f921\"]],\"sequentialminus\":[[0.0,\"#0d0887\"],[0.1111111111111111,\"#46039f\"],[0.2222222222222222,\"#7201a8\"],[0.3333333333333333,\"#9c179e\"],[0.4444444444444444,\"#bd3786\"],[0.5555555555555556,\"#d8576b\"],[0.6666666666666666,\"#ed7953\"],[0.7777777777777778,\"#fb9f3a\"],[0.8888888888888888,\"#fdca26\"],[1.0,\"#f0f921\"]]},\"colorway\":[\"#636efa\",\"#EF553B\",\"#00cc96\",\"#ab63fa\",\"#FFA15A\",\"#19d3f3\",\"#FF6692\",\"#B6E880\",\"#FF97FF\",\"#FECB52\"],\"font\":{\"color\":\"#2a3f5f\"},\"geo\":{\"bgcolor\":\"white\",\"lakecolor\":\"white\",\"landcolor\":\"#E5ECF6\",\"showlakes\":true,\"showland\":true,\"subunitcolor\":\"white\"},\"hoverlabel\":{\"align\":\"left\"},\"hovermode\":\"closest\",\"mapbox\":{\"style\":\"light\"},\"paper_bgcolor\":\"white\",\"plot_bgcolor\":\"#E5ECF6\",\"polar\":{\"angularaxis\":{\"gridcolor\":\"white\",\"linecolor\":\"white\",\"ticks\":\"\"},\"bgcolor\":\"#E5ECF6\",\"radialaxis\":{\"gridcolor\":\"white\",\"linecolor\":\"white\",\"ticks\":\"\"}},\"scene\":{\"xaxis\":{\"backgroundcolor\":\"#E5ECF6\",\"gridcolor\":\"white\",\"gridwidth\":2,\"linecolor\":\"white\",\"showbackground\":true,\"ticks\":\"\",\"zerolinecolor\":\"white\"},\"yaxis\":{\"backgroundcolor\":\"#E5ECF6\",\"gridcolor\":\"white\",\"gridwidth\":2,\"linecolor\":\"white\",\"showbackground\":true,\"ticks\":\"\",\"zerolinecolor\":\"white\"},\"zaxis\":{\"backgroundcolor\":\"#E5ECF6\",\"gridcolor\":\"white\",\"gridwidth\":2,\"linecolor\":\"white\",\"showbackground\":true,\"ticks\":\"\",\"zerolinecolor\":\"white\"}},\"shapedefaults\":{\"line\":{\"color\":\"#2a3f5f\"}},\"ternary\":{\"aaxis\":{\"gridcolor\":\"white\",\"linecolor\":\"white\",\"ticks\":\"\"},\"baxis\":{\"gridcolor\":\"white\",\"linecolor\":\"white\",\"ticks\":\"\"},\"bgcolor\":\"#E5ECF6\",\"caxis\":{\"gridcolor\":\"white\",\"linecolor\":\"white\",\"ticks\":\"\"}},\"title\":{\"x\":0.05},\"xaxis\":{\"automargin\":true,\"gridcolor\":\"white\",\"linecolor\":\"white\",\"ticks\":\"\",\"title\":{\"standoff\":15},\"zerolinecolor\":\"white\",\"zerolinewidth\":2},\"yaxis\":{\"automargin\":true,\"gridcolor\":\"white\",\"linecolor\":\"white\",\"ticks\":\"\",\"title\":{\"standoff\":15},\"zerolinecolor\":\"white\",\"zerolinewidth\":2}}}},                        {\"responsive\": true}                    ).then(function(){\n",
       "                            \n",
       "var gd = document.getElementById('71b0212d-45f6-45fa-a70b-c59ce11f3128');\n",
       "var x = new MutationObserver(function (mutations, observer) {{\n",
       "        var display = window.getComputedStyle(gd).display;\n",
       "        if (!display || display === 'none') {{\n",
       "            console.log([gd, 'removed!']);\n",
       "            Plotly.purge(gd);\n",
       "            observer.disconnect();\n",
       "        }}\n",
       "}});\n",
       "\n",
       "// Listen for the removal of the full notebook cells\n",
       "var notebookContainer = gd.closest('#notebook-container');\n",
       "if (notebookContainer) {{\n",
       "    x.observe(notebookContainer, {childList: true});\n",
       "}}\n",
       "\n",
       "// Listen for the clearing of the current output cell\n",
       "var outputEl = gd.closest('.output');\n",
       "if (outputEl) {{\n",
       "    x.observe(outputEl, {childList: true});\n",
       "}}\n",
       "\n",
       "                        })                };                });            </script>        </div>"
      ]
     },
     "metadata": {},
     "output_type": "display_data"
    }
   ],
   "source": [
    "optuna.visualization.plot_param_importances(study).show()"
   ]
  },
  {
   "cell_type": "code",
   "execution_count": null,
   "id": "7f12c120",
   "metadata": {},
   "outputs": [],
   "source": [
    "study.optimize(objective, n_trials=10)"
   ]
  },
  {
   "cell_type": "code",
   "execution_count": null,
   "id": "a818b94d",
   "metadata": {},
   "outputs": [
    {
     "name": "stderr",
     "output_type": "stream",
     "text": [
      "\u001b[32m[I 2022-06-22 21:50:46,089]\u001b[0m Trial 117 finished with value: 0.7209692523524147 and parameters: {'max_depth': 4032, 'max_leaf_nodes': 9445, 'n_estimators': 281, 'n_jobs': 3}. Best is trial 97 with value: 0.7209692523524147.\u001b[0m\n",
      "\u001b[32m[I 2022-06-22 21:50:53,034]\u001b[0m Trial 118 finished with value: 0.7175300946995377 and parameters: {'max_depth': 4014, 'max_leaf_nodes': 9424, 'n_estimators': 276, 'n_jobs': 3}. Best is trial 97 with value: 0.7209692523524147.\u001b[0m\n",
      "\u001b[32m[I 2022-06-22 21:51:01,442]\u001b[0m Trial 119 finished with value: 0.7192498090050643 and parameters: {'max_depth': 4020, 'max_leaf_nodes': 9318, 'n_estimators': 280, 'n_jobs': 3}. Best is trial 97 with value: 0.7209692523524147.\u001b[0m\n",
      "\u001b[32m[I 2022-06-22 21:51:08,604]\u001b[0m Trial 120 finished with value: 0.7152246576635225 and parameters: {'max_depth': 4040, 'max_leaf_nodes': 9262, 'n_estimators': 292, 'n_jobs': 3}. Best is trial 97 with value: 0.7209692523524147.\u001b[0m\n",
      "\u001b[32m[I 2022-06-22 21:51:16,973]\u001b[0m Trial 121 finished with value: 0.717389587355369 and parameters: {'max_depth': 4017, 'max_leaf_nodes': 9296, 'n_estimators': 275, 'n_jobs': 3}. Best is trial 97 with value: 0.7209692523524147.\u001b[0m\n",
      "\u001b[32m[I 2022-06-22 21:51:23,987]\u001b[0m Trial 122 finished with value: 0.7159037521758611 and parameters: {'max_depth': 3955, 'max_leaf_nodes': 9436, 'n_estimators': 278, 'n_jobs': 3}. Best is trial 97 with value: 0.7209692523524147.\u001b[0m\n",
      "\u001b[32m[I 2022-06-22 21:51:32,654]\u001b[0m Trial 123 finished with value: 0.7152246576635225 and parameters: {'max_depth': 4036, 'max_leaf_nodes': 9290, 'n_estimators': 293, 'n_jobs': 3}. Best is trial 97 with value: 0.7209692523524147.\u001b[0m\n",
      "\u001b[32m[I 2022-06-22 21:51:40,122]\u001b[0m Trial 124 finished with value: 0.7175300946995377 and parameters: {'max_depth': 4013, 'max_leaf_nodes': 9437, 'n_estimators': 276, 'n_jobs': 3}. Best is trial 97 with value: 0.7209692523524147.\u001b[0m\n",
      "\u001b[32m[I 2022-06-22 21:51:48,473]\u001b[0m Trial 125 finished with value: 0.7130208437978492 and parameters: {'max_depth': 4051, 'max_leaf_nodes': 9310, 'n_estimators': 289, 'n_jobs': 3}. Best is trial 97 with value: 0.7209692523524147.\u001b[0m\n",
      "\u001b[32m[I 2022-06-22 21:51:55,534]\u001b[0m Trial 126 finished with value: 0.717389587355369 and parameters: {'max_depth': 3956, 'max_leaf_nodes': 9254, 'n_estimators': 273, 'n_jobs': 3}. Best is trial 97 with value: 0.7209692523524147.\u001b[0m\n"
     ]
    }
   ],
   "source": [
    "study.optimize(objective, n_trials=10)\n"
   ]
  },
  {
   "cell_type": "code",
   "execution_count": null,
   "id": "8b0801e5",
   "metadata": {},
   "outputs": [
    {
     "name": "stderr",
     "output_type": "stream",
     "text": [
      "\u001b[32m[I 2022-06-22 21:54:30,871]\u001b[0m Trial 138 finished with value: 0.7196780727604631 and parameters: {'max_depth': 4084, 'max_leaf_nodes': 9242, 'n_estimators': 266, 'n_jobs': 4}. Best is trial 97 with value: 0.7209692523524147.\u001b[0m\n",
      "\u001b[32m[I 2022-06-22 21:54:37,726]\u001b[0m Trial 139 finished with value: 0.717602381847563 and parameters: {'max_depth': 4119, 'max_leaf_nodes': 9240, 'n_estimators': 268, 'n_jobs': 4}. Best is trial 97 with value: 0.7209692523524147.\u001b[0m\n",
      "\u001b[32m[I 2022-06-22 21:54:46,338]\u001b[0m Trial 140 finished with value: 0.7176169363377707 and parameters: {'max_depth': 4061, 'max_leaf_nodes': 9318, 'n_estimators': 264, 'n_jobs': 4}. Best is trial 97 with value: 0.7209692523524147.\u001b[0m\n",
      "\u001b[32m[I 2022-06-22 21:54:53,524]\u001b[0m Trial 141 finished with value: 0.7196780727604631 and parameters: {'max_depth': 4045, 'max_leaf_nodes': 9321, 'n_estimators': 269, 'n_jobs': 4}. Best is trial 97 with value: 0.7209692523524147.\u001b[0m\n",
      "\u001b[32m[I 2022-06-22 21:55:01,519]\u001b[0m Trial 142 finished with value: 0.7157421601978676 and parameters: {'max_depth': 4101, 'max_leaf_nodes': 9253, 'n_estimators': 270, 'n_jobs': 4}. Best is trial 97 with value: 0.7209692523524147.\u001b[0m\n",
      "\u001b[32m[I 2022-06-22 21:55:08,791]\u001b[0m Trial 143 finished with value: 0.7174834557832375 and parameters: {'max_depth': 4122, 'max_leaf_nodes': 9264, 'n_estimators': 263, 'n_jobs': 4}. Best is trial 97 with value: 0.7209692523524147.\u001b[0m\n",
      "\u001b[32m[I 2022-06-22 21:55:16,631]\u001b[0m Trial 144 finished with value: 0.7176169363377707 and parameters: {'max_depth': 4117, 'max_leaf_nodes': 9243, 'n_estimators': 265, 'n_jobs': 4}. Best is trial 97 with value: 0.7209692523524147.\u001b[0m\n",
      "\u001b[32m[I 2022-06-22 21:55:23,079]\u001b[0m Trial 145 finished with value: 0.7174834557832375 and parameters: {'max_depth': 4135, 'max_leaf_nodes': 9346, 'n_estimators': 263, 'n_jobs': 4}. Best is trial 97 with value: 0.7209692523524147.\u001b[0m\n",
      "\u001b[32m[I 2022-06-22 21:55:30,312]\u001b[0m Trial 146 finished with value: 0.7196780727604631 and parameters: {'max_depth': 4034, 'max_leaf_nodes': 9369, 'n_estimators': 266, 'n_jobs': 4}. Best is trial 97 with value: 0.7209692523524147.\u001b[0m\n",
      "\u001b[32m[I 2022-06-22 21:55:38,092]\u001b[0m Trial 147 finished with value: 0.7196780727604631 and parameters: {'max_depth': 4069, 'max_leaf_nodes': 9522, 'n_estimators': 266, 'n_jobs': 4}. Best is trial 97 with value: 0.7209692523524147.\u001b[0m\n"
     ]
    }
   ],
   "source": [
    "study.optimize(objective, n_trials=10)"
   ]
  },
  {
   "cell_type": "code",
   "execution_count": null,
   "id": "d157f2a9",
   "metadata": {},
   "outputs": [
    {
     "data": {
      "text/plain": [
       "{'max_depth': 3770, 'max_leaf_nodes': 9507, 'n_estimators': 274, 'n_jobs': 2}"
      ]
     },
     "execution_count": 87,
     "metadata": {},
     "output_type": "execute_result"
    }
   ],
   "source": [
    "study.best_params"
   ]
  },
  {
   "cell_type": "code",
   "execution_count": null,
   "id": "a32879f5",
   "metadata": {},
   "outputs": [
    {
     "data": {
      "text/html": [
       "<div>                            <div id=\"c0d5123c-4690-48e5-9e2e-250739c1214c\" class=\"plotly-graph-div\" style=\"height:525px; width:100%;\"></div>            <script type=\"text/javascript\">                require([\"plotly\"], function(Plotly) {                    window.PLOTLYENV=window.PLOTLYENV || {};                                    if (document.getElementById(\"c0d5123c-4690-48e5-9e2e-250739c1214c\")) {                    Plotly.newPlot(                        \"c0d5123c-4690-48e5-9e2e-250739c1214c\",                        [{\"mode\":\"markers\",\"name\":\"Objective Value\",\"x\":[0,1,2,3,4,5,6,7,8,9,10,11,12,13,14,15,16,17,18,19,20,21,22,23,24,25,26,27,28,29,30,31,32,33,34,35,36,37,38,39,40,41,42,43,44,45,46,47,48,49,50,51,52,53,54,55,56,57,58,59,60,61,62,63,64,65,66,67,68,69,70,71,72,73,74,75,76,77,78,79,80,81,82,83,84,85,86,87,88,89,90,91,92,93,94,95,96,97,98,99,100,101,102,103,104,105,106,107,108,109,110,111,112,113,114,115,116,117,118,119],\"y\":[0.7080875621032325,0.7080737196939391,0.6887977785647073,0.7064266515857387,0.7046441730508582,0.7029433581407983,0.7005887084102547,0.7028760642701438,0.70445869029149,0.7008248701648923,0.7030960413676174,0.6922365523048548,0.7047141998017707,0.7080093630355329,0.7030861099261893,0.7012423961076314,0.7068794523373695,0.7000772111948853,0.700529719139872,0.7066777330187941,0.7289288139398942,0.7168550195664298,0.7114041359991466,0.7212584405641096,0.72495030433658,0.7205510348482035,0.7156904128754624,0.7316477529736984,0.7160051931362004,0.7185979339491175,0.7128977627413782,0.7147322655003675,0.7189654696351498,0.7186291365270119,0.7164465104319365,0.718674971792147,0.713500740324398,0.714205036318831,0.7135767020607929,0.7151422632104427,0.715241083956389,0.6057252386922045,0.708626515176803,0.7176357549992615,0.7124736951738859,0.7151704876402756,0.7227169725068878,0.7184427508681255,0.7060002781200145,0.7145390323971512,0.7127114992745136,0.7211826355323794,0.7167199450220627,0.7228326789376983,0.7169118431086283,0.7253169807081233,0.7149792266786004,0.7100942719483498,0.7154495214891463,0.718587714317896,0.7127424773414134,0.7133252413584931,0.7183957354461384,0.7164427292692183,0.7129071344404643,0.7277043786715496,0.7177918118734882,0.7275296157492874,0.7087515647802267,0.7124506426249123,0.7189175458380614,0.7152441491642779,0.7060254725068031,0.7140392513708808,0.7149337710595387,0.7147627948927835,0.7047261246809013,0.7088585145298596,0.7247426355482682,0.7091037208889294,0.7065977664053662,0.7158282280546879,0.7231457672115895,0.7114356938065431,0.7195431372444956,0.7196352082533868,0.7211367644909512,0.7130764518594208,0.7104674974559559,0.7216465828847392,0.7071852232594693,0.7076987334936822,0.7084899844299274,0.7154655022725279,0.7150995292149511,0.7253714383599684,0.7082895136178268,0.7255409235470899,0.7113539559203497,0.7106308619412479,0.715115923742757,0.7130841598915711,0.7102002946288456,0.7116675464350266,0.7138847991049481,0.7108581612020654,0.7206366041230609,0.714930661608326,0.7154038289247605,0.710499663498776,0.7098831105116534,0.7065147043407874,0.7120034540259645,0.7096570222840246,0.7189251712083682,0.720931022427328,0.7122923590796792,0.714720799801501,0.7206897662913831,0.7107228847510101],\"type\":\"scatter\"},{\"name\":\"Best Value\",\"x\":[0,1,2,3,4,5,6,7,8,9,10,11,12,13,14,15,16,17,18,19,20,21,22,23,24,25,26,27,28,29,30,31,32,33,34,35,36,37,38,39,40,41,42,43,44,45,46,47,48,49,50,51,52,53,54,55,56,57,58,59,60,61,62,63,64,65,66,67,68,69,70,71,72,73,74,75,76,77,78,79,80,81,82,83,84,85,86,87,88,89,90,91,92,93,94,95,96,97,98,99,100,101,102,103,104,105,106,107,108,109,110,111,112,113,114,115,116,117,118,119],\"y\":[0.7080875621032325,0.7080875621032325,0.7080875621032325,0.7080875621032325,0.7080875621032325,0.7080875621032325,0.7080875621032325,0.7080875621032325,0.7080875621032325,0.7080875621032325,0.7080875621032325,0.7080875621032325,0.7080875621032325,0.7080875621032325,0.7080875621032325,0.7080875621032325,0.7080875621032325,0.7080875621032325,0.7080875621032325,0.7080875621032325,0.7289288139398942,0.7289288139398942,0.7289288139398942,0.7289288139398942,0.7289288139398942,0.7289288139398942,0.7289288139398942,0.7316477529736984,0.7316477529736984,0.7316477529736984,0.7316477529736984,0.7316477529736984,0.7316477529736984,0.7316477529736984,0.7316477529736984,0.7316477529736984,0.7316477529736984,0.7316477529736984,0.7316477529736984,0.7316477529736984,0.7316477529736984,0.7316477529736984,0.7316477529736984,0.7316477529736984,0.7316477529736984,0.7316477529736984,0.7316477529736984,0.7316477529736984,0.7316477529736984,0.7316477529736984,0.7316477529736984,0.7316477529736984,0.7316477529736984,0.7316477529736984,0.7316477529736984,0.7316477529736984,0.7316477529736984,0.7316477529736984,0.7316477529736984,0.7316477529736984,0.7316477529736984,0.7316477529736984,0.7316477529736984,0.7316477529736984,0.7316477529736984,0.7316477529736984,0.7316477529736984,0.7316477529736984,0.7316477529736984,0.7316477529736984,0.7316477529736984,0.7316477529736984,0.7316477529736984,0.7316477529736984,0.7316477529736984,0.7316477529736984,0.7316477529736984,0.7316477529736984,0.7316477529736984,0.7316477529736984,0.7316477529736984,0.7316477529736984,0.7316477529736984,0.7316477529736984,0.7316477529736984,0.7316477529736984,0.7316477529736984,0.7316477529736984,0.7316477529736984,0.7316477529736984,0.7316477529736984,0.7316477529736984,0.7316477529736984,0.7316477529736984,0.7316477529736984,0.7316477529736984,0.7316477529736984,0.7316477529736984,0.7316477529736984,0.7316477529736984,0.7316477529736984,0.7316477529736984,0.7316477529736984,0.7316477529736984,0.7316477529736984,0.7316477529736984,0.7316477529736984,0.7316477529736984,0.7316477529736984,0.7316477529736984,0.7316477529736984,0.7316477529736984,0.7316477529736984,0.7316477529736984,0.7316477529736984,0.7316477529736984,0.7316477529736984,0.7316477529736984,0.7316477529736984,0.7316477529736984],\"type\":\"scatter\"}],                        {\"title\":{\"text\":\"Optimization History Plot\"},\"xaxis\":{\"title\":{\"text\":\"#Trials\"}},\"yaxis\":{\"title\":{\"text\":\"Objective Value\"}},\"template\":{\"data\":{\"bar\":[{\"error_x\":{\"color\":\"#2a3f5f\"},\"error_y\":{\"color\":\"#2a3f5f\"},\"marker\":{\"line\":{\"color\":\"#E5ECF6\",\"width\":0.5},\"pattern\":{\"fillmode\":\"overlay\",\"size\":10,\"solidity\":0.2}},\"type\":\"bar\"}],\"barpolar\":[{\"marker\":{\"line\":{\"color\":\"#E5ECF6\",\"width\":0.5},\"pattern\":{\"fillmode\":\"overlay\",\"size\":10,\"solidity\":0.2}},\"type\":\"barpolar\"}],\"carpet\":[{\"aaxis\":{\"endlinecolor\":\"#2a3f5f\",\"gridcolor\":\"white\",\"linecolor\":\"white\",\"minorgridcolor\":\"white\",\"startlinecolor\":\"#2a3f5f\"},\"baxis\":{\"endlinecolor\":\"#2a3f5f\",\"gridcolor\":\"white\",\"linecolor\":\"white\",\"minorgridcolor\":\"white\",\"startlinecolor\":\"#2a3f5f\"},\"type\":\"carpet\"}],\"choropleth\":[{\"colorbar\":{\"outlinewidth\":0,\"ticks\":\"\"},\"type\":\"choropleth\"}],\"contour\":[{\"colorbar\":{\"outlinewidth\":0,\"ticks\":\"\"},\"colorscale\":[[0.0,\"#0d0887\"],[0.1111111111111111,\"#46039f\"],[0.2222222222222222,\"#7201a8\"],[0.3333333333333333,\"#9c179e\"],[0.4444444444444444,\"#bd3786\"],[0.5555555555555556,\"#d8576b\"],[0.6666666666666666,\"#ed7953\"],[0.7777777777777778,\"#fb9f3a\"],[0.8888888888888888,\"#fdca26\"],[1.0,\"#f0f921\"]],\"type\":\"contour\"}],\"contourcarpet\":[{\"colorbar\":{\"outlinewidth\":0,\"ticks\":\"\"},\"type\":\"contourcarpet\"}],\"heatmap\":[{\"colorbar\":{\"outlinewidth\":0,\"ticks\":\"\"},\"colorscale\":[[0.0,\"#0d0887\"],[0.1111111111111111,\"#46039f\"],[0.2222222222222222,\"#7201a8\"],[0.3333333333333333,\"#9c179e\"],[0.4444444444444444,\"#bd3786\"],[0.5555555555555556,\"#d8576b\"],[0.6666666666666666,\"#ed7953\"],[0.7777777777777778,\"#fb9f3a\"],[0.8888888888888888,\"#fdca26\"],[1.0,\"#f0f921\"]],\"type\":\"heatmap\"}],\"heatmapgl\":[{\"colorbar\":{\"outlinewidth\":0,\"ticks\":\"\"},\"colorscale\":[[0.0,\"#0d0887\"],[0.1111111111111111,\"#46039f\"],[0.2222222222222222,\"#7201a8\"],[0.3333333333333333,\"#9c179e\"],[0.4444444444444444,\"#bd3786\"],[0.5555555555555556,\"#d8576b\"],[0.6666666666666666,\"#ed7953\"],[0.7777777777777778,\"#fb9f3a\"],[0.8888888888888888,\"#fdca26\"],[1.0,\"#f0f921\"]],\"type\":\"heatmapgl\"}],\"histogram\":[{\"marker\":{\"pattern\":{\"fillmode\":\"overlay\",\"size\":10,\"solidity\":0.2}},\"type\":\"histogram\"}],\"histogram2d\":[{\"colorbar\":{\"outlinewidth\":0,\"ticks\":\"\"},\"colorscale\":[[0.0,\"#0d0887\"],[0.1111111111111111,\"#46039f\"],[0.2222222222222222,\"#7201a8\"],[0.3333333333333333,\"#9c179e\"],[0.4444444444444444,\"#bd3786\"],[0.5555555555555556,\"#d8576b\"],[0.6666666666666666,\"#ed7953\"],[0.7777777777777778,\"#fb9f3a\"],[0.8888888888888888,\"#fdca26\"],[1.0,\"#f0f921\"]],\"type\":\"histogram2d\"}],\"histogram2dcontour\":[{\"colorbar\":{\"outlinewidth\":0,\"ticks\":\"\"},\"colorscale\":[[0.0,\"#0d0887\"],[0.1111111111111111,\"#46039f\"],[0.2222222222222222,\"#7201a8\"],[0.3333333333333333,\"#9c179e\"],[0.4444444444444444,\"#bd3786\"],[0.5555555555555556,\"#d8576b\"],[0.6666666666666666,\"#ed7953\"],[0.7777777777777778,\"#fb9f3a\"],[0.8888888888888888,\"#fdca26\"],[1.0,\"#f0f921\"]],\"type\":\"histogram2dcontour\"}],\"mesh3d\":[{\"colorbar\":{\"outlinewidth\":0,\"ticks\":\"\"},\"type\":\"mesh3d\"}],\"parcoords\":[{\"line\":{\"colorbar\":{\"outlinewidth\":0,\"ticks\":\"\"}},\"type\":\"parcoords\"}],\"pie\":[{\"automargin\":true,\"type\":\"pie\"}],\"scatter\":[{\"marker\":{\"colorbar\":{\"outlinewidth\":0,\"ticks\":\"\"}},\"type\":\"scatter\"}],\"scatter3d\":[{\"line\":{\"colorbar\":{\"outlinewidth\":0,\"ticks\":\"\"}},\"marker\":{\"colorbar\":{\"outlinewidth\":0,\"ticks\":\"\"}},\"type\":\"scatter3d\"}],\"scattercarpet\":[{\"marker\":{\"colorbar\":{\"outlinewidth\":0,\"ticks\":\"\"}},\"type\":\"scattercarpet\"}],\"scattergeo\":[{\"marker\":{\"colorbar\":{\"outlinewidth\":0,\"ticks\":\"\"}},\"type\":\"scattergeo\"}],\"scattergl\":[{\"marker\":{\"colorbar\":{\"outlinewidth\":0,\"ticks\":\"\"}},\"type\":\"scattergl\"}],\"scattermapbox\":[{\"marker\":{\"colorbar\":{\"outlinewidth\":0,\"ticks\":\"\"}},\"type\":\"scattermapbox\"}],\"scatterpolar\":[{\"marker\":{\"colorbar\":{\"outlinewidth\":0,\"ticks\":\"\"}},\"type\":\"scatterpolar\"}],\"scatterpolargl\":[{\"marker\":{\"colorbar\":{\"outlinewidth\":0,\"ticks\":\"\"}},\"type\":\"scatterpolargl\"}],\"scatterternary\":[{\"marker\":{\"colorbar\":{\"outlinewidth\":0,\"ticks\":\"\"}},\"type\":\"scatterternary\"}],\"surface\":[{\"colorbar\":{\"outlinewidth\":0,\"ticks\":\"\"},\"colorscale\":[[0.0,\"#0d0887\"],[0.1111111111111111,\"#46039f\"],[0.2222222222222222,\"#7201a8\"],[0.3333333333333333,\"#9c179e\"],[0.4444444444444444,\"#bd3786\"],[0.5555555555555556,\"#d8576b\"],[0.6666666666666666,\"#ed7953\"],[0.7777777777777778,\"#fb9f3a\"],[0.8888888888888888,\"#fdca26\"],[1.0,\"#f0f921\"]],\"type\":\"surface\"}],\"table\":[{\"cells\":{\"fill\":{\"color\":\"#EBF0F8\"},\"line\":{\"color\":\"white\"}},\"header\":{\"fill\":{\"color\":\"#C8D4E3\"},\"line\":{\"color\":\"white\"}},\"type\":\"table\"}]},\"layout\":{\"annotationdefaults\":{\"arrowcolor\":\"#2a3f5f\",\"arrowhead\":0,\"arrowwidth\":1},\"autotypenumbers\":\"strict\",\"coloraxis\":{\"colorbar\":{\"outlinewidth\":0,\"ticks\":\"\"}},\"colorscale\":{\"diverging\":[[0,\"#8e0152\"],[0.1,\"#c51b7d\"],[0.2,\"#de77ae\"],[0.3,\"#f1b6da\"],[0.4,\"#fde0ef\"],[0.5,\"#f7f7f7\"],[0.6,\"#e6f5d0\"],[0.7,\"#b8e186\"],[0.8,\"#7fbc41\"],[0.9,\"#4d9221\"],[1,\"#276419\"]],\"sequential\":[[0.0,\"#0d0887\"],[0.1111111111111111,\"#46039f\"],[0.2222222222222222,\"#7201a8\"],[0.3333333333333333,\"#9c179e\"],[0.4444444444444444,\"#bd3786\"],[0.5555555555555556,\"#d8576b\"],[0.6666666666666666,\"#ed7953\"],[0.7777777777777778,\"#fb9f3a\"],[0.8888888888888888,\"#fdca26\"],[1.0,\"#f0f921\"]],\"sequentialminus\":[[0.0,\"#0d0887\"],[0.1111111111111111,\"#46039f\"],[0.2222222222222222,\"#7201a8\"],[0.3333333333333333,\"#9c179e\"],[0.4444444444444444,\"#bd3786\"],[0.5555555555555556,\"#d8576b\"],[0.6666666666666666,\"#ed7953\"],[0.7777777777777778,\"#fb9f3a\"],[0.8888888888888888,\"#fdca26\"],[1.0,\"#f0f921\"]]},\"colorway\":[\"#636efa\",\"#EF553B\",\"#00cc96\",\"#ab63fa\",\"#FFA15A\",\"#19d3f3\",\"#FF6692\",\"#B6E880\",\"#FF97FF\",\"#FECB52\"],\"font\":{\"color\":\"#2a3f5f\"},\"geo\":{\"bgcolor\":\"white\",\"lakecolor\":\"white\",\"landcolor\":\"#E5ECF6\",\"showlakes\":true,\"showland\":true,\"subunitcolor\":\"white\"},\"hoverlabel\":{\"align\":\"left\"},\"hovermode\":\"closest\",\"mapbox\":{\"style\":\"light\"},\"paper_bgcolor\":\"white\",\"plot_bgcolor\":\"#E5ECF6\",\"polar\":{\"angularaxis\":{\"gridcolor\":\"white\",\"linecolor\":\"white\",\"ticks\":\"\"},\"bgcolor\":\"#E5ECF6\",\"radialaxis\":{\"gridcolor\":\"white\",\"linecolor\":\"white\",\"ticks\":\"\"}},\"scene\":{\"xaxis\":{\"backgroundcolor\":\"#E5ECF6\",\"gridcolor\":\"white\",\"gridwidth\":2,\"linecolor\":\"white\",\"showbackground\":true,\"ticks\":\"\",\"zerolinecolor\":\"white\"},\"yaxis\":{\"backgroundcolor\":\"#E5ECF6\",\"gridcolor\":\"white\",\"gridwidth\":2,\"linecolor\":\"white\",\"showbackground\":true,\"ticks\":\"\",\"zerolinecolor\":\"white\"},\"zaxis\":{\"backgroundcolor\":\"#E5ECF6\",\"gridcolor\":\"white\",\"gridwidth\":2,\"linecolor\":\"white\",\"showbackground\":true,\"ticks\":\"\",\"zerolinecolor\":\"white\"}},\"shapedefaults\":{\"line\":{\"color\":\"#2a3f5f\"}},\"ternary\":{\"aaxis\":{\"gridcolor\":\"white\",\"linecolor\":\"white\",\"ticks\":\"\"},\"baxis\":{\"gridcolor\":\"white\",\"linecolor\":\"white\",\"ticks\":\"\"},\"bgcolor\":\"#E5ECF6\",\"caxis\":{\"gridcolor\":\"white\",\"linecolor\":\"white\",\"ticks\":\"\"}},\"title\":{\"x\":0.05},\"xaxis\":{\"automargin\":true,\"gridcolor\":\"white\",\"linecolor\":\"white\",\"ticks\":\"\",\"title\":{\"standoff\":15},\"zerolinecolor\":\"white\",\"zerolinewidth\":2},\"yaxis\":{\"automargin\":true,\"gridcolor\":\"white\",\"linecolor\":\"white\",\"ticks\":\"\",\"title\":{\"standoff\":15},\"zerolinecolor\":\"white\",\"zerolinewidth\":2}}}},                        {\"responsive\": true}                    ).then(function(){\n",
       "                            \n",
       "var gd = document.getElementById('c0d5123c-4690-48e5-9e2e-250739c1214c');\n",
       "var x = new MutationObserver(function (mutations, observer) {{\n",
       "        var display = window.getComputedStyle(gd).display;\n",
       "        if (!display || display === 'none') {{\n",
       "            console.log([gd, 'removed!']);\n",
       "            Plotly.purge(gd);\n",
       "            observer.disconnect();\n",
       "        }}\n",
       "}});\n",
       "\n",
       "// Listen for the removal of the full notebook cells\n",
       "var notebookContainer = gd.closest('#notebook-container');\n",
       "if (notebookContainer) {{\n",
       "    x.observe(notebookContainer, {childList: true});\n",
       "}}\n",
       "\n",
       "// Listen for the clearing of the current output cell\n",
       "var outputEl = gd.closest('.output');\n",
       "if (outputEl) {{\n",
       "    x.observe(outputEl, {childList: true});\n",
       "}}\n",
       "\n",
       "                        })                };                });            </script>        </div>"
      ]
     },
     "metadata": {},
     "output_type": "display_data"
    }
   ],
   "source": [
    "fig = optuna.visualization.plot_optimization_history(study)\n",
    "fig.show()"
   ]
  },
  {
   "cell_type": "code",
   "execution_count": null,
   "id": "0068cb44",
   "metadata": {},
   "outputs": [
    {
     "data": {
      "text/plain": [
       "{'max_depth': 2511, 'max_leaf_nodes': 9249, 'n_estimators': 610, 'n_jobs': 2}"
      ]
     },
     "execution_count": 120,
     "metadata": {},
     "output_type": "execute_result"
    }
   ],
   "source": [
    "study.best_params"
   ]
  },
  {
   "cell_type": "markdown",
   "id": "065656af",
   "metadata": {},
   "source": [
    "The best f1_macro reached tunning with Optuna is 0,721."
   ]
  },
  {
   "cell_type": "markdown",
   "id": "1d682918",
   "metadata": {},
   "source": [
    "## test_X prediction"
   ]
  },
  {
   "cell_type": "markdown",
   "id": "e1acbe1c",
   "metadata": {},
   "source": [
    "The initial Pycaret screening done with the whole training data set(which also gave Random Forset as best model) is the best model to be used with the x_test data set as it has been trained with all the data available to predict the X_test."
   ]
  },
  {
   "cell_type": "markdown",
   "id": "6a8d2f13",
   "metadata": {},
   "source": [
    "Charge test_X dataset to be predicted. We check its statistically ressemblance to the training data set.:"
   ]
  },
  {
   "cell_type": "code",
   "execution_count": 130,
   "id": "ddd73e7a",
   "metadata": {
    "ExecuteTime": {
     "end_time": "2022-05-28T20:40:10.432878Z",
     "start_time": "2022-05-28T20:40:10.393981Z"
    }
   },
   "outputs": [
    {
     "data": {
      "text/plain": [
       "sensor_1    0\n",
       "sensor_2    0\n",
       "sensor_3    0\n",
       "sensor_4    0\n",
       "sensor_5    0\n",
       "sensor_6    0\n",
       "dtype: int64"
      ]
     },
     "execution_count": 130,
     "metadata": {},
     "output_type": "execute_result"
    }
   ],
   "source": [
    "test_x=pd.read_csv(r'C:\\Users\\march\\000 Treball Ju`yter 000\\Hackathons\\Hackathon_Talent_Squad\\initial_docs\\space_X_test.csv',index_col=0)\n",
    "\n",
    "test_x.isnull().sum()"
   ]
  },
  {
   "cell_type": "code",
   "execution_count": 131,
   "id": "109ef42d",
   "metadata": {
    "ExecuteTime": {
     "end_time": "2022-05-28T20:40:10.512666Z",
     "start_time": "2022-05-28T20:40:10.498703Z"
    }
   },
   "outputs": [
    {
     "data": {
      "text/plain": [
       "(900, 6)"
      ]
     },
     "execution_count": 131,
     "metadata": {},
     "output_type": "execute_result"
    }
   ],
   "source": [
    "test_x.shape"
   ]
  },
  {
   "cell_type": "code",
   "execution_count": 133,
   "id": "49f06f87",
   "metadata": {
    "ExecuteTime": {
     "end_time": "2022-05-28T20:40:10.672241Z",
     "start_time": "2022-05-28T20:40:10.639328Z"
    }
   },
   "outputs": [
    {
     "data": {
      "text/html": [
       "<div><div id=e37b86b4-6c5c-42dd-bf2d-303c0b6916c7 style=\"display:none; background-color:#9D6CFF; color:white; width:200px; height:30px; padding-left:5px; border-radius:4px; flex-direction:row; justify-content:space-around; align-items:center;\" onmouseover=\"this.style.backgroundColor='#BA9BF8'\" onmouseout=\"this.style.backgroundColor='#9D6CFF'\" onclick=\"window.commands?.execute('create-mitosheet-from-dataframe-output');\">See Full Dataframe in Mito</div> <script> if (window.commands?.hasCommand('create-mitosheet-from-dataframe-output')) document.getElementById('e37b86b4-6c5c-42dd-bf2d-303c0b6916c7').style.display = 'flex' </script> <table border=\"1\" class=\"dataframe\">\n",
       "  <thead>\n",
       "    <tr style=\"text-align: right;\">\n",
       "      <th></th>\n",
       "      <th>sensor_1</th>\n",
       "      <th>sensor_2</th>\n",
       "      <th>sensor_3</th>\n",
       "      <th>sensor_4</th>\n",
       "      <th>sensor_5</th>\n",
       "      <th>sensor_6</th>\n",
       "    </tr>\n",
       "  </thead>\n",
       "  <tbody>\n",
       "    <tr>\n",
       "      <th>count</th>\n",
       "      <td>900.000000</td>\n",
       "      <td>900.000000</td>\n",
       "      <td>900.000000</td>\n",
       "      <td>900.000000</td>\n",
       "      <td>900.000000</td>\n",
       "      <td>900.000000</td>\n",
       "    </tr>\n",
       "    <tr>\n",
       "      <th>mean</th>\n",
       "      <td>-0.170339</td>\n",
       "      <td>0.135481</td>\n",
       "      <td>-0.447035</td>\n",
       "      <td>-0.201708</td>\n",
       "      <td>-0.263349</td>\n",
       "      <td>-0.445490</td>\n",
       "    </tr>\n",
       "    <tr>\n",
       "      <th>std</th>\n",
       "      <td>1.485402</td>\n",
       "      <td>1.547202</td>\n",
       "      <td>1.394437</td>\n",
       "      <td>1.487102</td>\n",
       "      <td>1.450823</td>\n",
       "      <td>1.215000</td>\n",
       "    </tr>\n",
       "    <tr>\n",
       "      <th>min</th>\n",
       "      <td>-5.084203</td>\n",
       "      <td>-4.292548</td>\n",
       "      <td>-4.628992</td>\n",
       "      <td>-6.732089</td>\n",
       "      <td>-5.196997</td>\n",
       "      <td>-4.823971</td>\n",
       "    </tr>\n",
       "    <tr>\n",
       "      <th>25%</th>\n",
       "      <td>-1.098759</td>\n",
       "      <td>-0.934171</td>\n",
       "      <td>-1.460497</td>\n",
       "      <td>-1.163163</td>\n",
       "      <td>-1.182667</td>\n",
       "      <td>-1.152891</td>\n",
       "    </tr>\n",
       "    <tr>\n",
       "      <th>50%</th>\n",
       "      <td>-0.386297</td>\n",
       "      <td>0.341427</td>\n",
       "      <td>-0.464239</td>\n",
       "      <td>-0.177710</td>\n",
       "      <td>-0.233699</td>\n",
       "      <td>-0.410182</td>\n",
       "    </tr>\n",
       "    <tr>\n",
       "      <th>75%</th>\n",
       "      <td>0.881170</td>\n",
       "      <td>1.246296</td>\n",
       "      <td>0.626893</td>\n",
       "      <td>0.870332</td>\n",
       "      <td>0.679282</td>\n",
       "      <td>0.399597</td>\n",
       "    </tr>\n",
       "    <tr>\n",
       "      <th>max</th>\n",
       "      <td>4.636012</td>\n",
       "      <td>4.612113</td>\n",
       "      <td>3.299946</td>\n",
       "      <td>5.996929</td>\n",
       "      <td>3.917118</td>\n",
       "      <td>5.357953</td>\n",
       "    </tr>\n",
       "  </tbody>\n",
       "</table></div>"
      ],
      "text/plain": [
       "         sensor_1    sensor_2    sensor_3    sensor_4    sensor_5    sensor_6\n",
       "count  900.000000  900.000000  900.000000  900.000000  900.000000  900.000000\n",
       "mean    -0.170339    0.135481   -0.447035   -0.201708   -0.263349   -0.445490\n",
       "std      1.485402    1.547202    1.394437    1.487102    1.450823    1.215000\n",
       "min     -5.084203   -4.292548   -4.628992   -6.732089   -5.196997   -4.823971\n",
       "25%     -1.098759   -0.934171   -1.460497   -1.163163   -1.182667   -1.152891\n",
       "50%     -0.386297    0.341427   -0.464239   -0.177710   -0.233699   -0.410182\n",
       "75%      0.881170    1.246296    0.626893    0.870332    0.679282    0.399597\n",
       "max      4.636012    4.612113    3.299946    5.996929    3.917118    5.357953"
      ]
     },
     "execution_count": 133,
     "metadata": {},
     "output_type": "execute_result"
    }
   ],
   "source": [
    "test_x.describe()"
   ]
  },
  {
   "cell_type": "markdown",
   "id": "8104af8c",
   "metadata": {},
   "source": [
    "test_X is very similar to the training set."
   ]
  },
  {
   "cell_type": "code",
   "execution_count": 134,
   "id": "5c1fe57d",
   "metadata": {},
   "outputs": [
    {
     "data": {
      "text/plain": [
       "array([1, 3, 2, 0, 3, 2, 4, 0, 2, 3, 1, 4, 3, 1, 4, 4, 4, 3, 2, 0, 1, 2,\n",
       "       4, 0, 0, 3, 0, 2, 2, 4, 2, 2, 4, 3, 3, 1, 0, 4, 3, 0, 4, 2, 3, 2,\n",
       "       2, 0, 0, 1, 0, 4, 4, 0, 1, 0, 4, 4, 1, 3, 3, 0, 3, 0, 3, 0, 4, 0,\n",
       "       1, 0, 2, 3, 0, 1, 4, 0, 4, 0, 0, 1, 2, 3, 4, 3, 0, 3, 1, 1, 2, 3,\n",
       "       1, 2, 2, 4, 1, 1, 0, 1, 4, 2, 1, 4, 0, 0, 0, 4, 2, 4, 4, 4, 1, 2,\n",
       "       4, 1, 3, 3, 3, 0, 3, 4, 2, 2, 0, 4, 4, 3, 1, 2, 4, 1, 3, 2, 2, 1,\n",
       "       4, 0, 0, 2, 3, 0, 0, 4, 0, 4, 3, 2, 1, 3, 4, 3, 4, 4, 1, 2, 1, 2,\n",
       "       0, 4, 2, 4, 4, 2, 0, 2, 3, 3, 1, 4, 1, 3, 2, 0, 1, 2, 4, 4, 1, 2,\n",
       "       3, 0, 3, 4, 2, 1, 0, 4, 2, 2, 3, 3, 4, 1, 1, 1, 2, 4, 0, 0, 4, 4,\n",
       "       1, 2, 0, 2, 4, 3, 2, 2, 3, 1, 1, 3, 0, 0, 2, 1, 1, 3, 4, 2, 2, 1,\n",
       "       2, 3, 2, 0, 3, 0, 0, 2, 2, 3, 0, 2, 4, 3, 4, 4, 0, 3, 3, 3, 1, 4,\n",
       "       3, 0, 2, 0, 2, 2, 2, 0, 4, 3, 1, 3, 1, 1, 0, 3, 2, 4, 2, 1, 0, 2,\n",
       "       2, 4, 2, 4, 1, 2, 1, 4, 2, 0, 3, 0, 1, 4, 2, 4, 1, 1, 3, 1, 2, 4,\n",
       "       0, 0, 2, 2, 3, 1, 0, 2, 0, 0, 4, 4, 1, 3, 0, 4, 0, 0, 4, 4, 4, 1,\n",
       "       3, 1, 3, 4, 3, 4, 0, 0, 4, 1, 4, 4, 0, 2, 1, 4, 3, 1, 3, 1, 3, 3,\n",
       "       3, 1, 4, 2, 1, 1, 1, 0, 2, 2, 2, 3, 4, 0, 3, 2, 4, 4, 2, 1, 0, 4,\n",
       "       4, 1, 1, 3, 3, 4, 4, 1, 4, 4, 1, 1, 1, 2, 2, 2, 1, 4, 3, 3, 2, 2,\n",
       "       4, 4, 0, 2, 3, 1, 4, 0, 1, 0, 4, 2, 3, 2, 2, 4, 4, 2, 2, 1, 0, 1,\n",
       "       2, 4, 1, 4, 0, 3, 3, 4, 0, 0, 0, 0, 1, 0, 1, 1, 2, 4, 4, 0, 2, 0,\n",
       "       4, 4, 3, 3, 3, 2, 4, 4, 1, 2, 2, 2, 0, 2, 3, 0, 2, 2, 4, 0, 3, 0,\n",
       "       3, 0, 4, 3, 1, 3, 2, 4, 4, 3, 2, 3, 0, 1, 4, 2, 3, 2, 2, 3, 4, 4,\n",
       "       1, 4, 1, 3, 0, 0, 2, 0, 3, 3, 1, 4, 0, 1, 2, 3, 0, 4, 1, 3, 4, 0,\n",
       "       1, 1, 1, 4, 4, 1, 1, 3, 1, 3, 4, 3, 4, 2, 3, 4, 4, 4, 1, 4, 1, 3,\n",
       "       3, 4, 1, 0, 4, 2, 0, 3, 0, 0, 2, 1, 4, 1, 0, 2, 1, 0, 3, 3, 3, 1,\n",
       "       1, 2, 3, 1, 4, 1, 3, 3, 0, 4, 1, 2, 2, 4, 2, 2, 4, 4, 0, 0, 2, 0,\n",
       "       1, 1, 4, 0, 4, 4, 4, 0, 0, 3, 3, 2, 1, 4, 3, 3, 1, 2, 3, 4, 3, 4,\n",
       "       3, 4, 0, 4, 0, 1, 0, 4, 4, 0, 3, 2, 2, 0, 2, 2, 4, 3, 2, 4, 0, 3,\n",
       "       0, 0, 3, 0, 3, 1, 1, 3, 0, 2, 0, 1, 1, 4, 4, 2, 4, 3, 2, 1, 4, 2,\n",
       "       3, 4, 0, 0, 3, 1, 0, 4, 4, 2, 0, 3, 3, 0, 0, 1, 4, 2, 4, 4, 2, 0,\n",
       "       0, 4, 0, 4, 1, 4, 2, 1, 1, 0, 3, 0, 1, 2, 0, 3, 0, 3, 1, 1, 3, 4,\n",
       "       1, 0, 4, 1, 2, 1, 1, 1, 3, 0, 3, 2, 3, 1, 1, 0, 0, 2, 3, 0, 3, 3,\n",
       "       3, 1, 2, 1, 3, 0, 4, 2, 1, 0, 2, 4, 3, 3, 3, 4, 3, 1, 3, 1, 2, 4,\n",
       "       3, 3, 3, 2, 1, 3, 3, 3, 2, 4, 1, 3, 1, 2, 0, 1, 3, 1, 1, 1, 1, 3,\n",
       "       1, 3, 1, 3, 0, 0, 2, 3, 1, 0, 3, 3, 2, 2, 2, 3, 3, 0, 3, 4, 3, 0,\n",
       "       3, 3, 1, 0, 2, 0, 4, 1, 0, 3, 1, 3, 1, 1, 4, 4, 3, 4, 3, 4, 4, 0,\n",
       "       3, 1, 1, 2, 2, 2, 2, 3, 0, 4, 4, 0, 3, 1, 3, 2, 3, 2, 0, 4, 1, 2,\n",
       "       1, 3, 4, 3, 4, 0, 4, 3, 4, 1, 4, 0, 1, 4, 2, 2, 2, 1, 4, 3, 3, 2,\n",
       "       4, 4, 0, 1, 3, 0, 1, 3, 4, 1, 0, 1, 1, 2, 0, 0, 1, 2, 3, 0, 0, 0,\n",
       "       4, 0, 1, 0, 0, 4, 3, 1, 2, 1, 0, 2, 4, 3, 4, 1, 1, 1, 1, 3, 0, 2,\n",
       "       2, 2, 4, 3, 3, 1, 2, 4, 1, 0, 1, 1, 4, 0, 2, 1, 3, 3, 2, 4, 3, 0,\n",
       "       3, 0, 0, 4, 1, 2, 4, 0, 4, 3, 3, 1, 4, 0, 2, 3, 4, 0, 3, 4])"
      ]
     },
     "execution_count": 134,
     "metadata": {},
     "output_type": "execute_result"
    }
   ],
   "source": [
    "x_test_pred = best_model_rfc.predict(test_x)\n",
    "x_test_pred"
   ]
  },
  {
   "cell_type": "code",
   "execution_count": 135,
   "id": "75c739f2",
   "metadata": {},
   "outputs": [
    {
     "data": {
      "text/html": [
       "<div><div id=9afe640f-964b-47ed-8189-aa98061bd8d3 style=\"display:none; background-color:#9D6CFF; color:white; width:200px; height:30px; padding-left:5px; border-radius:4px; flex-direction:row; justify-content:space-around; align-items:center;\" onmouseover=\"this.style.backgroundColor='#BA9BF8'\" onmouseout=\"this.style.backgroundColor='#9D6CFF'\" onclick=\"window.commands?.execute('create-mitosheet-from-dataframe-output');\">See Full Dataframe in Mito</div> <script> if (window.commands?.hasCommand('create-mitosheet-from-dataframe-output')) document.getElementById('9afe640f-964b-47ed-8189-aa98061bd8d3').style.display = 'flex' </script> <table border=\"1\" class=\"dataframe\">\n",
       "  <thead>\n",
       "    <tr style=\"text-align: right;\">\n",
       "      <th></th>\n",
       "      <th>final_status</th>\n",
       "    </tr>\n",
       "  </thead>\n",
       "  <tbody>\n",
       "    <tr>\n",
       "      <th>0</th>\n",
       "      <td>1</td>\n",
       "    </tr>\n",
       "    <tr>\n",
       "      <th>1</th>\n",
       "      <td>3</td>\n",
       "    </tr>\n",
       "    <tr>\n",
       "      <th>2</th>\n",
       "      <td>2</td>\n",
       "    </tr>\n",
       "    <tr>\n",
       "      <th>3</th>\n",
       "      <td>0</td>\n",
       "    </tr>\n",
       "    <tr>\n",
       "      <th>4</th>\n",
       "      <td>3</td>\n",
       "    </tr>\n",
       "    <tr>\n",
       "      <th>...</th>\n",
       "      <td>...</td>\n",
       "    </tr>\n",
       "    <tr>\n",
       "      <th>895</th>\n",
       "      <td>3</td>\n",
       "    </tr>\n",
       "    <tr>\n",
       "      <th>896</th>\n",
       "      <td>4</td>\n",
       "    </tr>\n",
       "    <tr>\n",
       "      <th>897</th>\n",
       "      <td>0</td>\n",
       "    </tr>\n",
       "    <tr>\n",
       "      <th>898</th>\n",
       "      <td>3</td>\n",
       "    </tr>\n",
       "    <tr>\n",
       "      <th>899</th>\n",
       "      <td>4</td>\n",
       "    </tr>\n",
       "  </tbody>\n",
       "</table></div>"
      ],
      "text/plain": [
       "     final_status\n",
       "0               1\n",
       "1               3\n",
       "2               2\n",
       "3               0\n",
       "4               3\n",
       "..            ...\n",
       "895             3\n",
       "896             4\n",
       "897             0\n",
       "898             3\n",
       "899             4\n",
       "\n",
       "[900 rows x 1 columns]"
      ]
     },
     "execution_count": 135,
     "metadata": {},
     "output_type": "execute_result"
    }
   ],
   "source": [
    "predictions_df=pd.DataFrame(x_test_pred,columns=['final_status'])\n",
    "predictions_df"
   ]
  },
  {
   "cell_type": "code",
   "execution_count": 137,
   "id": "721180eb",
   "metadata": {},
   "outputs": [],
   "source": [
    "predictions_df.to_csv(r'C:\\Users\\march\\000 Treball Ju`yter 000\\Hackathons\\Hackathon_Talent_Squad\\predictions.csv',index=False)"
   ]
  },
  {
   "cell_type": "code",
   "execution_count": 138,
   "id": "d37538fa",
   "metadata": {},
   "outputs": [
    {
     "name": "stdout",
     "output_type": "stream",
     "text": [
      "Note: you may need to restart the kernel to use updated packages.\n"
     ]
    }
   ],
   "source": [
    "pip list > requirements.txt #generates file with all packages installed in the environment used"
   ]
  }
 ],
 "metadata": {
  "kernelspec": {
   "display_name": "Python 3.7.12 ('EDA_i_ML_37')",
   "language": "python",
   "name": "python3"
  },
  "language_info": {
   "codemirror_mode": {
    "name": "ipython",
    "version": 3
   },
   "file_extension": ".py",
   "mimetype": "text/x-python",
   "name": "python",
   "nbconvert_exporter": "python",
   "pygments_lexer": "ipython3",
   "version": "3.7.12"
  },
  "latex_envs": {
   "LaTeX_envs_menu_present": true,
   "autoclose": false,
   "autocomplete": true,
   "bibliofile": "biblio.bib",
   "cite_by": "apalike",
   "current_citInitial": 1,
   "eqLabelWithNumbers": true,
   "eqNumInitial": 1,
   "hotkeys": {
    "equation": "Ctrl-E",
    "itemize": "Ctrl-I"
   },
   "labels_anchors": false,
   "latex_user_defs": false,
   "report_style_numbering": false,
   "user_envs_cfg": false
  },
  "vscode": {
   "interpreter": {
    "hash": "5f47ed41b184a58013d23a9edf20bf096ea20fc31e35ba23cb9e7edce9e72725"
   }
  },
  "widgets": {
   "application/vnd.jupyter.widget-state+json": {
    "state": {},
    "version_major": 2,
    "version_minor": 0
   }
  }
 },
 "nbformat": 4,
 "nbformat_minor": 5
}
